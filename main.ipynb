{
 "cells": [
  {
   "cell_type": "code",
   "execution_count": 1,
   "metadata": {},
   "outputs": [
    {
     "output_type": "execute_result",
     "data": {
      "text/plain": [
       "   adult                              belongs_to_collection    budget  \\\n",
       "0  False  {'id': 10194, 'name': 'Toy Story Collection', ...  30000000   \n",
       "1  False                                                NaN  65000000   \n",
       "2  False  {'id': 119050, 'name': 'Grumpy Old Men Collect...         0   \n",
       "3  False                                                NaN  16000000   \n",
       "4  False  {'id': 96871, 'name': 'Father of the Bride Col...         0   \n",
       "\n",
       "                                              genres  \\\n",
       "0  [{'id': 16, 'name': 'Animation'}, {'id': 35, '...   \n",
       "1  [{'id': 12, 'name': 'Adventure'}, {'id': 14, '...   \n",
       "2  [{'id': 10749, 'name': 'Romance'}, {'id': 35, ...   \n",
       "3  [{'id': 35, 'name': 'Comedy'}, {'id': 18, 'nam...   \n",
       "4                     [{'id': 35, 'name': 'Comedy'}]   \n",
       "\n",
       "                               homepage     id    imdb_id original_language  \\\n",
       "0  http://toystory.disney.com/toy-story    862  tt0114709                en   \n",
       "1                                   NaN   8844  tt0113497                en   \n",
       "2                                   NaN  15602  tt0113228                en   \n",
       "3                                   NaN  31357  tt0114885                en   \n",
       "4                                   NaN  11862  tt0113041                en   \n",
       "\n",
       "                original_title  \\\n",
       "0                    Toy Story   \n",
       "1                      Jumanji   \n",
       "2             Grumpier Old Men   \n",
       "3            Waiting to Exhale   \n",
       "4  Father of the Bride Part II   \n",
       "\n",
       "                                            overview  ...    status  \\\n",
       "0  Led by Woody, Andy's toys live happily in his ...  ...  Released   \n",
       "1  When siblings Judy and Peter discover an encha...  ...  Released   \n",
       "2  A family wedding reignites the ancient feud be...  ...  Released   \n",
       "3  Cheated on, mistreated and stepped on, the wom...  ...  Released   \n",
       "4  Just when George Banks has recovered from his ...  ...  Released   \n",
       "\n",
       "                                             tagline  \\\n",
       "0                                                NaN   \n",
       "1          Roll the dice and unleash the excitement!   \n",
       "2  Still Yelling. Still Fighting. Still Ready for...   \n",
       "3  Friends are the people who let you be yourself...   \n",
       "4  Just When His World Is Back To Normal... He's ...   \n",
       "\n",
       "                         title  video vote_average vote_count Unnamed: 24  \\\n",
       "0                    Toy Story  False          7.7       5415         NaN   \n",
       "1                      Jumanji  False          6.9       2413         NaN   \n",
       "2             Grumpier Old Men  False          6.5         92         NaN   \n",
       "3            Waiting to Exhale  False          6.1         34         NaN   \n",
       "4  Father of the Bride Part II  False          5.7        173         NaN   \n",
       "\n",
       "  Unnamed: 25 Unnamed: 26 Unnamed: 27  \n",
       "0         NaN         NaN         NaN  \n",
       "1         NaN         NaN         NaN  \n",
       "2         NaN         NaN         NaN  \n",
       "3         NaN         NaN         NaN  \n",
       "4         NaN         NaN         NaN  \n",
       "\n",
       "[5 rows x 28 columns]"
      ],
      "text/html": "<div>\n<style scoped>\n    .dataframe tbody tr th:only-of-type {\n        vertical-align: middle;\n    }\n\n    .dataframe tbody tr th {\n        vertical-align: top;\n    }\n\n    .dataframe thead th {\n        text-align: right;\n    }\n</style>\n<table border=\"1\" class=\"dataframe\">\n  <thead>\n    <tr style=\"text-align: right;\">\n      <th></th>\n      <th>adult</th>\n      <th>belongs_to_collection</th>\n      <th>budget</th>\n      <th>genres</th>\n      <th>homepage</th>\n      <th>id</th>\n      <th>imdb_id</th>\n      <th>original_language</th>\n      <th>original_title</th>\n      <th>overview</th>\n      <th>...</th>\n      <th>status</th>\n      <th>tagline</th>\n      <th>title</th>\n      <th>video</th>\n      <th>vote_average</th>\n      <th>vote_count</th>\n      <th>Unnamed: 24</th>\n      <th>Unnamed: 25</th>\n      <th>Unnamed: 26</th>\n      <th>Unnamed: 27</th>\n    </tr>\n  </thead>\n  <tbody>\n    <tr>\n      <th>0</th>\n      <td>False</td>\n      <td>{'id': 10194, 'name': 'Toy Story Collection', ...</td>\n      <td>30000000</td>\n      <td>[{'id': 16, 'name': 'Animation'}, {'id': 35, '...</td>\n      <td>http://toystory.disney.com/toy-story</td>\n      <td>862</td>\n      <td>tt0114709</td>\n      <td>en</td>\n      <td>Toy Story</td>\n      <td>Led by Woody, Andy's toys live happily in his ...</td>\n      <td>...</td>\n      <td>Released</td>\n      <td>NaN</td>\n      <td>Toy Story</td>\n      <td>False</td>\n      <td>7.7</td>\n      <td>5415</td>\n      <td>NaN</td>\n      <td>NaN</td>\n      <td>NaN</td>\n      <td>NaN</td>\n    </tr>\n    <tr>\n      <th>1</th>\n      <td>False</td>\n      <td>NaN</td>\n      <td>65000000</td>\n      <td>[{'id': 12, 'name': 'Adventure'}, {'id': 14, '...</td>\n      <td>NaN</td>\n      <td>8844</td>\n      <td>tt0113497</td>\n      <td>en</td>\n      <td>Jumanji</td>\n      <td>When siblings Judy and Peter discover an encha...</td>\n      <td>...</td>\n      <td>Released</td>\n      <td>Roll the dice and unleash the excitement!</td>\n      <td>Jumanji</td>\n      <td>False</td>\n      <td>6.9</td>\n      <td>2413</td>\n      <td>NaN</td>\n      <td>NaN</td>\n      <td>NaN</td>\n      <td>NaN</td>\n    </tr>\n    <tr>\n      <th>2</th>\n      <td>False</td>\n      <td>{'id': 119050, 'name': 'Grumpy Old Men Collect...</td>\n      <td>0</td>\n      <td>[{'id': 10749, 'name': 'Romance'}, {'id': 35, ...</td>\n      <td>NaN</td>\n      <td>15602</td>\n      <td>tt0113228</td>\n      <td>en</td>\n      <td>Grumpier Old Men</td>\n      <td>A family wedding reignites the ancient feud be...</td>\n      <td>...</td>\n      <td>Released</td>\n      <td>Still Yelling. Still Fighting. Still Ready for...</td>\n      <td>Grumpier Old Men</td>\n      <td>False</td>\n      <td>6.5</td>\n      <td>92</td>\n      <td>NaN</td>\n      <td>NaN</td>\n      <td>NaN</td>\n      <td>NaN</td>\n    </tr>\n    <tr>\n      <th>3</th>\n      <td>False</td>\n      <td>NaN</td>\n      <td>16000000</td>\n      <td>[{'id': 35, 'name': 'Comedy'}, {'id': 18, 'nam...</td>\n      <td>NaN</td>\n      <td>31357</td>\n      <td>tt0114885</td>\n      <td>en</td>\n      <td>Waiting to Exhale</td>\n      <td>Cheated on, mistreated and stepped on, the wom...</td>\n      <td>...</td>\n      <td>Released</td>\n      <td>Friends are the people who let you be yourself...</td>\n      <td>Waiting to Exhale</td>\n      <td>False</td>\n      <td>6.1</td>\n      <td>34</td>\n      <td>NaN</td>\n      <td>NaN</td>\n      <td>NaN</td>\n      <td>NaN</td>\n    </tr>\n    <tr>\n      <th>4</th>\n      <td>False</td>\n      <td>{'id': 96871, 'name': 'Father of the Bride Col...</td>\n      <td>0</td>\n      <td>[{'id': 35, 'name': 'Comedy'}]</td>\n      <td>NaN</td>\n      <td>11862</td>\n      <td>tt0113041</td>\n      <td>en</td>\n      <td>Father of the Bride Part II</td>\n      <td>Just when George Banks has recovered from his ...</td>\n      <td>...</td>\n      <td>Released</td>\n      <td>Just When His World Is Back To Normal... He's ...</td>\n      <td>Father of the Bride Part II</td>\n      <td>False</td>\n      <td>5.7</td>\n      <td>173</td>\n      <td>NaN</td>\n      <td>NaN</td>\n      <td>NaN</td>\n      <td>NaN</td>\n    </tr>\n  </tbody>\n</table>\n<p>5 rows × 28 columns</p>\n</div>"
     },
     "metadata": {},
     "execution_count": 1
    }
   ],
   "source": [
    "#import the data\n",
    "import numpy as np\n",
    "import pandas as pd\n",
    "\n",
    "df = pd.read_csv('data/movies_metadata.csv')\n",
    "\n",
    "df.head()"
   ]
  },
  {
   "cell_type": "markdown",
   "metadata": {},
   "source": [
    "# Data Importing and formatting"
   ]
  },
  {
   "cell_type": "code",
   "execution_count": 2,
   "metadata": {},
   "outputs": [
    {
     "output_type": "execute_result",
     "data": {
      "text/plain": [
       "                             title  \\\n",
       "0                        Toy Story   \n",
       "1                          Jumanji   \n",
       "2                 Grumpier Old Men   \n",
       "3                Waiting to Exhale   \n",
       "4      Father of the Bride Part II   \n",
       "...                            ...   \n",
       "45457                       Subdue   \n",
       "45458          Century of Birthing   \n",
       "45459                     Betrayal   \n",
       "45460             Satan Triumphant   \n",
       "45461                     Queerama   \n",
       "\n",
       "                                                 tagline  \\\n",
       "0                                                    NaN   \n",
       "1              Roll the dice and unleash the excitement!   \n",
       "2      Still Yelling. Still Fighting. Still Ready for...   \n",
       "3      Friends are the people who let you be yourself...   \n",
       "4      Just When His World Is Back To Normal... He's ...   \n",
       "...                                                  ...   \n",
       "45457         Rising and falling between a man and woman   \n",
       "45458                                                NaN   \n",
       "45459                             A deadly game of wits.   \n",
       "45460                                                NaN   \n",
       "45461                                                NaN   \n",
       "\n",
       "                    original_title  \\\n",
       "0                        Toy Story   \n",
       "1                          Jumanji   \n",
       "2                 Grumpier Old Men   \n",
       "3                Waiting to Exhale   \n",
       "4      Father of the Bride Part II   \n",
       "...                            ...   \n",
       "45457                      رگ خواب   \n",
       "45458          Siglo ng Pagluluwal   \n",
       "45459                     Betrayal   \n",
       "45460          Satana likuyushchiy   \n",
       "45461                     Queerama   \n",
       "\n",
       "                                                overview  \\\n",
       "0      Led by Woody, Andy's toys live happily in his ...   \n",
       "1      When siblings Judy and Peter discover an encha...   \n",
       "2      A family wedding reignites the ancient feud be...   \n",
       "3      Cheated on, mistreated and stepped on, the wom...   \n",
       "4      Just when George Banks has recovered from his ...   \n",
       "...                                                  ...   \n",
       "45457        Rising and falling between a man and woman.   \n",
       "45458  An artist struggles to finish his work while a...   \n",
       "45459  When one of her hits goes wrong, a professiona...   \n",
       "45460  In a small town live two brothers, one a minis...   \n",
       "45461  50 years after decriminalisation of homosexual...   \n",
       "\n",
       "                                                  genres  \n",
       "0      [{'id': 16, 'name': 'Animation'}, {'id': 35, '...  \n",
       "1      [{'id': 12, 'name': 'Adventure'}, {'id': 14, '...  \n",
       "2      [{'id': 10749, 'name': 'Romance'}, {'id': 35, ...  \n",
       "3      [{'id': 35, 'name': 'Comedy'}, {'id': 18, 'nam...  \n",
       "4                         [{'id': 35, 'name': 'Comedy'}]  \n",
       "...                                                  ...  \n",
       "45457  [{'id': 18, 'name': 'Drama'}, {'id': 10751, 'n...  \n",
       "45458                      [{'id': 18, 'name': 'Drama'}]  \n",
       "45459  [{'id': 28, 'name': 'Action'}, {'id': 18, 'nam...  \n",
       "45460                                                 []  \n",
       "45461                                                 []  \n",
       "\n",
       "[45462 rows x 5 columns]"
      ],
      "text/html": "<div>\n<style scoped>\n    .dataframe tbody tr th:only-of-type {\n        vertical-align: middle;\n    }\n\n    .dataframe tbody tr th {\n        vertical-align: top;\n    }\n\n    .dataframe thead th {\n        text-align: right;\n    }\n</style>\n<table border=\"1\" class=\"dataframe\">\n  <thead>\n    <tr style=\"text-align: right;\">\n      <th></th>\n      <th>title</th>\n      <th>tagline</th>\n      <th>original_title</th>\n      <th>overview</th>\n      <th>genres</th>\n    </tr>\n  </thead>\n  <tbody>\n    <tr>\n      <th>0</th>\n      <td>Toy Story</td>\n      <td>NaN</td>\n      <td>Toy Story</td>\n      <td>Led by Woody, Andy's toys live happily in his ...</td>\n      <td>[{'id': 16, 'name': 'Animation'}, {'id': 35, '...</td>\n    </tr>\n    <tr>\n      <th>1</th>\n      <td>Jumanji</td>\n      <td>Roll the dice and unleash the excitement!</td>\n      <td>Jumanji</td>\n      <td>When siblings Judy and Peter discover an encha...</td>\n      <td>[{'id': 12, 'name': 'Adventure'}, {'id': 14, '...</td>\n    </tr>\n    <tr>\n      <th>2</th>\n      <td>Grumpier Old Men</td>\n      <td>Still Yelling. Still Fighting. Still Ready for...</td>\n      <td>Grumpier Old Men</td>\n      <td>A family wedding reignites the ancient feud be...</td>\n      <td>[{'id': 10749, 'name': 'Romance'}, {'id': 35, ...</td>\n    </tr>\n    <tr>\n      <th>3</th>\n      <td>Waiting to Exhale</td>\n      <td>Friends are the people who let you be yourself...</td>\n      <td>Waiting to Exhale</td>\n      <td>Cheated on, mistreated and stepped on, the wom...</td>\n      <td>[{'id': 35, 'name': 'Comedy'}, {'id': 18, 'nam...</td>\n    </tr>\n    <tr>\n      <th>4</th>\n      <td>Father of the Bride Part II</td>\n      <td>Just When His World Is Back To Normal... He's ...</td>\n      <td>Father of the Bride Part II</td>\n      <td>Just when George Banks has recovered from his ...</td>\n      <td>[{'id': 35, 'name': 'Comedy'}]</td>\n    </tr>\n    <tr>\n      <th>...</th>\n      <td>...</td>\n      <td>...</td>\n      <td>...</td>\n      <td>...</td>\n      <td>...</td>\n    </tr>\n    <tr>\n      <th>45457</th>\n      <td>Subdue</td>\n      <td>Rising and falling between a man and woman</td>\n      <td>رگ خواب</td>\n      <td>Rising and falling between a man and woman.</td>\n      <td>[{'id': 18, 'name': 'Drama'}, {'id': 10751, 'n...</td>\n    </tr>\n    <tr>\n      <th>45458</th>\n      <td>Century of Birthing</td>\n      <td>NaN</td>\n      <td>Siglo ng Pagluluwal</td>\n      <td>An artist struggles to finish his work while a...</td>\n      <td>[{'id': 18, 'name': 'Drama'}]</td>\n    </tr>\n    <tr>\n      <th>45459</th>\n      <td>Betrayal</td>\n      <td>A deadly game of wits.</td>\n      <td>Betrayal</td>\n      <td>When one of her hits goes wrong, a professiona...</td>\n      <td>[{'id': 28, 'name': 'Action'}, {'id': 18, 'nam...</td>\n    </tr>\n    <tr>\n      <th>45460</th>\n      <td>Satan Triumphant</td>\n      <td>NaN</td>\n      <td>Satana likuyushchiy</td>\n      <td>In a small town live two brothers, one a minis...</td>\n      <td>[]</td>\n    </tr>\n    <tr>\n      <th>45461</th>\n      <td>Queerama</td>\n      <td>NaN</td>\n      <td>Queerama</td>\n      <td>50 years after decriminalisation of homosexual...</td>\n      <td>[]</td>\n    </tr>\n  </tbody>\n</table>\n<p>45462 rows × 5 columns</p>\n</div>"
     },
     "metadata": {},
     "execution_count": 2
    }
   ],
   "source": [
    "modified_data = df[['title', 'tagline', 'original_title', 'overview', 'genres']]\n",
    "modified_data"
   ]
  },
  {
   "cell_type": "code",
   "execution_count": 3,
   "metadata": {},
   "outputs": [
    {
     "output_type": "execute_result",
     "data": {
      "text/plain": [
       "                                                                       tagline  \\\n",
       "title                                                                            \n",
       "Toy Story                                                                  NaN   \n",
       "Jumanji                              Roll the dice and unleash the excitement!   \n",
       "Grumpier Old Men             Still Yelling. Still Fighting. Still Ready for...   \n",
       "Waiting to Exhale            Friends are the people who let you be yourself...   \n",
       "Father of the Bride Part II  Just When His World Is Back To Normal... He's ...   \n",
       "...                                                                        ...   \n",
       "Subdue                              Rising and falling between a man and woman   \n",
       "Century of Birthing                                                        NaN   \n",
       "Betrayal                                                A deadly game of wits.   \n",
       "Satan Triumphant                                                           NaN   \n",
       "Queerama                                                                   NaN   \n",
       "\n",
       "                                          original_title  \\\n",
       "title                                                      \n",
       "Toy Story                                      Toy Story   \n",
       "Jumanji                                          Jumanji   \n",
       "Grumpier Old Men                        Grumpier Old Men   \n",
       "Waiting to Exhale                      Waiting to Exhale   \n",
       "Father of the Bride Part II  Father of the Bride Part II   \n",
       "...                                                  ...   \n",
       "Subdue                                           رگ خواب   \n",
       "Century of Birthing                  Siglo ng Pagluluwal   \n",
       "Betrayal                                        Betrayal   \n",
       "Satan Triumphant                     Satana likuyushchiy   \n",
       "Queerama                                        Queerama   \n",
       "\n",
       "                                                                      overview  \\\n",
       "title                                                                            \n",
       "Toy Story                    Led by Woody, Andy's toys live happily in his ...   \n",
       "Jumanji                      When siblings Judy and Peter discover an encha...   \n",
       "Grumpier Old Men             A family wedding reignites the ancient feud be...   \n",
       "Waiting to Exhale            Cheated on, mistreated and stepped on, the wom...   \n",
       "Father of the Bride Part II  Just when George Banks has recovered from his ...   \n",
       "...                                                                        ...   \n",
       "Subdue                             Rising and falling between a man and woman.   \n",
       "Century of Birthing          An artist struggles to finish his work while a...   \n",
       "Betrayal                     When one of her hits goes wrong, a professiona...   \n",
       "Satan Triumphant             In a small town live two brothers, one a minis...   \n",
       "Queerama                     50 years after decriminalisation of homosexual...   \n",
       "\n",
       "                                                                        genres  \n",
       "title                                                                           \n",
       "Toy Story                    [{'id': 16, 'name': 'Animation'}, {'id': 35, '...  \n",
       "Jumanji                      [{'id': 12, 'name': 'Adventure'}, {'id': 14, '...  \n",
       "Grumpier Old Men             [{'id': 10749, 'name': 'Romance'}, {'id': 35, ...  \n",
       "Waiting to Exhale            [{'id': 35, 'name': 'Comedy'}, {'id': 18, 'nam...  \n",
       "Father of the Bride Part II                     [{'id': 35, 'name': 'Comedy'}]  \n",
       "...                                                                        ...  \n",
       "Subdue                       [{'id': 18, 'name': 'Drama'}, {'id': 10751, 'n...  \n",
       "Century of Birthing                              [{'id': 18, 'name': 'Drama'}]  \n",
       "Betrayal                     [{'id': 28, 'name': 'Action'}, {'id': 18, 'nam...  \n",
       "Satan Triumphant                                                            []  \n",
       "Queerama                                                                    []  \n",
       "\n",
       "[45462 rows x 4 columns]"
      ],
      "text/html": "<div>\n<style scoped>\n    .dataframe tbody tr th:only-of-type {\n        vertical-align: middle;\n    }\n\n    .dataframe tbody tr th {\n        vertical-align: top;\n    }\n\n    .dataframe thead th {\n        text-align: right;\n    }\n</style>\n<table border=\"1\" class=\"dataframe\">\n  <thead>\n    <tr style=\"text-align: right;\">\n      <th></th>\n      <th>tagline</th>\n      <th>original_title</th>\n      <th>overview</th>\n      <th>genres</th>\n    </tr>\n    <tr>\n      <th>title</th>\n      <th></th>\n      <th></th>\n      <th></th>\n      <th></th>\n    </tr>\n  </thead>\n  <tbody>\n    <tr>\n      <th>Toy Story</th>\n      <td>NaN</td>\n      <td>Toy Story</td>\n      <td>Led by Woody, Andy's toys live happily in his ...</td>\n      <td>[{'id': 16, 'name': 'Animation'}, {'id': 35, '...</td>\n    </tr>\n    <tr>\n      <th>Jumanji</th>\n      <td>Roll the dice and unleash the excitement!</td>\n      <td>Jumanji</td>\n      <td>When siblings Judy and Peter discover an encha...</td>\n      <td>[{'id': 12, 'name': 'Adventure'}, {'id': 14, '...</td>\n    </tr>\n    <tr>\n      <th>Grumpier Old Men</th>\n      <td>Still Yelling. Still Fighting. Still Ready for...</td>\n      <td>Grumpier Old Men</td>\n      <td>A family wedding reignites the ancient feud be...</td>\n      <td>[{'id': 10749, 'name': 'Romance'}, {'id': 35, ...</td>\n    </tr>\n    <tr>\n      <th>Waiting to Exhale</th>\n      <td>Friends are the people who let you be yourself...</td>\n      <td>Waiting to Exhale</td>\n      <td>Cheated on, mistreated and stepped on, the wom...</td>\n      <td>[{'id': 35, 'name': 'Comedy'}, {'id': 18, 'nam...</td>\n    </tr>\n    <tr>\n      <th>Father of the Bride Part II</th>\n      <td>Just When His World Is Back To Normal... He's ...</td>\n      <td>Father of the Bride Part II</td>\n      <td>Just when George Banks has recovered from his ...</td>\n      <td>[{'id': 35, 'name': 'Comedy'}]</td>\n    </tr>\n    <tr>\n      <th>...</th>\n      <td>...</td>\n      <td>...</td>\n      <td>...</td>\n      <td>...</td>\n    </tr>\n    <tr>\n      <th>Subdue</th>\n      <td>Rising and falling between a man and woman</td>\n      <td>رگ خواب</td>\n      <td>Rising and falling between a man and woman.</td>\n      <td>[{'id': 18, 'name': 'Drama'}, {'id': 10751, 'n...</td>\n    </tr>\n    <tr>\n      <th>Century of Birthing</th>\n      <td>NaN</td>\n      <td>Siglo ng Pagluluwal</td>\n      <td>An artist struggles to finish his work while a...</td>\n      <td>[{'id': 18, 'name': 'Drama'}]</td>\n    </tr>\n    <tr>\n      <th>Betrayal</th>\n      <td>A deadly game of wits.</td>\n      <td>Betrayal</td>\n      <td>When one of her hits goes wrong, a professiona...</td>\n      <td>[{'id': 28, 'name': 'Action'}, {'id': 18, 'nam...</td>\n    </tr>\n    <tr>\n      <th>Satan Triumphant</th>\n      <td>NaN</td>\n      <td>Satana likuyushchiy</td>\n      <td>In a small town live two brothers, one a minis...</td>\n      <td>[]</td>\n    </tr>\n    <tr>\n      <th>Queerama</th>\n      <td>NaN</td>\n      <td>Queerama</td>\n      <td>50 years after decriminalisation of homosexual...</td>\n      <td>[]</td>\n    </tr>\n  </tbody>\n</table>\n<p>45462 rows × 4 columns</p>\n</div>"
     },
     "metadata": {},
     "execution_count": 3
    }
   ],
   "source": [
    "#title as index\n",
    "modified_data.set_index('title', inplace=True)\n",
    "modified_data"
   ]
  },
  {
   "cell_type": "code",
   "execution_count": 4,
   "metadata": {},
   "outputs": [
    {
     "output_type": "stream",
     "name": "stderr",
     "text": [
      "<ipython-input-4-0608d8df8143>:3: SettingWithCopyWarning: \nA value is trying to be set on a copy of a slice from a DataFrame\n\nSee the caveats in the documentation: https://pandas.pydata.org/pandas-docs/stable/user_guide/indexing.html#returning-a-view-versus-a-copy\n  modified_data.dropna(subset = ['overview'], inplace=True)\n"
     ]
    },
    {
     "output_type": "execute_result",
     "data": {
      "text/plain": [
       "                                                                       tagline  \\\n",
       "title                                                                            \n",
       "Toy Story                                                                  NaN   \n",
       "Jumanji                              Roll the dice and unleash the excitement!   \n",
       "Grumpier Old Men             Still Yelling. Still Fighting. Still Ready for...   \n",
       "Waiting to Exhale            Friends are the people who let you be yourself...   \n",
       "Father of the Bride Part II  Just When His World Is Back To Normal... He's ...   \n",
       "...                                                                        ...   \n",
       "Subdue                              Rising and falling between a man and woman   \n",
       "Century of Birthing                                                        NaN   \n",
       "Betrayal                                                A deadly game of wits.   \n",
       "Satan Triumphant                                                           NaN   \n",
       "Queerama                                                                   NaN   \n",
       "\n",
       "                                          original_title  \\\n",
       "title                                                      \n",
       "Toy Story                                      Toy Story   \n",
       "Jumanji                                          Jumanji   \n",
       "Grumpier Old Men                        Grumpier Old Men   \n",
       "Waiting to Exhale                      Waiting to Exhale   \n",
       "Father of the Bride Part II  Father of the Bride Part II   \n",
       "...                                                  ...   \n",
       "Subdue                                           رگ خواب   \n",
       "Century of Birthing                  Siglo ng Pagluluwal   \n",
       "Betrayal                                        Betrayal   \n",
       "Satan Triumphant                     Satana likuyushchiy   \n",
       "Queerama                                        Queerama   \n",
       "\n",
       "                                                                      overview  \\\n",
       "title                                                                            \n",
       "Toy Story                    Led by Woody, Andy's toys live happily in his ...   \n",
       "Jumanji                      When siblings Judy and Peter discover an encha...   \n",
       "Grumpier Old Men             A family wedding reignites the ancient feud be...   \n",
       "Waiting to Exhale            Cheated on, mistreated and stepped on, the wom...   \n",
       "Father of the Bride Part II  Just when George Banks has recovered from his ...   \n",
       "...                                                                        ...   \n",
       "Subdue                             Rising and falling between a man and woman.   \n",
       "Century of Birthing          An artist struggles to finish his work while a...   \n",
       "Betrayal                     When one of her hits goes wrong, a professiona...   \n",
       "Satan Triumphant             In a small town live two brothers, one a minis...   \n",
       "Queerama                     50 years after decriminalisation of homosexual...   \n",
       "\n",
       "                                                                        genres  \n",
       "title                                                                           \n",
       "Toy Story                    [{'id': 16, 'name': 'Animation'}, {'id': 35, '...  \n",
       "Jumanji                      [{'id': 12, 'name': 'Adventure'}, {'id': 14, '...  \n",
       "Grumpier Old Men             [{'id': 10749, 'name': 'Romance'}, {'id': 35, ...  \n",
       "Waiting to Exhale            [{'id': 35, 'name': 'Comedy'}, {'id': 18, 'nam...  \n",
       "Father of the Bride Part II                     [{'id': 35, 'name': 'Comedy'}]  \n",
       "...                                                                        ...  \n",
       "Subdue                       [{'id': 18, 'name': 'Drama'}, {'id': 10751, 'n...  \n",
       "Century of Birthing                              [{'id': 18, 'name': 'Drama'}]  \n",
       "Betrayal                     [{'id': 28, 'name': 'Action'}, {'id': 18, 'nam...  \n",
       "Satan Triumphant                                                            []  \n",
       "Queerama                                                                    []  \n",
       "\n",
       "[44508 rows x 4 columns]"
      ],
      "text/html": "<div>\n<style scoped>\n    .dataframe tbody tr th:only-of-type {\n        vertical-align: middle;\n    }\n\n    .dataframe tbody tr th {\n        vertical-align: top;\n    }\n\n    .dataframe thead th {\n        text-align: right;\n    }\n</style>\n<table border=\"1\" class=\"dataframe\">\n  <thead>\n    <tr style=\"text-align: right;\">\n      <th></th>\n      <th>tagline</th>\n      <th>original_title</th>\n      <th>overview</th>\n      <th>genres</th>\n    </tr>\n    <tr>\n      <th>title</th>\n      <th></th>\n      <th></th>\n      <th></th>\n      <th></th>\n    </tr>\n  </thead>\n  <tbody>\n    <tr>\n      <th>Toy Story</th>\n      <td>NaN</td>\n      <td>Toy Story</td>\n      <td>Led by Woody, Andy's toys live happily in his ...</td>\n      <td>[{'id': 16, 'name': 'Animation'}, {'id': 35, '...</td>\n    </tr>\n    <tr>\n      <th>Jumanji</th>\n      <td>Roll the dice and unleash the excitement!</td>\n      <td>Jumanji</td>\n      <td>When siblings Judy and Peter discover an encha...</td>\n      <td>[{'id': 12, 'name': 'Adventure'}, {'id': 14, '...</td>\n    </tr>\n    <tr>\n      <th>Grumpier Old Men</th>\n      <td>Still Yelling. Still Fighting. Still Ready for...</td>\n      <td>Grumpier Old Men</td>\n      <td>A family wedding reignites the ancient feud be...</td>\n      <td>[{'id': 10749, 'name': 'Romance'}, {'id': 35, ...</td>\n    </tr>\n    <tr>\n      <th>Waiting to Exhale</th>\n      <td>Friends are the people who let you be yourself...</td>\n      <td>Waiting to Exhale</td>\n      <td>Cheated on, mistreated and stepped on, the wom...</td>\n      <td>[{'id': 35, 'name': 'Comedy'}, {'id': 18, 'nam...</td>\n    </tr>\n    <tr>\n      <th>Father of the Bride Part II</th>\n      <td>Just When His World Is Back To Normal... He's ...</td>\n      <td>Father of the Bride Part II</td>\n      <td>Just when George Banks has recovered from his ...</td>\n      <td>[{'id': 35, 'name': 'Comedy'}]</td>\n    </tr>\n    <tr>\n      <th>...</th>\n      <td>...</td>\n      <td>...</td>\n      <td>...</td>\n      <td>...</td>\n    </tr>\n    <tr>\n      <th>Subdue</th>\n      <td>Rising and falling between a man and woman</td>\n      <td>رگ خواب</td>\n      <td>Rising and falling between a man and woman.</td>\n      <td>[{'id': 18, 'name': 'Drama'}, {'id': 10751, 'n...</td>\n    </tr>\n    <tr>\n      <th>Century of Birthing</th>\n      <td>NaN</td>\n      <td>Siglo ng Pagluluwal</td>\n      <td>An artist struggles to finish his work while a...</td>\n      <td>[{'id': 18, 'name': 'Drama'}]</td>\n    </tr>\n    <tr>\n      <th>Betrayal</th>\n      <td>A deadly game of wits.</td>\n      <td>Betrayal</td>\n      <td>When one of her hits goes wrong, a professiona...</td>\n      <td>[{'id': 28, 'name': 'Action'}, {'id': 18, 'nam...</td>\n    </tr>\n    <tr>\n      <th>Satan Triumphant</th>\n      <td>NaN</td>\n      <td>Satana likuyushchiy</td>\n      <td>In a small town live two brothers, one a minis...</td>\n      <td>[]</td>\n    </tr>\n    <tr>\n      <th>Queerama</th>\n      <td>NaN</td>\n      <td>Queerama</td>\n      <td>50 years after decriminalisation of homosexual...</td>\n      <td>[]</td>\n    </tr>\n  </tbody>\n</table>\n<p>44508 rows × 4 columns</p>\n</div>"
     },
     "metadata": {},
     "execution_count": 4
    }
   ],
   "source": [
    "#drop all entries that have no overview \n",
    "#as we will use them to predict genre\n",
    "modified_data.dropna(subset = ['overview'], inplace=True)\n",
    "modified_data"
   ]
  },
  {
   "cell_type": "code",
   "execution_count": 5,
   "metadata": {
    "scrolled": false
   },
   "outputs": [
    {
     "output_type": "execute_result",
     "data": {
      "text/plain": [
       "0        [{'id': 16, 'name': 'Animation'}, {'id': 35, '...\n",
       "1        [{'id': 12, 'name': 'Adventure'}, {'id': 14, '...\n",
       "2        [{'id': 10749, 'name': 'Romance'}, {'id': 35, ...\n",
       "3        [{'id': 35, 'name': 'Comedy'}, {'id': 18, 'nam...\n",
       "4                           [{'id': 35, 'name': 'Comedy'}]\n",
       "                               ...                        \n",
       "45457    [{'id': 18, 'name': 'Drama'}, {'id': 10751, 'n...\n",
       "45458                        [{'id': 18, 'name': 'Drama'}]\n",
       "45459    [{'id': 28, 'name': 'Action'}, {'id': 18, 'nam...\n",
       "45460                                                   []\n",
       "45461                                                   []\n",
       "Name: genres, Length: 45462, dtype: object"
      ]
     },
     "metadata": {},
     "execution_count": 5
    }
   ],
   "source": [
    "df['genres']"
   ]
  },
  {
   "cell_type": "code",
   "execution_count": 6,
   "metadata": {},
   "outputs": [
    {
     "output_type": "execute_result",
     "data": {
      "text/plain": [
       "                             title  \\\n",
       "0                        Toy Story   \n",
       "1                          Jumanji   \n",
       "2                 Grumpier Old Men   \n",
       "3                Waiting to Exhale   \n",
       "4      Father of the Bride Part II   \n",
       "...                            ...   \n",
       "45457                       Subdue   \n",
       "45458          Century of Birthing   \n",
       "45459                     Betrayal   \n",
       "45460             Satan Triumphant   \n",
       "45461                     Queerama   \n",
       "\n",
       "                                                overview  \\\n",
       "0      Led by Woody, Andy's toys live happily in his ...   \n",
       "1      When siblings Judy and Peter discover an encha...   \n",
       "2      A family wedding reignites the ancient feud be...   \n",
       "3      Cheated on, mistreated and stepped on, the wom...   \n",
       "4      Just when George Banks has recovered from his ...   \n",
       "...                                                  ...   \n",
       "45457        Rising and falling between a man and woman.   \n",
       "45458  An artist struggles to finish his work while a...   \n",
       "45459  When one of her hits goes wrong, a professiona...   \n",
       "45460  In a small town live two brothers, one a minis...   \n",
       "45461  50 years after decriminalisation of homosexual...   \n",
       "\n",
       "                                                  genres  \n",
       "0      [{'id': 16, 'name': 'Animation'}, {'id': 35, '...  \n",
       "1      [{'id': 12, 'name': 'Adventure'}, {'id': 14, '...  \n",
       "2      [{'id': 10749, 'name': 'Romance'}, {'id': 35, ...  \n",
       "3      [{'id': 35, 'name': 'Comedy'}, {'id': 18, 'nam...  \n",
       "4                         [{'id': 35, 'name': 'Comedy'}]  \n",
       "...                                                  ...  \n",
       "45457  [{'id': 18, 'name': 'Drama'}, {'id': 10751, 'n...  \n",
       "45458                      [{'id': 18, 'name': 'Drama'}]  \n",
       "45459  [{'id': 28, 'name': 'Action'}, {'id': 18, 'nam...  \n",
       "45460                                                 []  \n",
       "45461                                                 []  \n",
       "\n",
       "[45462 rows x 3 columns]"
      ],
      "text/html": "<div>\n<style scoped>\n    .dataframe tbody tr th:only-of-type {\n        vertical-align: middle;\n    }\n\n    .dataframe tbody tr th {\n        vertical-align: top;\n    }\n\n    .dataframe thead th {\n        text-align: right;\n    }\n</style>\n<table border=\"1\" class=\"dataframe\">\n  <thead>\n    <tr style=\"text-align: right;\">\n      <th></th>\n      <th>title</th>\n      <th>overview</th>\n      <th>genres</th>\n    </tr>\n  </thead>\n  <tbody>\n    <tr>\n      <th>0</th>\n      <td>Toy Story</td>\n      <td>Led by Woody, Andy's toys live happily in his ...</td>\n      <td>[{'id': 16, 'name': 'Animation'}, {'id': 35, '...</td>\n    </tr>\n    <tr>\n      <th>1</th>\n      <td>Jumanji</td>\n      <td>When siblings Judy and Peter discover an encha...</td>\n      <td>[{'id': 12, 'name': 'Adventure'}, {'id': 14, '...</td>\n    </tr>\n    <tr>\n      <th>2</th>\n      <td>Grumpier Old Men</td>\n      <td>A family wedding reignites the ancient feud be...</td>\n      <td>[{'id': 10749, 'name': 'Romance'}, {'id': 35, ...</td>\n    </tr>\n    <tr>\n      <th>3</th>\n      <td>Waiting to Exhale</td>\n      <td>Cheated on, mistreated and stepped on, the wom...</td>\n      <td>[{'id': 35, 'name': 'Comedy'}, {'id': 18, 'nam...</td>\n    </tr>\n    <tr>\n      <th>4</th>\n      <td>Father of the Bride Part II</td>\n      <td>Just when George Banks has recovered from his ...</td>\n      <td>[{'id': 35, 'name': 'Comedy'}]</td>\n    </tr>\n    <tr>\n      <th>...</th>\n      <td>...</td>\n      <td>...</td>\n      <td>...</td>\n    </tr>\n    <tr>\n      <th>45457</th>\n      <td>Subdue</td>\n      <td>Rising and falling between a man and woman.</td>\n      <td>[{'id': 18, 'name': 'Drama'}, {'id': 10751, 'n...</td>\n    </tr>\n    <tr>\n      <th>45458</th>\n      <td>Century of Birthing</td>\n      <td>An artist struggles to finish his work while a...</td>\n      <td>[{'id': 18, 'name': 'Drama'}]</td>\n    </tr>\n    <tr>\n      <th>45459</th>\n      <td>Betrayal</td>\n      <td>When one of her hits goes wrong, a professiona...</td>\n      <td>[{'id': 28, 'name': 'Action'}, {'id': 18, 'nam...</td>\n    </tr>\n    <tr>\n      <th>45460</th>\n      <td>Satan Triumphant</td>\n      <td>In a small town live two brothers, one a minis...</td>\n      <td>[]</td>\n    </tr>\n    <tr>\n      <th>45461</th>\n      <td>Queerama</td>\n      <td>50 years after decriminalisation of homosexual...</td>\n      <td>[]</td>\n    </tr>\n  </tbody>\n</table>\n<p>45462 rows × 3 columns</p>\n</div>"
     },
     "metadata": {},
     "execution_count": 6
    }
   ],
   "source": [
    "df[['title','overview','genres',]]"
   ]
  },
  {
   "cell_type": "code",
   "execution_count": 7,
   "metadata": {},
   "outputs": [],
   "source": [
    "df.set_index('title', inplace=True)"
   ]
  },
  {
   "cell_type": "code",
   "execution_count": 8,
   "metadata": {},
   "outputs": [],
   "source": [
    "#removing entries without overviews\n",
    "df.dropna(subset = ['overview'], inplace = True)"
   ]
  },
  {
   "cell_type": "markdown",
   "metadata": {},
   "source": [
    "# Breaking down the genres data"
   ]
  },
  {
   "cell_type": "code",
   "execution_count": 9,
   "metadata": {},
   "outputs": [],
   "source": [
    "from ast import literal_eval\n",
    "\n",
    "#converst genres into a list\n",
    "df['genres'] = df['genres'].apply(literal_eval).apply(lambda x: [i['name'] for i in x] if isinstance(x, list) else [])\n",
    "\n",
    "#remove entries that have no genres listed\n",
    "filtered_dataframe = df[df['genres'].map(lambda d: len(d)) > 0]"
   ]
  },
  {
   "cell_type": "code",
   "execution_count": 10,
   "metadata": {
    "scrolled": true
   },
   "outputs": [
    {
     "output_type": "execute_result",
     "data": {
      "text/plain": [
       "                             adult  \\\n",
       "title                                \n",
       "Toy Story                    False   \n",
       "Jumanji                      False   \n",
       "Grumpier Old Men             False   \n",
       "Waiting to Exhale            False   \n",
       "Father of the Bride Part II  False   \n",
       "...                            ...   \n",
       "Caged Heat 3000              False   \n",
       "Robin Hood                   False   \n",
       "Subdue                       False   \n",
       "Century of Birthing          False   \n",
       "Betrayal                     False   \n",
       "\n",
       "                                                         belongs_to_collection  \\\n",
       "title                                                                            \n",
       "Toy Story                    {'id': 10194, 'name': 'Toy Story Collection', ...   \n",
       "Jumanji                                                                    NaN   \n",
       "Grumpier Old Men             {'id': 119050, 'name': 'Grumpy Old Men Collect...   \n",
       "Waiting to Exhale                                                          NaN   \n",
       "Father of the Bride Part II  {'id': 96871, 'name': 'Father of the Bride Col...   \n",
       "...                                                                        ...   \n",
       "Caged Heat 3000                                                            NaN   \n",
       "Robin Hood                                                                 NaN   \n",
       "Subdue                                                                     NaN   \n",
       "Century of Birthing                                                        NaN   \n",
       "Betrayal                                                                   NaN   \n",
       "\n",
       "                               budget                        genres  \\\n",
       "title                                                                 \n",
       "Toy Story                    30000000   [Animation, Comedy, Family]   \n",
       "Jumanji                      65000000  [Adventure, Fantasy, Family]   \n",
       "Grumpier Old Men                    0             [Romance, Comedy]   \n",
       "Waiting to Exhale            16000000      [Comedy, Drama, Romance]   \n",
       "Father of the Bride Part II         0                      [Comedy]   \n",
       "...                               ...                           ...   \n",
       "Caged Heat 3000                     0             [Science Fiction]   \n",
       "Robin Hood                          0      [Drama, Action, Romance]   \n",
       "Subdue                              0               [Drama, Family]   \n",
       "Century of Birthing                 0                       [Drama]   \n",
       "Betrayal                            0     [Action, Drama, Thriller]   \n",
       "\n",
       "                                                         homepage      id  \\\n",
       "title                                                                       \n",
       "Toy Story                    http://toystory.disney.com/toy-story     862   \n",
       "Jumanji                                                       NaN    8844   \n",
       "Grumpier Old Men                                              NaN   15602   \n",
       "Waiting to Exhale                                             NaN   31357   \n",
       "Father of the Bride Part II                                   NaN   11862   \n",
       "...                                                           ...     ...   \n",
       "Caged Heat 3000                                               NaN  222848   \n",
       "Robin Hood                                                    NaN   30840   \n",
       "Subdue                       http://www.imdb.com/title/tt6209470/  439050   \n",
       "Century of Birthing                                           NaN  111109   \n",
       "Betrayal                                                      NaN   67758   \n",
       "\n",
       "                               imdb_id original_language  \\\n",
       "title                                                      \n",
       "Toy Story                    tt0114709                en   \n",
       "Jumanji                      tt0113497                en   \n",
       "Grumpier Old Men             tt0113228                en   \n",
       "Waiting to Exhale            tt0114885                en   \n",
       "Father of the Bride Part II  tt0113041                en   \n",
       "...                                ...               ...   \n",
       "Caged Heat 3000              tt0112613                en   \n",
       "Robin Hood                   tt0102797                en   \n",
       "Subdue                       tt6209470                fa   \n",
       "Century of Birthing          tt2028550                tl   \n",
       "Betrayal                     tt0303758                en   \n",
       "\n",
       "                                          original_title  \\\n",
       "title                                                      \n",
       "Toy Story                                      Toy Story   \n",
       "Jumanji                                          Jumanji   \n",
       "Grumpier Old Men                        Grumpier Old Men   \n",
       "Waiting to Exhale                      Waiting to Exhale   \n",
       "Father of the Bride Part II  Father of the Bride Part II   \n",
       "...                                                  ...   \n",
       "Caged Heat 3000                          Caged Heat 3000   \n",
       "Robin Hood                                    Robin Hood   \n",
       "Subdue                                           رگ خواب   \n",
       "Century of Birthing                  Siglo ng Pagluluwal   \n",
       "Betrayal                                        Betrayal   \n",
       "\n",
       "                                                                      overview  \\\n",
       "title                                                                            \n",
       "Toy Story                    Led by Woody, Andy's toys live happily in his ...   \n",
       "Jumanji                      When siblings Judy and Peter discover an encha...   \n",
       "Grumpier Old Men             A family wedding reignites the ancient feud be...   \n",
       "Waiting to Exhale            Cheated on, mistreated and stepped on, the wom...   \n",
       "Father of the Bride Part II  Just when George Banks has recovered from his ...   \n",
       "...                                                                        ...   \n",
       "Caged Heat 3000              It's the year 3000 AD. The world's most danger...   \n",
       "Robin Hood                   Yet another version of the classic epic, with ...   \n",
       "Subdue                             Rising and falling between a man and woman.   \n",
       "Century of Birthing          An artist struggles to finish his work while a...   \n",
       "Betrayal                     When one of her hits goes wrong, a professiona...   \n",
       "\n",
       "                             ...  \\\n",
       "title                        ...   \n",
       "Toy Story                    ...   \n",
       "Jumanji                      ...   \n",
       "Grumpier Old Men             ...   \n",
       "Waiting to Exhale            ...   \n",
       "Father of the Bride Part II  ...   \n",
       "...                          ...   \n",
       "Caged Heat 3000              ...   \n",
       "Robin Hood                   ...   \n",
       "Subdue                       ...   \n",
       "Century of Birthing          ...   \n",
       "Betrayal                     ...   \n",
       "\n",
       "                                                              spoken_languages  \\\n",
       "title                                                                            \n",
       "Toy Story                             [{'iso_639_1': 'en', 'name': 'English'}]   \n",
       "Jumanji                      [{'iso_639_1': 'en', 'name': 'English'}, {'iso...   \n",
       "Grumpier Old Men                      [{'iso_639_1': 'en', 'name': 'English'}]   \n",
       "Waiting to Exhale                     [{'iso_639_1': 'en', 'name': 'English'}]   \n",
       "Father of the Bride Part II           [{'iso_639_1': 'en', 'name': 'English'}]   \n",
       "...                                                                        ...   \n",
       "Caged Heat 3000                       [{'iso_639_1': 'en', 'name': 'English'}]   \n",
       "Robin Hood                            [{'iso_639_1': 'en', 'name': 'English'}]   \n",
       "Subdue                                  [{'iso_639_1': 'fa', 'name': 'فارسی'}]   \n",
       "Century of Birthing                          [{'iso_639_1': 'tl', 'name': ''}]   \n",
       "Betrayal                              [{'iso_639_1': 'en', 'name': 'English'}]   \n",
       "\n",
       "                               status  \\\n",
       "title                                   \n",
       "Toy Story                    Released   \n",
       "Jumanji                      Released   \n",
       "Grumpier Old Men             Released   \n",
       "Waiting to Exhale            Released   \n",
       "Father of the Bride Part II  Released   \n",
       "...                               ...   \n",
       "Caged Heat 3000              Released   \n",
       "Robin Hood                   Released   \n",
       "Subdue                       Released   \n",
       "Century of Birthing          Released   \n",
       "Betrayal                     Released   \n",
       "\n",
       "                                                                       tagline  \\\n",
       "title                                                                            \n",
       "Toy Story                                                                  NaN   \n",
       "Jumanji                              Roll the dice and unleash the excitement!   \n",
       "Grumpier Old Men             Still Yelling. Still Fighting. Still Ready for...   \n",
       "Waiting to Exhale            Friends are the people who let you be yourself...   \n",
       "Father of the Bride Part II  Just When His World Is Back To Normal... He's ...   \n",
       "...                                                                        ...   \n",
       "Caged Heat 3000                                                            NaN   \n",
       "Robin Hood                                                                 NaN   \n",
       "Subdue                              Rising and falling between a man and woman   \n",
       "Century of Birthing                                                        NaN   \n",
       "Betrayal                                                A deadly game of wits.   \n",
       "\n",
       "                             video vote_average vote_count Unnamed: 24  \\\n",
       "title                                                                    \n",
       "Toy Story                    False          7.7       5415         NaN   \n",
       "Jumanji                      False          6.9       2413         NaN   \n",
       "Grumpier Old Men             False          6.5         92         NaN   \n",
       "Waiting to Exhale            False          6.1         34         NaN   \n",
       "Father of the Bride Part II  False          5.7        173         NaN   \n",
       "...                            ...          ...        ...         ...   \n",
       "Caged Heat 3000              False          3.5          1         NaN   \n",
       "Robin Hood                   False          5.7         26         NaN   \n",
       "Subdue                       False            4          1         NaN   \n",
       "Century of Birthing          False            9          3         NaN   \n",
       "Betrayal                     False          3.8          6         NaN   \n",
       "\n",
       "                            Unnamed: 25 Unnamed: 26 Unnamed: 27  \n",
       "title                                                            \n",
       "Toy Story                           NaN         NaN         NaN  \n",
       "Jumanji                             NaN         NaN         NaN  \n",
       "Grumpier Old Men                    NaN         NaN         NaN  \n",
       "Waiting to Exhale                   NaN         NaN         NaN  \n",
       "Father of the Bride Part II         NaN         NaN         NaN  \n",
       "...                                 ...         ...         ...  \n",
       "Caged Heat 3000                     NaN         NaN         NaN  \n",
       "Robin Hood                          NaN         NaN         NaN  \n",
       "Subdue                              NaN         NaN         NaN  \n",
       "Century of Birthing                 NaN         NaN         NaN  \n",
       "Betrayal                            NaN         NaN         NaN  \n",
       "\n",
       "[42323 rows x 27 columns]"
      ],
      "text/html": "<div>\n<style scoped>\n    .dataframe tbody tr th:only-of-type {\n        vertical-align: middle;\n    }\n\n    .dataframe tbody tr th {\n        vertical-align: top;\n    }\n\n    .dataframe thead th {\n        text-align: right;\n    }\n</style>\n<table border=\"1\" class=\"dataframe\">\n  <thead>\n    <tr style=\"text-align: right;\">\n      <th></th>\n      <th>adult</th>\n      <th>belongs_to_collection</th>\n      <th>budget</th>\n      <th>genres</th>\n      <th>homepage</th>\n      <th>id</th>\n      <th>imdb_id</th>\n      <th>original_language</th>\n      <th>original_title</th>\n      <th>overview</th>\n      <th>...</th>\n      <th>spoken_languages</th>\n      <th>status</th>\n      <th>tagline</th>\n      <th>video</th>\n      <th>vote_average</th>\n      <th>vote_count</th>\n      <th>Unnamed: 24</th>\n      <th>Unnamed: 25</th>\n      <th>Unnamed: 26</th>\n      <th>Unnamed: 27</th>\n    </tr>\n    <tr>\n      <th>title</th>\n      <th></th>\n      <th></th>\n      <th></th>\n      <th></th>\n      <th></th>\n      <th></th>\n      <th></th>\n      <th></th>\n      <th></th>\n      <th></th>\n      <th></th>\n      <th></th>\n      <th></th>\n      <th></th>\n      <th></th>\n      <th></th>\n      <th></th>\n      <th></th>\n      <th></th>\n      <th></th>\n      <th></th>\n    </tr>\n  </thead>\n  <tbody>\n    <tr>\n      <th>Toy Story</th>\n      <td>False</td>\n      <td>{'id': 10194, 'name': 'Toy Story Collection', ...</td>\n      <td>30000000</td>\n      <td>[Animation, Comedy, Family]</td>\n      <td>http://toystory.disney.com/toy-story</td>\n      <td>862</td>\n      <td>tt0114709</td>\n      <td>en</td>\n      <td>Toy Story</td>\n      <td>Led by Woody, Andy's toys live happily in his ...</td>\n      <td>...</td>\n      <td>[{'iso_639_1': 'en', 'name': 'English'}]</td>\n      <td>Released</td>\n      <td>NaN</td>\n      <td>False</td>\n      <td>7.7</td>\n      <td>5415</td>\n      <td>NaN</td>\n      <td>NaN</td>\n      <td>NaN</td>\n      <td>NaN</td>\n    </tr>\n    <tr>\n      <th>Jumanji</th>\n      <td>False</td>\n      <td>NaN</td>\n      <td>65000000</td>\n      <td>[Adventure, Fantasy, Family]</td>\n      <td>NaN</td>\n      <td>8844</td>\n      <td>tt0113497</td>\n      <td>en</td>\n      <td>Jumanji</td>\n      <td>When siblings Judy and Peter discover an encha...</td>\n      <td>...</td>\n      <td>[{'iso_639_1': 'en', 'name': 'English'}, {'iso...</td>\n      <td>Released</td>\n      <td>Roll the dice and unleash the excitement!</td>\n      <td>False</td>\n      <td>6.9</td>\n      <td>2413</td>\n      <td>NaN</td>\n      <td>NaN</td>\n      <td>NaN</td>\n      <td>NaN</td>\n    </tr>\n    <tr>\n      <th>Grumpier Old Men</th>\n      <td>False</td>\n      <td>{'id': 119050, 'name': 'Grumpy Old Men Collect...</td>\n      <td>0</td>\n      <td>[Romance, Comedy]</td>\n      <td>NaN</td>\n      <td>15602</td>\n      <td>tt0113228</td>\n      <td>en</td>\n      <td>Grumpier Old Men</td>\n      <td>A family wedding reignites the ancient feud be...</td>\n      <td>...</td>\n      <td>[{'iso_639_1': 'en', 'name': 'English'}]</td>\n      <td>Released</td>\n      <td>Still Yelling. Still Fighting. Still Ready for...</td>\n      <td>False</td>\n      <td>6.5</td>\n      <td>92</td>\n      <td>NaN</td>\n      <td>NaN</td>\n      <td>NaN</td>\n      <td>NaN</td>\n    </tr>\n    <tr>\n      <th>Waiting to Exhale</th>\n      <td>False</td>\n      <td>NaN</td>\n      <td>16000000</td>\n      <td>[Comedy, Drama, Romance]</td>\n      <td>NaN</td>\n      <td>31357</td>\n      <td>tt0114885</td>\n      <td>en</td>\n      <td>Waiting to Exhale</td>\n      <td>Cheated on, mistreated and stepped on, the wom...</td>\n      <td>...</td>\n      <td>[{'iso_639_1': 'en', 'name': 'English'}]</td>\n      <td>Released</td>\n      <td>Friends are the people who let you be yourself...</td>\n      <td>False</td>\n      <td>6.1</td>\n      <td>34</td>\n      <td>NaN</td>\n      <td>NaN</td>\n      <td>NaN</td>\n      <td>NaN</td>\n    </tr>\n    <tr>\n      <th>Father of the Bride Part II</th>\n      <td>False</td>\n      <td>{'id': 96871, 'name': 'Father of the Bride Col...</td>\n      <td>0</td>\n      <td>[Comedy]</td>\n      <td>NaN</td>\n      <td>11862</td>\n      <td>tt0113041</td>\n      <td>en</td>\n      <td>Father of the Bride Part II</td>\n      <td>Just when George Banks has recovered from his ...</td>\n      <td>...</td>\n      <td>[{'iso_639_1': 'en', 'name': 'English'}]</td>\n      <td>Released</td>\n      <td>Just When His World Is Back To Normal... He's ...</td>\n      <td>False</td>\n      <td>5.7</td>\n      <td>173</td>\n      <td>NaN</td>\n      <td>NaN</td>\n      <td>NaN</td>\n      <td>NaN</td>\n    </tr>\n    <tr>\n      <th>...</th>\n      <td>...</td>\n      <td>...</td>\n      <td>...</td>\n      <td>...</td>\n      <td>...</td>\n      <td>...</td>\n      <td>...</td>\n      <td>...</td>\n      <td>...</td>\n      <td>...</td>\n      <td>...</td>\n      <td>...</td>\n      <td>...</td>\n      <td>...</td>\n      <td>...</td>\n      <td>...</td>\n      <td>...</td>\n      <td>...</td>\n      <td>...</td>\n      <td>...</td>\n      <td>...</td>\n    </tr>\n    <tr>\n      <th>Caged Heat 3000</th>\n      <td>False</td>\n      <td>NaN</td>\n      <td>0</td>\n      <td>[Science Fiction]</td>\n      <td>NaN</td>\n      <td>222848</td>\n      <td>tt0112613</td>\n      <td>en</td>\n      <td>Caged Heat 3000</td>\n      <td>It's the year 3000 AD. The world's most danger...</td>\n      <td>...</td>\n      <td>[{'iso_639_1': 'en', 'name': 'English'}]</td>\n      <td>Released</td>\n      <td>NaN</td>\n      <td>False</td>\n      <td>3.5</td>\n      <td>1</td>\n      <td>NaN</td>\n      <td>NaN</td>\n      <td>NaN</td>\n      <td>NaN</td>\n    </tr>\n    <tr>\n      <th>Robin Hood</th>\n      <td>False</td>\n      <td>NaN</td>\n      <td>0</td>\n      <td>[Drama, Action, Romance]</td>\n      <td>NaN</td>\n      <td>30840</td>\n      <td>tt0102797</td>\n      <td>en</td>\n      <td>Robin Hood</td>\n      <td>Yet another version of the classic epic, with ...</td>\n      <td>...</td>\n      <td>[{'iso_639_1': 'en', 'name': 'English'}]</td>\n      <td>Released</td>\n      <td>NaN</td>\n      <td>False</td>\n      <td>5.7</td>\n      <td>26</td>\n      <td>NaN</td>\n      <td>NaN</td>\n      <td>NaN</td>\n      <td>NaN</td>\n    </tr>\n    <tr>\n      <th>Subdue</th>\n      <td>False</td>\n      <td>NaN</td>\n      <td>0</td>\n      <td>[Drama, Family]</td>\n      <td>http://www.imdb.com/title/tt6209470/</td>\n      <td>439050</td>\n      <td>tt6209470</td>\n      <td>fa</td>\n      <td>رگ خواب</td>\n      <td>Rising and falling between a man and woman.</td>\n      <td>...</td>\n      <td>[{'iso_639_1': 'fa', 'name': 'فارسی'}]</td>\n      <td>Released</td>\n      <td>Rising and falling between a man and woman</td>\n      <td>False</td>\n      <td>4</td>\n      <td>1</td>\n      <td>NaN</td>\n      <td>NaN</td>\n      <td>NaN</td>\n      <td>NaN</td>\n    </tr>\n    <tr>\n      <th>Century of Birthing</th>\n      <td>False</td>\n      <td>NaN</td>\n      <td>0</td>\n      <td>[Drama]</td>\n      <td>NaN</td>\n      <td>111109</td>\n      <td>tt2028550</td>\n      <td>tl</td>\n      <td>Siglo ng Pagluluwal</td>\n      <td>An artist struggles to finish his work while a...</td>\n      <td>...</td>\n      <td>[{'iso_639_1': 'tl', 'name': ''}]</td>\n      <td>Released</td>\n      <td>NaN</td>\n      <td>False</td>\n      <td>9</td>\n      <td>3</td>\n      <td>NaN</td>\n      <td>NaN</td>\n      <td>NaN</td>\n      <td>NaN</td>\n    </tr>\n    <tr>\n      <th>Betrayal</th>\n      <td>False</td>\n      <td>NaN</td>\n      <td>0</td>\n      <td>[Action, Drama, Thriller]</td>\n      <td>NaN</td>\n      <td>67758</td>\n      <td>tt0303758</td>\n      <td>en</td>\n      <td>Betrayal</td>\n      <td>When one of her hits goes wrong, a professiona...</td>\n      <td>...</td>\n      <td>[{'iso_639_1': 'en', 'name': 'English'}]</td>\n      <td>Released</td>\n      <td>A deadly game of wits.</td>\n      <td>False</td>\n      <td>3.8</td>\n      <td>6</td>\n      <td>NaN</td>\n      <td>NaN</td>\n      <td>NaN</td>\n      <td>NaN</td>\n    </tr>\n  </tbody>\n</table>\n<p>42323 rows × 27 columns</p>\n</div>"
     },
     "metadata": {},
     "execution_count": 10
    }
   ],
   "source": [
    "filtered_dataframe"
   ]
  },
  {
   "cell_type": "markdown",
   "metadata": {},
   "source": [
    "### Data for further models\n",
    "\n",
    "filtered_dataframe  \n",
    "  \n",
    "contains the data from the dataset that has beeen filterd to remove empty cells and formatted data to appropriate lists"
   ]
  },
  {
   "cell_type": "markdown",
   "metadata": {},
   "source": [
    "# Seperating Genres"
   ]
  },
  {
   "cell_type": "code",
   "execution_count": 11,
   "metadata": {},
   "outputs": [
    {
     "output_type": "execute_result",
     "data": {
      "text/plain": [
       "                                                   genres\n",
       "title                                                    \n",
       "Toy Story                     [Animation, Comedy, Family]\n",
       "Jumanji                      [Adventure, Fantasy, Family]\n",
       "Grumpier Old Men                        [Romance, Comedy]\n",
       "Waiting to Exhale                [Comedy, Drama, Romance]\n",
       "Father of the Bride Part II                      [Comedy]\n",
       "...                                                   ...\n",
       "Caged Heat 3000                         [Science Fiction]\n",
       "Robin Hood                       [Drama, Action, Romance]\n",
       "Subdue                                    [Drama, Family]\n",
       "Century of Birthing                               [Drama]\n",
       "Betrayal                        [Action, Drama, Thriller]\n",
       "\n",
       "[42323 rows x 1 columns]"
      ],
      "text/html": "<div>\n<style scoped>\n    .dataframe tbody tr th:only-of-type {\n        vertical-align: middle;\n    }\n\n    .dataframe tbody tr th {\n        vertical-align: top;\n    }\n\n    .dataframe thead th {\n        text-align: right;\n    }\n</style>\n<table border=\"1\" class=\"dataframe\">\n  <thead>\n    <tr style=\"text-align: right;\">\n      <th></th>\n      <th>genres</th>\n    </tr>\n    <tr>\n      <th>title</th>\n      <th></th>\n    </tr>\n  </thead>\n  <tbody>\n    <tr>\n      <th>Toy Story</th>\n      <td>[Animation, Comedy, Family]</td>\n    </tr>\n    <tr>\n      <th>Jumanji</th>\n      <td>[Adventure, Fantasy, Family]</td>\n    </tr>\n    <tr>\n      <th>Grumpier Old Men</th>\n      <td>[Romance, Comedy]</td>\n    </tr>\n    <tr>\n      <th>Waiting to Exhale</th>\n      <td>[Comedy, Drama, Romance]</td>\n    </tr>\n    <tr>\n      <th>Father of the Bride Part II</th>\n      <td>[Comedy]</td>\n    </tr>\n    <tr>\n      <th>...</th>\n      <td>...</td>\n    </tr>\n    <tr>\n      <th>Caged Heat 3000</th>\n      <td>[Science Fiction]</td>\n    </tr>\n    <tr>\n      <th>Robin Hood</th>\n      <td>[Drama, Action, Romance]</td>\n    </tr>\n    <tr>\n      <th>Subdue</th>\n      <td>[Drama, Family]</td>\n    </tr>\n    <tr>\n      <th>Century of Birthing</th>\n      <td>[Drama]</td>\n    </tr>\n    <tr>\n      <th>Betrayal</th>\n      <td>[Action, Drama, Thriller]</td>\n    </tr>\n  </tbody>\n</table>\n<p>42323 rows × 1 columns</p>\n</div>"
     },
     "metadata": {},
     "execution_count": 11
    }
   ],
   "source": [
    "filtered_dataframe[['genres']]"
   ]
  },
  {
   "cell_type": "code",
   "execution_count": 12,
   "metadata": {},
   "outputs": [],
   "source": [
    "#convert the list of genres to a multilable element\n",
    "from sklearn.preprocessing import MultiLabelBinarizer\n",
    "mlb = MultiLabelBinarizer()\n",
    "\n",
    "labels = mlb.fit_transform(filtered_dataframe['genres'])\n",
    "label_classes = mlb.classes_\n"
   ]
  },
  {
   "cell_type": "code",
   "execution_count": 13,
   "metadata": {},
   "outputs": [
    {
     "output_type": "execute_result",
     "data": {
      "text/plain": [
       "array(['Action', 'Adventure', 'Animation', 'Comedy', 'Crime',\n",
       "       'Documentary', 'Drama', 'Family', 'Fantasy', 'Foreign', 'History',\n",
       "       'Horror', 'Music', 'Mystery', 'Romance', 'Science Fiction',\n",
       "       'TV Movie', 'Thriller', 'War', 'Western'], dtype=object)"
      ]
     },
     "metadata": {},
     "execution_count": 13
    }
   ],
   "source": [
    "label_classes"
   ]
  },
  {
   "cell_type": "code",
   "execution_count": 14,
   "metadata": {},
   "outputs": [],
   "source": [
    "# Performs what is essentially one hot encoding to the genres to create an array of 0,1 to denote genres it belongs to\n",
    "#place in a dataframe for readability\n",
    "label_data = pd.DataFrame(labels, columns=label_classes)"
   ]
  },
  {
   "cell_type": "code",
   "execution_count": 15,
   "metadata": {},
   "outputs": [
    {
     "output_type": "execute_result",
     "data": {
      "text/plain": [
       "       Action  Adventure  Animation  Comedy  Crime  Documentary  Drama  \\\n",
       "0           0          0          1       1      0            0      0   \n",
       "1           0          1          0       0      0            0      0   \n",
       "2           0          0          0       1      0            0      0   \n",
       "3           0          0          0       1      0            0      1   \n",
       "4           0          0          0       1      0            0      0   \n",
       "...       ...        ...        ...     ...    ...          ...    ...   \n",
       "42318       0          0          0       0      0            0      0   \n",
       "42319       1          0          0       0      0            0      1   \n",
       "42320       0          0          0       0      0            0      1   \n",
       "42321       0          0          0       0      0            0      1   \n",
       "42322       1          0          0       0      0            0      1   \n",
       "\n",
       "       Family  Fantasy  Foreign  History  Horror  Music  Mystery  Romance  \\\n",
       "0           1        0        0        0       0      0        0        0   \n",
       "1           1        1        0        0       0      0        0        0   \n",
       "2           0        0        0        0       0      0        0        1   \n",
       "3           0        0        0        0       0      0        0        1   \n",
       "4           0        0        0        0       0      0        0        0   \n",
       "...       ...      ...      ...      ...     ...    ...      ...      ...   \n",
       "42318       0        0        0        0       0      0        0        0   \n",
       "42319       0        0        0        0       0      0        0        1   \n",
       "42320       1        0        0        0       0      0        0        0   \n",
       "42321       0        0        0        0       0      0        0        0   \n",
       "42322       0        0        0        0       0      0        0        0   \n",
       "\n",
       "       Science Fiction  TV Movie  Thriller  War  Western  \n",
       "0                    0         0         0    0        0  \n",
       "1                    0         0         0    0        0  \n",
       "2                    0         0         0    0        0  \n",
       "3                    0         0         0    0        0  \n",
       "4                    0         0         0    0        0  \n",
       "...                ...       ...       ...  ...      ...  \n",
       "42318                1         0         0    0        0  \n",
       "42319                0         0         0    0        0  \n",
       "42320                0         0         0    0        0  \n",
       "42321                0         0         0    0        0  \n",
       "42322                0         0         1    0        0  \n",
       "\n",
       "[42323 rows x 20 columns]"
      ],
      "text/html": "<div>\n<style scoped>\n    .dataframe tbody tr th:only-of-type {\n        vertical-align: middle;\n    }\n\n    .dataframe tbody tr th {\n        vertical-align: top;\n    }\n\n    .dataframe thead th {\n        text-align: right;\n    }\n</style>\n<table border=\"1\" class=\"dataframe\">\n  <thead>\n    <tr style=\"text-align: right;\">\n      <th></th>\n      <th>Action</th>\n      <th>Adventure</th>\n      <th>Animation</th>\n      <th>Comedy</th>\n      <th>Crime</th>\n      <th>Documentary</th>\n      <th>Drama</th>\n      <th>Family</th>\n      <th>Fantasy</th>\n      <th>Foreign</th>\n      <th>History</th>\n      <th>Horror</th>\n      <th>Music</th>\n      <th>Mystery</th>\n      <th>Romance</th>\n      <th>Science Fiction</th>\n      <th>TV Movie</th>\n      <th>Thriller</th>\n      <th>War</th>\n      <th>Western</th>\n    </tr>\n  </thead>\n  <tbody>\n    <tr>\n      <th>0</th>\n      <td>0</td>\n      <td>0</td>\n      <td>1</td>\n      <td>1</td>\n      <td>0</td>\n      <td>0</td>\n      <td>0</td>\n      <td>1</td>\n      <td>0</td>\n      <td>0</td>\n      <td>0</td>\n      <td>0</td>\n      <td>0</td>\n      <td>0</td>\n      <td>0</td>\n      <td>0</td>\n      <td>0</td>\n      <td>0</td>\n      <td>0</td>\n      <td>0</td>\n    </tr>\n    <tr>\n      <th>1</th>\n      <td>0</td>\n      <td>1</td>\n      <td>0</td>\n      <td>0</td>\n      <td>0</td>\n      <td>0</td>\n      <td>0</td>\n      <td>1</td>\n      <td>1</td>\n      <td>0</td>\n      <td>0</td>\n      <td>0</td>\n      <td>0</td>\n      <td>0</td>\n      <td>0</td>\n      <td>0</td>\n      <td>0</td>\n      <td>0</td>\n      <td>0</td>\n      <td>0</td>\n    </tr>\n    <tr>\n      <th>2</th>\n      <td>0</td>\n      <td>0</td>\n      <td>0</td>\n      <td>1</td>\n      <td>0</td>\n      <td>0</td>\n      <td>0</td>\n      <td>0</td>\n      <td>0</td>\n      <td>0</td>\n      <td>0</td>\n      <td>0</td>\n      <td>0</td>\n      <td>0</td>\n      <td>1</td>\n      <td>0</td>\n      <td>0</td>\n      <td>0</td>\n      <td>0</td>\n      <td>0</td>\n    </tr>\n    <tr>\n      <th>3</th>\n      <td>0</td>\n      <td>0</td>\n      <td>0</td>\n      <td>1</td>\n      <td>0</td>\n      <td>0</td>\n      <td>1</td>\n      <td>0</td>\n      <td>0</td>\n      <td>0</td>\n      <td>0</td>\n      <td>0</td>\n      <td>0</td>\n      <td>0</td>\n      <td>1</td>\n      <td>0</td>\n      <td>0</td>\n      <td>0</td>\n      <td>0</td>\n      <td>0</td>\n    </tr>\n    <tr>\n      <th>4</th>\n      <td>0</td>\n      <td>0</td>\n      <td>0</td>\n      <td>1</td>\n      <td>0</td>\n      <td>0</td>\n      <td>0</td>\n      <td>0</td>\n      <td>0</td>\n      <td>0</td>\n      <td>0</td>\n      <td>0</td>\n      <td>0</td>\n      <td>0</td>\n      <td>0</td>\n      <td>0</td>\n      <td>0</td>\n      <td>0</td>\n      <td>0</td>\n      <td>0</td>\n    </tr>\n    <tr>\n      <th>...</th>\n      <td>...</td>\n      <td>...</td>\n      <td>...</td>\n      <td>...</td>\n      <td>...</td>\n      <td>...</td>\n      <td>...</td>\n      <td>...</td>\n      <td>...</td>\n      <td>...</td>\n      <td>...</td>\n      <td>...</td>\n      <td>...</td>\n      <td>...</td>\n      <td>...</td>\n      <td>...</td>\n      <td>...</td>\n      <td>...</td>\n      <td>...</td>\n      <td>...</td>\n    </tr>\n    <tr>\n      <th>42318</th>\n      <td>0</td>\n      <td>0</td>\n      <td>0</td>\n      <td>0</td>\n      <td>0</td>\n      <td>0</td>\n      <td>0</td>\n      <td>0</td>\n      <td>0</td>\n      <td>0</td>\n      <td>0</td>\n      <td>0</td>\n      <td>0</td>\n      <td>0</td>\n      <td>0</td>\n      <td>1</td>\n      <td>0</td>\n      <td>0</td>\n      <td>0</td>\n      <td>0</td>\n    </tr>\n    <tr>\n      <th>42319</th>\n      <td>1</td>\n      <td>0</td>\n      <td>0</td>\n      <td>0</td>\n      <td>0</td>\n      <td>0</td>\n      <td>1</td>\n      <td>0</td>\n      <td>0</td>\n      <td>0</td>\n      <td>0</td>\n      <td>0</td>\n      <td>0</td>\n      <td>0</td>\n      <td>1</td>\n      <td>0</td>\n      <td>0</td>\n      <td>0</td>\n      <td>0</td>\n      <td>0</td>\n    </tr>\n    <tr>\n      <th>42320</th>\n      <td>0</td>\n      <td>0</td>\n      <td>0</td>\n      <td>0</td>\n      <td>0</td>\n      <td>0</td>\n      <td>1</td>\n      <td>1</td>\n      <td>0</td>\n      <td>0</td>\n      <td>0</td>\n      <td>0</td>\n      <td>0</td>\n      <td>0</td>\n      <td>0</td>\n      <td>0</td>\n      <td>0</td>\n      <td>0</td>\n      <td>0</td>\n      <td>0</td>\n    </tr>\n    <tr>\n      <th>42321</th>\n      <td>0</td>\n      <td>0</td>\n      <td>0</td>\n      <td>0</td>\n      <td>0</td>\n      <td>0</td>\n      <td>1</td>\n      <td>0</td>\n      <td>0</td>\n      <td>0</td>\n      <td>0</td>\n      <td>0</td>\n      <td>0</td>\n      <td>0</td>\n      <td>0</td>\n      <td>0</td>\n      <td>0</td>\n      <td>0</td>\n      <td>0</td>\n      <td>0</td>\n    </tr>\n    <tr>\n      <th>42322</th>\n      <td>1</td>\n      <td>0</td>\n      <td>0</td>\n      <td>0</td>\n      <td>0</td>\n      <td>0</td>\n      <td>1</td>\n      <td>0</td>\n      <td>0</td>\n      <td>0</td>\n      <td>0</td>\n      <td>0</td>\n      <td>0</td>\n      <td>0</td>\n      <td>0</td>\n      <td>0</td>\n      <td>0</td>\n      <td>1</td>\n      <td>0</td>\n      <td>0</td>\n    </tr>\n  </tbody>\n</table>\n<p>42323 rows × 20 columns</p>\n</div>"
     },
     "metadata": {},
     "execution_count": 15
    }
   ],
   "source": [
    "label_data"
   ]
  },
  {
   "cell_type": "markdown",
   "metadata": {},
   "source": [
    "## Seperating Features"
   ]
  },
  {
   "cell_type": "code",
   "execution_count": 16,
   "metadata": {},
   "outputs": [],
   "source": [
    "features = filtered_dataframe['overview']"
   ]
  },
  {
   "cell_type": "code",
   "execution_count": 17,
   "metadata": {},
   "outputs": [
    {
     "output_type": "execute_result",
     "data": {
      "text/plain": [
       "title\n",
       "Toy Story                      Led by Woody, Andy's toys live happily in his ...\n",
       "Jumanji                        When siblings Judy and Peter discover an encha...\n",
       "Grumpier Old Men               A family wedding reignites the ancient feud be...\n",
       "Waiting to Exhale              Cheated on, mistreated and stepped on, the wom...\n",
       "Father of the Bride Part II    Just when George Banks has recovered from his ...\n",
       "                                                     ...                        \n",
       "Caged Heat 3000                It's the year 3000 AD. The world's most danger...\n",
       "Robin Hood                     Yet another version of the classic epic, with ...\n",
       "Subdue                               Rising and falling between a man and woman.\n",
       "Century of Birthing            An artist struggles to finish his work while a...\n",
       "Betrayal                       When one of her hits goes wrong, a professiona...\n",
       "Name: overview, Length: 42323, dtype: object"
      ]
     },
     "metadata": {},
     "execution_count": 17
    }
   ],
   "source": [
    "features"
   ]
  },
  {
   "cell_type": "markdown",
   "metadata": {},
   "source": [
    "# Creating testing and training data sets"
   ]
  },
  {
   "cell_type": "code",
   "execution_count": 18,
   "metadata": {},
   "outputs": [],
   "source": [
    "from sklearn.model_selection import train_test_split\n",
    "\n",
    "X_train, X_test, y_train, y_test = train_test_split(features, labels, test_size=0.2, random_state=2)"
   ]
  },
  {
   "cell_type": "code",
   "execution_count": 19,
   "metadata": {},
   "outputs": [
    {
     "output_type": "execute_result",
     "data": {
      "text/plain": [
       "((33858,), (33858, 20))"
      ]
     },
     "metadata": {},
     "execution_count": 19
    }
   ],
   "source": [
    "X_train.shape, y_train.shape"
   ]
  },
  {
   "cell_type": "code",
   "execution_count": 20,
   "metadata": {},
   "outputs": [],
   "source": [
    "# breaking down overview for natural language processing\n",
    "\n",
    "#vectorizing the feature\n",
    "\n",
    "from sklearn.feature_extraction.text import TfidfVectorizer\n",
    "\n",
    "vectorizer = TfidfVectorizer(max_features = 1000, stop_words = 'english', lowercase = True)\n",
    "\n",
    "X_train_vec = vectorizer.fit_transform(X_train)\n",
    "X_test_vec = vectorizer.transform(X_test)"
   ]
  },
  {
   "cell_type": "code",
   "execution_count": 21,
   "metadata": {},
   "outputs": [
    {
     "output_type": "execute_result",
     "data": {
      "text/plain": [
       "<33858x1000 sparse matrix of type '<class 'numpy.float64'>'\n",
       "\twith 430325 stored elements in Compressed Sparse Row format>"
      ]
     },
     "metadata": {},
     "execution_count": 21
    }
   ],
   "source": [
    "X_train_vec"
   ]
  },
  {
   "cell_type": "markdown",
   "metadata": {},
   "source": [
    "# Using Machine Lerning models on Data\n",
    "\n",
    "#### For models using training and testing data\n",
    "X_train_vec, X_test_vec, y_train, y_test  \n",
    "\n",
    "#### For models using the whole dataset\n",
    "features, labels"
   ]
  },
  {
   "cell_type": "markdown",
   "metadata": {},
   "source": [
    "## Using a decision Tree"
   ]
  },
  {
   "cell_type": "code",
   "execution_count": 22,
   "metadata": {},
   "outputs": [
    {
     "output_type": "execute_result",
     "data": {
      "text/plain": [
       "array([[0, 0, 0, ..., 1, 0, 0],\n",
       "       [0, 0, 0, ..., 0, 0, 0],\n",
       "       [0, 0, 0, ..., 0, 0, 0],\n",
       "       ...,\n",
       "       [0, 0, 0, ..., 0, 0, 0],\n",
       "       [0, 0, 0, ..., 1, 0, 0],\n",
       "       [0, 0, 0, ..., 0, 0, 0]])"
      ]
     },
     "metadata": {},
     "execution_count": 22
    }
   ],
   "source": [
    "from sklearn.tree import DecisionTreeClassifier\n",
    "\n",
    "tree_classifier = DecisionTreeClassifier()\n",
    "\n",
    "tree_classifier.fit(X_train_vec, y_train)\n",
    "prediction = tree_classifier.predict(X_test_vec)\n",
    "\n",
    "prediction"
   ]
  },
  {
   "cell_type": "code",
   "execution_count": 23,
   "metadata": {},
   "outputs": [
    {
     "output_type": "stream",
     "name": "stdout",
     "text": [
      "Accuracy: 0.10230360307147077\n"
     ]
    }
   ],
   "source": [
    "from sklearn.metrics import accuracy_score\n",
    "\n",
    "tree_acc_score = accuracy_score(y_test, prediction)\n",
    "print(f\"Accuracy: {tree_acc_score}\")"
   ]
  },
  {
   "cell_type": "markdown",
   "metadata": {},
   "source": [
    "# Random Forest (Adrian)"
   ]
  },
  {
   "cell_type": "code",
   "execution_count": 24,
   "metadata": {},
   "outputs": [
    {
     "output_type": "stream",
     "name": "stdout",
     "text": [
      "Random Forest Tree Accuracy using 10 estimators: 0.12722976963969285\n"
     ]
    }
   ],
   "source": [
    "from sklearn.ensemble import RandomForestClassifier\n",
    "\n",
    "# You can adjust parameters:\n",
    "my_RandomForest = RandomForestClassifier(n_estimators = 10, bootstrap = True, random_state=2)\n",
    "\n",
    "my_RandomForest.fit(X_train_vec, y_train)\n",
    "y_predict_rf=my_RandomForest.predict(X_test_vec)\n",
    "score_rf= accuracy_score(y_test,y_predict_rf)\n",
    "\n",
    "print(\"Random Forest Tree Accuracy using 10 estimators: \" + str(score_rf))"
   ]
  },
  {
   "cell_type": "markdown",
   "metadata": {},
   "source": [
    "# Jesus"
   ]
  },
  {
   "cell_type": "markdown",
   "metadata": {},
   "source": [
    "### MLP Classifier"
   ]
  },
  {
   "cell_type": "code",
   "execution_count": 25,
   "metadata": {},
   "outputs": [
    {
     "output_type": "stream",
     "name": "stdout",
     "text": [
      "Iteration 1, loss = 6.63113464\n",
      "Iteration 2, loss = 5.89462795\n",
      "Iteration 3, loss = 5.88978987\n",
      "Iteration 4, loss = 5.87907638\n",
      "Iteration 5, loss = 5.87286805\n",
      "Iteration 6, loss = 5.86449218\n",
      "Iteration 7, loss = 5.86973869\n",
      "Iteration 8, loss = 5.86071827\n",
      "Iteration 9, loss = 5.85921297\n",
      "Iteration 10, loss = 5.86717163\n",
      "Iteration 11, loss = 5.86650674\n",
      "Iteration 12, loss = 5.86507155\n",
      "Iteration 13, loss = 5.86630350\n",
      "Iteration 14, loss = 5.86893533\n",
      "Iteration 15, loss = 5.86140092\n",
      "Iteration 16, loss = 5.86441736\n",
      "Iteration 17, loss = 5.86144637\n",
      "Iteration 18, loss = 5.87240685\n",
      "Iteration 19, loss = 5.87656049\n",
      "Iteration 20, loss = 5.86577610\n",
      "Training loss did not improve more than tol=0.000100 for 10 consecutive epochs. Stopping.\n",
      "Iteration 1, loss = 6.65864115\n",
      "Iteration 2, loss = 5.92041808\n",
      "Iteration 3, loss = 5.90904136\n",
      "Iteration 4, loss = 5.89943565\n",
      "Iteration 5, loss = 5.89330554\n",
      "Iteration 6, loss = 5.89028526\n",
      "Iteration 7, loss = 5.89438921\n",
      "Iteration 8, loss = 5.88484323\n",
      "Iteration 9, loss = 5.88924698\n",
      "Iteration 10, loss = 5.89017483\n",
      "Iteration 11, loss = 5.88665192\n",
      "Iteration 12, loss = 5.88830940\n",
      "Iteration 13, loss = 5.89343461\n",
      "Iteration 14, loss = 5.89238377\n",
      "Iteration 15, loss = 5.88163565\n",
      "Iteration 16, loss = 5.88241594\n",
      "Iteration 17, loss = 5.88159653\n",
      "Iteration 18, loss = 5.88962904\n",
      "Iteration 19, loss = 5.89791083\n",
      "Iteration 20, loss = 5.88545306\n",
      "Iteration 21, loss = 5.89206223\n",
      "Iteration 22, loss = 5.89214774\n",
      "Iteration 23, loss = 5.88030539\n",
      "Iteration 24, loss = 5.88469451\n",
      "Iteration 25, loss = 5.88707593\n",
      "Iteration 26, loss = 5.88728745\n",
      "Iteration 27, loss = 5.89373826\n",
      "Iteration 28, loss = 5.88322335\n",
      "Iteration 29, loss = 5.87720507\n",
      "Iteration 30, loss = 5.88039574\n",
      "Iteration 31, loss = 5.87898114\n",
      "Iteration 32, loss = 5.87556650\n",
      "Iteration 33, loss = 5.87823379\n",
      "Iteration 34, loss = 5.87330565\n",
      "Iteration 35, loss = 5.87408260\n",
      "Iteration 36, loss = 5.86516495\n",
      "Iteration 37, loss = 5.87558089\n",
      "Iteration 38, loss = 5.87405963\n",
      "Iteration 39, loss = 5.86804528\n",
      "Iteration 40, loss = 5.86805867\n",
      "Iteration 41, loss = 5.86936125\n",
      "Iteration 42, loss = 5.85860623\n",
      "Iteration 43, loss = 5.86562925\n",
      "Iteration 44, loss = 5.87292015\n",
      "Iteration 45, loss = 5.86784807\n",
      "Iteration 46, loss = 5.86197038\n",
      "Iteration 47, loss = 5.85739130\n",
      "Iteration 48, loss = 5.86038764\n",
      "Iteration 49, loss = 5.85357772\n",
      "Iteration 50, loss = 5.85571023\n",
      "Iteration 51, loss = 5.85624729\n",
      "Iteration 52, loss = 5.84842145\n",
      "Iteration 53, loss = 5.85002284\n",
      "Iteration 54, loss = 5.84773114\n",
      "Iteration 55, loss = 5.84819823\n",
      "Iteration 56, loss = 5.84562348\n",
      "Iteration 57, loss = 5.84402986\n",
      "Iteration 58, loss = 5.83893063\n",
      "Iteration 59, loss = 5.83967089\n",
      "Iteration 60, loss = 5.84226893\n",
      "Iteration 61, loss = 5.84025970\n",
      "Iteration 62, loss = 5.84069302\n",
      "Iteration 63, loss = 5.83525495\n",
      "Iteration 64, loss = 5.83270762\n",
      "Iteration 65, loss = 5.83583113\n",
      "Iteration 66, loss = 5.83157749\n",
      "Iteration 67, loss = 5.82985804\n",
      "Iteration 68, loss = 5.83247379\n",
      "Iteration 69, loss = 5.82867667\n",
      "Iteration 70, loss = 5.82926507\n",
      "Iteration 71, loss = 5.82768660\n",
      "Iteration 72, loss = 5.82708287\n",
      "Iteration 73, loss = 5.82728205\n",
      "Iteration 74, loss = 5.82874186\n",
      "Iteration 75, loss = 5.82796401\n",
      "Iteration 76, loss = 5.82724334\n",
      "Iteration 77, loss = 5.82498538\n",
      "Iteration 78, loss = 5.82566731\n",
      "Iteration 79, loss = 5.82521723\n",
      "Iteration 80, loss = 5.82476646\n",
      "Iteration 81, loss = 5.82570683\n",
      "Iteration 82, loss = 5.82503050\n",
      "Iteration 83, loss = 5.82471332\n",
      "Iteration 84, loss = 5.82682605\n",
      "Iteration 85, loss = 5.82583879\n",
      "Iteration 86, loss = 5.82504065\n",
      "Iteration 87, loss = 5.82450128\n",
      "Iteration 88, loss = 5.82457512\n",
      "Iteration 89, loss = 5.82459550\n",
      "Iteration 90, loss = 5.82449624\n",
      "Iteration 91, loss = 5.82454521\n",
      "Iteration 92, loss = 5.82397851\n",
      "Iteration 93, loss = 5.82368853\n",
      "Iteration 94, loss = 5.82461605\n",
      "Iteration 95, loss = 5.82370301\n",
      "Iteration 96, loss = 5.82433593\n",
      "Iteration 97, loss = 5.82479532\n",
      "Iteration 98, loss = 5.82522070\n",
      "Iteration 99, loss = 5.82398919\n",
      "Iteration 100, loss = 5.82511798\n",
      "Iteration 101, loss = 5.82478408\n",
      "Iteration 102, loss = 5.82436676\n",
      "Iteration 103, loss = 5.82419361\n",
      "Iteration 104, loss = 5.82449337\n",
      "Training loss did not improve more than tol=0.000100 for 10 consecutive epochs. Stopping.\n",
      "Iteration 1, loss = 6.65002051\n",
      "Iteration 2, loss = 5.90519751\n",
      "Iteration 3, loss = 5.88820542\n",
      "Iteration 4, loss = 5.88542194\n",
      "Iteration 5, loss = 5.87727619\n",
      "Iteration 6, loss = 5.87002546\n",
      "Iteration 7, loss = 5.87401080\n",
      "Iteration 8, loss = 5.87224456\n",
      "Iteration 9, loss = 5.87714450\n",
      "Iteration 10, loss = 5.87539216\n",
      "Iteration 11, loss = 5.86806584\n",
      "Iteration 12, loss = 5.87087031\n",
      "Iteration 13, loss = 5.87735641\n",
      "Iteration 14, loss = 5.87464426\n",
      "Iteration 15, loss = 5.85728162\n",
      "Iteration 16, loss = 5.86240772\n",
      "Iteration 17, loss = 5.86902633\n",
      "Iteration 18, loss = 5.87032683\n",
      "Iteration 19, loss = 5.87141146\n",
      "Iteration 20, loss = 5.86174474\n",
      "Iteration 21, loss = 5.87648286\n",
      "Iteration 22, loss = 5.87160645\n",
      "Iteration 23, loss = 5.86345731\n",
      "Iteration 24, loss = 5.86617717\n",
      "Iteration 25, loss = 5.87161420\n",
      "Iteration 26, loss = 5.87399741\n",
      "Training loss did not improve more than tol=0.000100 for 10 consecutive epochs. Stopping.\n",
      "Iteration 1, loss = 6.65698967\n",
      "Iteration 2, loss = 5.90607593\n",
      "Iteration 3, loss = 5.89158156\n",
      "Iteration 4, loss = 5.88682971\n",
      "Iteration 5, loss = 5.87905598\n",
      "Iteration 6, loss = 5.87720314\n",
      "Iteration 7, loss = 5.87657693\n",
      "Iteration 8, loss = 5.87618612\n",
      "Iteration 9, loss = 5.87917495\n",
      "Iteration 10, loss = 5.87885139\n",
      "Iteration 11, loss = 5.86950232\n",
      "Iteration 12, loss = 5.87257547\n",
      "Iteration 13, loss = 5.87430907\n",
      "Iteration 14, loss = 5.87798678\n",
      "Iteration 15, loss = 5.86173631\n",
      "Iteration 16, loss = 5.87075254\n",
      "Iteration 17, loss = 5.87767283\n",
      "Iteration 18, loss = 5.87734391\n",
      "Iteration 19, loss = 5.87380759\n",
      "Iteration 20, loss = 5.86586741\n",
      "Iteration 21, loss = 5.88197535\n",
      "Iteration 22, loss = 5.87414275\n",
      "Iteration 23, loss = 5.86430433\n",
      "Iteration 24, loss = 5.86754431\n",
      "Iteration 25, loss = 5.87393377\n",
      "Iteration 26, loss = 5.87558276\n",
      "Training loss did not improve more than tol=0.000100 for 10 consecutive epochs. Stopping.\n",
      "Iteration 1, loss = 6.66122477\n",
      "Iteration 2, loss = 5.90163658\n",
      "Iteration 3, loss = 5.88830271\n",
      "Iteration 4, loss = 5.88233455\n",
      "Iteration 5, loss = 5.87820050\n",
      "Iteration 6, loss = 5.88130902\n",
      "Iteration 7, loss = 5.87386314\n",
      "Iteration 8, loss = 5.86782597\n",
      "Iteration 9, loss = 5.87661473\n",
      "Iteration 10, loss = 5.87245542\n",
      "Iteration 11, loss = 5.86798565\n",
      "Iteration 12, loss = 5.86483042\n",
      "Iteration 13, loss = 5.87508771\n",
      "Iteration 14, loss = 5.87353668\n",
      "Iteration 15, loss = 5.86199654\n",
      "Iteration 16, loss = 5.87114993\n",
      "Iteration 17, loss = 5.86515292\n",
      "Iteration 18, loss = 5.87599779\n",
      "Iteration 19, loss = 5.86285651\n",
      "Iteration 20, loss = 5.86752300\n",
      "Iteration 21, loss = 5.87538937\n",
      "Iteration 22, loss = 5.87546730\n",
      "Iteration 23, loss = 5.86136902\n",
      "Iteration 24, loss = 5.86687245\n",
      "Iteration 25, loss = 5.86708741\n",
      "Iteration 26, loss = 5.87334283\n",
      "Iteration 27, loss = 5.86407134\n",
      "Iteration 28, loss = 5.87531867\n",
      "Iteration 29, loss = 5.85867693\n",
      "Iteration 30, loss = 5.85774547\n",
      "Iteration 31, loss = 5.86070311\n",
      "Iteration 32, loss = 5.85274677\n",
      "Iteration 33, loss = 5.85992413\n",
      "Iteration 34, loss = 5.85088243\n",
      "Iteration 35, loss = 5.86277245\n",
      "Iteration 36, loss = 5.84862522\n",
      "Iteration 37, loss = 5.85416743\n",
      "Iteration 38, loss = 5.85011491\n",
      "Iteration 39, loss = 5.85443173\n",
      "Iteration 40, loss = 5.85241196\n",
      "Iteration 41, loss = 5.84526767\n",
      "Iteration 42, loss = 5.84085921\n",
      "Iteration 43, loss = 5.84010418\n",
      "Iteration 44, loss = 5.85128950\n",
      "Iteration 45, loss = 5.84326803\n",
      "Iteration 46, loss = 5.83792192\n",
      "Iteration 47, loss = 5.83630650\n",
      "Iteration 48, loss = 5.83704073\n",
      "Iteration 49, loss = 5.84210174\n",
      "Iteration 50, loss = 5.83780560\n",
      "Iteration 51, loss = 5.83614604\n",
      "Iteration 52, loss = 5.83097130\n",
      "Iteration 53, loss = 5.83731891\n",
      "Iteration 54, loss = 5.83125875\n",
      "Iteration 55, loss = 5.83227623\n",
      "Iteration 56, loss = 5.82680550\n",
      "Iteration 57, loss = 5.82370444\n",
      "Iteration 58, loss = 5.82387218\n",
      "Iteration 59, loss = 5.82226175\n",
      "Iteration 60, loss = 5.82444583\n",
      "Iteration 61, loss = 5.82007093\n",
      "Iteration 62, loss = 5.82018148\n",
      "Iteration 63, loss = 5.81994747\n",
      "Iteration 64, loss = 5.81543939\n",
      "Iteration 65, loss = 5.81643979\n",
      "Iteration 66, loss = 5.81798261\n",
      "Iteration 67, loss = 5.81538807\n",
      "Iteration 68, loss = 5.81454090\n",
      "Iteration 69, loss = 5.81077452\n",
      "Iteration 70, loss = 5.81511900\n",
      "Iteration 71, loss = 5.81186842\n",
      "Iteration 72, loss = 5.81058266\n",
      "Iteration 73, loss = 5.80991416\n",
      "Iteration 74, loss = 5.80938065\n",
      "Iteration 75, loss = 5.80843449\n",
      "Iteration 76, loss = 5.80823815\n",
      "Iteration 77, loss = 5.80838641\n",
      "Iteration 78, loss = 5.80707081\n",
      "Iteration 79, loss = 5.80757552\n",
      "Iteration 80, loss = 5.80624841\n",
      "Iteration 81, loss = 5.80877242\n",
      "Iteration 82, loss = 5.80566377\n",
      "Iteration 83, loss = 5.80629896\n",
      "Iteration 84, loss = 5.80852305\n",
      "Iteration 85, loss = 5.80706929\n",
      "Iteration 86, loss = 5.80572577\n",
      "Iteration 87, loss = 5.80622089\n",
      "Iteration 88, loss = 5.80556661\n",
      "Iteration 89, loss = 5.80632376\n",
      "Iteration 90, loss = 5.80612172\n",
      "Iteration 91, loss = 5.80666939\n",
      "Iteration 92, loss = 5.80554639\n",
      "Iteration 93, loss = 5.80637461\n",
      "Training loss did not improve more than tol=0.000100 for 10 consecutive epochs. Stopping.\n",
      "Iteration 1, loss = 6.66543450\n",
      "Iteration 2, loss = 5.91045515\n",
      "Iteration 3, loss = 5.89166073\n",
      "Iteration 4, loss = 5.88779490\n",
      "Iteration 5, loss = 5.87779226\n",
      "Iteration 6, loss = 5.88162051\n",
      "Iteration 7, loss = 5.87605190\n",
      "Iteration 8, loss = 5.88564142\n",
      "Iteration 9, loss = 5.87714158\n",
      "Iteration 10, loss = 5.87748797\n",
      "Iteration 11, loss = 5.87105130\n",
      "Iteration 12, loss = 5.89052760\n",
      "Iteration 13, loss = 5.87333964\n",
      "Iteration 14, loss = 5.87552249\n",
      "Iteration 15, loss = 5.87749587\n",
      "Iteration 16, loss = 5.88714451\n",
      "Iteration 17, loss = 5.88297960\n",
      "Iteration 18, loss = 5.87430475\n",
      "Iteration 19, loss = 5.87974658\n",
      "Iteration 20, loss = 5.87484520\n",
      "Iteration 21, loss = 5.87392724\n",
      "Iteration 22, loss = 5.87769220\n",
      "Training loss did not improve more than tol=0.000100 for 10 consecutive epochs. Stopping.\n",
      "Iteration 1, loss = 6.66609401\n",
      "Iteration 2, loss = 5.91576620\n",
      "Iteration 3, loss = 5.89628468\n",
      "Iteration 4, loss = 5.89064673\n",
      "Iteration 5, loss = 5.88475483\n",
      "Iteration 6, loss = 5.88643073\n",
      "Iteration 7, loss = 5.88151591\n",
      "Iteration 8, loss = 5.89023927\n",
      "Iteration 9, loss = 5.88060265\n",
      "Iteration 10, loss = 5.88463886\n",
      "Iteration 11, loss = 5.88183079\n",
      "Iteration 12, loss = 5.89108597\n",
      "Iteration 13, loss = 5.88170692\n",
      "Iteration 14, loss = 5.88057121\n",
      "Iteration 15, loss = 5.87979657\n",
      "Iteration 16, loss = 5.89421799\n",
      "Iteration 17, loss = 5.88522420\n",
      "Iteration 18, loss = 5.87612640\n",
      "Iteration 19, loss = 5.87827960\n",
      "Iteration 20, loss = 5.87710487\n",
      "Iteration 21, loss = 5.88098595\n",
      "Iteration 22, loss = 5.88041330\n",
      "Iteration 23, loss = 5.88805235\n",
      "Iteration 24, loss = 5.88239145\n",
      "Iteration 25, loss = 5.87545665\n",
      "Iteration 26, loss = 5.87839177\n",
      "Iteration 27, loss = 5.87285948\n",
      "Iteration 28, loss = 5.86677629\n",
      "Iteration 29, loss = 5.87523041\n",
      "Iteration 30, loss = 5.86515150\n",
      "Iteration 31, loss = 5.86702229\n",
      "Iteration 32, loss = 5.87429671\n",
      "Iteration 33, loss = 5.86470086\n",
      "Iteration 34, loss = 5.86307476\n",
      "Iteration 35, loss = 5.86281705\n",
      "Iteration 36, loss = 5.85802718\n",
      "Iteration 37, loss = 5.86666722\n",
      "Iteration 38, loss = 5.86114397\n",
      "Iteration 39, loss = 5.86222092\n",
      "Iteration 40, loss = 5.85772232\n",
      "Iteration 41, loss = 5.85810095\n",
      "Iteration 42, loss = 5.85510860\n",
      "Iteration 43, loss = 5.85925772\n",
      "Iteration 44, loss = 5.85658699\n",
      "Iteration 45, loss = 5.85213614\n",
      "Iteration 46, loss = 5.84977287\n",
      "Iteration 47, loss = 5.84867638\n",
      "Iteration 48, loss = 5.85315016\n",
      "Iteration 49, loss = 5.84769004\n",
      "Iteration 50, loss = 5.84696785\n",
      "Iteration 51, loss = 5.84582371\n",
      "Iteration 52, loss = 5.84470269\n",
      "Iteration 53, loss = 5.84318441\n",
      "Iteration 54, loss = 5.84003750\n",
      "Iteration 55, loss = 5.84544059\n",
      "Iteration 56, loss = 5.84251274\n",
      "Iteration 57, loss = 5.83583600\n",
      "Iteration 58, loss = 5.83721124\n",
      "Iteration 59, loss = 5.83505557\n",
      "Iteration 60, loss = 5.83488550\n",
      "Iteration 61, loss = 5.83062577\n",
      "Iteration 62, loss = 5.82892004\n",
      "Iteration 63, loss = 5.82898377\n",
      "Iteration 64, loss = 5.82985371\n",
      "Iteration 65, loss = 5.82812600\n",
      "Iteration 66, loss = 5.82705950\n",
      "Iteration 67, loss = 5.82544630\n",
      "Iteration 68, loss = 5.82253702\n",
      "Iteration 69, loss = 5.82408994\n",
      "Iteration 70, loss = 5.82271875\n",
      "Iteration 71, loss = 5.82213050\n",
      "Iteration 72, loss = 5.82254910\n",
      "Iteration 73, loss = 5.82069913\n",
      "Iteration 74, loss = 5.81900547\n",
      "Iteration 75, loss = 5.81989332\n",
      "Iteration 76, loss = 5.82060641\n",
      "Iteration 77, loss = 5.81930718\n",
      "Iteration 78, loss = 5.81760340\n",
      "Iteration 79, loss = 5.81863460\n",
      "Iteration 80, loss = 5.81891760\n",
      "Iteration 81, loss = 5.81833728\n",
      "Iteration 82, loss = 5.81766868\n",
      "Iteration 83, loss = 5.81687528\n",
      "Iteration 84, loss = 5.81781755\n",
      "Iteration 85, loss = 5.81742413\n",
      "Iteration 86, loss = 5.81743193\n",
      "Iteration 87, loss = 5.81671133\n",
      "Iteration 88, loss = 5.81740992\n",
      "Iteration 89, loss = 5.81732805\n",
      "Iteration 90, loss = 5.81669505\n",
      "Iteration 91, loss = 5.81623992\n",
      "Iteration 92, loss = 5.81619558\n",
      "Iteration 93, loss = 5.81856183\n",
      "Iteration 94, loss = 5.81597328\n",
      "Iteration 95, loss = 5.81861497\n",
      "Iteration 96, loss = 5.81720287\n",
      "Iteration 97, loss = 5.81823300\n",
      "Iteration 98, loss = 5.81687251\n",
      "Iteration 99, loss = 5.81613050\n",
      "Iteration 100, loss = 5.81695965\n",
      "Iteration 101, loss = 5.81708915\n",
      "Iteration 102, loss = 5.81727765\n",
      "Iteration 103, loss = 5.81678785\n",
      "Iteration 104, loss = 5.81687830\n",
      "Iteration 105, loss = 5.81689979\n",
      "Training loss did not improve more than tol=0.000100 for 10 consecutive epochs. Stopping.\n",
      "Iteration 1, loss = 6.65849555\n",
      "Iteration 2, loss = 5.90273000\n",
      "Iteration 3, loss = 5.88487908\n",
      "Iteration 4, loss = 5.87937754\n",
      "Iteration 5, loss = 5.87304687\n",
      "Iteration 6, loss = 5.87784556\n",
      "Iteration 7, loss = 5.86874917\n",
      "Iteration 8, loss = 5.87624666\n",
      "Iteration 9, loss = 5.86661588\n",
      "Iteration 10, loss = 5.87302372\n",
      "Iteration 11, loss = 5.87108926\n",
      "Iteration 12, loss = 5.86664303\n",
      "Iteration 13, loss = 5.87371304\n",
      "Iteration 14, loss = 5.86935567\n",
      "Iteration 15, loss = 5.87047980\n",
      "Iteration 16, loss = 5.88071589\n",
      "Iteration 17, loss = 5.86971088\n",
      "Iteration 18, loss = 5.87451695\n",
      "Iteration 19, loss = 5.87135169\n",
      "Iteration 20, loss = 5.87022483\n",
      "Training loss did not improve more than tol=0.000100 for 10 consecutive epochs. Stopping.\n",
      "Iteration 1, loss = 6.65386082\n",
      "Iteration 2, loss = 5.88871331\n",
      "Iteration 3, loss = 5.87841569\n",
      "Iteration 4, loss = 5.87097598\n",
      "Iteration 5, loss = 5.86188799\n",
      "Iteration 6, loss = 5.86476661\n",
      "Iteration 7, loss = 5.86000920\n",
      "Iteration 8, loss = 5.86407655\n",
      "Iteration 9, loss = 5.85434847\n",
      "Iteration 10, loss = 5.86735656\n",
      "Iteration 11, loss = 5.86666671\n",
      "Iteration 12, loss = 5.86433070\n",
      "Iteration 13, loss = 5.87314666\n",
      "Iteration 14, loss = 5.86100661\n",
      "Iteration 15, loss = 5.87354208\n",
      "Iteration 16, loss = 5.86798667\n",
      "Iteration 17, loss = 5.86216924\n",
      "Iteration 18, loss = 5.86954901\n",
      "Iteration 19, loss = 5.86616023\n",
      "Iteration 20, loss = 5.85722209\n",
      "Training loss did not improve more than tol=0.000100 for 10 consecutive epochs. Stopping.\n",
      "Iteration 1, loss = 6.67067052\n",
      "Iteration 2, loss = 5.90917065\n",
      "Iteration 3, loss = 5.89900050\n",
      "Iteration 4, loss = 5.89633816\n",
      "Iteration 5, loss = 5.88313801\n",
      "Iteration 6, loss = 5.88549424\n",
      "Iteration 7, loss = 5.88284257\n",
      "Iteration 8, loss = 5.88387628\n",
      "Iteration 9, loss = 5.87345399\n",
      "Iteration 10, loss = 5.88488119\n",
      "Iteration 11, loss = 5.89148580\n",
      "Iteration 12, loss = 5.87901870\n",
      "Iteration 13, loss = 5.88983547\n",
      "Iteration 14, loss = 5.87743032\n",
      "Iteration 15, loss = 5.89012409\n",
      "Iteration 16, loss = 5.88700921\n",
      "Iteration 17, loss = 5.88020466\n",
      "Iteration 18, loss = 5.89080833\n",
      "Iteration 19, loss = 5.87775465\n",
      "Iteration 20, loss = 5.87012535\n",
      "Iteration 21, loss = 5.88628853\n",
      "Iteration 22, loss = 5.87547501\n",
      "Iteration 23, loss = 5.87540135\n",
      "Iteration 24, loss = 5.88294345\n",
      "Iteration 25, loss = 5.87541156\n",
      "Iteration 26, loss = 5.88866816\n",
      "Iteration 27, loss = 5.87666101\n",
      "Iteration 28, loss = 5.87501520\n",
      "Iteration 29, loss = 5.87331059\n",
      "Iteration 30, loss = 5.87010897\n",
      "Iteration 31, loss = 5.86710605\n",
      "Iteration 32, loss = 5.86994947\n",
      "Iteration 33, loss = 5.87188615\n",
      "Iteration 34, loss = 5.86651386\n",
      "Iteration 35, loss = 5.86135526\n",
      "Iteration 36, loss = 5.86543790\n",
      "Iteration 37, loss = 5.86822750\n",
      "Iteration 38, loss = 5.86328946\n",
      "Iteration 39, loss = 5.86128110\n",
      "Iteration 40, loss = 5.85518432\n",
      "Iteration 41, loss = 5.85904808\n",
      "Iteration 42, loss = 5.85235458\n",
      "Iteration 43, loss = 5.86045948\n",
      "Iteration 44, loss = 5.85690018\n",
      "Iteration 45, loss = 5.86109216\n",
      "Iteration 46, loss = 5.85822519\n",
      "Iteration 47, loss = 5.85280549\n",
      "Iteration 48, loss = 5.85276726\n",
      "Iteration 49, loss = 5.84548644\n",
      "Iteration 50, loss = 5.84330637\n",
      "Iteration 51, loss = 5.84329061\n",
      "Iteration 52, loss = 5.84860232\n",
      "Iteration 53, loss = 5.84653433\n",
      "Iteration 54, loss = 5.84752788\n",
      "Iteration 55, loss = 5.84471191\n",
      "Iteration 56, loss = 5.84132581\n",
      "Iteration 57, loss = 5.83773687\n",
      "Iteration 58, loss = 5.83894461\n",
      "Iteration 59, loss = 5.83450834\n",
      "Iteration 60, loss = 5.83153423\n",
      "Iteration 61, loss = 5.83682308\n",
      "Iteration 62, loss = 5.82736370\n",
      "Iteration 63, loss = 5.83037961\n",
      "Iteration 64, loss = 5.83023114\n",
      "Iteration 65, loss = 5.82720876\n",
      "Iteration 66, loss = 5.82905138\n",
      "Iteration 67, loss = 5.82554535\n",
      "Iteration 68, loss = 5.82390072\n",
      "Iteration 69, loss = 5.82401120\n",
      "Iteration 70, loss = 5.82353742\n",
      "Iteration 71, loss = 5.82271418\n",
      "Iteration 72, loss = 5.82240314\n",
      "Iteration 73, loss = 5.82164413\n",
      "Iteration 74, loss = 5.82147713\n",
      "Iteration 75, loss = 5.81984631\n",
      "Iteration 76, loss = 5.82032848\n",
      "Iteration 77, loss = 5.82071315\n",
      "Iteration 78, loss = 5.81917285\n",
      "Iteration 79, loss = 5.82133550\n",
      "Iteration 80, loss = 5.81979496\n",
      "Iteration 81, loss = 5.81787776\n",
      "Iteration 82, loss = 5.81766545\n",
      "Iteration 83, loss = 5.81859881\n",
      "Iteration 84, loss = 5.81756596\n",
      "Iteration 85, loss = 5.81902808\n",
      "Iteration 86, loss = 5.81841462\n",
      "Iteration 87, loss = 5.81878831\n",
      "Iteration 88, loss = 5.81731290\n",
      "Iteration 89, loss = 5.81821651\n",
      "Iteration 90, loss = 5.81779954\n",
      "Iteration 91, loss = 5.81696726\n",
      "Iteration 92, loss = 5.81717482\n",
      "Iteration 93, loss = 5.81807326\n",
      "Iteration 94, loss = 5.81742826\n",
      "Iteration 95, loss = 5.81795392\n",
      "Iteration 96, loss = 5.81718349\n",
      "Iteration 97, loss = 5.81924936\n",
      "Iteration 98, loss = 5.81713521\n",
      "Iteration 99, loss = 5.81739425\n",
      "Iteration 100, loss = 5.81785818\n",
      "Iteration 101, loss = 5.81705485\n",
      "Iteration 102, loss = 5.81688594\n",
      "Training loss did not improve more than tol=0.000100 for 10 consecutive epochs. Stopping.\n",
      "0.021499884169129818\n"
     ]
    }
   ],
   "source": [
    "from sklearn.neural_network import MLPClassifier\n",
    "from sklearn.model_selection import cross_val_score\n",
    "my_ANN = MLPClassifier(hidden_layer_sizes=(50),random_state=1, learning_rate_init = 0.02, solver='adam', alpha=1, verbose=True, activation='logistic')\n",
    "accuracy_list = cross_val_score(my_ANN, X_test_vec, y_test, cv=10, scoring='accuracy')\n",
    "# use average of accuracy values as final result\n",
    "accuracy_cv = accuracy_list.mean()\n",
    "print(accuracy_cv)"
   ]
  },
  {
   "cell_type": "markdown",
   "metadata": {},
   "source": [
    "### Grid Search"
   ]
  },
  {
   "cell_type": "code",
   "execution_count": 26,
   "metadata": {},
   "outputs": [],
   "source": [
    "# # Grid Search\n",
    "# seed = 2\n",
    "# np.random.seed(seed)\n",
    "# from sklearn.model_selection import GridSearchCV\n",
    "\n",
    "# # define a range for the \"number of neurons\" in the hidden layer for a network with 1 hidden layer:\n",
    "# neuron_number = [{100,200}]\n",
    "\n",
    "# # create a dictionary for grid parameter:\n",
    "# param_grid = dict(hidden_layer_sizes = neuron_number)\n",
    "# print(param_grid,'\\n')\n",
    "\n",
    "# # instantiate the model:\n",
    "# my_ANN = MLPClassifier(activation= 'logistic', \n",
    "#                        solver='adam', alpha=1, random_state=1, \n",
    "#                        learning_rate_init = 0.02, verbose=True,tol=0.0001)\n",
    "\n",
    "# # creat the grid, and define the metric for evaluating the model: \n",
    "# grid = GridSearchCV(my_ANN, param_grid, cv=10, scoring='accuracy')\n",
    "\n",
    "# enabled = True\n",
    "# if enabled:\n",
    "#     # fit the grid (start the grid search):\n",
    "#     grid.fit(X_train_vec, y_train)\n",
    "\n",
    "#     # view the results:\n",
    "#     #print(grid.cv_results_)\n",
    "\n",
    "#     # view the best results corresponding to the best structure of ANN:\n",
    "#     print(grid.best_score_)\n",
    "#     print(grid.best_params_)"
   ]
  },
  {
   "cell_type": "markdown",
   "metadata": {},
   "source": [
    "# Kevin"
   ]
  },
  {
   "cell_type": "code",
   "execution_count": 27,
   "metadata": {},
   "outputs": [],
   "source": [
    "import json\n",
    "import nltk\n",
    "import re\n",
    "import csv\n",
    "import matplotlib.pyplot as plt \n",
    "import seaborn as sns\n",
    "from tqdm import tqdm\n",
    "\n",
    "%matplotlib inline\n",
    "pd.set_option('display.max_colwidth', 300)"
   ]
  },
  {
   "cell_type": "code",
   "execution_count": 28,
   "metadata": {},
   "outputs": [],
   "source": [
    "\n",
    "# function for text cleaning \n",
    "def clean_text(text):\n",
    "    # remove backslash-apostrophe \n",
    "    text = re.sub(\"\\'\", \"\", text) \n",
    "    # remove everything except alphabets \n",
    "    text = re.sub(\"[^a-zA-Z]\",\" \",text) \n",
    "    # remove whitespaces \n",
    "    text = ' '.join(text.split()) \n",
    "    # convert text to lowercase \n",
    "    text = text.lower() \n",
    "    \n",
    "    return text"
   ]
  },
  {
   "cell_type": "code",
   "execution_count": 29,
   "metadata": {},
   "outputs": [
    {
     "output_type": "stream",
     "name": "stderr",
     "text": [
      "<ipython-input-29-52f8396c51f3>:3: SettingWithCopyWarning: \nA value is trying to be set on a copy of a slice from a DataFrame.\nTry using .loc[row_indexer,col_indexer] = value instead\n\nSee the caveats in the documentation: https://pandas.pydata.org/pandas-docs/stable/user_guide/indexing.html#returning-a-view-versus-a-copy\n  filtered_dataframe['overview'] =  filtered_dataframe['overview'].apply(lambda x: clean_text(x))\n"
     ]
    }
   ],
   "source": [
    "# movies_new['clean_plot'] = movies_new['plot'].apply(lambda x: clean_text(x))\n",
    "# features = filtered_dataframe['overview']\n",
    "filtered_dataframe['overview'] =  filtered_dataframe['overview'].apply(lambda x: clean_text(x))"
   ]
  },
  {
   "cell_type": "code",
   "execution_count": 30,
   "metadata": {},
   "outputs": [
    {
     "output_type": "display_data",
     "data": {
      "text/plain": "<Figure size 864x1080 with 1 Axes>",
      "image/svg+xml": "<?xml version=\"1.0\" encoding=\"utf-8\" standalone=\"no\"?>\r\n<!DOCTYPE svg PUBLIC \"-//W3C//DTD SVG 1.1//EN\"\r\n  \"http://www.w3.org/Graphics/SVG/1.1/DTD/svg11.dtd\">\r\n<!-- Created with matplotlib (https://matplotlib.org/) -->\r\n<svg height=\"860.15625pt\" version=\"1.1\" viewBox=\"0 0 749.9 860.15625\" width=\"749.9pt\" xmlns=\"http://www.w3.org/2000/svg\" xmlns:xlink=\"http://www.w3.org/1999/xlink\">\r\n <metadata>\r\n  <rdf:RDF xmlns:cc=\"http://creativecommons.org/ns#\" xmlns:dc=\"http://purl.org/dc/elements/1.1/\" xmlns:rdf=\"http://www.w3.org/1999/02/22-rdf-syntax-ns#\">\r\n   <cc:Work>\r\n    <dc:type rdf:resource=\"http://purl.org/dc/dcmitype/StillImage\"/>\r\n    <dc:date>2021-04-26T14:58:25.003204</dc:date>\r\n    <dc:format>image/svg+xml</dc:format>\r\n    <dc:creator>\r\n     <cc:Agent>\r\n      <dc:title>Matplotlib v3.3.2, https://matplotlib.org/</dc:title>\r\n     </cc:Agent>\r\n    </dc:creator>\r\n   </cc:Work>\r\n  </rdf:RDF>\r\n </metadata>\r\n <defs>\r\n  <style type=\"text/css\">*{stroke-linecap:butt;stroke-linejoin:round;}</style>\r\n </defs>\r\n <g id=\"figure_1\">\r\n  <g id=\"patch_1\">\r\n   <path d=\"M 0 860.15625 \r\nL 749.9 860.15625 \r\nL 749.9 0 \r\nL 0 0 \r\nz\r\n\" style=\"fill:none;\"/>\r\n  </g>\r\n  <g id=\"axes_1\">\r\n   <g id=\"patch_2\">\r\n    <path d=\"M 73.1 822.6 \r\nL 742.7 822.6 \r\nL 742.7 7.2 \r\nL 73.1 7.2 \r\nz\r\n\" style=\"fill:#ffffff;\"/>\r\n   </g>\r\n   <g id=\"patch_3\">\r\n    <path clip-path=\"url(#p152f6f648e)\" d=\"M 73.1 8.0154 \r\nL 710.814286 8.0154 \r\nL 710.814286 14.5386 \r\nL 73.1 14.5386 \r\nz\r\n\" style=\"fill:#ea96a3;\"/>\r\n   </g>\r\n   <g id=\"patch_4\">\r\n    <path clip-path=\"url(#p152f6f648e)\" d=\"M 73.1 16.1694 \r\nL 532.485268 16.1694 \r\nL 532.485268 22.6926 \r\nL 73.1 22.6926 \r\nz\r\n\" style=\"fill:#ea969f;\"/>\r\n   </g>\r\n   <g id=\"patch_5\">\r\n    <path clip-path=\"url(#p152f6f648e)\" d=\"M 73.1 24.3234 \r\nL 421.277702 24.3234 \r\nL 421.277702 30.8466 \r\nL 73.1 30.8466 \r\nz\r\n\" style=\"fill:#ea9799;\"/>\r\n   </g>\r\n   <g id=\"patch_6\">\r\n    <path clip-path=\"url(#p152f6f648e)\" d=\"M 73.1 32.4774 \r\nL 413.939696 32.4774 \r\nL 413.939696 39.0006 \r\nL 73.1 39.0006 \r\nz\r\n\" style=\"fill:#e99793;\"/>\r\n   </g>\r\n   <g id=\"patch_7\">\r\n    <path clip-path=\"url(#p152f6f648e)\" d=\"M 73.1 40.6314 \r\nL 393.61013 40.6314 \r\nL 393.61013 47.1546 \r\nL 73.1 47.1546 \r\nz\r\n\" style=\"fill:#e8968c;\"/>\r\n   </g>\r\n   <g id=\"patch_8\">\r\n    <path clip-path=\"url(#p152f6f648e)\" d=\"M 73.1 48.7854 \r\nL 297.03017 48.7854 \r\nL 297.03017 55.3086 \r\nL 73.1 55.3086 \r\nz\r\n\" style=\"fill:#e79683;\"/>\r\n   </g>\r\n   <g id=\"patch_9\">\r\n    <path clip-path=\"url(#p152f6f648e)\" d=\"M 73.1 56.9394 \r\nL 241.254554 56.9394 \r\nL 241.254554 63.4626 \r\nL 73.1 63.4626 \r\nz\r\n\" style=\"fill:#e69579;\"/>\r\n   </g>\r\n   <g id=\"patch_10\">\r\n    <path clip-path=\"url(#p152f6f648e)\" d=\"M 73.1 65.0934 \r\nL 240.847962 65.0934 \r\nL 240.847962 71.6166 \r\nL 73.1 71.6166 \r\nz\r\n\" style=\"fill:#e4946c;\"/>\r\n   </g>\r\n   <g id=\"patch_11\">\r\n    <path clip-path=\"url(#p152f6f648e)\" d=\"M 73.1 73.2474 \r\nL 183.465342 73.2474 \r\nL 183.465342 79.7706 \r\nL 73.1 79.7706 \r\nz\r\n\" style=\"fill:#e2925a;\"/>\r\n   </g>\r\n   <g id=\"patch_12\">\r\n    <path clip-path=\"url(#p152f6f648e)\" d=\"M 73.1 81.4014 \r\nL 172.729395 81.4014 \r\nL 172.729395 87.9246 \r\nL 73.1 87.9246 \r\nz\r\n\" style=\"fill:#dd924f;\"/>\r\n   </g>\r\n   <g id=\"patch_13\">\r\n    <path clip-path=\"url(#p152f6f648e)\" d=\"M 73.1 89.5554 \r\nL 168.619918 89.5554 \r\nL 168.619918 96.0786 \r\nL 73.1 96.0786 \r\nz\r\n\" style=\"fill:#d7944e;\"/>\r\n   </g>\r\n   <g id=\"patch_14\">\r\n    <path clip-path=\"url(#p152f6f648e)\" d=\"M 73.1 97.7094 \r\nL 158.290563 97.7094 \r\nL 158.290563 104.2326 \r\nL 73.1 104.2326 \r\nz\r\n\" style=\"fill:#d2964d;\"/>\r\n   </g>\r\n   <g id=\"patch_15\">\r\n    <path clip-path=\"url(#p152f6f648e)\" d=\"M 73.1 105.8634 \r\nL 154.602198 105.8634 \r\nL 154.602198 112.3866 \r\nL 73.1 112.3866 \r\nz\r\n\" style=\"fill:#cd974c;\"/>\r\n   </g>\r\n   <g id=\"patch_16\">\r\n    <path clip-path=\"url(#p152f6f648e)\" d=\"M 73.1 114.0174 \r\nL 150.875111 114.0174 \r\nL 150.875111 120.5406 \r\nL 73.1 120.5406 \r\nz\r\n\" style=\"fill:#c8984b;\"/>\r\n   </g>\r\n   <g id=\"patch_17\">\r\n    <path clip-path=\"url(#p152f6f648e)\" d=\"M 73.1 122.1714 \r\nL 145.894368 122.1714 \r\nL 145.894368 128.6946 \r\nL 73.1 128.6946 \r\nz\r\n\" style=\"fill:#c4994b;\"/>\r\n   </g>\r\n   <g id=\"patch_18\">\r\n    <path clip-path=\"url(#p152f6f648e)\" d=\"M 73.1 130.3254 \r\nL 144.350289 130.3254 \r\nL 144.350289 136.8486 \r\nL 73.1 136.8486 \r\nz\r\n\" style=\"fill:#bf9a4a;\"/>\r\n   </g>\r\n   <g id=\"patch_19\">\r\n    <path clip-path=\"url(#p152f6f648e)\" d=\"M 73.1 138.4794 \r\nL 141.1266 138.4794 \r\nL 141.1266 145.0026 \r\nL 73.1 145.0026 \r\nz\r\n\" style=\"fill:#bb9b49;\"/>\r\n   </g>\r\n   <g id=\"patch_20\">\r\n    <path clip-path=\"url(#p152f6f648e)\" d=\"M 73.1 146.6334 \r\nL 139.863263 146.6334 \r\nL 139.863263 153.1566 \r\nL 73.1 153.1566 \r\nz\r\n\" style=\"fill:#b79c49;\"/>\r\n   </g>\r\n   <g id=\"patch_21\">\r\n    <path clip-path=\"url(#p152f6f648e)\" d=\"M 73.1 154.7874 \r\nL 133.812797 154.7874 \r\nL 133.812797 161.3106 \r\nL 73.1 161.3106 \r\nz\r\n\" style=\"fill:#b39d48;\"/>\r\n   </g>\r\n   <g id=\"patch_22\">\r\n    <path clip-path=\"url(#p152f6f648e)\" d=\"M 73.1 162.9414 \r\nL 130.73432 162.9414 \r\nL 130.73432 169.4646 \r\nL 73.1 169.4646 \r\nz\r\n\" style=\"fill:#af9d48;\"/>\r\n   </g>\r\n   <g id=\"patch_23\">\r\n    <path clip-path=\"url(#p152f6f648e)\" d=\"M 73.1 171.0954 \r\nL 124.528962 171.0954 \r\nL 124.528962 177.6186 \r\nL 73.1 177.6186 \r\nz\r\n\" style=\"fill:#ab9e47;\"/>\r\n   </g>\r\n   <g id=\"patch_24\">\r\n    <path clip-path=\"url(#p152f6f648e)\" d=\"M 73.1 179.2494 \r\nL 123.527005 179.2494 \r\nL 123.527005 185.7726 \r\nL 73.1 185.7726 \r\nz\r\n\" style=\"fill:#a79e47;\"/>\r\n   </g>\r\n   <g id=\"patch_25\">\r\n    <path clip-path=\"url(#p152f6f648e)\" d=\"M 73.1 187.4034 \r\nL 120.390443 187.4034 \r\nL 120.390443 193.9266 \r\nL 73.1 193.9266 \r\nz\r\n\" style=\"fill:#a39f46;\"/>\r\n   </g>\r\n   <g id=\"patch_26\">\r\n    <path clip-path=\"url(#p152f6f648e)\" d=\"M 73.1 195.5574 \r\nL 118.27036 195.5574 \r\nL 118.27036 202.0806 \r\nL 73.1 202.0806 \r\nz\r\n\" style=\"fill:#9fa045;\"/>\r\n   </g>\r\n   <g id=\"patch_27\">\r\n    <path clip-path=\"url(#p152f6f648e)\" d=\"M 73.1 203.7114 \r\nL 117.084468 203.7114 \r\nL 117.084468 210.2346 \r\nL 73.1 210.2346 \r\nz\r\n\" style=\"fill:#9ca146;\"/>\r\n   </g>\r\n   <g id=\"patch_28\">\r\n    <path clip-path=\"url(#p152f6f648e)\" d=\"M 73.1 211.8654 \r\nL 114.751409 211.8654 \r\nL 114.751409 218.3886 \r\nL 73.1 218.3886 \r\nz\r\n\" style=\"fill:#98a246;\"/>\r\n   </g>\r\n   <g id=\"patch_29\">\r\n    <path clip-path=\"url(#p152f6f648e)\" d=\"M 73.1 220.0194 \r\nL 113.594559 220.0194 \r\nL 113.594559 226.5426 \r\nL 73.1 226.5426 \r\nz\r\n\" style=\"fill:#94a346;\"/>\r\n   </g>\r\n   <g id=\"patch_30\">\r\n    <path clip-path=\"url(#p152f6f648e)\" d=\"M 73.1 228.1734 \r\nL 111.643889 228.1734 \r\nL 111.643889 234.6966 \r\nL 73.1 234.6966 \r\nz\r\n\" style=\"fill:#8fa546;\"/>\r\n   </g>\r\n   <g id=\"patch_31\">\r\n    <path clip-path=\"url(#p152f6f648e)\" d=\"M 73.1 236.3274 \r\nL 108.967163 236.3274 \r\nL 108.967163 242.8506 \r\nL 73.1 242.8506 \r\nz\r\n\" style=\"fill:#8ba646;\"/>\r\n   </g>\r\n   <g id=\"patch_32\">\r\n    <path clip-path=\"url(#p152f6f648e)\" d=\"M 73.1 244.4814 \r\nL 107.669943 244.4814 \r\nL 107.669943 251.0046 \r\nL 73.1 251.0046 \r\nz\r\n\" style=\"fill:#85a746;\"/>\r\n   </g>\r\n   <g id=\"patch_33\">\r\n    <path clip-path=\"url(#p152f6f648e)\" d=\"M 73.1 252.6354 \r\nL 107.355319 252.6354 \r\nL 107.355319 259.1586 \r\nL 73.1 259.1586 \r\nz\r\n\" style=\"fill:#7fa946;\"/>\r\n   </g>\r\n   <g id=\"patch_34\">\r\n    <path clip-path=\"url(#p152f6f648e)\" d=\"M 73.1 260.7894 \r\nL 106.382404 260.7894 \r\nL 106.382404 267.3126 \r\nL 73.1 267.3126 \r\nz\r\n\" style=\"fill:#78aa47;\"/>\r\n   </g>\r\n   <g id=\"patch_35\">\r\n    <path clip-path=\"url(#p152f6f648e)\" d=\"M 73.1 268.9434 \r\nL 104.044504 268.9434 \r\nL 104.044504 275.4666 \r\nL 73.1 275.4666 \r\nz\r\n\" style=\"fill:#6fac47;\"/>\r\n   </g>\r\n   <g id=\"patch_36\">\r\n    <path clip-path=\"url(#p152f6f648e)\" d=\"M 73.1 277.0974 \r\nL 103.245842 277.0974 \r\nL 103.245842 283.6206 \r\nL 73.1 283.6206 \r\nz\r\n\" style=\"fill:#64ae47;\"/>\r\n   </g>\r\n   <g id=\"patch_37\">\r\n    <path clip-path=\"url(#p152f6f648e)\" d=\"M 73.1 285.2514 \r\nL 103.057068 285.2514 \r\nL 103.057068 291.7746 \r\nL 73.1 291.7746 \r\nz\r\n\" style=\"fill:#55b047;\"/>\r\n   </g>\r\n   <g id=\"patch_38\">\r\n    <path clip-path=\"url(#p152f6f648e)\" d=\"M 73.1 293.4054 \r\nL 102.965101 293.4054 \r\nL 102.965101 299.9286 \r\nL 73.1 299.9286 \r\nz\r\n\" style=\"fill:#48b052;\"/>\r\n   </g>\r\n   <g id=\"patch_39\">\r\n    <path clip-path=\"url(#p152f6f648e)\" d=\"M 73.1 301.5594 \r\nL 102.001866 301.5594 \r\nL 102.001866 308.0826 \r\nL 73.1 308.0826 \r\nz\r\n\" style=\"fill:#48b062;\"/>\r\n   </g>\r\n   <g id=\"patch_40\">\r\n    <path clip-path=\"url(#p152f6f648e)\" d=\"M 73.1 309.7134 \r\nL 99.891464 309.7134 \r\nL 99.891464 316.2366 \r\nL 73.1 316.2366 \r\nz\r\n\" style=\"fill:#48af6e;\"/>\r\n   </g>\r\n   <g id=\"patch_41\">\r\n    <path clip-path=\"url(#p152f6f648e)\" d=\"M 73.1 317.8674 \r\nL 99.460671 317.8674 \r\nL 99.460671 324.3906 \r\nL 73.1 324.3906 \r\nz\r\n\" style=\"fill:#49af76;\"/>\r\n   </g>\r\n   <g id=\"patch_42\">\r\n    <path clip-path=\"url(#p152f6f648e)\" d=\"M 73.1 326.0214 \r\nL 99.363863 326.0214 \r\nL 99.363863 332.5446 \r\nL 73.1 332.5446 \r\nz\r\n\" style=\"fill:#49ae7d;\"/>\r\n   </g>\r\n   <g id=\"patch_43\">\r\n    <path clip-path=\"url(#p152f6f648e)\" d=\"M 73.1 334.1754 \r\nL 98.778178 334.1754 \r\nL 98.778178 340.6986 \r\nL 73.1 340.6986 \r\nz\r\n\" style=\"fill:#49ae83;\"/>\r\n   </g>\r\n   <g id=\"patch_44\">\r\n    <path clip-path=\"url(#p152f6f648e)\" d=\"M 73.1 342.3294 \r\nL 97.810104 342.3294 \r\nL 97.810104 348.8526 \r\nL 73.1 348.8526 \r\nz\r\n\" style=\"fill:#49ae87;\"/>\r\n   </g>\r\n   <g id=\"patch_45\">\r\n    <path clip-path=\"url(#p152f6f648e)\" d=\"M 73.1 350.4834 \r\nL 97.408353 350.4834 \r\nL 97.408353 357.0066 \r\nL 73.1 357.0066 \r\nz\r\n\" style=\"fill:#4aad8c;\"/>\r\n   </g>\r\n   <g id=\"patch_46\">\r\n    <path clip-path=\"url(#p152f6f648e)\" d=\"M 73.1 358.6374 \r\nL 96.682297 358.6374 \r\nL 96.682297 365.1606 \r\nL 73.1 365.1606 \r\nz\r\n\" style=\"fill:#4aad90;\"/>\r\n   </g>\r\n   <g id=\"patch_47\">\r\n    <path clip-path=\"url(#p152f6f648e)\" d=\"M 73.1 366.7914 \r\nL 96.629053 366.7914 \r\nL 96.629053 373.3146 \r\nL 73.1 373.3146 \r\nz\r\n\" style=\"fill:#4aad93;\"/>\r\n   </g>\r\n   <g id=\"patch_48\">\r\n    <path clip-path=\"url(#p152f6f648e)\" d=\"M 73.1 374.9454 \r\nL 96.038527 374.9454 \r\nL 96.038527 381.4686 \r\nL 73.1 381.4686 \r\nz\r\n\" style=\"fill:#4aad96;\"/>\r\n   </g>\r\n   <g id=\"patch_49\">\r\n    <path clip-path=\"url(#p152f6f648e)\" d=\"M 73.1 383.0994 \r\nL 94.058815 383.0994 \r\nL 94.058815 389.6226 \r\nL 73.1 389.6226 \r\nz\r\n\" style=\"fill:#4aac99;\"/>\r\n   </g>\r\n   <g id=\"patch_50\">\r\n    <path clip-path=\"url(#p152f6f648e)\" d=\"M 73.1 391.2534 \r\nL 93.981369 391.2534 \r\nL 93.981369 397.7766 \r\nL 73.1 397.7766 \r\nz\r\n\" style=\"fill:#4aac9c;\"/>\r\n   </g>\r\n   <g id=\"patch_51\">\r\n    <path clip-path=\"url(#p152f6f648e)\" d=\"M 73.1 399.4074 \r\nL 93.976528 399.4074 \r\nL 93.976528 405.9306 \r\nL 73.1 405.9306 \r\nz\r\n\" style=\"fill:#4bac9f;\"/>\r\n   </g>\r\n   <g id=\"patch_52\">\r\n    <path clip-path=\"url(#p152f6f648e)\" d=\"M 73.1 407.5614 \r\nL 93.811956 407.5614 \r\nL 93.811956 414.0846 \r\nL 73.1 414.0846 \r\nz\r\n\" style=\"fill:#4baba2;\"/>\r\n   </g>\r\n   <g id=\"patch_53\">\r\n    <path clip-path=\"url(#p152f6f648e)\" d=\"M 73.1 415.7154 \r\nL 93.778073 415.7154 \r\nL 93.778073 422.2386 \r\nL 73.1 422.2386 \r\nz\r\n\" style=\"fill:#4baba4;\"/>\r\n   </g>\r\n   <g id=\"patch_54\">\r\n    <path clip-path=\"url(#p152f6f648e)\" d=\"M 73.1 423.8694 \r\nL 92.253355 423.8694 \r\nL 92.253355 430.3926 \r\nL 73.1 430.3926 \r\nz\r\n\" style=\"fill:#4baba7;\"/>\r\n   </g>\r\n   <g id=\"patch_55\">\r\n    <path clip-path=\"url(#p152f6f648e)\" d=\"M 73.1 432.0234 \r\nL 91.914529 432.0234 \r\nL 91.914529 438.5466 \r\nL 73.1 438.5466 \r\nz\r\n\" style=\"fill:#4baba9;\"/>\r\n   </g>\r\n   <g id=\"patch_56\">\r\n    <path clip-path=\"url(#p152f6f648e)\" d=\"M 73.1 440.1774 \r\nL 91.072304 440.1774 \r\nL 91.072304 446.7006 \r\nL 73.1 446.7006 \r\nz\r\n\" style=\"fill:#4cabac;\"/>\r\n   </g>\r\n   <g id=\"patch_57\">\r\n    <path clip-path=\"url(#p152f6f648e)\" d=\"M 73.1 448.3314 \r\nL 90.273643 448.3314 \r\nL 90.273643 454.8546 \r\nL 73.1 454.8546 \r\nz\r\n\" style=\"fill:#4cabaf;\"/>\r\n   </g>\r\n   <g id=\"patch_58\">\r\n    <path clip-path=\"url(#p152f6f648e)\" d=\"M 73.1 456.4854 \r\nL 89.741202 456.4854 \r\nL 89.741202 463.0086 \r\nL 73.1 463.0086 \r\nz\r\n\" style=\"fill:#4dabb2;\"/>\r\n   </g>\r\n   <g id=\"patch_59\">\r\n    <path clip-path=\"url(#p152f6f648e)\" d=\"M 73.1 464.6394 \r\nL 89.741202 464.6394 \r\nL 89.741202 471.1626 \r\nL 73.1 471.1626 \r\nz\r\n\" style=\"fill:#4eabb5;\"/>\r\n   </g>\r\n   <g id=\"patch_60\">\r\n    <path clip-path=\"url(#p152f6f648e)\" d=\"M 73.1 472.7934 \r\nL 89.562108 472.7934 \r\nL 89.562108 479.3166 \r\nL 73.1 479.3166 \r\nz\r\n\" style=\"fill:#4eabb8;\"/>\r\n   </g>\r\n   <g id=\"patch_61\">\r\n    <path clip-path=\"url(#p152f6f648e)\" d=\"M 73.1 480.9474 \r\nL 89.160357 480.9474 \r\nL 89.160357 487.4706 \r\nL 73.1 487.4706 \r\nz\r\n\" style=\"fill:#4fabbb;\"/>\r\n   </g>\r\n   <g id=\"patch_62\">\r\n    <path clip-path=\"url(#p152f6f648e)\" d=\"M 73.1 489.1014 \r\nL 88.860254 489.1014 \r\nL 88.860254 495.6246 \r\nL 73.1 495.6246 \r\nz\r\n\" style=\"fill:#50acbf;\"/>\r\n   </g>\r\n   <g id=\"patch_63\">\r\n    <path clip-path=\"url(#p152f6f648e)\" d=\"M 73.1 497.2554 \r\nL 88.821531 497.2554 \r\nL 88.821531 503.7786 \r\nL 73.1 503.7786 \r\nz\r\n\" style=\"fill:#50acc3;\"/>\r\n   </g>\r\n   <g id=\"patch_64\">\r\n    <path clip-path=\"url(#p152f6f648e)\" d=\"M 73.1 505.4094 \r\nL 87.979306 505.4094 \r\nL 87.979306 511.9326 \r\nL 73.1 511.9326 \r\nz\r\n\" style=\"fill:#51acc7;\"/>\r\n   </g>\r\n   <g id=\"patch_65\">\r\n    <path clip-path=\"url(#p152f6f648e)\" d=\"M 73.1 513.5634 \r\nL 87.708245 513.5634 \r\nL 87.708245 520.0866 \r\nL 73.1 520.0866 \r\nz\r\n\" style=\"fill:#52accb;\"/>\r\n   </g>\r\n   <g id=\"patch_66\">\r\n    <path clip-path=\"url(#p152f6f648e)\" d=\"M 73.1 521.7174 \r\nL 87.611438 521.7174 \r\nL 87.611438 528.2406 \r\nL 73.1 528.2406 \r\nz\r\n\" style=\"fill:#53acd0;\"/>\r\n   </g>\r\n   <g id=\"patch_67\">\r\n    <path clip-path=\"url(#p152f6f648e)\" d=\"M 73.1 529.8714 \r\nL 87.112879 529.8714 \r\nL 87.112879 536.3946 \r\nL 73.1 536.3946 \r\nz\r\n\" style=\"fill:#55acd5;\"/>\r\n   </g>\r\n   <g id=\"patch_68\">\r\n    <path clip-path=\"url(#p152f6f648e)\" d=\"M 73.1 538.0254 \r\nL 86.928945 538.0254 \r\nL 86.928945 544.5486 \r\nL 73.1 544.5486 \r\nz\r\n\" style=\"fill:#56addb;\"/>\r\n   </g>\r\n   <g id=\"patch_69\">\r\n    <path clip-path=\"url(#p152f6f648e)\" d=\"M 73.1 546.1794 \r\nL 86.319058 546.1794 \r\nL 86.319058 552.7026 \r\nL 73.1 552.7026 \r\nz\r\n\" style=\"fill:#60ade1;\"/>\r\n   </g>\r\n   <g id=\"patch_70\">\r\n    <path clip-path=\"url(#p152f6f648e)\" d=\"M 73.1 554.3334 \r\nL 86.265814 554.3334 \r\nL 86.265814 560.8566 \r\nL 73.1 560.8566 \r\nz\r\n\" style=\"fill:#72aee3;\"/>\r\n   </g>\r\n   <g id=\"patch_71\">\r\n    <path clip-path=\"url(#p152f6f648e)\" d=\"M 73.1 562.4874 \r\nL 86.106082 562.4874 \r\nL 86.106082 569.0106 \r\nL 73.1 569.0106 \r\nz\r\n\" style=\"fill:#7faee5;\"/>\r\n   </g>\r\n   <g id=\"patch_72\">\r\n    <path clip-path=\"url(#p152f6f648e)\" d=\"M 73.1 570.6414 \r\nL 86.101242 570.6414 \r\nL 86.101242 577.1646 \r\nL 73.1 577.1646 \r\nz\r\n\" style=\"fill:#8baee7;\"/>\r\n   </g>\r\n   <g id=\"patch_73\">\r\n    <path clip-path=\"url(#p152f6f648e)\" d=\"M 73.1 578.7954 \r\nL 86.091561 578.7954 \r\nL 86.091561 585.3186 \r\nL 73.1 585.3186 \r\nz\r\n\" style=\"fill:#94aee8;\"/>\r\n   </g>\r\n   <g id=\"patch_74\">\r\n    <path clip-path=\"url(#p152f6f648e)\" d=\"M 73.1 586.9494 \r\nL 85.95119 586.9494 \r\nL 85.95119 593.4726 \r\nL 73.1 593.4726 \r\nz\r\n\" style=\"fill:#9cade9;\"/>\r\n   </g>\r\n   <g id=\"patch_75\">\r\n    <path clip-path=\"url(#p152f6f648e)\" d=\"M 73.1 595.1034 \r\nL 85.786617 595.1034 \r\nL 85.786617 601.6266 \r\nL 73.1 601.6266 \r\nz\r\n\" style=\"fill:#a4acea;\"/>\r\n   </g>\r\n   <g id=\"patch_76\">\r\n    <path clip-path=\"url(#p152f6f648e)\" d=\"M 73.1 603.2574 \r\nL 85.747894 603.2574 \r\nL 85.747894 609.7806 \r\nL 73.1 609.7806 \r\nz\r\n\" style=\"fill:#abaceb;\"/>\r\n   </g>\r\n   <g id=\"patch_77\">\r\n    <path clip-path=\"url(#p152f6f648e)\" d=\"M 73.1 611.4114 \r\nL 85.481674 611.4114 \r\nL 85.481674 617.9346 \r\nL 73.1 617.9346 \r\nz\r\n\" style=\"fill:#b1aaeb;\"/>\r\n   </g>\r\n   <g id=\"patch_78\">\r\n    <path clip-path=\"url(#p152f6f648e)\" d=\"M 73.1 619.5654 \r\nL 85.471993 619.5654 \r\nL 85.471993 626.0886 \r\nL 73.1 626.0886 \r\nz\r\n\" style=\"fill:#b6a8eb;\"/>\r\n   </g>\r\n   <g id=\"patch_79\">\r\n    <path clip-path=\"url(#p152f6f648e)\" d=\"M 73.1 627.7194 \r\nL 85.43327 627.7194 \r\nL 85.43327 634.2426 \r\nL 73.1 634.2426 \r\nz\r\n\" style=\"fill:#bba5ea;\"/>\r\n   </g>\r\n   <g id=\"patch_80\">\r\n    <path clip-path=\"url(#p152f6f648e)\" d=\"M 73.1 635.8734 \r\nL 85.375186 635.8734 \r\nL 85.375186 642.3966 \r\nL 73.1 642.3966 \r\nz\r\n\" style=\"fill:#c0a3ea;\"/>\r\n   </g>\r\n   <g id=\"patch_81\">\r\n    <path clip-path=\"url(#p152f6f648e)\" d=\"M 73.1 644.0274 \r\nL 85.321942 644.0274 \r\nL 85.321942 650.5506 \r\nL 73.1 650.5506 \r\nz\r\n\" style=\"fill:#c5a1ea;\"/>\r\n   </g>\r\n   <g id=\"patch_82\">\r\n    <path clip-path=\"url(#p152f6f648e)\" d=\"M 73.1 652.1814 \r\nL 85.288059 652.1814 \r\nL 85.288059 658.7046 \r\nL 73.1 658.7046 \r\nz\r\n\" style=\"fill:#c99ee9;\"/>\r\n   </g>\r\n   <g id=\"patch_83\">\r\n    <path clip-path=\"url(#p152f6f648e)\" d=\"M 73.1 660.3354 \r\nL 85.268697 660.3354 \r\nL 85.268697 666.8586 \r\nL 73.1 666.8586 \r\nz\r\n\" style=\"fill:#ce9be9;\"/>\r\n   </g>\r\n   <g id=\"patch_84\">\r\n    <path clip-path=\"url(#p152f6f648e)\" d=\"M 73.1 668.4894 \r\nL 85.215453 668.4894 \r\nL 85.215453 675.0126 \r\nL 73.1 675.0126 \r\nz\r\n\" style=\"fill:#d398e8;\"/>\r\n   </g>\r\n   <g id=\"patch_85\">\r\n    <path clip-path=\"url(#p152f6f648e)\" d=\"M 73.1 676.6434 \r\nL 85.108965 676.6434 \r\nL 85.108965 683.1666 \r\nL 73.1 683.1666 \r\nz\r\n\" style=\"fill:#d894e8;\"/>\r\n   </g>\r\n   <g id=\"patch_86\">\r\n    <path clip-path=\"url(#p152f6f648e)\" d=\"M 73.1 684.7974 \r\nL 84.871787 684.7974 \r\nL 84.871787 691.3206 \r\nL 73.1 691.3206 \r\nz\r\n\" style=\"fill:#dd91e7;\"/>\r\n   </g>\r\n   <g id=\"patch_87\">\r\n    <path clip-path=\"url(#p152f6f648e)\" d=\"M 73.1 692.9514 \r\nL 84.745937 692.9514 \r\nL 84.745937 699.4746 \r\nL 73.1 699.4746 \r\nz\r\n\" style=\"fill:#e28ce7;\"/>\r\n   </g>\r\n   <g id=\"patch_88\">\r\n    <path clip-path=\"url(#p152f6f648e)\" d=\"M 73.1 701.1054 \r\nL 84.595886 701.1054 \r\nL 84.595886 707.6286 \r\nL 73.1 707.6286 \r\nz\r\n\" style=\"fill:#e689e4;\"/>\r\n   </g>\r\n   <g id=\"patch_89\">\r\n    <path clip-path=\"url(#p152f6f648e)\" d=\"M 73.1 709.2594 \r\nL 84.382909 709.2594 \r\nL 84.382909 715.7826 \r\nL 73.1 715.7826 \r\nz\r\n\" style=\"fill:#e78adf;\"/>\r\n   </g>\r\n   <g id=\"patch_90\">\r\n    <path clip-path=\"url(#p152f6f648e)\" d=\"M 73.1 717.4134 \r\nL 84.334505 717.4134 \r\nL 84.334505 723.9366 \r\nL 73.1 723.9366 \r\nz\r\n\" style=\"fill:#e78cda;\"/>\r\n   </g>\r\n   <g id=\"patch_91\">\r\n    <path clip-path=\"url(#p152f6f648e)\" d=\"M 73.1 725.5674 \r\nL 84.310304 725.5674 \r\nL 84.310304 732.0906 \r\nL 73.1 732.0906 \r\nz\r\n\" style=\"fill:#e78dd5;\"/>\r\n   </g>\r\n   <g id=\"patch_92\">\r\n    <path clip-path=\"url(#p152f6f648e)\" d=\"M 73.1 733.7214 \r\nL 84.087646 733.7214 \r\nL 84.087646 740.2446 \r\nL 73.1 740.2446 \r\nz\r\n\" style=\"fill:#e88ed1;\"/>\r\n   </g>\r\n   <g id=\"patch_93\">\r\n    <path clip-path=\"url(#p152f6f648e)\" d=\"M 73.1 741.8754 \r\nL 83.927914 741.8754 \r\nL 83.927914 748.3986 \r\nL 73.1 748.3986 \r\nz\r\n\" style=\"fill:#e88fcc;\"/>\r\n   </g>\r\n   <g id=\"patch_94\">\r\n    <path clip-path=\"url(#p152f6f648e)\" d=\"M 73.1 750.0294 \r\nL 83.855309 750.0294 \r\nL 83.855309 756.5526 \r\nL 73.1 756.5526 \r\nz\r\n\" style=\"fill:#e890c8;\"/>\r\n   </g>\r\n   <g id=\"patch_95\">\r\n    <path clip-path=\"url(#p152f6f648e)\" d=\"M 73.1 758.1834 \r\nL 83.74882 758.1834 \r\nL 83.74882 764.7066 \r\nL 73.1 764.7066 \r\nz\r\n\" style=\"fill:#e890c4;\"/>\r\n   </g>\r\n   <g id=\"patch_96\">\r\n    <path clip-path=\"url(#p152f6f648e)\" d=\"M 73.1 766.3374 \r\nL 83.729459 766.3374 \r\nL 83.729459 772.8606 \r\nL 73.1 772.8606 \r\nz\r\n\" style=\"fill:#e891c0;\"/>\r\n   </g>\r\n   <g id=\"patch_97\">\r\n    <path clip-path=\"url(#p152f6f648e)\" d=\"M 73.1 774.4914 \r\nL 83.690736 774.4914 \r\nL 83.690736 781.0146 \r\nL 73.1 781.0146 \r\nz\r\n\" style=\"fill:#e992bd;\"/>\r\n   </g>\r\n   <g id=\"patch_98\">\r\n    <path clip-path=\"url(#p152f6f648e)\" d=\"M 73.1 782.6454 \r\nL 83.661694 782.6454 \r\nL 83.661694 789.1686 \r\nL 73.1 789.1686 \r\nz\r\n\" style=\"fill:#e993b9;\"/>\r\n   </g>\r\n   <g id=\"patch_99\">\r\n    <path clip-path=\"url(#p152f6f648e)\" d=\"M 73.1 790.7994 \r\nL 83.516482 790.7994 \r\nL 83.516482 797.3226 \r\nL 73.1 797.3226 \r\nz\r\n\" style=\"fill:#e993b5;\"/>\r\n   </g>\r\n   <g id=\"patch_100\">\r\n    <path clip-path=\"url(#p152f6f648e)\" d=\"M 73.1 798.9534 \r\nL 83.497121 798.9534 \r\nL 83.497121 805.4766 \r\nL 73.1 805.4766 \r\nz\r\n\" style=\"fill:#e994b1;\"/>\r\n   </g>\r\n   <g id=\"patch_101\">\r\n    <path clip-path=\"url(#p152f6f648e)\" d=\"M 73.1 807.1074 \r\nL 83.439036 807.1074 \r\nL 83.439036 813.6306 \r\nL 73.1 813.6306 \r\nz\r\n\" style=\"fill:#e994ad;\"/>\r\n   </g>\r\n   <g id=\"patch_102\">\r\n    <path clip-path=\"url(#p152f6f648e)\" d=\"M 73.1 815.2614 \r\nL 83.405154 815.2614 \r\nL 83.405154 821.7846 \r\nL 73.1 821.7846 \r\nz\r\n\" style=\"fill:#e995a8;\"/>\r\n   </g>\r\n   <g id=\"matplotlib.axis_1\">\r\n    <g id=\"xtick_1\">\r\n     <g id=\"line2d_1\">\r\n      <defs>\r\n       <path d=\"M 0 0 \r\nL 0 3.5 \r\n\" id=\"mbad4962668\" style=\"stroke:#000000;stroke-width:0.8;\"/>\r\n      </defs>\r\n      <g>\r\n       <use style=\"stroke:#000000;stroke-width:0.8;\" x=\"73.1\" xlink:href=\"#mbad4962668\" y=\"822.6\"/>\r\n      </g>\r\n     </g>\r\n     <g id=\"text_1\">\r\n      <!-- 0 -->\r\n      <g transform=\"translate(69.91875 837.198437)scale(0.1 -0.1)\">\r\n       <defs>\r\n        <path d=\"M 31.78125 66.40625 \r\nQ 24.171875 66.40625 20.328125 58.90625 \r\nQ 16.5 51.421875 16.5 36.375 \r\nQ 16.5 21.390625 20.328125 13.890625 \r\nQ 24.171875 6.390625 31.78125 6.390625 \r\nQ 39.453125 6.390625 43.28125 13.890625 \r\nQ 47.125 21.390625 47.125 36.375 \r\nQ 47.125 51.421875 43.28125 58.90625 \r\nQ 39.453125 66.40625 31.78125 66.40625 \r\nz\r\nM 31.78125 74.21875 \r\nQ 44.046875 74.21875 50.515625 64.515625 \r\nQ 56.984375 54.828125 56.984375 36.375 \r\nQ 56.984375 17.96875 50.515625 8.265625 \r\nQ 44.046875 -1.421875 31.78125 -1.421875 \r\nQ 19.53125 -1.421875 13.0625 8.265625 \r\nQ 6.59375 17.96875 6.59375 36.375 \r\nQ 6.59375 54.828125 13.0625 64.515625 \r\nQ 19.53125 74.21875 31.78125 74.21875 \r\nz\r\n\" id=\"DejaVuSans-48\"/>\r\n       </defs>\r\n       <use xlink:href=\"#DejaVuSans-48\"/>\r\n      </g>\r\n     </g>\r\n    </g>\r\n    <g id=\"xtick_2\">\r\n     <g id=\"line2d_2\">\r\n      <g>\r\n       <use style=\"stroke:#000000;stroke-width:0.8;\" x=\"169.907457\" xlink:href=\"#mbad4962668\" y=\"822.6\"/>\r\n      </g>\r\n     </g>\r\n     <g id=\"text_2\">\r\n      <!-- 20000 -->\r\n      <g transform=\"translate(154.001207 837.198437)scale(0.1 -0.1)\">\r\n       <defs>\r\n        <path d=\"M 19.1875 8.296875 \r\nL 53.609375 8.296875 \r\nL 53.609375 0 \r\nL 7.328125 0 \r\nL 7.328125 8.296875 \r\nQ 12.9375 14.109375 22.625 23.890625 \r\nQ 32.328125 33.6875 34.8125 36.53125 \r\nQ 39.546875 41.84375 41.421875 45.53125 \r\nQ 43.3125 49.21875 43.3125 52.78125 \r\nQ 43.3125 58.59375 39.234375 62.25 \r\nQ 35.15625 65.921875 28.609375 65.921875 \r\nQ 23.96875 65.921875 18.8125 64.3125 \r\nQ 13.671875 62.703125 7.8125 59.421875 \r\nL 7.8125 69.390625 \r\nQ 13.765625 71.78125 18.9375 73 \r\nQ 24.125 74.21875 28.421875 74.21875 \r\nQ 39.75 74.21875 46.484375 68.546875 \r\nQ 53.21875 62.890625 53.21875 53.421875 \r\nQ 53.21875 48.921875 51.53125 44.890625 \r\nQ 49.859375 40.875 45.40625 35.40625 \r\nQ 44.1875 33.984375 37.640625 27.21875 \r\nQ 31.109375 20.453125 19.1875 8.296875 \r\nz\r\n\" id=\"DejaVuSans-50\"/>\r\n       </defs>\r\n       <use xlink:href=\"#DejaVuSans-50\"/>\r\n       <use x=\"63.623047\" xlink:href=\"#DejaVuSans-48\"/>\r\n       <use x=\"127.246094\" xlink:href=\"#DejaVuSans-48\"/>\r\n       <use x=\"190.869141\" xlink:href=\"#DejaVuSans-48\"/>\r\n       <use x=\"254.492188\" xlink:href=\"#DejaVuSans-48\"/>\r\n      </g>\r\n     </g>\r\n    </g>\r\n    <g id=\"xtick_3\">\r\n     <g id=\"line2d_3\">\r\n      <g>\r\n       <use style=\"stroke:#000000;stroke-width:0.8;\" x=\"266.714915\" xlink:href=\"#mbad4962668\" y=\"822.6\"/>\r\n      </g>\r\n     </g>\r\n     <g id=\"text_3\">\r\n      <!-- 40000 -->\r\n      <g transform=\"translate(250.808665 837.198437)scale(0.1 -0.1)\">\r\n       <defs>\r\n        <path d=\"M 37.796875 64.3125 \r\nL 12.890625 25.390625 \r\nL 37.796875 25.390625 \r\nz\r\nM 35.203125 72.90625 \r\nL 47.609375 72.90625 \r\nL 47.609375 25.390625 \r\nL 58.015625 25.390625 \r\nL 58.015625 17.1875 \r\nL 47.609375 17.1875 \r\nL 47.609375 0 \r\nL 37.796875 0 \r\nL 37.796875 17.1875 \r\nL 4.890625 17.1875 \r\nL 4.890625 26.703125 \r\nz\r\n\" id=\"DejaVuSans-52\"/>\r\n       </defs>\r\n       <use xlink:href=\"#DejaVuSans-52\"/>\r\n       <use x=\"63.623047\" xlink:href=\"#DejaVuSans-48\"/>\r\n       <use x=\"127.246094\" xlink:href=\"#DejaVuSans-48\"/>\r\n       <use x=\"190.869141\" xlink:href=\"#DejaVuSans-48\"/>\r\n       <use x=\"254.492188\" xlink:href=\"#DejaVuSans-48\"/>\r\n      </g>\r\n     </g>\r\n    </g>\r\n    <g id=\"xtick_4\">\r\n     <g id=\"line2d_4\">\r\n      <g>\r\n       <use style=\"stroke:#000000;stroke-width:0.8;\" x=\"363.522372\" xlink:href=\"#mbad4962668\" y=\"822.6\"/>\r\n      </g>\r\n     </g>\r\n     <g id=\"text_4\">\r\n      <!-- 60000 -->\r\n      <g transform=\"translate(347.616122 837.198437)scale(0.1 -0.1)\">\r\n       <defs>\r\n        <path d=\"M 33.015625 40.375 \r\nQ 26.375 40.375 22.484375 35.828125 \r\nQ 18.609375 31.296875 18.609375 23.390625 \r\nQ 18.609375 15.53125 22.484375 10.953125 \r\nQ 26.375 6.390625 33.015625 6.390625 \r\nQ 39.65625 6.390625 43.53125 10.953125 \r\nQ 47.40625 15.53125 47.40625 23.390625 \r\nQ 47.40625 31.296875 43.53125 35.828125 \r\nQ 39.65625 40.375 33.015625 40.375 \r\nz\r\nM 52.59375 71.296875 \r\nL 52.59375 62.3125 \r\nQ 48.875 64.0625 45.09375 64.984375 \r\nQ 41.3125 65.921875 37.59375 65.921875 \r\nQ 27.828125 65.921875 22.671875 59.328125 \r\nQ 17.53125 52.734375 16.796875 39.40625 \r\nQ 19.671875 43.65625 24.015625 45.921875 \r\nQ 28.375 48.1875 33.59375 48.1875 \r\nQ 44.578125 48.1875 50.953125 41.515625 \r\nQ 57.328125 34.859375 57.328125 23.390625 \r\nQ 57.328125 12.15625 50.6875 5.359375 \r\nQ 44.046875 -1.421875 33.015625 -1.421875 \r\nQ 20.359375 -1.421875 13.671875 8.265625 \r\nQ 6.984375 17.96875 6.984375 36.375 \r\nQ 6.984375 53.65625 15.1875 63.9375 \r\nQ 23.390625 74.21875 37.203125 74.21875 \r\nQ 40.921875 74.21875 44.703125 73.484375 \r\nQ 48.484375 72.75 52.59375 71.296875 \r\nz\r\n\" id=\"DejaVuSans-54\"/>\r\n       </defs>\r\n       <use xlink:href=\"#DejaVuSans-54\"/>\r\n       <use x=\"63.623047\" xlink:href=\"#DejaVuSans-48\"/>\r\n       <use x=\"127.246094\" xlink:href=\"#DejaVuSans-48\"/>\r\n       <use x=\"190.869141\" xlink:href=\"#DejaVuSans-48\"/>\r\n       <use x=\"254.492188\" xlink:href=\"#DejaVuSans-48\"/>\r\n      </g>\r\n     </g>\r\n    </g>\r\n    <g id=\"xtick_5\">\r\n     <g id=\"line2d_5\">\r\n      <g>\r\n       <use style=\"stroke:#000000;stroke-width:0.8;\" x=\"460.32983\" xlink:href=\"#mbad4962668\" y=\"822.6\"/>\r\n      </g>\r\n     </g>\r\n     <g id=\"text_5\">\r\n      <!-- 80000 -->\r\n      <g transform=\"translate(444.42358 837.198437)scale(0.1 -0.1)\">\r\n       <defs>\r\n        <path d=\"M 31.78125 34.625 \r\nQ 24.75 34.625 20.71875 30.859375 \r\nQ 16.703125 27.09375 16.703125 20.515625 \r\nQ 16.703125 13.921875 20.71875 10.15625 \r\nQ 24.75 6.390625 31.78125 6.390625 \r\nQ 38.8125 6.390625 42.859375 10.171875 \r\nQ 46.921875 13.96875 46.921875 20.515625 \r\nQ 46.921875 27.09375 42.890625 30.859375 \r\nQ 38.875 34.625 31.78125 34.625 \r\nz\r\nM 21.921875 38.8125 \r\nQ 15.578125 40.375 12.03125 44.71875 \r\nQ 8.5 49.078125 8.5 55.328125 \r\nQ 8.5 64.0625 14.71875 69.140625 \r\nQ 20.953125 74.21875 31.78125 74.21875 \r\nQ 42.671875 74.21875 48.875 69.140625 \r\nQ 55.078125 64.0625 55.078125 55.328125 \r\nQ 55.078125 49.078125 51.53125 44.71875 \r\nQ 48 40.375 41.703125 38.8125 \r\nQ 48.828125 37.15625 52.796875 32.3125 \r\nQ 56.78125 27.484375 56.78125 20.515625 \r\nQ 56.78125 9.90625 50.3125 4.234375 \r\nQ 43.84375 -1.421875 31.78125 -1.421875 \r\nQ 19.734375 -1.421875 13.25 4.234375 \r\nQ 6.78125 9.90625 6.78125 20.515625 \r\nQ 6.78125 27.484375 10.78125 32.3125 \r\nQ 14.796875 37.15625 21.921875 38.8125 \r\nz\r\nM 18.3125 54.390625 \r\nQ 18.3125 48.734375 21.84375 45.5625 \r\nQ 25.390625 42.390625 31.78125 42.390625 \r\nQ 38.140625 42.390625 41.71875 45.5625 \r\nQ 45.3125 48.734375 45.3125 54.390625 \r\nQ 45.3125 60.0625 41.71875 63.234375 \r\nQ 38.140625 66.40625 31.78125 66.40625 \r\nQ 25.390625 66.40625 21.84375 63.234375 \r\nQ 18.3125 60.0625 18.3125 54.390625 \r\nz\r\n\" id=\"DejaVuSans-56\"/>\r\n       </defs>\r\n       <use xlink:href=\"#DejaVuSans-56\"/>\r\n       <use x=\"63.623047\" xlink:href=\"#DejaVuSans-48\"/>\r\n       <use x=\"127.246094\" xlink:href=\"#DejaVuSans-48\"/>\r\n       <use x=\"190.869141\" xlink:href=\"#DejaVuSans-48\"/>\r\n       <use x=\"254.492188\" xlink:href=\"#DejaVuSans-48\"/>\r\n      </g>\r\n     </g>\r\n    </g>\r\n    <g id=\"xtick_6\">\r\n     <g id=\"line2d_6\">\r\n      <g>\r\n       <use style=\"stroke:#000000;stroke-width:0.8;\" x=\"557.137287\" xlink:href=\"#mbad4962668\" y=\"822.6\"/>\r\n      </g>\r\n     </g>\r\n     <g id=\"text_6\">\r\n      <!-- 100000 -->\r\n      <g transform=\"translate(538.049787 837.198437)scale(0.1 -0.1)\">\r\n       <defs>\r\n        <path d=\"M 12.40625 8.296875 \r\nL 28.515625 8.296875 \r\nL 28.515625 63.921875 \r\nL 10.984375 60.40625 \r\nL 10.984375 69.390625 \r\nL 28.421875 72.90625 \r\nL 38.28125 72.90625 \r\nL 38.28125 8.296875 \r\nL 54.390625 8.296875 \r\nL 54.390625 0 \r\nL 12.40625 0 \r\nz\r\n\" id=\"DejaVuSans-49\"/>\r\n       </defs>\r\n       <use xlink:href=\"#DejaVuSans-49\"/>\r\n       <use x=\"63.623047\" xlink:href=\"#DejaVuSans-48\"/>\r\n       <use x=\"127.246094\" xlink:href=\"#DejaVuSans-48\"/>\r\n       <use x=\"190.869141\" xlink:href=\"#DejaVuSans-48\"/>\r\n       <use x=\"254.492188\" xlink:href=\"#DejaVuSans-48\"/>\r\n       <use x=\"318.115234\" xlink:href=\"#DejaVuSans-48\"/>\r\n      </g>\r\n     </g>\r\n    </g>\r\n    <g id=\"xtick_7\">\r\n     <g id=\"line2d_7\">\r\n      <g>\r\n       <use style=\"stroke:#000000;stroke-width:0.8;\" x=\"653.944745\" xlink:href=\"#mbad4962668\" y=\"822.6\"/>\r\n      </g>\r\n     </g>\r\n     <g id=\"text_7\">\r\n      <!-- 120000 -->\r\n      <g transform=\"translate(634.857245 837.198437)scale(0.1 -0.1)\">\r\n       <use xlink:href=\"#DejaVuSans-49\"/>\r\n       <use x=\"63.623047\" xlink:href=\"#DejaVuSans-50\"/>\r\n       <use x=\"127.246094\" xlink:href=\"#DejaVuSans-48\"/>\r\n       <use x=\"190.869141\" xlink:href=\"#DejaVuSans-48\"/>\r\n       <use x=\"254.492188\" xlink:href=\"#DejaVuSans-48\"/>\r\n       <use x=\"318.115234\" xlink:href=\"#DejaVuSans-48\"/>\r\n      </g>\r\n     </g>\r\n    </g>\r\n    <g id=\"text_8\">\r\n     <!-- count -->\r\n     <g transform=\"translate(393.79375 850.876562)scale(0.1 -0.1)\">\r\n      <defs>\r\n       <path d=\"M 48.78125 52.59375 \r\nL 48.78125 44.1875 \r\nQ 44.96875 46.296875 41.140625 47.34375 \r\nQ 37.3125 48.390625 33.40625 48.390625 \r\nQ 24.65625 48.390625 19.8125 42.84375 \r\nQ 14.984375 37.3125 14.984375 27.296875 \r\nQ 14.984375 17.28125 19.8125 11.734375 \r\nQ 24.65625 6.203125 33.40625 6.203125 \r\nQ 37.3125 6.203125 41.140625 7.25 \r\nQ 44.96875 8.296875 48.78125 10.40625 \r\nL 48.78125 2.09375 \r\nQ 45.015625 0.34375 40.984375 -0.53125 \r\nQ 36.96875 -1.421875 32.421875 -1.421875 \r\nQ 20.0625 -1.421875 12.78125 6.34375 \r\nQ 5.515625 14.109375 5.515625 27.296875 \r\nQ 5.515625 40.671875 12.859375 48.328125 \r\nQ 20.21875 56 33.015625 56 \r\nQ 37.15625 56 41.109375 55.140625 \r\nQ 45.0625 54.296875 48.78125 52.59375 \r\nz\r\n\" id=\"DejaVuSans-99\"/>\r\n       <path d=\"M 30.609375 48.390625 \r\nQ 23.390625 48.390625 19.1875 42.75 \r\nQ 14.984375 37.109375 14.984375 27.296875 \r\nQ 14.984375 17.484375 19.15625 11.84375 \r\nQ 23.34375 6.203125 30.609375 6.203125 \r\nQ 37.796875 6.203125 41.984375 11.859375 \r\nQ 46.1875 17.53125 46.1875 27.296875 \r\nQ 46.1875 37.015625 41.984375 42.703125 \r\nQ 37.796875 48.390625 30.609375 48.390625 \r\nz\r\nM 30.609375 56 \r\nQ 42.328125 56 49.015625 48.375 \r\nQ 55.71875 40.765625 55.71875 27.296875 \r\nQ 55.71875 13.875 49.015625 6.21875 \r\nQ 42.328125 -1.421875 30.609375 -1.421875 \r\nQ 18.84375 -1.421875 12.171875 6.21875 \r\nQ 5.515625 13.875 5.515625 27.296875 \r\nQ 5.515625 40.765625 12.171875 48.375 \r\nQ 18.84375 56 30.609375 56 \r\nz\r\n\" id=\"DejaVuSans-111\"/>\r\n       <path d=\"M 8.5 21.578125 \r\nL 8.5 54.6875 \r\nL 17.484375 54.6875 \r\nL 17.484375 21.921875 \r\nQ 17.484375 14.15625 20.5 10.265625 \r\nQ 23.53125 6.390625 29.59375 6.390625 \r\nQ 36.859375 6.390625 41.078125 11.03125 \r\nQ 45.3125 15.671875 45.3125 23.6875 \r\nL 45.3125 54.6875 \r\nL 54.296875 54.6875 \r\nL 54.296875 0 \r\nL 45.3125 0 \r\nL 45.3125 8.40625 \r\nQ 42.046875 3.421875 37.71875 1 \r\nQ 33.40625 -1.421875 27.6875 -1.421875 \r\nQ 18.265625 -1.421875 13.375 4.4375 \r\nQ 8.5 10.296875 8.5 21.578125 \r\nz\r\nM 31.109375 56 \r\nz\r\n\" id=\"DejaVuSans-117\"/>\r\n       <path d=\"M 54.890625 33.015625 \r\nL 54.890625 0 \r\nL 45.90625 0 \r\nL 45.90625 32.71875 \r\nQ 45.90625 40.484375 42.875 44.328125 \r\nQ 39.84375 48.1875 33.796875 48.1875 \r\nQ 26.515625 48.1875 22.3125 43.546875 \r\nQ 18.109375 38.921875 18.109375 30.90625 \r\nL 18.109375 0 \r\nL 9.078125 0 \r\nL 9.078125 54.6875 \r\nL 18.109375 54.6875 \r\nL 18.109375 46.1875 \r\nQ 21.34375 51.125 25.703125 53.5625 \r\nQ 30.078125 56 35.796875 56 \r\nQ 45.21875 56 50.046875 50.171875 \r\nQ 54.890625 44.34375 54.890625 33.015625 \r\nz\r\n\" id=\"DejaVuSans-110\"/>\r\n       <path d=\"M 18.3125 70.21875 \r\nL 18.3125 54.6875 \r\nL 36.8125 54.6875 \r\nL 36.8125 47.703125 \r\nL 18.3125 47.703125 \r\nL 18.3125 18.015625 \r\nQ 18.3125 11.328125 20.140625 9.421875 \r\nQ 21.96875 7.515625 27.59375 7.515625 \r\nL 36.8125 7.515625 \r\nL 36.8125 0 \r\nL 27.59375 0 \r\nQ 17.1875 0 13.234375 3.875 \r\nQ 9.28125 7.765625 9.28125 18.015625 \r\nL 9.28125 47.703125 \r\nL 2.6875 47.703125 \r\nL 2.6875 54.6875 \r\nL 9.28125 54.6875 \r\nL 9.28125 70.21875 \r\nz\r\n\" id=\"DejaVuSans-116\"/>\r\n      </defs>\r\n      <use xlink:href=\"#DejaVuSans-99\"/>\r\n      <use x=\"54.980469\" xlink:href=\"#DejaVuSans-111\"/>\r\n      <use x=\"116.162109\" xlink:href=\"#DejaVuSans-117\"/>\r\n      <use x=\"179.541016\" xlink:href=\"#DejaVuSans-110\"/>\r\n      <use x=\"242.919922\" xlink:href=\"#DejaVuSans-116\"/>\r\n     </g>\r\n    </g>\r\n   </g>\r\n   <g id=\"matplotlib.axis_2\">\r\n    <g id=\"ytick_1\">\r\n     <g id=\"line2d_8\">\r\n      <defs>\r\n       <path d=\"M 0 0 \r\nL -3.5 0 \r\n\" id=\"mc9b62bf7f0\" style=\"stroke:#000000;stroke-width:0.8;\"/>\r\n      </defs>\r\n      <g>\r\n       <use style=\"stroke:#000000;stroke-width:0.8;\" x=\"73.1\" xlink:href=\"#mc9b62bf7f0\" y=\"11.277\"/>\r\n      </g>\r\n     </g>\r\n     <g id=\"text_9\">\r\n      <!-- the -->\r\n      <g transform=\"translate(49.689062 15.076219)scale(0.1 -0.1)\">\r\n       <defs>\r\n        <path d=\"M 54.890625 33.015625 \r\nL 54.890625 0 \r\nL 45.90625 0 \r\nL 45.90625 32.71875 \r\nQ 45.90625 40.484375 42.875 44.328125 \r\nQ 39.84375 48.1875 33.796875 48.1875 \r\nQ 26.515625 48.1875 22.3125 43.546875 \r\nQ 18.109375 38.921875 18.109375 30.90625 \r\nL 18.109375 0 \r\nL 9.078125 0 \r\nL 9.078125 75.984375 \r\nL 18.109375 75.984375 \r\nL 18.109375 46.1875 \r\nQ 21.34375 51.125 25.703125 53.5625 \r\nQ 30.078125 56 35.796875 56 \r\nQ 45.21875 56 50.046875 50.171875 \r\nQ 54.890625 44.34375 54.890625 33.015625 \r\nz\r\n\" id=\"DejaVuSans-104\"/>\r\n        <path d=\"M 56.203125 29.59375 \r\nL 56.203125 25.203125 \r\nL 14.890625 25.203125 \r\nQ 15.484375 15.921875 20.484375 11.0625 \r\nQ 25.484375 6.203125 34.421875 6.203125 \r\nQ 39.59375 6.203125 44.453125 7.46875 \r\nQ 49.3125 8.734375 54.109375 11.28125 \r\nL 54.109375 2.78125 \r\nQ 49.265625 0.734375 44.1875 -0.34375 \r\nQ 39.109375 -1.421875 33.890625 -1.421875 \r\nQ 20.796875 -1.421875 13.15625 6.1875 \r\nQ 5.515625 13.8125 5.515625 26.8125 \r\nQ 5.515625 40.234375 12.765625 48.109375 \r\nQ 20.015625 56 32.328125 56 \r\nQ 43.359375 56 49.78125 48.890625 \r\nQ 56.203125 41.796875 56.203125 29.59375 \r\nz\r\nM 47.21875 32.234375 \r\nQ 47.125 39.59375 43.09375 43.984375 \r\nQ 39.0625 48.390625 32.421875 48.390625 \r\nQ 24.90625 48.390625 20.390625 44.140625 \r\nQ 15.875 39.890625 15.1875 32.171875 \r\nz\r\n\" id=\"DejaVuSans-101\"/>\r\n       </defs>\r\n       <use xlink:href=\"#DejaVuSans-116\"/>\r\n       <use x=\"39.208984\" xlink:href=\"#DejaVuSans-104\"/>\r\n       <use x=\"102.587891\" xlink:href=\"#DejaVuSans-101\"/>\r\n      </g>\r\n     </g>\r\n    </g>\r\n    <g id=\"ytick_2\">\r\n     <g id=\"line2d_9\">\r\n      <g>\r\n       <use style=\"stroke:#000000;stroke-width:0.8;\" x=\"73.1\" xlink:href=\"#mc9b62bf7f0\" y=\"19.431\"/>\r\n      </g>\r\n     </g>\r\n     <g id=\"text_10\">\r\n      <!-- a -->\r\n      <g transform=\"translate(59.971875 23.230219)scale(0.1 -0.1)\">\r\n       <defs>\r\n        <path d=\"M 34.28125 27.484375 \r\nQ 23.390625 27.484375 19.1875 25 \r\nQ 14.984375 22.515625 14.984375 16.5 \r\nQ 14.984375 11.71875 18.140625 8.90625 \r\nQ 21.296875 6.109375 26.703125 6.109375 \r\nQ 34.1875 6.109375 38.703125 11.40625 \r\nQ 43.21875 16.703125 43.21875 25.484375 \r\nL 43.21875 27.484375 \r\nz\r\nM 52.203125 31.203125 \r\nL 52.203125 0 \r\nL 43.21875 0 \r\nL 43.21875 8.296875 \r\nQ 40.140625 3.328125 35.546875 0.953125 \r\nQ 30.953125 -1.421875 24.3125 -1.421875 \r\nQ 15.921875 -1.421875 10.953125 3.296875 \r\nQ 6 8.015625 6 15.921875 \r\nQ 6 25.140625 12.171875 29.828125 \r\nQ 18.359375 34.515625 30.609375 34.515625 \r\nL 43.21875 34.515625 \r\nL 43.21875 35.40625 \r\nQ 43.21875 41.609375 39.140625 45 \r\nQ 35.0625 48.390625 27.6875 48.390625 \r\nQ 23 48.390625 18.546875 47.265625 \r\nQ 14.109375 46.140625 10.015625 43.890625 \r\nL 10.015625 52.203125 \r\nQ 14.9375 54.109375 19.578125 55.046875 \r\nQ 24.21875 56 28.609375 56 \r\nQ 40.484375 56 46.34375 49.84375 \r\nQ 52.203125 43.703125 52.203125 31.203125 \r\nz\r\n\" id=\"DejaVuSans-97\"/>\r\n       </defs>\r\n       <use xlink:href=\"#DejaVuSans-97\"/>\r\n      </g>\r\n     </g>\r\n    </g>\r\n    <g id=\"ytick_3\">\r\n     <g id=\"line2d_10\">\r\n      <g>\r\n       <use style=\"stroke:#000000;stroke-width:0.8;\" x=\"73.1\" xlink:href=\"#mc9b62bf7f0\" y=\"27.585\"/>\r\n      </g>\r\n     </g>\r\n     <g id=\"text_11\">\r\n      <!-- and -->\r\n      <g transform=\"translate(47.285937 31.384219)scale(0.1 -0.1)\">\r\n       <defs>\r\n        <path d=\"M 45.40625 46.390625 \r\nL 45.40625 75.984375 \r\nL 54.390625 75.984375 \r\nL 54.390625 0 \r\nL 45.40625 0 \r\nL 45.40625 8.203125 \r\nQ 42.578125 3.328125 38.25 0.953125 \r\nQ 33.9375 -1.421875 27.875 -1.421875 \r\nQ 17.96875 -1.421875 11.734375 6.484375 \r\nQ 5.515625 14.40625 5.515625 27.296875 \r\nQ 5.515625 40.1875 11.734375 48.09375 \r\nQ 17.96875 56 27.875 56 \r\nQ 33.9375 56 38.25 53.625 \r\nQ 42.578125 51.265625 45.40625 46.390625 \r\nz\r\nM 14.796875 27.296875 \r\nQ 14.796875 17.390625 18.875 11.75 \r\nQ 22.953125 6.109375 30.078125 6.109375 \r\nQ 37.203125 6.109375 41.296875 11.75 \r\nQ 45.40625 17.390625 45.40625 27.296875 \r\nQ 45.40625 37.203125 41.296875 42.84375 \r\nQ 37.203125 48.484375 30.078125 48.484375 \r\nQ 22.953125 48.484375 18.875 42.84375 \r\nQ 14.796875 37.203125 14.796875 27.296875 \r\nz\r\n\" id=\"DejaVuSans-100\"/>\r\n       </defs>\r\n       <use xlink:href=\"#DejaVuSans-97\"/>\r\n       <use x=\"61.279297\" xlink:href=\"#DejaVuSans-110\"/>\r\n       <use x=\"124.658203\" xlink:href=\"#DejaVuSans-100\"/>\r\n      </g>\r\n     </g>\r\n    </g>\r\n    <g id=\"ytick_4\">\r\n     <g id=\"line2d_11\">\r\n      <g>\r\n       <use style=\"stroke:#000000;stroke-width:0.8;\" x=\"73.1\" xlink:href=\"#mc9b62bf7f0\" y=\"35.739\"/>\r\n      </g>\r\n     </g>\r\n     <g id=\"text_12\">\r\n      <!-- to -->\r\n      <g transform=\"translate(56.060937 39.538219)scale(0.1 -0.1)\">\r\n       <use xlink:href=\"#DejaVuSans-116\"/>\r\n       <use x=\"39.208984\" xlink:href=\"#DejaVuSans-111\"/>\r\n      </g>\r\n     </g>\r\n    </g>\r\n    <g id=\"ytick_5\">\r\n     <g id=\"line2d_12\">\r\n      <g>\r\n       <use style=\"stroke:#000000;stroke-width:0.8;\" x=\"73.1\" xlink:href=\"#mc9b62bf7f0\" y=\"43.893\"/>\r\n      </g>\r\n     </g>\r\n     <g id=\"text_13\">\r\n      <!-- of -->\r\n      <g transform=\"translate(56.460937 47.692219)scale(0.1 -0.1)\">\r\n       <defs>\r\n        <path d=\"M 37.109375 75.984375 \r\nL 37.109375 68.5 \r\nL 28.515625 68.5 \r\nQ 23.6875 68.5 21.796875 66.546875 \r\nQ 19.921875 64.59375 19.921875 59.515625 \r\nL 19.921875 54.6875 \r\nL 34.71875 54.6875 \r\nL 34.71875 47.703125 \r\nL 19.921875 47.703125 \r\nL 19.921875 0 \r\nL 10.890625 0 \r\nL 10.890625 47.703125 \r\nL 2.296875 47.703125 \r\nL 2.296875 54.6875 \r\nL 10.890625 54.6875 \r\nL 10.890625 58.5 \r\nQ 10.890625 67.625 15.140625 71.796875 \r\nQ 19.390625 75.984375 28.609375 75.984375 \r\nz\r\n\" id=\"DejaVuSans-102\"/>\r\n       </defs>\r\n       <use xlink:href=\"#DejaVuSans-111\"/>\r\n       <use x=\"61.181641\" xlink:href=\"#DejaVuSans-102\"/>\r\n      </g>\r\n     </g>\r\n    </g>\r\n    <g id=\"ytick_6\">\r\n     <g id=\"line2d_13\">\r\n      <g>\r\n       <use style=\"stroke:#000000;stroke-width:0.8;\" x=\"73.1\" xlink:href=\"#mc9b62bf7f0\" y=\"52.047\"/>\r\n      </g>\r\n     </g>\r\n     <g id=\"text_14\">\r\n      <!-- in -->\r\n      <g transform=\"translate(56.984375 55.846219)scale(0.1 -0.1)\">\r\n       <defs>\r\n        <path d=\"M 9.421875 54.6875 \r\nL 18.40625 54.6875 \r\nL 18.40625 0 \r\nL 9.421875 0 \r\nz\r\nM 9.421875 75.984375 \r\nL 18.40625 75.984375 \r\nL 18.40625 64.59375 \r\nL 9.421875 64.59375 \r\nz\r\n\" id=\"DejaVuSans-105\"/>\r\n       </defs>\r\n       <use xlink:href=\"#DejaVuSans-105\"/>\r\n       <use x=\"27.783203\" xlink:href=\"#DejaVuSans-110\"/>\r\n      </g>\r\n     </g>\r\n    </g>\r\n    <g id=\"ytick_7\">\r\n     <g id=\"line2d_14\">\r\n      <g>\r\n       <use style=\"stroke:#000000;stroke-width:0.8;\" x=\"73.1\" xlink:href=\"#mc9b62bf7f0\" y=\"60.201\"/>\r\n      </g>\r\n     </g>\r\n     <g id=\"text_15\">\r\n      <!-- is -->\r\n      <g transform=\"translate(58.1125 64.000219)scale(0.1 -0.1)\">\r\n       <defs>\r\n        <path d=\"M 44.28125 53.078125 \r\nL 44.28125 44.578125 \r\nQ 40.484375 46.53125 36.375 47.5 \r\nQ 32.28125 48.484375 27.875 48.484375 \r\nQ 21.1875 48.484375 17.84375 46.4375 \r\nQ 14.5 44.390625 14.5 40.28125 \r\nQ 14.5 37.15625 16.890625 35.375 \r\nQ 19.28125 33.59375 26.515625 31.984375 \r\nL 29.59375 31.296875 \r\nQ 39.15625 29.25 43.1875 25.515625 \r\nQ 47.21875 21.78125 47.21875 15.09375 \r\nQ 47.21875 7.46875 41.1875 3.015625 \r\nQ 35.15625 -1.421875 24.609375 -1.421875 \r\nQ 20.21875 -1.421875 15.453125 -0.5625 \r\nQ 10.6875 0.296875 5.421875 2 \r\nL 5.421875 11.28125 \r\nQ 10.40625 8.6875 15.234375 7.390625 \r\nQ 20.0625 6.109375 24.8125 6.109375 \r\nQ 31.15625 6.109375 34.5625 8.28125 \r\nQ 37.984375 10.453125 37.984375 14.40625 \r\nQ 37.984375 18.0625 35.515625 20.015625 \r\nQ 33.0625 21.96875 24.703125 23.78125 \r\nL 21.578125 24.515625 \r\nQ 13.234375 26.265625 9.515625 29.90625 \r\nQ 5.8125 33.546875 5.8125 39.890625 \r\nQ 5.8125 47.609375 11.28125 51.796875 \r\nQ 16.75 56 26.8125 56 \r\nQ 31.78125 56 36.171875 55.265625 \r\nQ 40.578125 54.546875 44.28125 53.078125 \r\nz\r\n\" id=\"DejaVuSans-115\"/>\r\n       </defs>\r\n       <use xlink:href=\"#DejaVuSans-105\"/>\r\n       <use x=\"27.783203\" xlink:href=\"#DejaVuSans-115\"/>\r\n      </g>\r\n     </g>\r\n    </g>\r\n    <g id=\"ytick_8\">\r\n     <g id=\"line2d_15\">\r\n      <g>\r\n       <use style=\"stroke:#000000;stroke-width:0.8;\" x=\"73.1\" xlink:href=\"#mc9b62bf7f0\" y=\"68.355\"/>\r\n      </g>\r\n     </g>\r\n     <g id=\"text_16\">\r\n      <!-- his -->\r\n      <g transform=\"translate(51.775 72.154219)scale(0.1 -0.1)\">\r\n       <use xlink:href=\"#DejaVuSans-104\"/>\r\n       <use x=\"63.378906\" xlink:href=\"#DejaVuSans-105\"/>\r\n       <use x=\"91.162109\" xlink:href=\"#DejaVuSans-115\"/>\r\n      </g>\r\n     </g>\r\n    </g>\r\n    <g id=\"ytick_9\">\r\n     <g id=\"line2d_16\">\r\n      <g>\r\n       <use style=\"stroke:#000000;stroke-width:0.8;\" x=\"73.1\" xlink:href=\"#mc9b62bf7f0\" y=\"76.509\"/>\r\n      </g>\r\n     </g>\r\n     <g id=\"text_17\">\r\n      <!-- with -->\r\n      <g transform=\"translate(44.885937 80.308219)scale(0.1 -0.1)\">\r\n       <defs>\r\n        <path d=\"M 4.203125 54.6875 \r\nL 13.1875 54.6875 \r\nL 24.421875 12.015625 \r\nL 35.59375 54.6875 \r\nL 46.1875 54.6875 \r\nL 57.421875 12.015625 \r\nL 68.609375 54.6875 \r\nL 77.59375 54.6875 \r\nL 63.28125 0 \r\nL 52.6875 0 \r\nL 40.921875 44.828125 \r\nL 29.109375 0 \r\nL 18.5 0 \r\nz\r\n\" id=\"DejaVuSans-119\"/>\r\n       </defs>\r\n       <use xlink:href=\"#DejaVuSans-119\"/>\r\n       <use x=\"81.787109\" xlink:href=\"#DejaVuSans-105\"/>\r\n       <use x=\"109.570312\" xlink:href=\"#DejaVuSans-116\"/>\r\n       <use x=\"148.779297\" xlink:href=\"#DejaVuSans-104\"/>\r\n      </g>\r\n     </g>\r\n    </g>\r\n    <g id=\"ytick_10\">\r\n     <g id=\"line2d_17\">\r\n      <g>\r\n       <use style=\"stroke:#000000;stroke-width:0.8;\" x=\"73.1\" xlink:href=\"#mc9b62bf7f0\" y=\"84.663\"/>\r\n      </g>\r\n     </g>\r\n     <g id=\"text_18\">\r\n      <!-- her -->\r\n      <g transform=\"translate(49.498437 88.462219)scale(0.1 -0.1)\">\r\n       <defs>\r\n        <path d=\"M 41.109375 46.296875 \r\nQ 39.59375 47.171875 37.8125 47.578125 \r\nQ 36.03125 48 33.890625 48 \r\nQ 26.265625 48 22.1875 43.046875 \r\nQ 18.109375 38.09375 18.109375 28.8125 \r\nL 18.109375 0 \r\nL 9.078125 0 \r\nL 9.078125 54.6875 \r\nL 18.109375 54.6875 \r\nL 18.109375 46.1875 \r\nQ 20.953125 51.171875 25.484375 53.578125 \r\nQ 30.03125 56 36.53125 56 \r\nQ 37.453125 56 38.578125 55.875 \r\nQ 39.703125 55.765625 41.0625 55.515625 \r\nz\r\n\" id=\"DejaVuSans-114\"/>\r\n       </defs>\r\n       <use xlink:href=\"#DejaVuSans-104\"/>\r\n       <use x=\"63.378906\" xlink:href=\"#DejaVuSans-101\"/>\r\n       <use x=\"124.902344\" xlink:href=\"#DejaVuSans-114\"/>\r\n      </g>\r\n     </g>\r\n    </g>\r\n    <g id=\"ytick_11\">\r\n     <g id=\"line2d_18\">\r\n      <g>\r\n       <use style=\"stroke:#000000;stroke-width:0.8;\" x=\"73.1\" xlink:href=\"#mc9b62bf7f0\" y=\"92.817\"/>\r\n      </g>\r\n     </g>\r\n     <g id=\"text_19\">\r\n      <!-- he -->\r\n      <g transform=\"translate(53.609375 96.616219)scale(0.1 -0.1)\">\r\n       <use xlink:href=\"#DejaVuSans-104\"/>\r\n       <use x=\"63.378906\" xlink:href=\"#DejaVuSans-101\"/>\r\n      </g>\r\n     </g>\r\n    </g>\r\n    <g id=\"ytick_12\">\r\n     <g id=\"line2d_19\">\r\n      <g>\r\n       <use style=\"stroke:#000000;stroke-width:0.8;\" x=\"73.1\" xlink:href=\"#mc9b62bf7f0\" y=\"100.971\"/>\r\n      </g>\r\n     </g>\r\n     <g id=\"text_20\">\r\n      <!-- for -->\r\n      <g transform=\"translate(52.35 104.770219)scale(0.1 -0.1)\">\r\n       <use xlink:href=\"#DejaVuSans-102\"/>\r\n       <use x=\"35.205078\" xlink:href=\"#DejaVuSans-111\"/>\r\n       <use x=\"96.386719\" xlink:href=\"#DejaVuSans-114\"/>\r\n      </g>\r\n     </g>\r\n    </g>\r\n    <g id=\"ytick_13\">\r\n     <g id=\"line2d_20\">\r\n      <g>\r\n       <use style=\"stroke:#000000;stroke-width:0.8;\" x=\"73.1\" xlink:href=\"#mc9b62bf7f0\" y=\"109.125\"/>\r\n      </g>\r\n     </g>\r\n     <g id=\"text_21\">\r\n      <!-- on -->\r\n      <g transform=\"translate(53.64375 112.924219)scale(0.1 -0.1)\">\r\n       <use xlink:href=\"#DejaVuSans-111\"/>\r\n       <use x=\"61.181641\" xlink:href=\"#DejaVuSans-110\"/>\r\n      </g>\r\n     </g>\r\n    </g>\r\n    <g id=\"ytick_14\">\r\n     <g id=\"line2d_21\">\r\n      <g>\r\n       <use style=\"stroke:#000000;stroke-width:0.8;\" x=\"73.1\" xlink:href=\"#mc9b62bf7f0\" y=\"117.279\"/>\r\n      </g>\r\n     </g>\r\n     <g id=\"text_22\">\r\n      <!-- an -->\r\n      <g transform=\"translate(53.634375 121.078219)scale(0.1 -0.1)\">\r\n       <use xlink:href=\"#DejaVuSans-97\"/>\r\n       <use x=\"61.279297\" xlink:href=\"#DejaVuSans-110\"/>\r\n      </g>\r\n     </g>\r\n    </g>\r\n    <g id=\"ytick_15\">\r\n     <g id=\"line2d_22\">\r\n      <g>\r\n       <use style=\"stroke:#000000;stroke-width:0.8;\" x=\"73.1\" xlink:href=\"#mc9b62bf7f0\" y=\"125.433\"/>\r\n      </g>\r\n     </g>\r\n     <g id=\"text_23\">\r\n      <!-- by -->\r\n      <g transform=\"translate(53.832812 129.232219)scale(0.1 -0.1)\">\r\n       <defs>\r\n        <path d=\"M 48.6875 27.296875 \r\nQ 48.6875 37.203125 44.609375 42.84375 \r\nQ 40.53125 48.484375 33.40625 48.484375 \r\nQ 26.265625 48.484375 22.1875 42.84375 \r\nQ 18.109375 37.203125 18.109375 27.296875 \r\nQ 18.109375 17.390625 22.1875 11.75 \r\nQ 26.265625 6.109375 33.40625 6.109375 \r\nQ 40.53125 6.109375 44.609375 11.75 \r\nQ 48.6875 17.390625 48.6875 27.296875 \r\nz\r\nM 18.109375 46.390625 \r\nQ 20.953125 51.265625 25.265625 53.625 \r\nQ 29.59375 56 35.59375 56 \r\nQ 45.5625 56 51.78125 48.09375 \r\nQ 58.015625 40.1875 58.015625 27.296875 \r\nQ 58.015625 14.40625 51.78125 6.484375 \r\nQ 45.5625 -1.421875 35.59375 -1.421875 \r\nQ 29.59375 -1.421875 25.265625 0.953125 \r\nQ 20.953125 3.328125 18.109375 8.203125 \r\nL 18.109375 0 \r\nL 9.078125 0 \r\nL 9.078125 75.984375 \r\nL 18.109375 75.984375 \r\nz\r\n\" id=\"DejaVuSans-98\"/>\r\n        <path d=\"M 32.171875 -5.078125 \r\nQ 28.375 -14.84375 24.75 -17.8125 \r\nQ 21.140625 -20.796875 15.09375 -20.796875 \r\nL 7.90625 -20.796875 \r\nL 7.90625 -13.28125 \r\nL 13.1875 -13.28125 \r\nQ 16.890625 -13.28125 18.9375 -11.515625 \r\nQ 21 -9.765625 23.484375 -3.21875 \r\nL 25.09375 0.875 \r\nL 2.984375 54.6875 \r\nL 12.5 54.6875 \r\nL 29.59375 11.921875 \r\nL 46.6875 54.6875 \r\nL 56.203125 54.6875 \r\nz\r\n\" id=\"DejaVuSans-121\"/>\r\n       </defs>\r\n       <use xlink:href=\"#DejaVuSans-98\"/>\r\n       <use x=\"63.476562\" xlink:href=\"#DejaVuSans-121\"/>\r\n      </g>\r\n     </g>\r\n    </g>\r\n    <g id=\"ytick_16\">\r\n     <g id=\"line2d_23\">\r\n      <g>\r\n       <use style=\"stroke:#000000;stroke-width:0.8;\" x=\"73.1\" xlink:href=\"#mc9b62bf7f0\" y=\"133.587\"/>\r\n      </g>\r\n     </g>\r\n     <g id=\"text_24\">\r\n      <!-- that -->\r\n      <g transform=\"translate(45.79375 137.386219)scale(0.1 -0.1)\">\r\n       <use xlink:href=\"#DejaVuSans-116\"/>\r\n       <use x=\"39.208984\" xlink:href=\"#DejaVuSans-104\"/>\r\n       <use x=\"102.587891\" xlink:href=\"#DejaVuSans-97\"/>\r\n       <use x=\"163.867188\" xlink:href=\"#DejaVuSans-116\"/>\r\n      </g>\r\n     </g>\r\n    </g>\r\n    <g id=\"ytick_17\">\r\n     <g id=\"line2d_24\">\r\n      <g>\r\n       <use style=\"stroke:#000000;stroke-width:0.8;\" x=\"73.1\" xlink:href=\"#mc9b62bf7f0\" y=\"141.741\"/>\r\n      </g>\r\n     </g>\r\n     <g id=\"text_25\">\r\n      <!-- as -->\r\n      <g transform=\"translate(54.7625 145.540219)scale(0.1 -0.1)\">\r\n       <use xlink:href=\"#DejaVuSans-97\"/>\r\n       <use x=\"61.279297\" xlink:href=\"#DejaVuSans-115\"/>\r\n      </g>\r\n     </g>\r\n    </g>\r\n    <g id=\"ytick_18\">\r\n     <g id=\"line2d_25\">\r\n      <g>\r\n       <use style=\"stroke:#000000;stroke-width:0.8;\" x=\"73.1\" xlink:href=\"#mc9b62bf7f0\" y=\"149.895\"/>\r\n      </g>\r\n     </g>\r\n     <g id=\"text_26\">\r\n      <!-- who -->\r\n      <g transform=\"translate(45.465625 153.694219)scale(0.1 -0.1)\">\r\n       <use xlink:href=\"#DejaVuSans-119\"/>\r\n       <use x=\"81.787109\" xlink:href=\"#DejaVuSans-104\"/>\r\n       <use x=\"145.166016\" xlink:href=\"#DejaVuSans-111\"/>\r\n      </g>\r\n     </g>\r\n    </g>\r\n    <g id=\"ytick_19\">\r\n     <g id=\"line2d_26\">\r\n      <g>\r\n       <use style=\"stroke:#000000;stroke-width:0.8;\" x=\"73.1\" xlink:href=\"#mc9b62bf7f0\" y=\"158.049\"/>\r\n      </g>\r\n     </g>\r\n     <g id=\"text_27\">\r\n      <!-- their -->\r\n      <g transform=\"translate(42.8 161.848219)scale(0.1 -0.1)\">\r\n       <use xlink:href=\"#DejaVuSans-116\"/>\r\n       <use x=\"39.208984\" xlink:href=\"#DejaVuSans-104\"/>\r\n       <use x=\"102.587891\" xlink:href=\"#DejaVuSans-101\"/>\r\n       <use x=\"164.111328\" xlink:href=\"#DejaVuSans-105\"/>\r\n       <use x=\"191.894531\" xlink:href=\"#DejaVuSans-114\"/>\r\n      </g>\r\n     </g>\r\n    </g>\r\n    <g id=\"ytick_20\">\r\n     <g id=\"line2d_27\">\r\n      <g>\r\n       <use style=\"stroke:#000000;stroke-width:0.8;\" x=\"73.1\" xlink:href=\"#mc9b62bf7f0\" y=\"166.203\"/>\r\n      </g>\r\n     </g>\r\n     <g id=\"text_28\">\r\n      <!-- from -->\r\n      <g transform=\"translate(42.834375 170.002219)scale(0.1 -0.1)\">\r\n       <defs>\r\n        <path d=\"M 52 44.1875 \r\nQ 55.375 50.25 60.0625 53.125 \r\nQ 64.75 56 71.09375 56 \r\nQ 79.640625 56 84.28125 50.015625 \r\nQ 88.921875 44.046875 88.921875 33.015625 \r\nL 88.921875 0 \r\nL 79.890625 0 \r\nL 79.890625 32.71875 \r\nQ 79.890625 40.578125 77.09375 44.375 \r\nQ 74.3125 48.1875 68.609375 48.1875 \r\nQ 61.625 48.1875 57.5625 43.546875 \r\nQ 53.515625 38.921875 53.515625 30.90625 \r\nL 53.515625 0 \r\nL 44.484375 0 \r\nL 44.484375 32.71875 \r\nQ 44.484375 40.625 41.703125 44.40625 \r\nQ 38.921875 48.1875 33.109375 48.1875 \r\nQ 26.21875 48.1875 22.15625 43.53125 \r\nQ 18.109375 38.875 18.109375 30.90625 \r\nL 18.109375 0 \r\nL 9.078125 0 \r\nL 9.078125 54.6875 \r\nL 18.109375 54.6875 \r\nL 18.109375 46.1875 \r\nQ 21.1875 51.21875 25.484375 53.609375 \r\nQ 29.78125 56 35.6875 56 \r\nQ 41.65625 56 45.828125 52.96875 \r\nQ 50 49.953125 52 44.1875 \r\nz\r\n\" id=\"DejaVuSans-109\"/>\r\n       </defs>\r\n       <use xlink:href=\"#DejaVuSans-102\"/>\r\n       <use x=\"35.205078\" xlink:href=\"#DejaVuSans-114\"/>\r\n       <use x=\"74.068359\" xlink:href=\"#DejaVuSans-111\"/>\r\n       <use x=\"135.25\" xlink:href=\"#DejaVuSans-109\"/>\r\n      </g>\r\n     </g>\r\n    </g>\r\n    <g id=\"ytick_21\">\r\n     <g id=\"line2d_28\">\r\n      <g>\r\n       <use style=\"stroke:#000000;stroke-width:0.8;\" x=\"73.1\" xlink:href=\"#mc9b62bf7f0\" y=\"174.357\"/>\r\n      </g>\r\n     </g>\r\n     <g id=\"text_29\">\r\n      <!-- but -->\r\n      <g transform=\"translate(49.49375 178.156219)scale(0.1 -0.1)\">\r\n       <use xlink:href=\"#DejaVuSans-98\"/>\r\n       <use x=\"63.476562\" xlink:href=\"#DejaVuSans-117\"/>\r\n       <use x=\"126.855469\" xlink:href=\"#DejaVuSans-116\"/>\r\n      </g>\r\n     </g>\r\n    </g>\r\n    <g id=\"ytick_22\">\r\n     <g id=\"line2d_29\">\r\n      <g>\r\n       <use style=\"stroke:#000000;stroke-width:0.8;\" x=\"73.1\" xlink:href=\"#mc9b62bf7f0\" y=\"182.511\"/>\r\n      </g>\r\n     </g>\r\n     <g id=\"text_30\">\r\n      <!-- when -->\r\n      <g transform=\"translate(39.09375 186.310219)scale(0.1 -0.1)\">\r\n       <use xlink:href=\"#DejaVuSans-119\"/>\r\n       <use x=\"81.787109\" xlink:href=\"#DejaVuSans-104\"/>\r\n       <use x=\"145.166016\" xlink:href=\"#DejaVuSans-101\"/>\r\n       <use x=\"206.689453\" xlink:href=\"#DejaVuSans-110\"/>\r\n      </g>\r\n     </g>\r\n    </g>\r\n    <g id=\"ytick_23\">\r\n     <g id=\"line2d_30\">\r\n      <g>\r\n       <use style=\"stroke:#000000;stroke-width:0.8;\" x=\"73.1\" xlink:href=\"#mc9b62bf7f0\" y=\"190.665\"/>\r\n      </g>\r\n     </g>\r\n     <g id=\"text_31\">\r\n      <!-- they -->\r\n      <g transform=\"translate(43.770312 194.464219)scale(0.1 -0.1)\">\r\n       <use xlink:href=\"#DejaVuSans-116\"/>\r\n       <use x=\"39.208984\" xlink:href=\"#DejaVuSans-104\"/>\r\n       <use x=\"102.587891\" xlink:href=\"#DejaVuSans-101\"/>\r\n       <use x=\"164.111328\" xlink:href=\"#DejaVuSans-121\"/>\r\n      </g>\r\n     </g>\r\n    </g>\r\n    <g id=\"ytick_24\">\r\n     <g id=\"line2d_31\">\r\n      <g>\r\n       <use style=\"stroke:#000000;stroke-width:0.8;\" x=\"73.1\" xlink:href=\"#mc9b62bf7f0\" y=\"198.819\"/>\r\n      </g>\r\n     </g>\r\n     <g id=\"text_32\">\r\n      <!-- she -->\r\n      <g transform=\"translate(48.4 202.618219)scale(0.1 -0.1)\">\r\n       <use xlink:href=\"#DejaVuSans-115\"/>\r\n       <use x=\"52.099609\" xlink:href=\"#DejaVuSans-104\"/>\r\n       <use x=\"115.478516\" xlink:href=\"#DejaVuSans-101\"/>\r\n      </g>\r\n     </g>\r\n    </g>\r\n    <g id=\"ytick_25\">\r\n     <g id=\"line2d_32\">\r\n      <g>\r\n       <use style=\"stroke:#000000;stroke-width:0.8;\" x=\"73.1\" xlink:href=\"#mc9b62bf7f0\" y=\"206.973\"/>\r\n      </g>\r\n     </g>\r\n     <g id=\"text_33\">\r\n      <!-- has -->\r\n      <g transform=\"translate(48.425 210.772219)scale(0.1 -0.1)\">\r\n       <use xlink:href=\"#DejaVuSans-104\"/>\r\n       <use x=\"63.378906\" xlink:href=\"#DejaVuSans-97\"/>\r\n       <use x=\"124.658203\" xlink:href=\"#DejaVuSans-115\"/>\r\n      </g>\r\n     </g>\r\n    </g>\r\n    <g id=\"ytick_26\">\r\n     <g id=\"line2d_33\">\r\n      <g>\r\n       <use style=\"stroke:#000000;stroke-width:0.8;\" x=\"73.1\" xlink:href=\"#mc9b62bf7f0\" y=\"215.127\"/>\r\n      </g>\r\n     </g>\r\n     <g id=\"text_34\">\r\n      <!-- are -->\r\n      <g transform=\"translate(49.932812 218.926219)scale(0.1 -0.1)\">\r\n       <use xlink:href=\"#DejaVuSans-97\"/>\r\n       <use x=\"61.279297\" xlink:href=\"#DejaVuSans-114\"/>\r\n       <use x=\"100.142578\" xlink:href=\"#DejaVuSans-101\"/>\r\n      </g>\r\n     </g>\r\n    </g>\r\n    <g id=\"ytick_27\">\r\n     <g id=\"line2d_34\">\r\n      <g>\r\n       <use style=\"stroke:#000000;stroke-width:0.8;\" x=\"73.1\" xlink:href=\"#mc9b62bf7f0\" y=\"223.281\"/>\r\n      </g>\r\n     </g>\r\n     <g id=\"text_35\">\r\n      <!-- at -->\r\n      <g transform=\"translate(56.051562 227.080219)scale(0.1 -0.1)\">\r\n       <use xlink:href=\"#DejaVuSans-97\"/>\r\n       <use x=\"61.279297\" xlink:href=\"#DejaVuSans-116\"/>\r\n      </g>\r\n     </g>\r\n    </g>\r\n    <g id=\"ytick_28\">\r\n     <g id=\"line2d_35\">\r\n      <g>\r\n       <use style=\"stroke:#000000;stroke-width:0.8;\" x=\"73.1\" xlink:href=\"#mc9b62bf7f0\" y=\"231.435\"/>\r\n      </g>\r\n     </g>\r\n     <g id=\"text_36\">\r\n      <!-- him -->\r\n      <g transform=\"translate(47.24375 235.234219)scale(0.1 -0.1)\">\r\n       <use xlink:href=\"#DejaVuSans-104\"/>\r\n       <use x=\"63.378906\" xlink:href=\"#DejaVuSans-105\"/>\r\n       <use x=\"91.162109\" xlink:href=\"#DejaVuSans-109\"/>\r\n      </g>\r\n     </g>\r\n    </g>\r\n    <g id=\"ytick_29\">\r\n     <g id=\"line2d_36\">\r\n      <g>\r\n       <use style=\"stroke:#000000;stroke-width:0.8;\" x=\"73.1\" xlink:href=\"#mc9b62bf7f0\" y=\"239.589\"/>\r\n      </g>\r\n     </g>\r\n     <g id=\"text_37\">\r\n      <!-- life -->\r\n      <g transform=\"translate(50.870312 243.388219)scale(0.1 -0.1)\">\r\n       <defs>\r\n        <path d=\"M 9.421875 75.984375 \r\nL 18.40625 75.984375 \r\nL 18.40625 0 \r\nL 9.421875 0 \r\nz\r\n\" id=\"DejaVuSans-108\"/>\r\n       </defs>\r\n       <use xlink:href=\"#DejaVuSans-108\"/>\r\n       <use x=\"27.783203\" xlink:href=\"#DejaVuSans-105\"/>\r\n       <use x=\"55.566406\" xlink:href=\"#DejaVuSans-102\"/>\r\n       <use x=\"90.771484\" xlink:href=\"#DejaVuSans-101\"/>\r\n      </g>\r\n     </g>\r\n    </g>\r\n    <g id=\"ytick_30\">\r\n     <g id=\"line2d_37\">\r\n      <g>\r\n       <use style=\"stroke:#000000;stroke-width:0.8;\" x=\"73.1\" xlink:href=\"#mc9b62bf7f0\" y=\"247.743\"/>\r\n      </g>\r\n     </g>\r\n     <g id=\"text_38\">\r\n      <!-- one -->\r\n      <g transform=\"translate(47.490625 251.542219)scale(0.1 -0.1)\">\r\n       <use xlink:href=\"#DejaVuSans-111\"/>\r\n       <use x=\"61.181641\" xlink:href=\"#DejaVuSans-110\"/>\r\n       <use x=\"124.560547\" xlink:href=\"#DejaVuSans-101\"/>\r\n      </g>\r\n     </g>\r\n    </g>\r\n    <g id=\"ytick_31\">\r\n     <g id=\"line2d_38\">\r\n      <g>\r\n       <use style=\"stroke:#000000;stroke-width:0.8;\" x=\"73.1\" xlink:href=\"#mc9b62bf7f0\" y=\"255.897\"/>\r\n      </g>\r\n     </g>\r\n     <g id=\"text_39\">\r\n      <!-- it -->\r\n      <g transform=\"translate(59.401562 259.696219)scale(0.1 -0.1)\">\r\n       <use xlink:href=\"#DejaVuSans-105\"/>\r\n       <use x=\"27.783203\" xlink:href=\"#DejaVuSans-116\"/>\r\n      </g>\r\n     </g>\r\n    </g>\r\n    <g id=\"ytick_32\">\r\n     <g id=\"line2d_39\">\r\n      <g>\r\n       <use style=\"stroke:#000000;stroke-width:0.8;\" x=\"73.1\" xlink:href=\"#mc9b62bf7f0\" y=\"264.051\"/>\r\n      </g>\r\n     </g>\r\n     <g id=\"text_40\">\r\n      <!-- this -->\r\n      <g transform=\"translate(47.854687 267.850219)scale(0.1 -0.1)\">\r\n       <use xlink:href=\"#DejaVuSans-116\"/>\r\n       <use x=\"39.208984\" xlink:href=\"#DejaVuSans-104\"/>\r\n       <use x=\"102.587891\" xlink:href=\"#DejaVuSans-105\"/>\r\n       <use x=\"130.371094\" xlink:href=\"#DejaVuSans-115\"/>\r\n      </g>\r\n     </g>\r\n    </g>\r\n    <g id=\"ytick_33\">\r\n     <g id=\"line2d_40\">\r\n      <g>\r\n       <use style=\"stroke:#000000;stroke-width:0.8;\" x=\"73.1\" xlink:href=\"#mc9b62bf7f0\" y=\"272.205\"/>\r\n      </g>\r\n     </g>\r\n     <g id=\"text_41\">\r\n      <!-- into -->\r\n      <g transform=\"translate(46.945312 276.004219)scale(0.1 -0.1)\">\r\n       <use xlink:href=\"#DejaVuSans-105\"/>\r\n       <use x=\"27.783203\" xlink:href=\"#DejaVuSans-110\"/>\r\n       <use x=\"91.162109\" xlink:href=\"#DejaVuSans-116\"/>\r\n       <use x=\"130.371094\" xlink:href=\"#DejaVuSans-111\"/>\r\n      </g>\r\n     </g>\r\n    </g>\r\n    <g id=\"ytick_34\">\r\n     <g id=\"line2d_41\">\r\n      <g>\r\n       <use style=\"stroke:#000000;stroke-width:0.8;\" x=\"73.1\" xlink:href=\"#mc9b62bf7f0\" y=\"280.359\"/>\r\n      </g>\r\n     </g>\r\n     <g id=\"text_42\">\r\n      <!-- up -->\r\n      <g transform=\"translate(53.414062 284.158219)scale(0.1 -0.1)\">\r\n       <defs>\r\n        <path d=\"M 18.109375 8.203125 \r\nL 18.109375 -20.796875 \r\nL 9.078125 -20.796875 \r\nL 9.078125 54.6875 \r\nL 18.109375 54.6875 \r\nL 18.109375 46.390625 \r\nQ 20.953125 51.265625 25.265625 53.625 \r\nQ 29.59375 56 35.59375 56 \r\nQ 45.5625 56 51.78125 48.09375 \r\nQ 58.015625 40.1875 58.015625 27.296875 \r\nQ 58.015625 14.40625 51.78125 6.484375 \r\nQ 45.5625 -1.421875 35.59375 -1.421875 \r\nQ 29.59375 -1.421875 25.265625 0.953125 \r\nQ 20.953125 3.328125 18.109375 8.203125 \r\nz\r\nM 48.6875 27.296875 \r\nQ 48.6875 37.203125 44.609375 42.84375 \r\nQ 40.53125 48.484375 33.40625 48.484375 \r\nQ 26.265625 48.484375 22.1875 42.84375 \r\nQ 18.109375 37.203125 18.109375 27.296875 \r\nQ 18.109375 17.390625 22.1875 11.75 \r\nQ 26.265625 6.109375 33.40625 6.109375 \r\nQ 40.53125 6.109375 44.609375 11.75 \r\nQ 48.6875 17.390625 48.6875 27.296875 \r\nz\r\n\" id=\"DejaVuSans-112\"/>\r\n       </defs>\r\n       <use xlink:href=\"#DejaVuSans-117\"/>\r\n       <use x=\"63.378906\" xlink:href=\"#DejaVuSans-112\"/>\r\n      </g>\r\n     </g>\r\n    </g>\r\n    <g id=\"ytick_35\">\r\n     <g id=\"line2d_42\">\r\n      <g>\r\n       <use style=\"stroke:#000000;stroke-width:0.8;\" x=\"73.1\" xlink:href=\"#mc9b62bf7f0\" y=\"288.513\"/>\r\n      </g>\r\n     </g>\r\n     <g id=\"text_43\">\r\n      <!-- young -->\r\n      <g transform=\"translate(35.039062 292.312219)scale(0.1 -0.1)\">\r\n       <defs>\r\n        <path d=\"M 45.40625 27.984375 \r\nQ 45.40625 37.75 41.375 43.109375 \r\nQ 37.359375 48.484375 30.078125 48.484375 \r\nQ 22.859375 48.484375 18.828125 43.109375 \r\nQ 14.796875 37.75 14.796875 27.984375 \r\nQ 14.796875 18.265625 18.828125 12.890625 \r\nQ 22.859375 7.515625 30.078125 7.515625 \r\nQ 37.359375 7.515625 41.375 12.890625 \r\nQ 45.40625 18.265625 45.40625 27.984375 \r\nz\r\nM 54.390625 6.78125 \r\nQ 54.390625 -7.171875 48.1875 -13.984375 \r\nQ 42 -20.796875 29.203125 -20.796875 \r\nQ 24.46875 -20.796875 20.265625 -20.09375 \r\nQ 16.0625 -19.390625 12.109375 -17.921875 \r\nL 12.109375 -9.1875 \r\nQ 16.0625 -11.328125 19.921875 -12.34375 \r\nQ 23.78125 -13.375 27.78125 -13.375 \r\nQ 36.625 -13.375 41.015625 -8.765625 \r\nQ 45.40625 -4.15625 45.40625 5.171875 \r\nL 45.40625 9.625 \r\nQ 42.625 4.78125 38.28125 2.390625 \r\nQ 33.9375 0 27.875 0 \r\nQ 17.828125 0 11.671875 7.65625 \r\nQ 5.515625 15.328125 5.515625 27.984375 \r\nQ 5.515625 40.671875 11.671875 48.328125 \r\nQ 17.828125 56 27.875 56 \r\nQ 33.9375 56 38.28125 53.609375 \r\nQ 42.625 51.21875 45.40625 46.390625 \r\nL 45.40625 54.6875 \r\nL 54.390625 54.6875 \r\nz\r\n\" id=\"DejaVuSans-103\"/>\r\n       </defs>\r\n       <use xlink:href=\"#DejaVuSans-121\"/>\r\n       <use x=\"59.179688\" xlink:href=\"#DejaVuSans-111\"/>\r\n       <use x=\"120.361328\" xlink:href=\"#DejaVuSans-117\"/>\r\n       <use x=\"183.740234\" xlink:href=\"#DejaVuSans-110\"/>\r\n       <use x=\"247.119141\" xlink:href=\"#DejaVuSans-103\"/>\r\n      </g>\r\n     </g>\r\n    </g>\r\n    <g id=\"ytick_36\">\r\n     <g id=\"line2d_43\">\r\n      <g>\r\n       <use style=\"stroke:#000000;stroke-width:0.8;\" x=\"73.1\" xlink:href=\"#mc9b62bf7f0\" y=\"296.667\"/>\r\n      </g>\r\n     </g>\r\n     <g id=\"text_44\">\r\n      <!-- after -->\r\n      <g transform=\"translate(42.442187 300.466219)scale(0.1 -0.1)\">\r\n       <use xlink:href=\"#DejaVuSans-97\"/>\r\n       <use x=\"61.279297\" xlink:href=\"#DejaVuSans-102\"/>\r\n       <use x=\"94.734375\" xlink:href=\"#DejaVuSans-116\"/>\r\n       <use x=\"133.943359\" xlink:href=\"#DejaVuSans-101\"/>\r\n       <use x=\"195.466797\" xlink:href=\"#DejaVuSans-114\"/>\r\n      </g>\r\n     </g>\r\n    </g>\r\n    <g id=\"ytick_37\">\r\n     <g id=\"line2d_44\">\r\n      <g>\r\n       <use style=\"stroke:#000000;stroke-width:0.8;\" x=\"73.1\" xlink:href=\"#mc9b62bf7f0\" y=\"304.821\"/>\r\n      </g>\r\n     </g>\r\n     <g id=\"text_45\">\r\n      <!-- out -->\r\n      <g transform=\"translate(49.723437 308.620219)scale(0.1 -0.1)\">\r\n       <use xlink:href=\"#DejaVuSans-111\"/>\r\n       <use x=\"61.181641\" xlink:href=\"#DejaVuSans-117\"/>\r\n       <use x=\"124.560547\" xlink:href=\"#DejaVuSans-116\"/>\r\n      </g>\r\n     </g>\r\n    </g>\r\n    <g id=\"ytick_38\">\r\n     <g id=\"line2d_45\">\r\n      <g>\r\n       <use style=\"stroke:#000000;stroke-width:0.8;\" x=\"73.1\" xlink:href=\"#mc9b62bf7f0\" y=\"312.975\"/>\r\n      </g>\r\n     </g>\r\n     <g id=\"text_46\">\r\n      <!-- be -->\r\n      <g transform=\"translate(53.598437 316.774219)scale(0.1 -0.1)\">\r\n       <use xlink:href=\"#DejaVuSans-98\"/>\r\n       <use x=\"63.476562\" xlink:href=\"#DejaVuSans-101\"/>\r\n      </g>\r\n     </g>\r\n    </g>\r\n    <g id=\"ytick_39\">\r\n     <g id=\"line2d_46\">\r\n      <g>\r\n       <use style=\"stroke:#000000;stroke-width:0.8;\" x=\"73.1\" xlink:href=\"#mc9b62bf7f0\" y=\"321.129\"/>\r\n      </g>\r\n     </g>\r\n     <g id=\"text_47\">\r\n      <!-- new -->\r\n      <g transform=\"translate(45.43125 324.928219)scale(0.1 -0.1)\">\r\n       <use xlink:href=\"#DejaVuSans-110\"/>\r\n       <use x=\"63.378906\" xlink:href=\"#DejaVuSans-101\"/>\r\n       <use x=\"124.902344\" xlink:href=\"#DejaVuSans-119\"/>\r\n      </g>\r\n     </g>\r\n    </g>\r\n    <g id=\"ytick_40\">\r\n     <g id=\"line2d_47\">\r\n      <g>\r\n       <use style=\"stroke:#000000;stroke-width:0.8;\" x=\"73.1\" xlink:href=\"#mc9b62bf7f0\" y=\"329.283\"/>\r\n      </g>\r\n     </g>\r\n     <g id=\"text_48\">\r\n      <!-- s -->\r\n      <g transform=\"translate(60.890625 333.082219)scale(0.1 -0.1)\">\r\n       <use xlink:href=\"#DejaVuSans-115\"/>\r\n      </g>\r\n     </g>\r\n    </g>\r\n    <g id=\"ytick_41\">\r\n     <g id=\"line2d_48\">\r\n      <g>\r\n       <use style=\"stroke:#000000;stroke-width:0.8;\" x=\"73.1\" xlink:href=\"#mc9b62bf7f0\" y=\"337.437\"/>\r\n      </g>\r\n     </g>\r\n     <g id=\"text_49\">\r\n      <!-- film -->\r\n      <g transform=\"translate(47.282812 341.236219)scale(0.1 -0.1)\">\r\n       <use xlink:href=\"#DejaVuSans-102\"/>\r\n       <use x=\"35.205078\" xlink:href=\"#DejaVuSans-105\"/>\r\n       <use x=\"62.988281\" xlink:href=\"#DejaVuSans-108\"/>\r\n       <use x=\"90.771484\" xlink:href=\"#DejaVuSans-109\"/>\r\n      </g>\r\n     </g>\r\n    </g>\r\n    <g id=\"ytick_42\">\r\n     <g id=\"line2d_49\">\r\n      <g>\r\n       <use style=\"stroke:#000000;stroke-width:0.8;\" x=\"73.1\" xlink:href=\"#mc9b62bf7f0\" y=\"345.591\"/>\r\n      </g>\r\n     </g>\r\n     <g id=\"text_50\">\r\n      <!-- man -->\r\n      <g transform=\"translate(43.89375 349.390219)scale(0.1 -0.1)\">\r\n       <use xlink:href=\"#DejaVuSans-109\"/>\r\n       <use x=\"97.412109\" xlink:href=\"#DejaVuSans-97\"/>\r\n       <use x=\"158.691406\" xlink:href=\"#DejaVuSans-110\"/>\r\n      </g>\r\n     </g>\r\n    </g>\r\n    <g id=\"ytick_43\">\r\n     <g id=\"line2d_50\">\r\n      <g>\r\n       <use style=\"stroke:#000000;stroke-width:0.8;\" x=\"73.1\" xlink:href=\"#mc9b62bf7f0\" y=\"353.745\"/>\r\n      </g>\r\n     </g>\r\n     <g id=\"text_51\">\r\n      <!-- two -->\r\n      <g transform=\"translate(47.882812 357.544219)scale(0.1 -0.1)\">\r\n       <use xlink:href=\"#DejaVuSans-116\"/>\r\n       <use x=\"39.208984\" xlink:href=\"#DejaVuSans-119\"/>\r\n       <use x=\"120.996094\" xlink:href=\"#DejaVuSans-111\"/>\r\n      </g>\r\n     </g>\r\n    </g>\r\n    <g id=\"ytick_44\">\r\n     <g id=\"line2d_51\">\r\n      <g>\r\n       <use style=\"stroke:#000000;stroke-width:0.8;\" x=\"73.1\" xlink:href=\"#mc9b62bf7f0\" y=\"361.899\"/>\r\n      </g>\r\n     </g>\r\n     <g id=\"text_52\">\r\n      <!-- love -->\r\n      <g transform=\"translate(45.13125 365.698219)scale(0.1 -0.1)\">\r\n       <defs>\r\n        <path d=\"M 2.984375 54.6875 \r\nL 12.5 54.6875 \r\nL 29.59375 8.796875 \r\nL 46.6875 54.6875 \r\nL 56.203125 54.6875 \r\nL 35.6875 0 \r\nL 23.484375 0 \r\nz\r\n\" id=\"DejaVuSans-118\"/>\r\n       </defs>\r\n       <use xlink:href=\"#DejaVuSans-108\"/>\r\n       <use x=\"27.783203\" xlink:href=\"#DejaVuSans-111\"/>\r\n       <use x=\"88.964844\" xlink:href=\"#DejaVuSans-118\"/>\r\n       <use x=\"148.144531\" xlink:href=\"#DejaVuSans-101\"/>\r\n      </g>\r\n     </g>\r\n    </g>\r\n    <g id=\"ytick_45\">\r\n     <g id=\"line2d_52\">\r\n      <g>\r\n       <use style=\"stroke:#000000;stroke-width:0.8;\" x=\"73.1\" xlink:href=\"#mc9b62bf7f0\" y=\"370.053\"/>\r\n      </g>\r\n     </g>\r\n     <g id=\"text_53\">\r\n      <!-- about -->\r\n      <g transform=\"translate(37.246875 373.852219)scale(0.1 -0.1)\">\r\n       <use xlink:href=\"#DejaVuSans-97\"/>\r\n       <use x=\"61.279297\" xlink:href=\"#DejaVuSans-98\"/>\r\n       <use x=\"124.755859\" xlink:href=\"#DejaVuSans-111\"/>\r\n       <use x=\"185.9375\" xlink:href=\"#DejaVuSans-117\"/>\r\n       <use x=\"249.316406\" xlink:href=\"#DejaVuSans-116\"/>\r\n      </g>\r\n     </g>\r\n    </g>\r\n    <g id=\"ytick_46\">\r\n     <g id=\"line2d_53\">\r\n      <g>\r\n       <use style=\"stroke:#000000;stroke-width:0.8;\" x=\"73.1\" xlink:href=\"#mc9b62bf7f0\" y=\"378.207\"/>\r\n      </g>\r\n     </g>\r\n     <g id=\"text_54\">\r\n      <!-- all -->\r\n      <g transform=\"translate(54.415625 382.006219)scale(0.1 -0.1)\">\r\n       <use xlink:href=\"#DejaVuSans-97\"/>\r\n       <use x=\"61.279297\" xlink:href=\"#DejaVuSans-108\"/>\r\n       <use x=\"89.0625\" xlink:href=\"#DejaVuSans-108\"/>\r\n      </g>\r\n     </g>\r\n    </g>\r\n    <g id=\"ytick_47\">\r\n     <g id=\"line2d_54\">\r\n      <g>\r\n       <use style=\"stroke:#000000;stroke-width:0.8;\" x=\"73.1\" xlink:href=\"#mc9b62bf7f0\" y=\"386.361\"/>\r\n      </g>\r\n     </g>\r\n     <g id=\"text_55\">\r\n      <!-- story -->\r\n      <g transform=\"translate(40.821875 390.160219)scale(0.1 -0.1)\">\r\n       <use xlink:href=\"#DejaVuSans-115\"/>\r\n       <use x=\"52.099609\" xlink:href=\"#DejaVuSans-116\"/>\r\n       <use x=\"91.308594\" xlink:href=\"#DejaVuSans-111\"/>\r\n       <use x=\"152.490234\" xlink:href=\"#DejaVuSans-114\"/>\r\n       <use x=\"193.603516\" xlink:href=\"#DejaVuSans-121\"/>\r\n      </g>\r\n     </g>\r\n    </g>\r\n    <g id=\"ytick_48\">\r\n     <g id=\"line2d_55\">\r\n      <g>\r\n       <use style=\"stroke:#000000;stroke-width:0.8;\" x=\"73.1\" xlink:href=\"#mc9b62bf7f0\" y=\"394.515\"/>\r\n      </g>\r\n     </g>\r\n     <g id=\"text_56\">\r\n      <!-- world -->\r\n      <g transform=\"translate(38.565625 398.314219)scale(0.1 -0.1)\">\r\n       <use xlink:href=\"#DejaVuSans-119\"/>\r\n       <use x=\"81.787109\" xlink:href=\"#DejaVuSans-111\"/>\r\n       <use x=\"142.96875\" xlink:href=\"#DejaVuSans-114\"/>\r\n       <use x=\"184.082031\" xlink:href=\"#DejaVuSans-108\"/>\r\n       <use x=\"211.865234\" xlink:href=\"#DejaVuSans-100\"/>\r\n      </g>\r\n     </g>\r\n    </g>\r\n    <g id=\"ytick_49\">\r\n     <g id=\"line2d_56\">\r\n      <g>\r\n       <use style=\"stroke:#000000;stroke-width:0.8;\" x=\"73.1\" xlink:href=\"#mc9b62bf7f0\" y=\"402.669\"/>\r\n      </g>\r\n     </g>\r\n     <g id=\"text_57\">\r\n      <!-- family -->\r\n      <g transform=\"translate(35.235937 406.468219)scale(0.1 -0.1)\">\r\n       <use xlink:href=\"#DejaVuSans-102\"/>\r\n       <use x=\"35.205078\" xlink:href=\"#DejaVuSans-97\"/>\r\n       <use x=\"96.484375\" xlink:href=\"#DejaVuSans-109\"/>\r\n       <use x=\"193.896484\" xlink:href=\"#DejaVuSans-105\"/>\r\n       <use x=\"221.679688\" xlink:href=\"#DejaVuSans-108\"/>\r\n       <use x=\"249.462891\" xlink:href=\"#DejaVuSans-121\"/>\r\n      </g>\r\n     </g>\r\n    </g>\r\n    <g id=\"ytick_50\">\r\n     <g id=\"line2d_57\">\r\n      <g>\r\n       <use style=\"stroke:#000000;stroke-width:0.8;\" x=\"73.1\" xlink:href=\"#mc9b62bf7f0\" y=\"410.823\"/>\r\n      </g>\r\n     </g>\r\n     <g id=\"text_58\">\r\n      <!-- them -->\r\n      <g transform=\"translate(39.948437 414.622219)scale(0.1 -0.1)\">\r\n       <use xlink:href=\"#DejaVuSans-116\"/>\r\n       <use x=\"39.208984\" xlink:href=\"#DejaVuSans-104\"/>\r\n       <use x=\"102.587891\" xlink:href=\"#DejaVuSans-101\"/>\r\n       <use x=\"164.111328\" xlink:href=\"#DejaVuSans-109\"/>\r\n      </g>\r\n     </g>\r\n    </g>\r\n    <g id=\"ytick_51\">\r\n     <g id=\"line2d_58\">\r\n      <g>\r\n       <use style=\"stroke:#000000;stroke-width:0.8;\" x=\"73.1\" xlink:href=\"#mc9b62bf7f0\" y=\"418.977\"/>\r\n      </g>\r\n     </g>\r\n     <g id=\"text_59\">\r\n      <!-- have -->\r\n      <g transform=\"translate(41.5625 422.776219)scale(0.1 -0.1)\">\r\n       <use xlink:href=\"#DejaVuSans-104\"/>\r\n       <use x=\"63.378906\" xlink:href=\"#DejaVuSans-97\"/>\r\n       <use x=\"124.658203\" xlink:href=\"#DejaVuSans-118\"/>\r\n       <use x=\"183.837891\" xlink:href=\"#DejaVuSans-101\"/>\r\n      </g>\r\n     </g>\r\n    </g>\r\n    <g id=\"ytick_52\">\r\n     <g id=\"line2d_59\">\r\n      <g>\r\n       <use style=\"stroke:#000000;stroke-width:0.8;\" x=\"73.1\" xlink:href=\"#mc9b62bf7f0\" y=\"427.131\"/>\r\n      </g>\r\n     </g>\r\n     <g id=\"text_60\">\r\n      <!-- will -->\r\n      <g transform=\"translate(49.5875 430.930219)scale(0.1 -0.1)\">\r\n       <use xlink:href=\"#DejaVuSans-119\"/>\r\n       <use x=\"81.787109\" xlink:href=\"#DejaVuSans-105\"/>\r\n       <use x=\"109.570312\" xlink:href=\"#DejaVuSans-108\"/>\r\n       <use x=\"137.353516\" xlink:href=\"#DejaVuSans-108\"/>\r\n      </g>\r\n     </g>\r\n    </g>\r\n    <g id=\"ytick_53\">\r\n     <g id=\"line2d_60\">\r\n      <g>\r\n       <use style=\"stroke:#000000;stroke-width:0.8;\" x=\"73.1\" xlink:href=\"#mc9b62bf7f0\" y=\"435.285\"/>\r\n      </g>\r\n     </g>\r\n     <g id=\"text_61\">\r\n      <!-- was -->\r\n      <g transform=\"translate(46.584375 439.084219)scale(0.1 -0.1)\">\r\n       <use xlink:href=\"#DejaVuSans-119\"/>\r\n       <use x=\"81.787109\" xlink:href=\"#DejaVuSans-97\"/>\r\n       <use x=\"143.066406\" xlink:href=\"#DejaVuSans-115\"/>\r\n      </g>\r\n     </g>\r\n    </g>\r\n    <g id=\"ytick_54\">\r\n     <g id=\"line2d_61\">\r\n      <g>\r\n       <use style=\"stroke:#000000;stroke-width:0.8;\" x=\"73.1\" xlink:href=\"#mc9b62bf7f0\" y=\"443.439\"/>\r\n      </g>\r\n     </g>\r\n     <g id=\"text_62\">\r\n      <!-- old -->\r\n      <g transform=\"translate(50.854687 447.238219)scale(0.1 -0.1)\">\r\n       <use xlink:href=\"#DejaVuSans-111\"/>\r\n       <use x=\"61.181641\" xlink:href=\"#DejaVuSans-108\"/>\r\n       <use x=\"88.964844\" xlink:href=\"#DejaVuSans-100\"/>\r\n      </g>\r\n     </g>\r\n    </g>\r\n    <g id=\"ytick_55\">\r\n     <g id=\"line2d_62\">\r\n      <g>\r\n       <use style=\"stroke:#000000;stroke-width:0.8;\" x=\"73.1\" xlink:href=\"#mc9b62bf7f0\" y=\"451.593\"/>\r\n      </g>\r\n     </g>\r\n     <g id=\"text_63\">\r\n      <!-- not -->\r\n      <g transform=\"translate(49.723437 455.392219)scale(0.1 -0.1)\">\r\n       <use xlink:href=\"#DejaVuSans-110\"/>\r\n       <use x=\"63.378906\" xlink:href=\"#DejaVuSans-111\"/>\r\n       <use x=\"124.560547\" xlink:href=\"#DejaVuSans-116\"/>\r\n      </g>\r\n     </g>\r\n    </g>\r\n    <g id=\"ytick_56\">\r\n     <g id=\"line2d_63\">\r\n      <g>\r\n       <use style=\"stroke:#000000;stroke-width:0.8;\" x=\"73.1\" xlink:href=\"#mc9b62bf7f0\" y=\"459.747\"/>\r\n      </g>\r\n     </g>\r\n     <g id=\"text_64\">\r\n      <!-- find -->\r\n      <g transform=\"translate(47.115625 463.546219)scale(0.1 -0.1)\">\r\n       <use xlink:href=\"#DejaVuSans-102\"/>\r\n       <use x=\"35.205078\" xlink:href=\"#DejaVuSans-105\"/>\r\n       <use x=\"62.988281\" xlink:href=\"#DejaVuSans-110\"/>\r\n       <use x=\"126.367188\" xlink:href=\"#DejaVuSans-100\"/>\r\n      </g>\r\n     </g>\r\n    </g>\r\n    <g id=\"ytick_57\">\r\n     <g id=\"line2d_64\">\r\n      <g>\r\n       <use style=\"stroke:#000000;stroke-width:0.8;\" x=\"73.1\" xlink:href=\"#mc9b62bf7f0\" y=\"467.901\"/>\r\n      </g>\r\n     </g>\r\n     <g id=\"text_65\">\r\n      <!-- time -->\r\n      <g transform=\"translate(43.507812 471.700219)scale(0.1 -0.1)\">\r\n       <use xlink:href=\"#DejaVuSans-116\"/>\r\n       <use x=\"39.208984\" xlink:href=\"#DejaVuSans-105\"/>\r\n       <use x=\"66.992188\" xlink:href=\"#DejaVuSans-109\"/>\r\n       <use x=\"164.404297\" xlink:href=\"#DejaVuSans-101\"/>\r\n      </g>\r\n     </g>\r\n    </g>\r\n    <g id=\"ytick_58\">\r\n     <g id=\"line2d_65\">\r\n      <g>\r\n       <use style=\"stroke:#000000;stroke-width:0.8;\" x=\"73.1\" xlink:href=\"#mc9b62bf7f0\" y=\"476.055\"/>\r\n      </g>\r\n     </g>\r\n     <g id=\"text_66\">\r\n      <!-- only -->\r\n      <g transform=\"translate(44.946875 479.854219)scale(0.1 -0.1)\">\r\n       <use xlink:href=\"#DejaVuSans-111\"/>\r\n       <use x=\"61.181641\" xlink:href=\"#DejaVuSans-110\"/>\r\n       <use x=\"124.560547\" xlink:href=\"#DejaVuSans-108\"/>\r\n       <use x=\"152.34375\" xlink:href=\"#DejaVuSans-121\"/>\r\n      </g>\r\n     </g>\r\n    </g>\r\n    <g id=\"ytick_59\">\r\n     <g id=\"line2d_66\">\r\n      <g>\r\n       <use style=\"stroke:#000000;stroke-width:0.8;\" x=\"73.1\" xlink:href=\"#mc9b62bf7f0\" y=\"484.209\"/>\r\n      </g>\r\n     </g>\r\n     <g id=\"text_67\">\r\n      <!-- years -->\r\n      <g transform=\"translate(38.579687 488.008219)scale(0.1 -0.1)\">\r\n       <use xlink:href=\"#DejaVuSans-121\"/>\r\n       <use x=\"59.179688\" xlink:href=\"#DejaVuSans-101\"/>\r\n       <use x=\"120.703125\" xlink:href=\"#DejaVuSans-97\"/>\r\n       <use x=\"181.982422\" xlink:href=\"#DejaVuSans-114\"/>\r\n       <use x=\"223.095703\" xlink:href=\"#DejaVuSans-115\"/>\r\n      </g>\r\n     </g>\r\n    </g>\r\n    <g id=\"ytick_60\">\r\n     <g id=\"line2d_67\">\r\n      <g>\r\n       <use style=\"stroke:#000000;stroke-width:0.8;\" x=\"73.1\" xlink:href=\"#mc9b62bf7f0\" y=\"492.363\"/>\r\n      </g>\r\n     </g>\r\n     <g id=\"text_68\">\r\n      <!-- woman -->\r\n      <g transform=\"translate(29.596875 496.162219)scale(0.1 -0.1)\">\r\n       <use xlink:href=\"#DejaVuSans-119\"/>\r\n       <use x=\"81.787109\" xlink:href=\"#DejaVuSans-111\"/>\r\n       <use x=\"142.96875\" xlink:href=\"#DejaVuSans-109\"/>\r\n       <use x=\"240.380859\" xlink:href=\"#DejaVuSans-97\"/>\r\n       <use x=\"301.660156\" xlink:href=\"#DejaVuSans-110\"/>\r\n      </g>\r\n     </g>\r\n    </g>\r\n    <g id=\"ytick_61\">\r\n     <g id=\"line2d_68\">\r\n      <g>\r\n       <use style=\"stroke:#000000;stroke-width:0.8;\" x=\"73.1\" xlink:href=\"#mc9b62bf7f0\" y=\"500.517\"/>\r\n      </g>\r\n     </g>\r\n     <g id=\"text_69\">\r\n      <!-- which -->\r\n      <g transform=\"translate(36.970312 504.316219)scale(0.1 -0.1)\">\r\n       <use xlink:href=\"#DejaVuSans-119\"/>\r\n       <use x=\"81.787109\" xlink:href=\"#DejaVuSans-104\"/>\r\n       <use x=\"145.166016\" xlink:href=\"#DejaVuSans-105\"/>\r\n       <use x=\"172.949219\" xlink:href=\"#DejaVuSans-99\"/>\r\n       <use x=\"227.929688\" xlink:href=\"#DejaVuSans-104\"/>\r\n      </g>\r\n     </g>\r\n    </g>\r\n    <g id=\"ytick_62\">\r\n     <g id=\"line2d_69\">\r\n      <g>\r\n       <use style=\"stroke:#000000;stroke-width:0.8;\" x=\"73.1\" xlink:href=\"#mc9b62bf7f0\" y=\"508.671\"/>\r\n      </g>\r\n     </g>\r\n     <g id=\"text_70\">\r\n      <!-- while -->\r\n      <g transform=\"translate(39.875 512.470219)scale(0.1 -0.1)\">\r\n       <use xlink:href=\"#DejaVuSans-119\"/>\r\n       <use x=\"81.787109\" xlink:href=\"#DejaVuSans-104\"/>\r\n       <use x=\"145.166016\" xlink:href=\"#DejaVuSans-105\"/>\r\n       <use x=\"172.949219\" xlink:href=\"#DejaVuSans-108\"/>\r\n       <use x=\"200.732422\" xlink:href=\"#DejaVuSans-101\"/>\r\n      </g>\r\n     </g>\r\n    </g>\r\n    <g id=\"ytick_63\">\r\n     <g id=\"line2d_70\">\r\n      <g>\r\n       <use style=\"stroke:#000000;stroke-width:0.8;\" x=\"73.1\" xlink:href=\"#mc9b62bf7f0\" y=\"516.825\"/>\r\n      </g>\r\n     </g>\r\n     <g id=\"text_71\">\r\n      <!-- where -->\r\n      <g transform=\"translate(35.392187 520.624219)scale(0.1 -0.1)\">\r\n       <use xlink:href=\"#DejaVuSans-119\"/>\r\n       <use x=\"81.787109\" xlink:href=\"#DejaVuSans-104\"/>\r\n       <use x=\"145.166016\" xlink:href=\"#DejaVuSans-101\"/>\r\n       <use x=\"206.689453\" xlink:href=\"#DejaVuSans-114\"/>\r\n       <use x=\"245.552734\" xlink:href=\"#DejaVuSans-101\"/>\r\n      </g>\r\n     </g>\r\n    </g>\r\n    <g id=\"ytick_64\">\r\n     <g id=\"line2d_71\">\r\n      <g>\r\n       <use style=\"stroke:#000000;stroke-width:0.8;\" x=\"73.1\" xlink:href=\"#mc9b62bf7f0\" y=\"524.979\"/>\r\n      </g>\r\n     </g>\r\n     <g id=\"text_72\">\r\n      <!-- its -->\r\n      <g transform=\"translate(54.192187 528.778219)scale(0.1 -0.1)\">\r\n       <use xlink:href=\"#DejaVuSans-105\"/>\r\n       <use x=\"27.783203\" xlink:href=\"#DejaVuSans-116\"/>\r\n       <use x=\"66.992188\" xlink:href=\"#DejaVuSans-115\"/>\r\n      </g>\r\n     </g>\r\n    </g>\r\n    <g id=\"ytick_65\">\r\n     <g id=\"line2d_72\">\r\n      <g>\r\n       <use style=\"stroke:#000000;stroke-width:0.8;\" x=\"73.1\" xlink:href=\"#mc9b62bf7f0\" y=\"533.133\"/>\r\n      </g>\r\n     </g>\r\n     <g id=\"text_73\">\r\n      <!-- get -->\r\n      <g transform=\"translate(49.678125 536.932219)scale(0.1 -0.1)\">\r\n       <use xlink:href=\"#DejaVuSans-103\"/>\r\n       <use x=\"63.476562\" xlink:href=\"#DejaVuSans-101\"/>\r\n       <use x=\"125\" xlink:href=\"#DejaVuSans-116\"/>\r\n      </g>\r\n     </g>\r\n    </g>\r\n    <g id=\"ytick_66\">\r\n     <g id=\"line2d_73\">\r\n      <g>\r\n       <use style=\"stroke:#000000;stroke-width:0.8;\" x=\"73.1\" xlink:href=\"#mc9b62bf7f0\" y=\"541.287\"/>\r\n      </g>\r\n     </g>\r\n     <g id=\"text_74\">\r\n      <!-- father -->\r\n      <g transform=\"translate(35.929687 545.086219)scale(0.1 -0.1)\">\r\n       <use xlink:href=\"#DejaVuSans-102\"/>\r\n       <use x=\"35.205078\" xlink:href=\"#DejaVuSans-97\"/>\r\n       <use x=\"96.484375\" xlink:href=\"#DejaVuSans-116\"/>\r\n       <use x=\"135.693359\" xlink:href=\"#DejaVuSans-104\"/>\r\n       <use x=\"199.072266\" xlink:href=\"#DejaVuSans-101\"/>\r\n       <use x=\"260.595703\" xlink:href=\"#DejaVuSans-114\"/>\r\n      </g>\r\n     </g>\r\n    </g>\r\n    <g id=\"ytick_67\">\r\n     <g id=\"line2d_74\">\r\n      <g>\r\n       <use style=\"stroke:#000000;stroke-width:0.8;\" x=\"73.1\" xlink:href=\"#mc9b62bf7f0\" y=\"549.441\"/>\r\n      </g>\r\n     </g>\r\n     <g id=\"text_75\">\r\n      <!-- finds -->\r\n      <g transform=\"translate(41.90625 553.240219)scale(0.1 -0.1)\">\r\n       <use xlink:href=\"#DejaVuSans-102\"/>\r\n       <use x=\"35.205078\" xlink:href=\"#DejaVuSans-105\"/>\r\n       <use x=\"62.988281\" xlink:href=\"#DejaVuSans-110\"/>\r\n       <use x=\"126.367188\" xlink:href=\"#DejaVuSans-100\"/>\r\n       <use x=\"189.84375\" xlink:href=\"#DejaVuSans-115\"/>\r\n      </g>\r\n     </g>\r\n    </g>\r\n    <g id=\"ytick_68\">\r\n     <g id=\"line2d_75\">\r\n      <g>\r\n       <use style=\"stroke:#000000;stroke-width:0.8;\" x=\"73.1\" xlink:href=\"#mc9b62bf7f0\" y=\"557.595\"/>\r\n      </g>\r\n     </g>\r\n     <g id=\"text_76\">\r\n      <!-- can -->\r\n      <g transform=\"translate(48.135937 561.394219)scale(0.1 -0.1)\">\r\n       <use xlink:href=\"#DejaVuSans-99\"/>\r\n       <use x=\"54.980469\" xlink:href=\"#DejaVuSans-97\"/>\r\n       <use x=\"116.259766\" xlink:href=\"#DejaVuSans-110\"/>\r\n      </g>\r\n     </g>\r\n    </g>\r\n    <g id=\"ytick_69\">\r\n     <g id=\"line2d_76\">\r\n      <g>\r\n       <use style=\"stroke:#000000;stroke-width:0.8;\" x=\"73.1\" xlink:href=\"#mc9b62bf7f0\" y=\"565.749\"/>\r\n      </g>\r\n     </g>\r\n     <g id=\"text_77\">\r\n      <!-- first -->\r\n      <g transform=\"translate(46.560937 569.548219)scale(0.1 -0.1)\">\r\n       <use xlink:href=\"#DejaVuSans-102\"/>\r\n       <use x=\"35.205078\" xlink:href=\"#DejaVuSans-105\"/>\r\n       <use x=\"62.988281\" xlink:href=\"#DejaVuSans-114\"/>\r\n       <use x=\"104.101562\" xlink:href=\"#DejaVuSans-115\"/>\r\n       <use x=\"156.201172\" xlink:href=\"#DejaVuSans-116\"/>\r\n      </g>\r\n     </g>\r\n    </g>\r\n    <g id=\"ytick_70\">\r\n     <g id=\"line2d_77\">\r\n      <g>\r\n       <use style=\"stroke:#000000;stroke-width:0.8;\" x=\"73.1\" xlink:href=\"#mc9b62bf7f0\" y=\"573.903\"/>\r\n      </g>\r\n     </g>\r\n     <g id=\"text_78\">\r\n      <!-- back -->\r\n      <g transform=\"translate(42.334375 577.702219)scale(0.1 -0.1)\">\r\n       <defs>\r\n        <path d=\"M 9.078125 75.984375 \r\nL 18.109375 75.984375 \r\nL 18.109375 31.109375 \r\nL 44.921875 54.6875 \r\nL 56.390625 54.6875 \r\nL 27.390625 29.109375 \r\nL 57.625 0 \r\nL 45.90625 0 \r\nL 18.109375 26.703125 \r\nL 18.109375 0 \r\nL 9.078125 0 \r\nz\r\n\" id=\"DejaVuSans-107\"/>\r\n       </defs>\r\n       <use xlink:href=\"#DejaVuSans-98\"/>\r\n       <use x=\"63.476562\" xlink:href=\"#DejaVuSans-97\"/>\r\n       <use x=\"124.755859\" xlink:href=\"#DejaVuSans-99\"/>\r\n       <use x=\"179.736328\" xlink:href=\"#DejaVuSans-107\"/>\r\n      </g>\r\n     </g>\r\n    </g>\r\n    <g id=\"ytick_71\">\r\n     <g id=\"line2d_78\">\r\n      <g>\r\n       <use style=\"stroke:#000000;stroke-width:0.8;\" x=\"73.1\" xlink:href=\"#mc9b62bf7f0\" y=\"582.057\"/>\r\n      </g>\r\n     </g>\r\n     <g id=\"text_79\">\r\n      <!-- war -->\r\n      <g transform=\"translate(47.682812 585.856219)scale(0.1 -0.1)\">\r\n       <use xlink:href=\"#DejaVuSans-119\"/>\r\n       <use x=\"81.787109\" xlink:href=\"#DejaVuSans-97\"/>\r\n       <use x=\"143.066406\" xlink:href=\"#DejaVuSans-114\"/>\r\n      </g>\r\n     </g>\r\n    </g>\r\n    <g id=\"ytick_72\">\r\n     <g id=\"line2d_79\">\r\n      <g>\r\n       <use style=\"stroke:#000000;stroke-width:0.8;\" x=\"73.1\" xlink:href=\"#mc9b62bf7f0\" y=\"590.211\"/>\r\n      </g>\r\n     </g>\r\n     <g id=\"text_80\">\r\n      <!-- year -->\r\n      <g transform=\"translate(43.789062 594.010219)scale(0.1 -0.1)\">\r\n       <use xlink:href=\"#DejaVuSans-121\"/>\r\n       <use x=\"59.179688\" xlink:href=\"#DejaVuSans-101\"/>\r\n       <use x=\"120.703125\" xlink:href=\"#DejaVuSans-97\"/>\r\n       <use x=\"181.982422\" xlink:href=\"#DejaVuSans-114\"/>\r\n      </g>\r\n     </g>\r\n    </g>\r\n    <g id=\"ytick_73\">\r\n     <g id=\"line2d_80\">\r\n      <g>\r\n       <use style=\"stroke:#000000;stroke-width:0.8;\" x=\"73.1\" xlink:href=\"#mc9b62bf7f0\" y=\"598.365\"/>\r\n      </g>\r\n     </g>\r\n     <g id=\"text_81\">\r\n      <!-- friends -->\r\n      <g transform=\"translate(31.642187 602.164219)scale(0.1 -0.1)\">\r\n       <use xlink:href=\"#DejaVuSans-102\"/>\r\n       <use x=\"35.205078\" xlink:href=\"#DejaVuSans-114\"/>\r\n       <use x=\"76.318359\" xlink:href=\"#DejaVuSans-105\"/>\r\n       <use x=\"104.101562\" xlink:href=\"#DejaVuSans-101\"/>\r\n       <use x=\"165.625\" xlink:href=\"#DejaVuSans-110\"/>\r\n       <use x=\"229.003906\" xlink:href=\"#DejaVuSans-100\"/>\r\n       <use x=\"292.480469\" xlink:href=\"#DejaVuSans-115\"/>\r\n      </g>\r\n     </g>\r\n    </g>\r\n    <g id=\"ytick_74\">\r\n     <g id=\"line2d_81\">\r\n      <g>\r\n       <use style=\"stroke:#000000;stroke-width:0.8;\" x=\"73.1\" xlink:href=\"#mc9b62bf7f0\" y=\"606.519\"/>\r\n      </g>\r\n     </g>\r\n     <g id=\"text_82\">\r\n      <!-- wife -->\r\n      <g transform=\"translate(45.470312 610.318219)scale(0.1 -0.1)\">\r\n       <use xlink:href=\"#DejaVuSans-119\"/>\r\n       <use x=\"81.787109\" xlink:href=\"#DejaVuSans-105\"/>\r\n       <use x=\"109.570312\" xlink:href=\"#DejaVuSans-102\"/>\r\n       <use x=\"144.775391\" xlink:href=\"#DejaVuSans-101\"/>\r\n      </g>\r\n     </g>\r\n    </g>\r\n    <g id=\"ytick_75\">\r\n     <g id=\"line2d_82\">\r\n      <g>\r\n       <use style=\"stroke:#000000;stroke-width:0.8;\" x=\"73.1\" xlink:href=\"#mc9b62bf7f0\" y=\"614.673\"/>\r\n      </g>\r\n     </g>\r\n     <g id=\"text_83\">\r\n      <!-- must -->\r\n      <g transform=\"translate(40.892187 618.472219)scale(0.1 -0.1)\">\r\n       <use xlink:href=\"#DejaVuSans-109\"/>\r\n       <use x=\"97.412109\" xlink:href=\"#DejaVuSans-117\"/>\r\n       <use x=\"160.791016\" xlink:href=\"#DejaVuSans-115\"/>\r\n       <use x=\"212.890625\" xlink:href=\"#DejaVuSans-116\"/>\r\n      </g>\r\n     </g>\r\n    </g>\r\n    <g id=\"ytick_76\">\r\n     <g id=\"line2d_83\">\r\n      <g>\r\n       <use style=\"stroke:#000000;stroke-width:0.8;\" x=\"73.1\" xlink:href=\"#mc9b62bf7f0\" y=\"622.827\"/>\r\n      </g>\r\n     </g>\r\n     <g id=\"text_84\">\r\n      <!-- what -->\r\n      <g transform=\"translate(41.535937 626.626219)scale(0.1 -0.1)\">\r\n       <use xlink:href=\"#DejaVuSans-119\"/>\r\n       <use x=\"81.787109\" xlink:href=\"#DejaVuSans-104\"/>\r\n       <use x=\"145.166016\" xlink:href=\"#DejaVuSans-97\"/>\r\n       <use x=\"206.445312\" xlink:href=\"#DejaVuSans-116\"/>\r\n      </g>\r\n     </g>\r\n    </g>\r\n    <g id=\"ytick_77\">\r\n     <g id=\"line2d_84\">\r\n      <g>\r\n       <use style=\"stroke:#000000;stroke-width:0.8;\" x=\"73.1\" xlink:href=\"#mc9b62bf7f0\" y=\"630.981\"/>\r\n      </g>\r\n     </g>\r\n     <g id=\"text_85\">\r\n      <!-- lives -->\r\n      <g transform=\"translate(43.2625 634.780219)scale(0.1 -0.1)\">\r\n       <use xlink:href=\"#DejaVuSans-108\"/>\r\n       <use x=\"27.783203\" xlink:href=\"#DejaVuSans-105\"/>\r\n       <use x=\"55.566406\" xlink:href=\"#DejaVuSans-118\"/>\r\n       <use x=\"114.746094\" xlink:href=\"#DejaVuSans-101\"/>\r\n       <use x=\"176.269531\" xlink:href=\"#DejaVuSans-115\"/>\r\n      </g>\r\n     </g>\r\n    </g>\r\n    <g id=\"ytick_78\">\r\n     <g id=\"line2d_85\">\r\n      <g>\r\n       <use style=\"stroke:#000000;stroke-width:0.8;\" x=\"73.1\" xlink:href=\"#mc9b62bf7f0\" y=\"639.135\"/>\r\n      </g>\r\n     </g>\r\n     <g id=\"text_86\">\r\n      <!-- more -->\r\n      <g transform=\"translate(40.201562 642.934219)scale(0.1 -0.1)\">\r\n       <use xlink:href=\"#DejaVuSans-109\"/>\r\n       <use x=\"97.412109\" xlink:href=\"#DejaVuSans-111\"/>\r\n       <use x=\"158.59375\" xlink:href=\"#DejaVuSans-114\"/>\r\n       <use x=\"197.457031\" xlink:href=\"#DejaVuSans-101\"/>\r\n      </g>\r\n     </g>\r\n    </g>\r\n    <g id=\"ytick_79\">\r\n     <g id=\"line2d_86\">\r\n      <g>\r\n       <use style=\"stroke:#000000;stroke-width:0.8;\" x=\"73.1\" xlink:href=\"#mc9b62bf7f0\" y=\"647.289\"/>\r\n      </g>\r\n     </g>\r\n     <g id=\"text_87\">\r\n      <!-- other -->\r\n      <g transform=\"translate(39.459375 651.088219)scale(0.1 -0.1)\">\r\n       <use xlink:href=\"#DejaVuSans-111\"/>\r\n       <use x=\"61.181641\" xlink:href=\"#DejaVuSans-116\"/>\r\n       <use x=\"100.390625\" xlink:href=\"#DejaVuSans-104\"/>\r\n       <use x=\"163.769531\" xlink:href=\"#DejaVuSans-101\"/>\r\n       <use x=\"225.292969\" xlink:href=\"#DejaVuSans-114\"/>\r\n      </g>\r\n     </g>\r\n    </g>\r\n    <g id=\"ytick_80\">\r\n     <g id=\"line2d_87\">\r\n      <g>\r\n       <use style=\"stroke:#000000;stroke-width:0.8;\" x=\"73.1\" xlink:href=\"#mc9b62bf7f0\" y=\"655.443\"/>\r\n      </g>\r\n     </g>\r\n     <g id=\"text_88\">\r\n      <!-- girl -->\r\n      <g transform=\"translate(50.084375 659.242219)scale(0.1 -0.1)\">\r\n       <use xlink:href=\"#DejaVuSans-103\"/>\r\n       <use x=\"63.476562\" xlink:href=\"#DejaVuSans-105\"/>\r\n       <use x=\"91.259766\" xlink:href=\"#DejaVuSans-114\"/>\r\n       <use x=\"132.373047\" xlink:href=\"#DejaVuSans-108\"/>\r\n      </g>\r\n     </g>\r\n    </g>\r\n    <g id=\"ytick_81\">\r\n     <g id=\"line2d_88\">\r\n      <g>\r\n       <use style=\"stroke:#000000;stroke-width:0.8;\" x=\"73.1\" xlink:href=\"#mc9b62bf7f0\" y=\"663.597\"/>\r\n      </g>\r\n     </g>\r\n     <g id=\"text_89\">\r\n      <!-- through -->\r\n      <g transform=\"translate(26.814062 667.396219)scale(0.1 -0.1)\">\r\n       <use xlink:href=\"#DejaVuSans-116\"/>\r\n       <use x=\"39.208984\" xlink:href=\"#DejaVuSans-104\"/>\r\n       <use x=\"102.587891\" xlink:href=\"#DejaVuSans-114\"/>\r\n       <use x=\"141.451172\" xlink:href=\"#DejaVuSans-111\"/>\r\n       <use x=\"202.632812\" xlink:href=\"#DejaVuSans-117\"/>\r\n       <use x=\"266.011719\" xlink:href=\"#DejaVuSans-103\"/>\r\n       <use x=\"329.488281\" xlink:href=\"#DejaVuSans-104\"/>\r\n      </g>\r\n     </g>\r\n    </g>\r\n    <g id=\"ytick_82\">\r\n     <g id=\"line2d_89\">\r\n      <g>\r\n       <use style=\"stroke:#000000;stroke-width:0.8;\" x=\"73.1\" xlink:href=\"#mc9b62bf7f0\" y=\"671.751\"/>\r\n      </g>\r\n     </g>\r\n     <g id=\"text_90\">\r\n      <!-- home -->\r\n      <g transform=\"translate(37.75 675.550219)scale(0.1 -0.1)\">\r\n       <use xlink:href=\"#DejaVuSans-104\"/>\r\n       <use x=\"63.378906\" xlink:href=\"#DejaVuSans-111\"/>\r\n       <use x=\"124.560547\" xlink:href=\"#DejaVuSans-109\"/>\r\n       <use x=\"221.972656\" xlink:href=\"#DejaVuSans-101\"/>\r\n      </g>\r\n     </g>\r\n    </g>\r\n    <g id=\"ytick_83\">\r\n     <g id=\"line2d_90\">\r\n      <g>\r\n       <use style=\"stroke:#000000;stroke-width:0.8;\" x=\"73.1\" xlink:href=\"#mc9b62bf7f0\" y=\"679.905\"/>\r\n      </g>\r\n     </g>\r\n     <g id=\"text_91\">\r\n      <!-- town -->\r\n      <g transform=\"translate(41.545312 683.704219)scale(0.1 -0.1)\">\r\n       <use xlink:href=\"#DejaVuSans-116\"/>\r\n       <use x=\"39.208984\" xlink:href=\"#DejaVuSans-111\"/>\r\n       <use x=\"100.390625\" xlink:href=\"#DejaVuSans-119\"/>\r\n       <use x=\"182.177734\" xlink:href=\"#DejaVuSans-110\"/>\r\n      </g>\r\n     </g>\r\n    </g>\r\n    <g id=\"ytick_84\">\r\n     <g id=\"line2d_91\">\r\n      <g>\r\n       <use style=\"stroke:#000000;stroke-width:0.8;\" x=\"73.1\" xlink:href=\"#mc9b62bf7f0\" y=\"688.059\"/>\r\n      </g>\r\n     </g>\r\n     <g id=\"text_92\">\r\n      <!-- own -->\r\n      <g transform=\"translate(45.465625 691.858219)scale(0.1 -0.1)\">\r\n       <use xlink:href=\"#DejaVuSans-111\"/>\r\n       <use x=\"61.181641\" xlink:href=\"#DejaVuSans-119\"/>\r\n       <use x=\"142.96875\" xlink:href=\"#DejaVuSans-110\"/>\r\n      </g>\r\n     </g>\r\n    </g>\r\n    <g id=\"ytick_85\">\r\n     <g id=\"line2d_92\">\r\n      <g>\r\n       <use style=\"stroke:#000000;stroke-width:0.8;\" x=\"73.1\" xlink:href=\"#mc9b62bf7f0\" y=\"696.213\"/>\r\n      </g>\r\n     </g>\r\n     <g id=\"text_93\">\r\n      <!-- been -->\r\n      <g transform=\"translate(41.107812 700.012219)scale(0.1 -0.1)\">\r\n       <use xlink:href=\"#DejaVuSans-98\"/>\r\n       <use x=\"63.476562\" xlink:href=\"#DejaVuSans-101\"/>\r\n       <use x=\"125\" xlink:href=\"#DejaVuSans-101\"/>\r\n       <use x=\"186.523438\" xlink:href=\"#DejaVuSans-110\"/>\r\n      </g>\r\n     </g>\r\n    </g>\r\n    <g id=\"ytick_86\">\r\n     <g id=\"line2d_93\">\r\n      <g>\r\n       <use style=\"stroke:#000000;stroke-width:0.8;\" x=\"73.1\" xlink:href=\"#mc9b62bf7f0\" y=\"704.367\"/>\r\n      </g>\r\n     </g>\r\n     <g id=\"text_94\">\r\n      <!-- day -->\r\n      <g transform=\"translate(47.704687 708.166219)scale(0.1 -0.1)\">\r\n       <use xlink:href=\"#DejaVuSans-100\"/>\r\n       <use x=\"63.476562\" xlink:href=\"#DejaVuSans-97\"/>\r\n       <use x=\"124.755859\" xlink:href=\"#DejaVuSans-121\"/>\r\n      </g>\r\n     </g>\r\n    </g>\r\n    <g id=\"ytick_87\">\r\n     <g id=\"line2d_94\">\r\n      <g>\r\n       <use style=\"stroke:#000000;stroke-width:0.8;\" x=\"73.1\" xlink:href=\"#mc9b62bf7f0\" y=\"712.521\"/>\r\n      </g>\r\n     </g>\r\n     <g id=\"text_95\">\r\n      <!-- over -->\r\n      <g transform=\"translate(43.798437 716.320219)scale(0.1 -0.1)\">\r\n       <use xlink:href=\"#DejaVuSans-111\"/>\r\n       <use x=\"61.181641\" xlink:href=\"#DejaVuSans-118\"/>\r\n       <use x=\"120.361328\" xlink:href=\"#DejaVuSans-101\"/>\r\n       <use x=\"181.884766\" xlink:href=\"#DejaVuSans-114\"/>\r\n      </g>\r\n     </g>\r\n    </g>\r\n    <g id=\"ytick_88\">\r\n     <g id=\"line2d_95\">\r\n      <g>\r\n       <use style=\"stroke:#000000;stroke-width:0.8;\" x=\"73.1\" xlink:href=\"#mc9b62bf7f0\" y=\"720.675\"/>\r\n      </g>\r\n     </g>\r\n     <g id=\"text_96\">\r\n      <!-- way -->\r\n      <g transform=\"translate(45.875 724.474219)scale(0.1 -0.1)\">\r\n       <use xlink:href=\"#DejaVuSans-119\"/>\r\n       <use x=\"81.787109\" xlink:href=\"#DejaVuSans-97\"/>\r\n       <use x=\"143.066406\" xlink:href=\"#DejaVuSans-121\"/>\r\n      </g>\r\n     </g>\r\n    </g>\r\n    <g id=\"ytick_89\">\r\n     <g id=\"line2d_96\">\r\n      <g>\r\n       <use style=\"stroke:#000000;stroke-width:0.8;\" x=\"73.1\" xlink:href=\"#mc9b62bf7f0\" y=\"728.829\"/>\r\n      </g>\r\n     </g>\r\n     <g id=\"text_97\">\r\n      <!-- school -->\r\n      <g transform=\"translate(34.039062 732.628219)scale(0.1 -0.1)\">\r\n       <use xlink:href=\"#DejaVuSans-115\"/>\r\n       <use x=\"52.099609\" xlink:href=\"#DejaVuSans-99\"/>\r\n       <use x=\"107.080078\" xlink:href=\"#DejaVuSans-104\"/>\r\n       <use x=\"170.458984\" xlink:href=\"#DejaVuSans-111\"/>\r\n       <use x=\"231.640625\" xlink:href=\"#DejaVuSans-111\"/>\r\n       <use x=\"292.822266\" xlink:href=\"#DejaVuSans-108\"/>\r\n      </g>\r\n     </g>\r\n    </g>\r\n    <g id=\"ytick_90\">\r\n     <g id=\"line2d_97\">\r\n      <g>\r\n       <use style=\"stroke:#000000;stroke-width:0.8;\" x=\"73.1\" xlink:href=\"#mc9b62bf7f0\" y=\"736.983\"/>\r\n      </g>\r\n     </g>\r\n     <g id=\"text_98\">\r\n      <!-- so -->\r\n      <g transform=\"translate(54.771875 740.782219)scale(0.1 -0.1)\">\r\n       <use xlink:href=\"#DejaVuSans-115\"/>\r\n       <use x=\"52.099609\" xlink:href=\"#DejaVuSans-111\"/>\r\n      </g>\r\n     </g>\r\n    </g>\r\n    <g id=\"ytick_91\">\r\n     <g id=\"line2d_98\">\r\n      <g>\r\n       <use style=\"stroke:#000000;stroke-width:0.8;\" x=\"73.1\" xlink:href=\"#mc9b62bf7f0\" y=\"745.137\"/>\r\n      </g>\r\n     </g>\r\n     <g id=\"text_99\">\r\n      <!-- between -->\r\n      <g transform=\"translate(22.85625 748.936219)scale(0.1 -0.1)\">\r\n       <use xlink:href=\"#DejaVuSans-98\"/>\r\n       <use x=\"63.476562\" xlink:href=\"#DejaVuSans-101\"/>\r\n       <use x=\"125\" xlink:href=\"#DejaVuSans-116\"/>\r\n       <use x=\"164.208984\" xlink:href=\"#DejaVuSans-119\"/>\r\n       <use x=\"245.996094\" xlink:href=\"#DejaVuSans-101\"/>\r\n       <use x=\"307.519531\" xlink:href=\"#DejaVuSans-101\"/>\r\n       <use x=\"369.042969\" xlink:href=\"#DejaVuSans-110\"/>\r\n      </g>\r\n     </g>\r\n    </g>\r\n    <g id=\"ytick_92\">\r\n     <g id=\"line2d_99\">\r\n      <g>\r\n       <use style=\"stroke:#000000;stroke-width:0.8;\" x=\"73.1\" xlink:href=\"#mc9b62bf7f0\" y=\"753.291\"/>\r\n      </g>\r\n     </g>\r\n     <g id=\"text_100\">\r\n      <!-- help -->\r\n      <g transform=\"translate(44.482812 757.090219)scale(0.1 -0.1)\">\r\n       <use xlink:href=\"#DejaVuSans-104\"/>\r\n       <use x=\"63.378906\" xlink:href=\"#DejaVuSans-101\"/>\r\n       <use x=\"124.902344\" xlink:href=\"#DejaVuSans-108\"/>\r\n       <use x=\"152.685547\" xlink:href=\"#DejaVuSans-112\"/>\r\n      </g>\r\n     </g>\r\n    </g>\r\n    <g id=\"ytick_93\">\r\n     <g id=\"line2d_100\">\r\n      <g>\r\n       <use style=\"stroke:#000000;stroke-width:0.8;\" x=\"73.1\" xlink:href=\"#mc9b62bf7f0\" y=\"761.445\"/>\r\n      </g>\r\n     </g>\r\n     <g id=\"text_101\">\r\n      <!-- during -->\r\n      <g transform=\"translate(33.839062 765.244219)scale(0.1 -0.1)\">\r\n       <use xlink:href=\"#DejaVuSans-100\"/>\r\n       <use x=\"63.476562\" xlink:href=\"#DejaVuSans-117\"/>\r\n       <use x=\"126.855469\" xlink:href=\"#DejaVuSans-114\"/>\r\n       <use x=\"167.96875\" xlink:href=\"#DejaVuSans-105\"/>\r\n       <use x=\"195.751953\" xlink:href=\"#DejaVuSans-110\"/>\r\n       <use x=\"259.130859\" xlink:href=\"#DejaVuSans-103\"/>\r\n      </g>\r\n     </g>\r\n    </g>\r\n    <g id=\"ytick_94\">\r\n     <g id=\"line2d_101\">\r\n      <g>\r\n       <use style=\"stroke:#000000;stroke-width:0.8;\" x=\"73.1\" xlink:href=\"#mc9b62bf7f0\" y=\"769.599\"/>\r\n      </g>\r\n     </g>\r\n     <g id=\"text_102\">\r\n      <!-- three -->\r\n      <g transform=\"translate(39.65 773.398219)scale(0.1 -0.1)\">\r\n       <use xlink:href=\"#DejaVuSans-116\"/>\r\n       <use x=\"39.208984\" xlink:href=\"#DejaVuSans-104\"/>\r\n       <use x=\"102.587891\" xlink:href=\"#DejaVuSans-114\"/>\r\n       <use x=\"141.451172\" xlink:href=\"#DejaVuSans-101\"/>\r\n       <use x=\"202.974609\" xlink:href=\"#DejaVuSans-101\"/>\r\n      </g>\r\n     </g>\r\n    </g>\r\n    <g id=\"ytick_95\">\r\n     <g id=\"line2d_102\">\r\n      <g>\r\n       <use style=\"stroke:#000000;stroke-width:0.8;\" x=\"73.1\" xlink:href=\"#mc9b62bf7f0\" y=\"777.753\"/>\r\n      </g>\r\n     </g>\r\n     <g id=\"text_103\">\r\n      <!-- or -->\r\n      <g transform=\"translate(55.870312 781.552219)scale(0.1 -0.1)\">\r\n       <use xlink:href=\"#DejaVuSans-111\"/>\r\n       <use x=\"61.181641\" xlink:href=\"#DejaVuSans-114\"/>\r\n      </g>\r\n     </g>\r\n    </g>\r\n    <g id=\"ytick_96\">\r\n     <g id=\"line2d_103\">\r\n      <g>\r\n       <use style=\"stroke:#000000;stroke-width:0.8;\" x=\"73.1\" xlink:href=\"#mc9b62bf7f0\" y=\"785.907\"/>\r\n      </g>\r\n     </g>\r\n     <g id=\"text_104\">\r\n      <!-- takes -->\r\n      <g transform=\"translate(39.260937 789.706219)scale(0.1 -0.1)\">\r\n       <use xlink:href=\"#DejaVuSans-116\"/>\r\n       <use x=\"39.208984\" xlink:href=\"#DejaVuSans-97\"/>\r\n       <use x=\"100.488281\" xlink:href=\"#DejaVuSans-107\"/>\r\n       <use x=\"154.773438\" xlink:href=\"#DejaVuSans-101\"/>\r\n       <use x=\"216.296875\" xlink:href=\"#DejaVuSans-115\"/>\r\n      </g>\r\n     </g>\r\n    </g>\r\n    <g id=\"ytick_97\">\r\n     <g id=\"line2d_104\">\r\n      <g>\r\n       <use style=\"stroke:#000000;stroke-width:0.8;\" x=\"73.1\" xlink:href=\"#mc9b62bf7f0\" y=\"794.061\"/>\r\n      </g>\r\n     </g>\r\n     <g id=\"text_105\">\r\n      <!-- people -->\r\n      <g transform=\"translate(32.2 797.860219)scale(0.1 -0.1)\">\r\n       <use xlink:href=\"#DejaVuSans-112\"/>\r\n       <use x=\"63.476562\" xlink:href=\"#DejaVuSans-101\"/>\r\n       <use x=\"125\" xlink:href=\"#DejaVuSans-111\"/>\r\n       <use x=\"186.181641\" xlink:href=\"#DejaVuSans-112\"/>\r\n       <use x=\"249.658203\" xlink:href=\"#DejaVuSans-108\"/>\r\n       <use x=\"277.441406\" xlink:href=\"#DejaVuSans-101\"/>\r\n      </g>\r\n     </g>\r\n    </g>\r\n    <g id=\"ytick_98\">\r\n     <g id=\"line2d_105\">\r\n      <g>\r\n       <use style=\"stroke:#000000;stroke-width:0.8;\" x=\"73.1\" xlink:href=\"#mc9b62bf7f0\" y=\"802.215\"/>\r\n      </g>\r\n     </g>\r\n     <g id=\"text_106\">\r\n      <!-- mother -->\r\n      <g transform=\"translate(29.71875 806.014219)scale(0.1 -0.1)\">\r\n       <use xlink:href=\"#DejaVuSans-109\"/>\r\n       <use x=\"97.412109\" xlink:href=\"#DejaVuSans-111\"/>\r\n       <use x=\"158.59375\" xlink:href=\"#DejaVuSans-116\"/>\r\n       <use x=\"197.802734\" xlink:href=\"#DejaVuSans-104\"/>\r\n       <use x=\"261.181641\" xlink:href=\"#DejaVuSans-101\"/>\r\n       <use x=\"322.705078\" xlink:href=\"#DejaVuSans-114\"/>\r\n      </g>\r\n     </g>\r\n    </g>\r\n    <g id=\"ytick_99\">\r\n     <g id=\"line2d_106\">\r\n      <g>\r\n       <use style=\"stroke:#000000;stroke-width:0.8;\" x=\"73.1\" xlink:href=\"#mc9b62bf7f0\" y=\"810.369\"/>\r\n      </g>\r\n     </g>\r\n     <g id=\"text_107\">\r\n      <!-- becomes -->\r\n      <g transform=\"translate(20.878125 814.168219)scale(0.1 -0.1)\">\r\n       <use xlink:href=\"#DejaVuSans-98\"/>\r\n       <use x=\"63.476562\" xlink:href=\"#DejaVuSans-101\"/>\r\n       <use x=\"125\" xlink:href=\"#DejaVuSans-99\"/>\r\n       <use x=\"179.980469\" xlink:href=\"#DejaVuSans-111\"/>\r\n       <use x=\"241.162109\" xlink:href=\"#DejaVuSans-109\"/>\r\n       <use x=\"338.574219\" xlink:href=\"#DejaVuSans-101\"/>\r\n       <use x=\"400.097656\" xlink:href=\"#DejaVuSans-115\"/>\r\n      </g>\r\n     </g>\r\n    </g>\r\n    <g id=\"ytick_100\">\r\n     <g id=\"line2d_107\">\r\n      <g>\r\n       <use style=\"stroke:#000000;stroke-width:0.8;\" x=\"73.1\" xlink:href=\"#mc9b62bf7f0\" y=\"818.523\"/>\r\n      </g>\r\n     </g>\r\n     <g id=\"text_108\">\r\n      <!-- himself -->\r\n      <g transform=\"translate(29.582812 822.322219)scale(0.1 -0.1)\">\r\n       <use xlink:href=\"#DejaVuSans-104\"/>\r\n       <use x=\"63.378906\" xlink:href=\"#DejaVuSans-105\"/>\r\n       <use x=\"91.162109\" xlink:href=\"#DejaVuSans-109\"/>\r\n       <use x=\"188.574219\" xlink:href=\"#DejaVuSans-115\"/>\r\n       <use x=\"240.673828\" xlink:href=\"#DejaVuSans-101\"/>\r\n       <use x=\"302.197266\" xlink:href=\"#DejaVuSans-108\"/>\r\n       <use x=\"329.980469\" xlink:href=\"#DejaVuSans-102\"/>\r\n      </g>\r\n     </g>\r\n    </g>\r\n    <g id=\"text_109\">\r\n     <!-- Word -->\r\n     <g transform=\"translate(14.798437 427.751562)rotate(-90)scale(0.1 -0.1)\">\r\n      <defs>\r\n       <path d=\"M 3.328125 72.90625 \r\nL 13.28125 72.90625 \r\nL 28.609375 11.28125 \r\nL 43.890625 72.90625 \r\nL 54.984375 72.90625 \r\nL 70.3125 11.28125 \r\nL 85.59375 72.90625 \r\nL 95.609375 72.90625 \r\nL 77.296875 0 \r\nL 64.890625 0 \r\nL 49.515625 63.28125 \r\nL 33.984375 0 \r\nL 21.578125 0 \r\nz\r\n\" id=\"DejaVuSans-87\"/>\r\n      </defs>\r\n      <use xlink:href=\"#DejaVuSans-87\"/>\r\n      <use x=\"93.001953\" xlink:href=\"#DejaVuSans-111\"/>\r\n      <use x=\"154.183594\" xlink:href=\"#DejaVuSans-114\"/>\r\n      <use x=\"193.546875\" xlink:href=\"#DejaVuSans-100\"/>\r\n     </g>\r\n    </g>\r\n   </g>\r\n   <g id=\"line2d_108\">\r\n    <path clip-path=\"url(#p152f6f648e)\" d=\"M 0 0 \r\n\" style=\"fill:none;stroke:#424242;stroke-linecap:square;stroke-width:2.7;\"/>\r\n   </g>\r\n   <g id=\"line2d_109\">\r\n    <path clip-path=\"url(#p152f6f648e)\" d=\"M 0 0 \r\n\" style=\"fill:none;stroke:#424242;stroke-linecap:square;stroke-width:2.7;\"/>\r\n   </g>\r\n   <g id=\"line2d_110\">\r\n    <path clip-path=\"url(#p152f6f648e)\" d=\"M 0 0 \r\n\" style=\"fill:none;stroke:#424242;stroke-linecap:square;stroke-width:2.7;\"/>\r\n   </g>\r\n   <g id=\"line2d_111\">\r\n    <path clip-path=\"url(#p152f6f648e)\" d=\"M 0 0 \r\n\" style=\"fill:none;stroke:#424242;stroke-linecap:square;stroke-width:2.7;\"/>\r\n   </g>\r\n   <g id=\"line2d_112\">\r\n    <path clip-path=\"url(#p152f6f648e)\" d=\"M 0 0 \r\n\" style=\"fill:none;stroke:#424242;stroke-linecap:square;stroke-width:2.7;\"/>\r\n   </g>\r\n   <g id=\"line2d_113\">\r\n    <path clip-path=\"url(#p152f6f648e)\" d=\"M 0 0 \r\n\" style=\"fill:none;stroke:#424242;stroke-linecap:square;stroke-width:2.7;\"/>\r\n   </g>\r\n   <g id=\"line2d_114\">\r\n    <path clip-path=\"url(#p152f6f648e)\" d=\"M 0 0 \r\n\" style=\"fill:none;stroke:#424242;stroke-linecap:square;stroke-width:2.7;\"/>\r\n   </g>\r\n   <g id=\"line2d_115\">\r\n    <path clip-path=\"url(#p152f6f648e)\" d=\"M 0 0 \r\n\" style=\"fill:none;stroke:#424242;stroke-linecap:square;stroke-width:2.7;\"/>\r\n   </g>\r\n   <g id=\"line2d_116\">\r\n    <path clip-path=\"url(#p152f6f648e)\" d=\"M 0 0 \r\n\" style=\"fill:none;stroke:#424242;stroke-linecap:square;stroke-width:2.7;\"/>\r\n   </g>\r\n   <g id=\"line2d_117\">\r\n    <path clip-path=\"url(#p152f6f648e)\" d=\"M 0 0 \r\n\" style=\"fill:none;stroke:#424242;stroke-linecap:square;stroke-width:2.7;\"/>\r\n   </g>\r\n   <g id=\"line2d_118\">\r\n    <path clip-path=\"url(#p152f6f648e)\" d=\"M 0 0 \r\n\" style=\"fill:none;stroke:#424242;stroke-linecap:square;stroke-width:2.7;\"/>\r\n   </g>\r\n   <g id=\"line2d_119\">\r\n    <path clip-path=\"url(#p152f6f648e)\" d=\"M 0 0 \r\n\" style=\"fill:none;stroke:#424242;stroke-linecap:square;stroke-width:2.7;\"/>\r\n   </g>\r\n   <g id=\"line2d_120\">\r\n    <path clip-path=\"url(#p152f6f648e)\" d=\"M 0 0 \r\n\" style=\"fill:none;stroke:#424242;stroke-linecap:square;stroke-width:2.7;\"/>\r\n   </g>\r\n   <g id=\"line2d_121\">\r\n    <path clip-path=\"url(#p152f6f648e)\" d=\"M 0 0 \r\n\" style=\"fill:none;stroke:#424242;stroke-linecap:square;stroke-width:2.7;\"/>\r\n   </g>\r\n   <g id=\"line2d_122\">\r\n    <path clip-path=\"url(#p152f6f648e)\" d=\"M 0 0 \r\n\" style=\"fill:none;stroke:#424242;stroke-linecap:square;stroke-width:2.7;\"/>\r\n   </g>\r\n   <g id=\"line2d_123\">\r\n    <path clip-path=\"url(#p152f6f648e)\" d=\"M 0 0 \r\n\" style=\"fill:none;stroke:#424242;stroke-linecap:square;stroke-width:2.7;\"/>\r\n   </g>\r\n   <g id=\"line2d_124\">\r\n    <path clip-path=\"url(#p152f6f648e)\" d=\"M 0 0 \r\n\" style=\"fill:none;stroke:#424242;stroke-linecap:square;stroke-width:2.7;\"/>\r\n   </g>\r\n   <g id=\"line2d_125\">\r\n    <path clip-path=\"url(#p152f6f648e)\" d=\"M 0 0 \r\n\" style=\"fill:none;stroke:#424242;stroke-linecap:square;stroke-width:2.7;\"/>\r\n   </g>\r\n   <g id=\"line2d_126\">\r\n    <path clip-path=\"url(#p152f6f648e)\" d=\"M 0 0 \r\n\" style=\"fill:none;stroke:#424242;stroke-linecap:square;stroke-width:2.7;\"/>\r\n   </g>\r\n   <g id=\"line2d_127\">\r\n    <path clip-path=\"url(#p152f6f648e)\" d=\"M 0 0 \r\n\" style=\"fill:none;stroke:#424242;stroke-linecap:square;stroke-width:2.7;\"/>\r\n   </g>\r\n   <g id=\"line2d_128\">\r\n    <path clip-path=\"url(#p152f6f648e)\" d=\"M 0 0 \r\n\" style=\"fill:none;stroke:#424242;stroke-linecap:square;stroke-width:2.7;\"/>\r\n   </g>\r\n   <g id=\"line2d_129\">\r\n    <path clip-path=\"url(#p152f6f648e)\" d=\"M 0 0 \r\n\" style=\"fill:none;stroke:#424242;stroke-linecap:square;stroke-width:2.7;\"/>\r\n   </g>\r\n   <g id=\"line2d_130\">\r\n    <path clip-path=\"url(#p152f6f648e)\" d=\"M 0 0 \r\n\" style=\"fill:none;stroke:#424242;stroke-linecap:square;stroke-width:2.7;\"/>\r\n   </g>\r\n   <g id=\"line2d_131\">\r\n    <path clip-path=\"url(#p152f6f648e)\" d=\"M 0 0 \r\n\" style=\"fill:none;stroke:#424242;stroke-linecap:square;stroke-width:2.7;\"/>\r\n   </g>\r\n   <g id=\"line2d_132\">\r\n    <path clip-path=\"url(#p152f6f648e)\" d=\"M 0 0 \r\n\" style=\"fill:none;stroke:#424242;stroke-linecap:square;stroke-width:2.7;\"/>\r\n   </g>\r\n   <g id=\"line2d_133\">\r\n    <path clip-path=\"url(#p152f6f648e)\" d=\"M 0 0 \r\n\" style=\"fill:none;stroke:#424242;stroke-linecap:square;stroke-width:2.7;\"/>\r\n   </g>\r\n   <g id=\"line2d_134\">\r\n    <path clip-path=\"url(#p152f6f648e)\" d=\"M 0 0 \r\n\" style=\"fill:none;stroke:#424242;stroke-linecap:square;stroke-width:2.7;\"/>\r\n   </g>\r\n   <g id=\"line2d_135\">\r\n    <path clip-path=\"url(#p152f6f648e)\" d=\"M 0 0 \r\n\" style=\"fill:none;stroke:#424242;stroke-linecap:square;stroke-width:2.7;\"/>\r\n   </g>\r\n   <g id=\"line2d_136\">\r\n    <path clip-path=\"url(#p152f6f648e)\" d=\"M 0 0 \r\n\" style=\"fill:none;stroke:#424242;stroke-linecap:square;stroke-width:2.7;\"/>\r\n   </g>\r\n   <g id=\"line2d_137\">\r\n    <path clip-path=\"url(#p152f6f648e)\" d=\"M 0 0 \r\n\" style=\"fill:none;stroke:#424242;stroke-linecap:square;stroke-width:2.7;\"/>\r\n   </g>\r\n   <g id=\"line2d_138\">\r\n    <path clip-path=\"url(#p152f6f648e)\" d=\"M 0 0 \r\n\" style=\"fill:none;stroke:#424242;stroke-linecap:square;stroke-width:2.7;\"/>\r\n   </g>\r\n   <g id=\"line2d_139\">\r\n    <path clip-path=\"url(#p152f6f648e)\" d=\"M 0 0 \r\n\" style=\"fill:none;stroke:#424242;stroke-linecap:square;stroke-width:2.7;\"/>\r\n   </g>\r\n   <g id=\"line2d_140\">\r\n    <path clip-path=\"url(#p152f6f648e)\" d=\"M 0 0 \r\n\" style=\"fill:none;stroke:#424242;stroke-linecap:square;stroke-width:2.7;\"/>\r\n   </g>\r\n   <g id=\"line2d_141\">\r\n    <path clip-path=\"url(#p152f6f648e)\" d=\"M 0 0 \r\n\" style=\"fill:none;stroke:#424242;stroke-linecap:square;stroke-width:2.7;\"/>\r\n   </g>\r\n   <g id=\"line2d_142\">\r\n    <path clip-path=\"url(#p152f6f648e)\" d=\"M 0 0 \r\n\" style=\"fill:none;stroke:#424242;stroke-linecap:square;stroke-width:2.7;\"/>\r\n   </g>\r\n   <g id=\"line2d_143\">\r\n    <path clip-path=\"url(#p152f6f648e)\" d=\"M 0 0 \r\n\" style=\"fill:none;stroke:#424242;stroke-linecap:square;stroke-width:2.7;\"/>\r\n   </g>\r\n   <g id=\"line2d_144\">\r\n    <path clip-path=\"url(#p152f6f648e)\" d=\"M 0 0 \r\n\" style=\"fill:none;stroke:#424242;stroke-linecap:square;stroke-width:2.7;\"/>\r\n   </g>\r\n   <g id=\"line2d_145\">\r\n    <path clip-path=\"url(#p152f6f648e)\" d=\"M 0 0 \r\n\" style=\"fill:none;stroke:#424242;stroke-linecap:square;stroke-width:2.7;\"/>\r\n   </g>\r\n   <g id=\"line2d_146\">\r\n    <path clip-path=\"url(#p152f6f648e)\" d=\"M 0 0 \r\n\" style=\"fill:none;stroke:#424242;stroke-linecap:square;stroke-width:2.7;\"/>\r\n   </g>\r\n   <g id=\"line2d_147\">\r\n    <path clip-path=\"url(#p152f6f648e)\" d=\"M 0 0 \r\n\" style=\"fill:none;stroke:#424242;stroke-linecap:square;stroke-width:2.7;\"/>\r\n   </g>\r\n   <g id=\"line2d_148\">\r\n    <path clip-path=\"url(#p152f6f648e)\" d=\"M 0 0 \r\n\" style=\"fill:none;stroke:#424242;stroke-linecap:square;stroke-width:2.7;\"/>\r\n   </g>\r\n   <g id=\"line2d_149\">\r\n    <path clip-path=\"url(#p152f6f648e)\" d=\"M 0 0 \r\n\" style=\"fill:none;stroke:#424242;stroke-linecap:square;stroke-width:2.7;\"/>\r\n   </g>\r\n   <g id=\"line2d_150\">\r\n    <path clip-path=\"url(#p152f6f648e)\" d=\"M 0 0 \r\n\" style=\"fill:none;stroke:#424242;stroke-linecap:square;stroke-width:2.7;\"/>\r\n   </g>\r\n   <g id=\"line2d_151\">\r\n    <path clip-path=\"url(#p152f6f648e)\" d=\"M 0 0 \r\n\" style=\"fill:none;stroke:#424242;stroke-linecap:square;stroke-width:2.7;\"/>\r\n   </g>\r\n   <g id=\"line2d_152\">\r\n    <path clip-path=\"url(#p152f6f648e)\" d=\"M 0 0 \r\n\" style=\"fill:none;stroke:#424242;stroke-linecap:square;stroke-width:2.7;\"/>\r\n   </g>\r\n   <g id=\"line2d_153\">\r\n    <path clip-path=\"url(#p152f6f648e)\" d=\"M 0 0 \r\n\" style=\"fill:none;stroke:#424242;stroke-linecap:square;stroke-width:2.7;\"/>\r\n   </g>\r\n   <g id=\"line2d_154\">\r\n    <path clip-path=\"url(#p152f6f648e)\" d=\"M 0 0 \r\n\" style=\"fill:none;stroke:#424242;stroke-linecap:square;stroke-width:2.7;\"/>\r\n   </g>\r\n   <g id=\"line2d_155\">\r\n    <path clip-path=\"url(#p152f6f648e)\" d=\"M 0 0 \r\n\" style=\"fill:none;stroke:#424242;stroke-linecap:square;stroke-width:2.7;\"/>\r\n   </g>\r\n   <g id=\"line2d_156\">\r\n    <path clip-path=\"url(#p152f6f648e)\" d=\"M 0 0 \r\n\" style=\"fill:none;stroke:#424242;stroke-linecap:square;stroke-width:2.7;\"/>\r\n   </g>\r\n   <g id=\"line2d_157\">\r\n    <path clip-path=\"url(#p152f6f648e)\" d=\"M 0 0 \r\n\" style=\"fill:none;stroke:#424242;stroke-linecap:square;stroke-width:2.7;\"/>\r\n   </g>\r\n   <g id=\"line2d_158\">\r\n    <path clip-path=\"url(#p152f6f648e)\" d=\"M 0 0 \r\n\" style=\"fill:none;stroke:#424242;stroke-linecap:square;stroke-width:2.7;\"/>\r\n   </g>\r\n   <g id=\"line2d_159\">\r\n    <path clip-path=\"url(#p152f6f648e)\" d=\"M 0 0 \r\n\" style=\"fill:none;stroke:#424242;stroke-linecap:square;stroke-width:2.7;\"/>\r\n   </g>\r\n   <g id=\"line2d_160\">\r\n    <path clip-path=\"url(#p152f6f648e)\" d=\"M 0 0 \r\n\" style=\"fill:none;stroke:#424242;stroke-linecap:square;stroke-width:2.7;\"/>\r\n   </g>\r\n   <g id=\"line2d_161\">\r\n    <path clip-path=\"url(#p152f6f648e)\" d=\"M 0 0 \r\n\" style=\"fill:none;stroke:#424242;stroke-linecap:square;stroke-width:2.7;\"/>\r\n   </g>\r\n   <g id=\"line2d_162\">\r\n    <path clip-path=\"url(#p152f6f648e)\" d=\"M 0 0 \r\n\" style=\"fill:none;stroke:#424242;stroke-linecap:square;stroke-width:2.7;\"/>\r\n   </g>\r\n   <g id=\"line2d_163\">\r\n    <path clip-path=\"url(#p152f6f648e)\" d=\"M 0 0 \r\n\" style=\"fill:none;stroke:#424242;stroke-linecap:square;stroke-width:2.7;\"/>\r\n   </g>\r\n   <g id=\"line2d_164\">\r\n    <path clip-path=\"url(#p152f6f648e)\" d=\"M 0 0 \r\n\" style=\"fill:none;stroke:#424242;stroke-linecap:square;stroke-width:2.7;\"/>\r\n   </g>\r\n   <g id=\"line2d_165\">\r\n    <path clip-path=\"url(#p152f6f648e)\" d=\"M 0 0 \r\n\" style=\"fill:none;stroke:#424242;stroke-linecap:square;stroke-width:2.7;\"/>\r\n   </g>\r\n   <g id=\"line2d_166\">\r\n    <path clip-path=\"url(#p152f6f648e)\" d=\"M 0 0 \r\n\" style=\"fill:none;stroke:#424242;stroke-linecap:square;stroke-width:2.7;\"/>\r\n   </g>\r\n   <g id=\"line2d_167\">\r\n    <path clip-path=\"url(#p152f6f648e)\" d=\"M 0 0 \r\n\" style=\"fill:none;stroke:#424242;stroke-linecap:square;stroke-width:2.7;\"/>\r\n   </g>\r\n   <g id=\"line2d_168\">\r\n    <path clip-path=\"url(#p152f6f648e)\" d=\"M 0 0 \r\n\" style=\"fill:none;stroke:#424242;stroke-linecap:square;stroke-width:2.7;\"/>\r\n   </g>\r\n   <g id=\"line2d_169\">\r\n    <path clip-path=\"url(#p152f6f648e)\" d=\"M 0 0 \r\n\" style=\"fill:none;stroke:#424242;stroke-linecap:square;stroke-width:2.7;\"/>\r\n   </g>\r\n   <g id=\"line2d_170\">\r\n    <path clip-path=\"url(#p152f6f648e)\" d=\"M 0 0 \r\n\" style=\"fill:none;stroke:#424242;stroke-linecap:square;stroke-width:2.7;\"/>\r\n   </g>\r\n   <g id=\"line2d_171\">\r\n    <path clip-path=\"url(#p152f6f648e)\" d=\"M 0 0 \r\n\" style=\"fill:none;stroke:#424242;stroke-linecap:square;stroke-width:2.7;\"/>\r\n   </g>\r\n   <g id=\"line2d_172\">\r\n    <path clip-path=\"url(#p152f6f648e)\" d=\"M 0 0 \r\n\" style=\"fill:none;stroke:#424242;stroke-linecap:square;stroke-width:2.7;\"/>\r\n   </g>\r\n   <g id=\"line2d_173\">\r\n    <path clip-path=\"url(#p152f6f648e)\" d=\"M 0 0 \r\n\" style=\"fill:none;stroke:#424242;stroke-linecap:square;stroke-width:2.7;\"/>\r\n   </g>\r\n   <g id=\"line2d_174\">\r\n    <path clip-path=\"url(#p152f6f648e)\" d=\"M 0 0 \r\n\" style=\"fill:none;stroke:#424242;stroke-linecap:square;stroke-width:2.7;\"/>\r\n   </g>\r\n   <g id=\"line2d_175\">\r\n    <path clip-path=\"url(#p152f6f648e)\" d=\"M 0 0 \r\n\" style=\"fill:none;stroke:#424242;stroke-linecap:square;stroke-width:2.7;\"/>\r\n   </g>\r\n   <g id=\"line2d_176\">\r\n    <path clip-path=\"url(#p152f6f648e)\" d=\"M 0 0 \r\n\" style=\"fill:none;stroke:#424242;stroke-linecap:square;stroke-width:2.7;\"/>\r\n   </g>\r\n   <g id=\"line2d_177\">\r\n    <path clip-path=\"url(#p152f6f648e)\" d=\"M 0 0 \r\n\" style=\"fill:none;stroke:#424242;stroke-linecap:square;stroke-width:2.7;\"/>\r\n   </g>\r\n   <g id=\"line2d_178\">\r\n    <path clip-path=\"url(#p152f6f648e)\" d=\"M 0 0 \r\n\" style=\"fill:none;stroke:#424242;stroke-linecap:square;stroke-width:2.7;\"/>\r\n   </g>\r\n   <g id=\"line2d_179\">\r\n    <path clip-path=\"url(#p152f6f648e)\" d=\"M 0 0 \r\n\" style=\"fill:none;stroke:#424242;stroke-linecap:square;stroke-width:2.7;\"/>\r\n   </g>\r\n   <g id=\"line2d_180\">\r\n    <path clip-path=\"url(#p152f6f648e)\" d=\"M 0 0 \r\n\" style=\"fill:none;stroke:#424242;stroke-linecap:square;stroke-width:2.7;\"/>\r\n   </g>\r\n   <g id=\"line2d_181\">\r\n    <path clip-path=\"url(#p152f6f648e)\" d=\"M 0 0 \r\n\" style=\"fill:none;stroke:#424242;stroke-linecap:square;stroke-width:2.7;\"/>\r\n   </g>\r\n   <g id=\"line2d_182\">\r\n    <path clip-path=\"url(#p152f6f648e)\" d=\"M 0 0 \r\n\" style=\"fill:none;stroke:#424242;stroke-linecap:square;stroke-width:2.7;\"/>\r\n   </g>\r\n   <g id=\"line2d_183\">\r\n    <path clip-path=\"url(#p152f6f648e)\" d=\"M 0 0 \r\n\" style=\"fill:none;stroke:#424242;stroke-linecap:square;stroke-width:2.7;\"/>\r\n   </g>\r\n   <g id=\"line2d_184\">\r\n    <path clip-path=\"url(#p152f6f648e)\" d=\"M 0 0 \r\n\" style=\"fill:none;stroke:#424242;stroke-linecap:square;stroke-width:2.7;\"/>\r\n   </g>\r\n   <g id=\"line2d_185\">\r\n    <path clip-path=\"url(#p152f6f648e)\" d=\"M 0 0 \r\n\" style=\"fill:none;stroke:#424242;stroke-linecap:square;stroke-width:2.7;\"/>\r\n   </g>\r\n   <g id=\"line2d_186\">\r\n    <path clip-path=\"url(#p152f6f648e)\" d=\"M 0 0 \r\n\" style=\"fill:none;stroke:#424242;stroke-linecap:square;stroke-width:2.7;\"/>\r\n   </g>\r\n   <g id=\"line2d_187\">\r\n    <path clip-path=\"url(#p152f6f648e)\" d=\"M 0 0 \r\n\" style=\"fill:none;stroke:#424242;stroke-linecap:square;stroke-width:2.7;\"/>\r\n   </g>\r\n   <g id=\"line2d_188\">\r\n    <path clip-path=\"url(#p152f6f648e)\" d=\"M 0 0 \r\n\" style=\"fill:none;stroke:#424242;stroke-linecap:square;stroke-width:2.7;\"/>\r\n   </g>\r\n   <g id=\"line2d_189\">\r\n    <path clip-path=\"url(#p152f6f648e)\" d=\"M 0 0 \r\n\" style=\"fill:none;stroke:#424242;stroke-linecap:square;stroke-width:2.7;\"/>\r\n   </g>\r\n   <g id=\"line2d_190\">\r\n    <path clip-path=\"url(#p152f6f648e)\" d=\"M 0 0 \r\n\" style=\"fill:none;stroke:#424242;stroke-linecap:square;stroke-width:2.7;\"/>\r\n   </g>\r\n   <g id=\"line2d_191\">\r\n    <path clip-path=\"url(#p152f6f648e)\" d=\"M 0 0 \r\n\" style=\"fill:none;stroke:#424242;stroke-linecap:square;stroke-width:2.7;\"/>\r\n   </g>\r\n   <g id=\"line2d_192\">\r\n    <path clip-path=\"url(#p152f6f648e)\" d=\"M 0 0 \r\n\" style=\"fill:none;stroke:#424242;stroke-linecap:square;stroke-width:2.7;\"/>\r\n   </g>\r\n   <g id=\"line2d_193\">\r\n    <path clip-path=\"url(#p152f6f648e)\" d=\"M 0 0 \r\n\" style=\"fill:none;stroke:#424242;stroke-linecap:square;stroke-width:2.7;\"/>\r\n   </g>\r\n   <g id=\"line2d_194\">\r\n    <path clip-path=\"url(#p152f6f648e)\" d=\"M 0 0 \r\n\" style=\"fill:none;stroke:#424242;stroke-linecap:square;stroke-width:2.7;\"/>\r\n   </g>\r\n   <g id=\"line2d_195\">\r\n    <path clip-path=\"url(#p152f6f648e)\" d=\"M 0 0 \r\n\" style=\"fill:none;stroke:#424242;stroke-linecap:square;stroke-width:2.7;\"/>\r\n   </g>\r\n   <g id=\"line2d_196\">\r\n    <path clip-path=\"url(#p152f6f648e)\" d=\"M 0 0 \r\n\" style=\"fill:none;stroke:#424242;stroke-linecap:square;stroke-width:2.7;\"/>\r\n   </g>\r\n   <g id=\"line2d_197\">\r\n    <path clip-path=\"url(#p152f6f648e)\" d=\"M 0 0 \r\n\" style=\"fill:none;stroke:#424242;stroke-linecap:square;stroke-width:2.7;\"/>\r\n   </g>\r\n   <g id=\"line2d_198\">\r\n    <path clip-path=\"url(#p152f6f648e)\" d=\"M 0 0 \r\n\" style=\"fill:none;stroke:#424242;stroke-linecap:square;stroke-width:2.7;\"/>\r\n   </g>\r\n   <g id=\"line2d_199\">\r\n    <path clip-path=\"url(#p152f6f648e)\" d=\"M 0 0 \r\n\" style=\"fill:none;stroke:#424242;stroke-linecap:square;stroke-width:2.7;\"/>\r\n   </g>\r\n   <g id=\"line2d_200\">\r\n    <path clip-path=\"url(#p152f6f648e)\" d=\"M 0 0 \r\n\" style=\"fill:none;stroke:#424242;stroke-linecap:square;stroke-width:2.7;\"/>\r\n   </g>\r\n   <g id=\"line2d_201\">\r\n    <path clip-path=\"url(#p152f6f648e)\" d=\"M 0 0 \r\n\" style=\"fill:none;stroke:#424242;stroke-linecap:square;stroke-width:2.7;\"/>\r\n   </g>\r\n   <g id=\"line2d_202\">\r\n    <path clip-path=\"url(#p152f6f648e)\" d=\"M 0 0 \r\n\" style=\"fill:none;stroke:#424242;stroke-linecap:square;stroke-width:2.7;\"/>\r\n   </g>\r\n   <g id=\"line2d_203\">\r\n    <path clip-path=\"url(#p152f6f648e)\" d=\"M 0 0 \r\n\" style=\"fill:none;stroke:#424242;stroke-linecap:square;stroke-width:2.7;\"/>\r\n   </g>\r\n   <g id=\"line2d_204\">\r\n    <path clip-path=\"url(#p152f6f648e)\" d=\"M 0 0 \r\n\" style=\"fill:none;stroke:#424242;stroke-linecap:square;stroke-width:2.7;\"/>\r\n   </g>\r\n   <g id=\"line2d_205\">\r\n    <path clip-path=\"url(#p152f6f648e)\" d=\"M 0 0 \r\n\" style=\"fill:none;stroke:#424242;stroke-linecap:square;stroke-width:2.7;\"/>\r\n   </g>\r\n   <g id=\"line2d_206\">\r\n    <path clip-path=\"url(#p152f6f648e)\" d=\"M 0 0 \r\n\" style=\"fill:none;stroke:#424242;stroke-linecap:square;stroke-width:2.7;\"/>\r\n   </g>\r\n   <g id=\"line2d_207\">\r\n    <path clip-path=\"url(#p152f6f648e)\" d=\"M 0 0 \r\n\" style=\"fill:none;stroke:#424242;stroke-linecap:square;stroke-width:2.7;\"/>\r\n   </g>\r\n   <g id=\"patch_103\">\r\n    <path d=\"M 73.1 822.6 \r\nL 73.1 7.2 \r\n\" style=\"fill:none;stroke:#000000;stroke-linecap:square;stroke-linejoin:miter;stroke-width:0.8;\"/>\r\n   </g>\r\n   <g id=\"patch_104\">\r\n    <path d=\"M 742.7 822.6 \r\nL 742.7 7.2 \r\n\" style=\"fill:none;stroke:#000000;stroke-linecap:square;stroke-linejoin:miter;stroke-width:0.8;\"/>\r\n   </g>\r\n   <g id=\"patch_105\">\r\n    <path d=\"M 73.1 822.6 \r\nL 742.7 822.6 \r\n\" style=\"fill:none;stroke:#000000;stroke-linecap:square;stroke-linejoin:miter;stroke-width:0.8;\"/>\r\n   </g>\r\n   <g id=\"patch_106\">\r\n    <path d=\"M 73.1 7.2 \r\nL 742.7 7.2 \r\n\" style=\"fill:none;stroke:#000000;stroke-linecap:square;stroke-linejoin:miter;stroke-width:0.8;\"/>\r\n   </g>\r\n  </g>\r\n </g>\r\n <defs>\r\n  <clipPath id=\"p152f6f648e\">\r\n   <rect height=\"815.4\" width=\"669.6\" x=\"73.1\" y=\"7.2\"/>\r\n  </clipPath>\r\n </defs>\r\n</svg>\r\n",
      "image/png": "[encoded data removed]"
     },
     "metadata": {
      "needs_background": "light"
     }
    }
   ],
   "source": [
    "def freq_words(x, terms = 30): \n",
    "  all_words = ' '.join([text for text in x]) \n",
    "  all_words = all_words.split() \n",
    "  fdist = nltk.FreqDist(all_words) \n",
    "  words_df = pd.DataFrame({'word':list(fdist.keys()), 'count':list(fdist.values())}) \n",
    "  \n",
    "  # selecting top 20 most frequent words \n",
    "  d = words_df.nlargest(columns=\"count\", n = terms) \n",
    "  \n",
    "  # visualize words and frequencies\n",
    "  plt.figure(figsize=(12,15)) \n",
    "  ax = sns.barplot(data=d, x= \"count\", y = \"word\") \n",
    "  ax.set(ylabel = 'Word') \n",
    "  plt.show()\n",
    "  \n",
    "# print 100 most frequent words \n",
    "freq_words(filtered_dataframe['overview'], 100)"
   ]
  },
  {
   "cell_type": "code",
   "execution_count": 31,
   "metadata": {},
   "outputs": [
    {
     "output_type": "stream",
     "name": "stderr",
     "text": [
      "[nltk_data] Downloading package stopwords to\n[nltk_data]     C:\\Users\\Work\\AppData\\Roaming\\nltk_data...\n[nltk_data]   Unzipping corpora\\stopwords.zip.\n"
     ]
    },
    {
     "output_type": "execute_result",
     "data": {
      "text/plain": [
       "True"
      ]
     },
     "metadata": {},
     "execution_count": 31
    }
   ],
   "source": [
    "nltk.download('stopwords')"
   ]
  },
  {
   "cell_type": "code",
   "execution_count": 32,
   "metadata": {},
   "outputs": [
    {
     "output_type": "stream",
     "name": "stderr",
     "text": [
      "<ipython-input-32-7f0a4d75c6c6>:9: SettingWithCopyWarning: \nA value is trying to be set on a copy of a slice from a DataFrame.\nTry using .loc[row_indexer,col_indexer] = value instead\n\nSee the caveats in the documentation: https://pandas.pydata.org/pandas-docs/stable/user_guide/indexing.html#returning-a-view-versus-a-copy\n  filtered_dataframe['overview'] = filtered_dataframe['overview'].apply(lambda x: remove_stopwords(x))\n"
     ]
    }
   ],
   "source": [
    "from nltk.corpus import stopwords\n",
    "stop_words = set(stopwords.words('english'))\n",
    "\n",
    "# function to remove stopwords\n",
    "def remove_stopwords(text):\n",
    "    no_stopword_text = [w for w in text.split() if not w in stop_words]\n",
    "    return ' '.join(no_stopword_text)\n",
    "\n",
    "filtered_dataframe['overview'] = filtered_dataframe['overview'].apply(lambda x: remove_stopwords(x))"
   ]
  },
  {
   "cell_type": "code",
   "execution_count": 33,
   "metadata": {},
   "outputs": [],
   "source": [
    "multilabel_binarizer = MultiLabelBinarizer()\n",
    "multilabel_binarizer.fit(filtered_dataframe['genres'])\n",
    "\n",
    "# transform target variable\n",
    "y = multilabel_binarizer.transform(filtered_dataframe['genres'])\n",
    "tfidf_vectorizer = TfidfVectorizer(max_df=0.8, max_features=10000)\n",
    "# split dataset into training and validation set\n",
    "MLCxtrain, MLCxtest, MLCytrain, MLCytest = train_test_split(filtered_dataframe['overview'], labels, test_size=0.2, random_state=2)\n",
    "# create TF-IDF features\n",
    "MLCxtrain_tfidf = tfidf_vectorizer.fit_transform(MLCxtrain)\n",
    "MLCxtest_tfidf = tfidf_vectorizer.transform(MLCxtest)"
   ]
  },
  {
   "cell_type": "code",
   "execution_count": 34,
   "metadata": {},
   "outputs": [
    {
     "output_type": "stream",
     "name": "stdout",
     "text": [
      "KNN accuracy at k=12: 0.11151801535735381\n"
     ]
    }
   ],
   "source": [
    "from sklearn.neighbors import KNeighborsClassifier\n",
    "from sklearn.metrics import accuracy_score\n",
    "knn = KNeighborsClassifier(n_neighbors=12)\n",
    "knn.fit(MLCxtrain_tfidf, MLCytrain)\n",
    "label_predict = knn.predict(MLCxtest_tfidf)\n",
    "\n",
    "knn_accuracy = accuracy_score(MLCytest, label_predict)\n",
    "print(f'KNN accuracy at k=12: {knn_accuracy}')"
   ]
  },
  {
   "cell_type": "code",
   "execution_count": 35,
   "metadata": {},
   "outputs": [
    {
     "output_type": "execute_result",
     "data": {
      "text/plain": [
       "array([[1, 1, 0, ..., 1, 0, 0],\n",
       "       [1, 0, 0, ..., 0, 0, 0],\n",
       "       [0, 0, 0, ..., 0, 0, 0],\n",
       "       ...,\n",
       "       [0, 0, 0, ..., 1, 0, 0],\n",
       "       [0, 0, 0, ..., 1, 0, 0],\n",
       "       [0, 0, 0, ..., 0, 0, 0]])"
      ]
     },
     "metadata": {},
     "execution_count": 35
    }
   ],
   "source": [
    "from sklearn.tree import DecisionTreeClassifier\n",
    "\n",
    "tree_classifier = DecisionTreeClassifier()\n",
    "\n",
    "tree_classifier.fit(MLCxtrain_tfidf, MLCytrain)\n",
    "prediction1 = tree_classifier.predict(MLCxtest_tfidf)\n",
    "\n",
    "prediction1"
   ]
  },
  {
   "cell_type": "code",
   "execution_count": 36,
   "metadata": {},
   "outputs": [
    {
     "output_type": "stream",
     "name": "stdout",
     "text": [
      "Accuracy: 0.11340815121086828\n"
     ]
    }
   ],
   "source": [
    "tree_acc_score1 = accuracy_score(y_test, prediction1)\n",
    "print(f\"Accuracy: {tree_acc_score1}\")"
   ]
  },
  {
   "cell_type": "code",
   "execution_count": 37,
   "metadata": {},
   "outputs": [],
   "source": [
    "from sklearn.linear_model import LogisticRegression\n",
    "\n",
    "# Binary Relevance\n",
    "from sklearn.multiclass import OneVsRestClassifier\n",
    "\n",
    "# Performance metric\n",
    "from sklearn.metrics import f1_score"
   ]
  },
  {
   "cell_type": "code",
   "execution_count": 38,
   "metadata": {},
   "outputs": [],
   "source": [
    "lr = LogisticRegression()\n",
    "clf = OneVsRestClassifier(lr)\n",
    "# fit model on train data\n",
    "clf.fit(MLCxtrain_tfidf, MLCytrain)\n",
    "# make predictions for validation set\n",
    "y_pred = clf.predict(MLCxtest_tfidf)"
   ]
  },
  {
   "cell_type": "code",
   "execution_count": 39,
   "metadata": {},
   "outputs": [
    {
     "output_type": "execute_result",
     "data": {
      "text/plain": [
       "('Documentary',)"
      ]
     },
     "metadata": {},
     "execution_count": 39
    }
   ],
   "source": [
    "y_pred[2]\n",
    "multilabel_binarizer.inverse_transform(y_pred)[2]"
   ]
  },
  {
   "cell_type": "code",
   "execution_count": 40,
   "metadata": {},
   "outputs": [],
   "source": [
    "# evaluate performance\n",
    "f1_score(MLCytest, y_pred, average=\"micro\")\n",
    "# predict probabilities\n",
    "y_pred_prob = clf.predict_proba(MLCxtest_tfidf)\n",
    "t = 0.3 # threshold value\n",
    "y_pred_new = (y_pred_prob >= t).astype(int)"
   ]
  },
  {
   "cell_type": "code",
   "execution_count": 41,
   "metadata": {},
   "outputs": [
    {
     "output_type": "execute_result",
     "data": {
      "text/plain": [
       "0.5717460046149901"
      ]
     },
     "metadata": {},
     "execution_count": 41
    }
   ],
   "source": [
    "# evaluate performance\n",
    "f1_score(MLCytest, y_pred_new, average=\"micro\")"
   ]
  },
  {
   "cell_type": "code",
   "execution_count": 42,
   "metadata": {},
   "outputs": [
    {
     "output_type": "stream",
     "name": "stdout",
     "text": [
      "Accuracy: 0.18795038393384525\n"
     ]
    }
   ],
   "source": [
    "predictMLC = accuracy_score(MLCytest, y_pred)\n",
    "print(f\"Accuracy: {predictMLC}\")"
   ]
  },
  {
   "source": [
    "# Random Forest with Modified Overview (Adrian)"
   ],
   "cell_type": "markdown",
   "metadata": {}
  },
  {
   "cell_type": "code",
   "execution_count": 48,
   "metadata": {},
   "outputs": [
    {
     "output_type": "stream",
     "name": "stdout",
     "text": [
      "Random Forest Tree Accuracy using modified set: 0.13313644418192558\nThat is an increase of: 0.005906674542232732\n"
     ]
    }
   ],
   "source": [
    "#create new Random Forest Classifier to be fitted with modified overview set\n",
    "my_RandomForestModified = RandomForestClassifier(n_estimators = 10, bootstrap = True, random_state=2)\n",
    "\n",
    "#fit it with new set\n",
    "my_RandomForestModified.fit(MLCxtrain_tfidf, MLCytrain)\n",
    "\n",
    "#predict with new test values\n",
    "y_predict_rfModified=my_RandomForestModified.predict(MLCxtest_tfidf)\n",
    "score_rfModified= accuracy_score(y_test,y_predict_rfModified)\n",
    "\n",
    "print(\"Random Forest Tree Accuracy using modified set: \" + str(score_rfModified))\n",
    "\n",
    "percentChange = score_rfModified - score_rf\n",
    "print(\"That is an increase of: \" + str(percentChange))"
   ]
  },
  {
   "cell_type": "code",
   "execution_count": null,
   "metadata": {},
   "outputs": [],
   "source": []
  }
 ],
 "metadata": {
  "kernelspec": {
   "name": "python385jvsc74a57bd0247e2044f4c49c9d914ae755d95f59c52d7c3d488cb85bbe2434f1ff03419f6d",
   "display_name": "Python 3.8.5 64-bit ('Work': virtualenv)"
  },
  "language_info": {
   "codemirror_mode": {
    "name": "ipython",
    "version": 3
   },
   "file_extension": ".py",
   "mimetype": "text/x-python",
   "name": "python",
   "nbconvert_exporter": "python",
   "pygments_lexer": "ipython3",
   "version": "3.8.5"
  }
 },
 "nbformat": 4,
 "nbformat_minor": 4
}