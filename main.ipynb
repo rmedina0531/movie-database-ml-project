{
 "cells": [
  {
   "cell_type": "code",
   "execution_count": 74,
   "metadata": {},
   "outputs": [
    {
     "output_type": "execute_result",
     "data": {
      "text/plain": [
       "   adult                              belongs_to_collection    budget  \\\n",
       "0  False  {'id': 10194, 'name': 'Toy Story Collection', ...  30000000   \n",
       "1  False                                                NaN  65000000   \n",
       "2  False  {'id': 119050, 'name': 'Grumpy Old Men Collect...         0   \n",
       "3  False                                                NaN  16000000   \n",
       "4  False  {'id': 96871, 'name': 'Father of the Bride Col...         0   \n",
       "\n",
       "                                              genres  \\\n",
       "0  [{'id': 16, 'name': 'Animation'}, {'id': 35, '...   \n",
       "1  [{'id': 12, 'name': 'Adventure'}, {'id': 14, '...   \n",
       "2  [{'id': 10749, 'name': 'Romance'}, {'id': 35, ...   \n",
       "3  [{'id': 35, 'name': 'Comedy'}, {'id': 18, 'nam...   \n",
       "4                     [{'id': 35, 'name': 'Comedy'}]   \n",
       "\n",
       "                               homepage     id    imdb_id original_language  \\\n",
       "0  http://toystory.disney.com/toy-story    862  tt0114709                en   \n",
       "1                                   NaN   8844  tt0113497                en   \n",
       "2                                   NaN  15602  tt0113228                en   \n",
       "3                                   NaN  31357  tt0114885                en   \n",
       "4                                   NaN  11862  tt0113041                en   \n",
       "\n",
       "                original_title  \\\n",
       "0                    Toy Story   \n",
       "1                      Jumanji   \n",
       "2             Grumpier Old Men   \n",
       "3            Waiting to Exhale   \n",
       "4  Father of the Bride Part II   \n",
       "\n",
       "                                            overview  ...    status  \\\n",
       "0  Led by Woody, Andy's toys live happily in his ...  ...  Released   \n",
       "1  When siblings Judy and Peter discover an encha...  ...  Released   \n",
       "2  A family wedding reignites the ancient feud be...  ...  Released   \n",
       "3  Cheated on, mistreated and stepped on, the wom...  ...  Released   \n",
       "4  Just when George Banks has recovered from his ...  ...  Released   \n",
       "\n",
       "                                             tagline  \\\n",
       "0                                                NaN   \n",
       "1          Roll the dice and unleash the excitement!   \n",
       "2  Still Yelling. Still Fighting. Still Ready for...   \n",
       "3  Friends are the people who let you be yourself...   \n",
       "4  Just When His World Is Back To Normal... He's ...   \n",
       "\n",
       "                         title  video vote_average vote_count Unnamed: 24  \\\n",
       "0                    Toy Story  False          7.7       5415         NaN   \n",
       "1                      Jumanji  False          6.9       2413         NaN   \n",
       "2             Grumpier Old Men  False          6.5         92         NaN   \n",
       "3            Waiting to Exhale  False          6.1         34         NaN   \n",
       "4  Father of the Bride Part II  False          5.7        173         NaN   \n",
       "\n",
       "  Unnamed: 25 Unnamed: 26 Unnamed: 27  \n",
       "0         NaN         NaN         NaN  \n",
       "1         NaN         NaN         NaN  \n",
       "2         NaN         NaN         NaN  \n",
       "3         NaN         NaN         NaN  \n",
       "4         NaN         NaN         NaN  \n",
       "\n",
       "[5 rows x 28 columns]"
      ],
      "text/html": "<div>\n<style scoped>\n    .dataframe tbody tr th:only-of-type {\n        vertical-align: middle;\n    }\n\n    .dataframe tbody tr th {\n        vertical-align: top;\n    }\n\n    .dataframe thead th {\n        text-align: right;\n    }\n</style>\n<table border=\"1\" class=\"dataframe\">\n  <thead>\n    <tr style=\"text-align: right;\">\n      <th></th>\n      <th>adult</th>\n      <th>belongs_to_collection</th>\n      <th>budget</th>\n      <th>genres</th>\n      <th>homepage</th>\n      <th>id</th>\n      <th>imdb_id</th>\n      <th>original_language</th>\n      <th>original_title</th>\n      <th>overview</th>\n      <th>...</th>\n      <th>status</th>\n      <th>tagline</th>\n      <th>title</th>\n      <th>video</th>\n      <th>vote_average</th>\n      <th>vote_count</th>\n      <th>Unnamed: 24</th>\n      <th>Unnamed: 25</th>\n      <th>Unnamed: 26</th>\n      <th>Unnamed: 27</th>\n    </tr>\n  </thead>\n  <tbody>\n    <tr>\n      <th>0</th>\n      <td>False</td>\n      <td>{'id': 10194, 'name': 'Toy Story Collection', ...</td>\n      <td>30000000</td>\n      <td>[{'id': 16, 'name': 'Animation'}, {'id': 35, '...</td>\n      <td>http://toystory.disney.com/toy-story</td>\n      <td>862</td>\n      <td>tt0114709</td>\n      <td>en</td>\n      <td>Toy Story</td>\n      <td>Led by Woody, Andy's toys live happily in his ...</td>\n      <td>...</td>\n      <td>Released</td>\n      <td>NaN</td>\n      <td>Toy Story</td>\n      <td>False</td>\n      <td>7.7</td>\n      <td>5415</td>\n      <td>NaN</td>\n      <td>NaN</td>\n      <td>NaN</td>\n      <td>NaN</td>\n    </tr>\n    <tr>\n      <th>1</th>\n      <td>False</td>\n      <td>NaN</td>\n      <td>65000000</td>\n      <td>[{'id': 12, 'name': 'Adventure'}, {'id': 14, '...</td>\n      <td>NaN</td>\n      <td>8844</td>\n      <td>tt0113497</td>\n      <td>en</td>\n      <td>Jumanji</td>\n      <td>When siblings Judy and Peter discover an encha...</td>\n      <td>...</td>\n      <td>Released</td>\n      <td>Roll the dice and unleash the excitement!</td>\n      <td>Jumanji</td>\n      <td>False</td>\n      <td>6.9</td>\n      <td>2413</td>\n      <td>NaN</td>\n      <td>NaN</td>\n      <td>NaN</td>\n      <td>NaN</td>\n    </tr>\n    <tr>\n      <th>2</th>\n      <td>False</td>\n      <td>{'id': 119050, 'name': 'Grumpy Old Men Collect...</td>\n      <td>0</td>\n      <td>[{'id': 10749, 'name': 'Romance'}, {'id': 35, ...</td>\n      <td>NaN</td>\n      <td>15602</td>\n      <td>tt0113228</td>\n      <td>en</td>\n      <td>Grumpier Old Men</td>\n      <td>A family wedding reignites the ancient feud be...</td>\n      <td>...</td>\n      <td>Released</td>\n      <td>Still Yelling. Still Fighting. Still Ready for...</td>\n      <td>Grumpier Old Men</td>\n      <td>False</td>\n      <td>6.5</td>\n      <td>92</td>\n      <td>NaN</td>\n      <td>NaN</td>\n      <td>NaN</td>\n      <td>NaN</td>\n    </tr>\n    <tr>\n      <th>3</th>\n      <td>False</td>\n      <td>NaN</td>\n      <td>16000000</td>\n      <td>[{'id': 35, 'name': 'Comedy'}, {'id': 18, 'nam...</td>\n      <td>NaN</td>\n      <td>31357</td>\n      <td>tt0114885</td>\n      <td>en</td>\n      <td>Waiting to Exhale</td>\n      <td>Cheated on, mistreated and stepped on, the wom...</td>\n      <td>...</td>\n      <td>Released</td>\n      <td>Friends are the people who let you be yourself...</td>\n      <td>Waiting to Exhale</td>\n      <td>False</td>\n      <td>6.1</td>\n      <td>34</td>\n      <td>NaN</td>\n      <td>NaN</td>\n      <td>NaN</td>\n      <td>NaN</td>\n    </tr>\n    <tr>\n      <th>4</th>\n      <td>False</td>\n      <td>{'id': 96871, 'name': 'Father of the Bride Col...</td>\n      <td>0</td>\n      <td>[{'id': 35, 'name': 'Comedy'}]</td>\n      <td>NaN</td>\n      <td>11862</td>\n      <td>tt0113041</td>\n      <td>en</td>\n      <td>Father of the Bride Part II</td>\n      <td>Just when George Banks has recovered from his ...</td>\n      <td>...</td>\n      <td>Released</td>\n      <td>Just When His World Is Back To Normal... He's ...</td>\n      <td>Father of the Bride Part II</td>\n      <td>False</td>\n      <td>5.7</td>\n      <td>173</td>\n      <td>NaN</td>\n      <td>NaN</td>\n      <td>NaN</td>\n      <td>NaN</td>\n    </tr>\n  </tbody>\n</table>\n<p>5 rows × 28 columns</p>\n</div>"
     },
     "metadata": {},
     "execution_count": 74
    }
   ],
   "source": [
    "#import the data\n",
    "import numpy as np\n",
    "import pandas as pd\n",
    "\n",
    "df = pd.read_csv('data/movies_metadata.csv')\n",
    "\n",
    "df.head()"
   ]
  },
  {
   "cell_type": "markdown",
   "metadata": {},
   "source": [
    "# Data Importing and formatting"
   ]
  },
  {
   "cell_type": "code",
   "execution_count": 76,
   "metadata": {},
   "outputs": [
    {
     "output_type": "execute_result",
     "data": {
      "text/plain": [
       "                             title  \\\n",
       "0                        Toy Story   \n",
       "1                          Jumanji   \n",
       "2                 Grumpier Old Men   \n",
       "3                Waiting to Exhale   \n",
       "4      Father of the Bride Part II   \n",
       "...                            ...   \n",
       "45457                       Subdue   \n",
       "45458          Century of Birthing   \n",
       "45459                     Betrayal   \n",
       "45460             Satan Triumphant   \n",
       "45461                     Queerama   \n",
       "\n",
       "                                                 tagline  \\\n",
       "0                                                    NaN   \n",
       "1              Roll the dice and unleash the excitement!   \n",
       "2      Still Yelling. Still Fighting. Still Ready for...   \n",
       "3      Friends are the people who let you be yourself...   \n",
       "4      Just When His World Is Back To Normal... He's ...   \n",
       "...                                                  ...   \n",
       "45457         Rising and falling between a man and woman   \n",
       "45458                                                NaN   \n",
       "45459                             A deadly game of wits.   \n",
       "45460                                                NaN   \n",
       "45461                                                NaN   \n",
       "\n",
       "                    original_title  \\\n",
       "0                        Toy Story   \n",
       "1                          Jumanji   \n",
       "2                 Grumpier Old Men   \n",
       "3                Waiting to Exhale   \n",
       "4      Father of the Bride Part II   \n",
       "...                            ...   \n",
       "45457                      رگ خواب   \n",
       "45458          Siglo ng Pagluluwal   \n",
       "45459                     Betrayal   \n",
       "45460          Satana likuyushchiy   \n",
       "45461                     Queerama   \n",
       "\n",
       "                                                overview  \\\n",
       "0      Led by Woody, Andy's toys live happily in his ...   \n",
       "1      When siblings Judy and Peter discover an encha...   \n",
       "2      A family wedding reignites the ancient feud be...   \n",
       "3      Cheated on, mistreated and stepped on, the wom...   \n",
       "4      Just when George Banks has recovered from his ...   \n",
       "...                                                  ...   \n",
       "45457        Rising and falling between a man and woman.   \n",
       "45458  An artist struggles to finish his work while a...   \n",
       "45459  When one of her hits goes wrong, a professiona...   \n",
       "45460  In a small town live two brothers, one a minis...   \n",
       "45461  50 years after decriminalisation of homosexual...   \n",
       "\n",
       "                                                  genres  \n",
       "0      [{'id': 16, 'name': 'Animation'}, {'id': 35, '...  \n",
       "1      [{'id': 12, 'name': 'Adventure'}, {'id': 14, '...  \n",
       "2      [{'id': 10749, 'name': 'Romance'}, {'id': 35, ...  \n",
       "3      [{'id': 35, 'name': 'Comedy'}, {'id': 18, 'nam...  \n",
       "4                         [{'id': 35, 'name': 'Comedy'}]  \n",
       "...                                                  ...  \n",
       "45457  [{'id': 18, 'name': 'Drama'}, {'id': 10751, 'n...  \n",
       "45458                      [{'id': 18, 'name': 'Drama'}]  \n",
       "45459  [{'id': 28, 'name': 'Action'}, {'id': 18, 'nam...  \n",
       "45460                                                 []  \n",
       "45461                                                 []  \n",
       "\n",
       "[44508 rows x 5 columns]"
      ],
      "text/html": "<div>\n<style scoped>\n    .dataframe tbody tr th:only-of-type {\n        vertical-align: middle;\n    }\n\n    .dataframe tbody tr th {\n        vertical-align: top;\n    }\n\n    .dataframe thead th {\n        text-align: right;\n    }\n</style>\n<table border=\"1\" class=\"dataframe\">\n  <thead>\n    <tr style=\"text-align: right;\">\n      <th></th>\n      <th>title</th>\n      <th>tagline</th>\n      <th>original_title</th>\n      <th>overview</th>\n      <th>genres</th>\n    </tr>\n  </thead>\n  <tbody>\n    <tr>\n      <th>0</th>\n      <td>Toy Story</td>\n      <td>NaN</td>\n      <td>Toy Story</td>\n      <td>Led by Woody, Andy's toys live happily in his ...</td>\n      <td>[{'id': 16, 'name': 'Animation'}, {'id': 35, '...</td>\n    </tr>\n    <tr>\n      <th>1</th>\n      <td>Jumanji</td>\n      <td>Roll the dice and unleash the excitement!</td>\n      <td>Jumanji</td>\n      <td>When siblings Judy and Peter discover an encha...</td>\n      <td>[{'id': 12, 'name': 'Adventure'}, {'id': 14, '...</td>\n    </tr>\n    <tr>\n      <th>2</th>\n      <td>Grumpier Old Men</td>\n      <td>Still Yelling. Still Fighting. Still Ready for...</td>\n      <td>Grumpier Old Men</td>\n      <td>A family wedding reignites the ancient feud be...</td>\n      <td>[{'id': 10749, 'name': 'Romance'}, {'id': 35, ...</td>\n    </tr>\n    <tr>\n      <th>3</th>\n      <td>Waiting to Exhale</td>\n      <td>Friends are the people who let you be yourself...</td>\n      <td>Waiting to Exhale</td>\n      <td>Cheated on, mistreated and stepped on, the wom...</td>\n      <td>[{'id': 35, 'name': 'Comedy'}, {'id': 18, 'nam...</td>\n    </tr>\n    <tr>\n      <th>4</th>\n      <td>Father of the Bride Part II</td>\n      <td>Just When His World Is Back To Normal... He's ...</td>\n      <td>Father of the Bride Part II</td>\n      <td>Just when George Banks has recovered from his ...</td>\n      <td>[{'id': 35, 'name': 'Comedy'}]</td>\n    </tr>\n    <tr>\n      <th>...</th>\n      <td>...</td>\n      <td>...</td>\n      <td>...</td>\n      <td>...</td>\n      <td>...</td>\n    </tr>\n    <tr>\n      <th>45457</th>\n      <td>Subdue</td>\n      <td>Rising and falling between a man and woman</td>\n      <td>رگ خواب</td>\n      <td>Rising and falling between a man and woman.</td>\n      <td>[{'id': 18, 'name': 'Drama'}, {'id': 10751, 'n...</td>\n    </tr>\n    <tr>\n      <th>45458</th>\n      <td>Century of Birthing</td>\n      <td>NaN</td>\n      <td>Siglo ng Pagluluwal</td>\n      <td>An artist struggles to finish his work while a...</td>\n      <td>[{'id': 18, 'name': 'Drama'}]</td>\n    </tr>\n    <tr>\n      <th>45459</th>\n      <td>Betrayal</td>\n      <td>A deadly game of wits.</td>\n      <td>Betrayal</td>\n      <td>When one of her hits goes wrong, a professiona...</td>\n      <td>[{'id': 28, 'name': 'Action'}, {'id': 18, 'nam...</td>\n    </tr>\n    <tr>\n      <th>45460</th>\n      <td>Satan Triumphant</td>\n      <td>NaN</td>\n      <td>Satana likuyushchiy</td>\n      <td>In a small town live two brothers, one a minis...</td>\n      <td>[]</td>\n    </tr>\n    <tr>\n      <th>45461</th>\n      <td>Queerama</td>\n      <td>NaN</td>\n      <td>Queerama</td>\n      <td>50 years after decriminalisation of homosexual...</td>\n      <td>[]</td>\n    </tr>\n  </tbody>\n</table>\n<p>44508 rows × 5 columns</p>\n</div>"
     },
     "metadata": {},
     "execution_count": 76
    }
   ],
   "source": [
    "modified_data = df[['title', 'tagline', 'original_title', 'overview', 'genres']]\n",
    "modified_data"
   ]
  },
  {
   "cell_type": "code",
   "execution_count": 78,
   "metadata": {},
   "outputs": [
    {
     "output_type": "execute_result",
     "data": {
      "text/plain": [
       "                                                                       tagline  \\\n",
       "title                                                                            \n",
       "Toy Story                                                                  NaN   \n",
       "Jumanji                              Roll the dice and unleash the excitement!   \n",
       "Grumpier Old Men             Still Yelling. Still Fighting. Still Ready for...   \n",
       "Waiting to Exhale            Friends are the people who let you be yourself...   \n",
       "Father of the Bride Part II  Just When His World Is Back To Normal... He's ...   \n",
       "...                                                                        ...   \n",
       "Subdue                              Rising and falling between a man and woman   \n",
       "Century of Birthing                                                        NaN   \n",
       "Betrayal                                                A deadly game of wits.   \n",
       "Satan Triumphant                                                           NaN   \n",
       "Queerama                                                                   NaN   \n",
       "\n",
       "                                          original_title  \\\n",
       "title                                                      \n",
       "Toy Story                                      Toy Story   \n",
       "Jumanji                                          Jumanji   \n",
       "Grumpier Old Men                        Grumpier Old Men   \n",
       "Waiting to Exhale                      Waiting to Exhale   \n",
       "Father of the Bride Part II  Father of the Bride Part II   \n",
       "...                                                  ...   \n",
       "Subdue                                           رگ خواب   \n",
       "Century of Birthing                  Siglo ng Pagluluwal   \n",
       "Betrayal                                        Betrayal   \n",
       "Satan Triumphant                     Satana likuyushchiy   \n",
       "Queerama                                        Queerama   \n",
       "\n",
       "                                                                      overview  \\\n",
       "title                                                                            \n",
       "Toy Story                    Led by Woody, Andy's toys live happily in his ...   \n",
       "Jumanji                      When siblings Judy and Peter discover an encha...   \n",
       "Grumpier Old Men             A family wedding reignites the ancient feud be...   \n",
       "Waiting to Exhale            Cheated on, mistreated and stepped on, the wom...   \n",
       "Father of the Bride Part II  Just when George Banks has recovered from his ...   \n",
       "...                                                                        ...   \n",
       "Subdue                             Rising and falling between a man and woman.   \n",
       "Century of Birthing          An artist struggles to finish his work while a...   \n",
       "Betrayal                     When one of her hits goes wrong, a professiona...   \n",
       "Satan Triumphant             In a small town live two brothers, one a minis...   \n",
       "Queerama                     50 years after decriminalisation of homosexual...   \n",
       "\n",
       "                                                                        genres  \n",
       "title                                                                           \n",
       "Toy Story                    [{'id': 16, 'name': 'Animation'}, {'id': 35, '...  \n",
       "Jumanji                      [{'id': 12, 'name': 'Adventure'}, {'id': 14, '...  \n",
       "Grumpier Old Men             [{'id': 10749, 'name': 'Romance'}, {'id': 35, ...  \n",
       "Waiting to Exhale            [{'id': 35, 'name': 'Comedy'}, {'id': 18, 'nam...  \n",
       "Father of the Bride Part II                     [{'id': 35, 'name': 'Comedy'}]  \n",
       "...                                                                        ...  \n",
       "Subdue                       [{'id': 18, 'name': 'Drama'}, {'id': 10751, 'n...  \n",
       "Century of Birthing                              [{'id': 18, 'name': 'Drama'}]  \n",
       "Betrayal                     [{'id': 28, 'name': 'Action'}, {'id': 18, 'nam...  \n",
       "Satan Triumphant                                                            []  \n",
       "Queerama                                                                    []  \n",
       "\n",
       "[44508 rows x 4 columns]"
      ],
      "text/html": "<div>\n<style scoped>\n    .dataframe tbody tr th:only-of-type {\n        vertical-align: middle;\n    }\n\n    .dataframe tbody tr th {\n        vertical-align: top;\n    }\n\n    .dataframe thead th {\n        text-align: right;\n    }\n</style>\n<table border=\"1\" class=\"dataframe\">\n  <thead>\n    <tr style=\"text-align: right;\">\n      <th></th>\n      <th>tagline</th>\n      <th>original_title</th>\n      <th>overview</th>\n      <th>genres</th>\n    </tr>\n    <tr>\n      <th>title</th>\n      <th></th>\n      <th></th>\n      <th></th>\n      <th></th>\n    </tr>\n  </thead>\n  <tbody>\n    <tr>\n      <th>Toy Story</th>\n      <td>NaN</td>\n      <td>Toy Story</td>\n      <td>Led by Woody, Andy's toys live happily in his ...</td>\n      <td>[{'id': 16, 'name': 'Animation'}, {'id': 35, '...</td>\n    </tr>\n    <tr>\n      <th>Jumanji</th>\n      <td>Roll the dice and unleash the excitement!</td>\n      <td>Jumanji</td>\n      <td>When siblings Judy and Peter discover an encha...</td>\n      <td>[{'id': 12, 'name': 'Adventure'}, {'id': 14, '...</td>\n    </tr>\n    <tr>\n      <th>Grumpier Old Men</th>\n      <td>Still Yelling. Still Fighting. Still Ready for...</td>\n      <td>Grumpier Old Men</td>\n      <td>A family wedding reignites the ancient feud be...</td>\n      <td>[{'id': 10749, 'name': 'Romance'}, {'id': 35, ...</td>\n    </tr>\n    <tr>\n      <th>Waiting to Exhale</th>\n      <td>Friends are the people who let you be yourself...</td>\n      <td>Waiting to Exhale</td>\n      <td>Cheated on, mistreated and stepped on, the wom...</td>\n      <td>[{'id': 35, 'name': 'Comedy'}, {'id': 18, 'nam...</td>\n    </tr>\n    <tr>\n      <th>Father of the Bride Part II</th>\n      <td>Just When His World Is Back To Normal... He's ...</td>\n      <td>Father of the Bride Part II</td>\n      <td>Just when George Banks has recovered from his ...</td>\n      <td>[{'id': 35, 'name': 'Comedy'}]</td>\n    </tr>\n    <tr>\n      <th>...</th>\n      <td>...</td>\n      <td>...</td>\n      <td>...</td>\n      <td>...</td>\n    </tr>\n    <tr>\n      <th>Subdue</th>\n      <td>Rising and falling between a man and woman</td>\n      <td>رگ خواب</td>\n      <td>Rising and falling between a man and woman.</td>\n      <td>[{'id': 18, 'name': 'Drama'}, {'id': 10751, 'n...</td>\n    </tr>\n    <tr>\n      <th>Century of Birthing</th>\n      <td>NaN</td>\n      <td>Siglo ng Pagluluwal</td>\n      <td>An artist struggles to finish his work while a...</td>\n      <td>[{'id': 18, 'name': 'Drama'}]</td>\n    </tr>\n    <tr>\n      <th>Betrayal</th>\n      <td>A deadly game of wits.</td>\n      <td>Betrayal</td>\n      <td>When one of her hits goes wrong, a professiona...</td>\n      <td>[{'id': 28, 'name': 'Action'}, {'id': 18, 'nam...</td>\n    </tr>\n    <tr>\n      <th>Satan Triumphant</th>\n      <td>NaN</td>\n      <td>Satana likuyushchiy</td>\n      <td>In a small town live two brothers, one a minis...</td>\n      <td>[]</td>\n    </tr>\n    <tr>\n      <th>Queerama</th>\n      <td>NaN</td>\n      <td>Queerama</td>\n      <td>50 years after decriminalisation of homosexual...</td>\n      <td>[]</td>\n    </tr>\n  </tbody>\n</table>\n<p>44508 rows × 4 columns</p>\n</div>"
     },
     "metadata": {},
     "execution_count": 78
    }
   ],
   "source": [
    "#title as index\n",
    "modified_data.set_index('title', inplace=True)\n",
    "modified_data"
   ]
  },
  {
   "cell_type": "code",
   "execution_count": 80,
   "metadata": {},
   "outputs": [
    {
     "output_type": "stream",
     "name": "stderr",
     "text": [
      "<ipython-input-80-0608d8df8143>:3: SettingWithCopyWarning: \nA value is trying to be set on a copy of a slice from a DataFrame\n\nSee the caveats in the documentation: https://pandas.pydata.org/pandas-docs/stable/user_guide/indexing.html#returning-a-view-versus-a-copy\n  modified_data.dropna(subset = ['overview'], inplace=True)\n"
     ]
    },
    {
     "output_type": "execute_result",
     "data": {
      "text/plain": [
       "                                                                       tagline  \\\n",
       "title                                                                            \n",
       "Toy Story                                                                  NaN   \n",
       "Jumanji                              Roll the dice and unleash the excitement!   \n",
       "Grumpier Old Men             Still Yelling. Still Fighting. Still Ready for...   \n",
       "Waiting to Exhale            Friends are the people who let you be yourself...   \n",
       "Father of the Bride Part II  Just When His World Is Back To Normal... He's ...   \n",
       "...                                                                        ...   \n",
       "Subdue                              Rising and falling between a man and woman   \n",
       "Century of Birthing                                                        NaN   \n",
       "Betrayal                                                A deadly game of wits.   \n",
       "Satan Triumphant                                                           NaN   \n",
       "Queerama                                                                   NaN   \n",
       "\n",
       "                                          original_title  \\\n",
       "title                                                      \n",
       "Toy Story                                      Toy Story   \n",
       "Jumanji                                          Jumanji   \n",
       "Grumpier Old Men                        Grumpier Old Men   \n",
       "Waiting to Exhale                      Waiting to Exhale   \n",
       "Father of the Bride Part II  Father of the Bride Part II   \n",
       "...                                                  ...   \n",
       "Subdue                                           رگ خواب   \n",
       "Century of Birthing                  Siglo ng Pagluluwal   \n",
       "Betrayal                                        Betrayal   \n",
       "Satan Triumphant                     Satana likuyushchiy   \n",
       "Queerama                                        Queerama   \n",
       "\n",
       "                                                                      overview  \\\n",
       "title                                                                            \n",
       "Toy Story                    Led by Woody, Andy's toys live happily in his ...   \n",
       "Jumanji                      When siblings Judy and Peter discover an encha...   \n",
       "Grumpier Old Men             A family wedding reignites the ancient feud be...   \n",
       "Waiting to Exhale            Cheated on, mistreated and stepped on, the wom...   \n",
       "Father of the Bride Part II  Just when George Banks has recovered from his ...   \n",
       "...                                                                        ...   \n",
       "Subdue                             Rising and falling between a man and woman.   \n",
       "Century of Birthing          An artist struggles to finish his work while a...   \n",
       "Betrayal                     When one of her hits goes wrong, a professiona...   \n",
       "Satan Triumphant             In a small town live two brothers, one a minis...   \n",
       "Queerama                     50 years after decriminalisation of homosexual...   \n",
       "\n",
       "                                                                        genres  \n",
       "title                                                                           \n",
       "Toy Story                    [{'id': 16, 'name': 'Animation'}, {'id': 35, '...  \n",
       "Jumanji                      [{'id': 12, 'name': 'Adventure'}, {'id': 14, '...  \n",
       "Grumpier Old Men             [{'id': 10749, 'name': 'Romance'}, {'id': 35, ...  \n",
       "Waiting to Exhale            [{'id': 35, 'name': 'Comedy'}, {'id': 18, 'nam...  \n",
       "Father of the Bride Part II                     [{'id': 35, 'name': 'Comedy'}]  \n",
       "...                                                                        ...  \n",
       "Subdue                       [{'id': 18, 'name': 'Drama'}, {'id': 10751, 'n...  \n",
       "Century of Birthing                              [{'id': 18, 'name': 'Drama'}]  \n",
       "Betrayal                     [{'id': 28, 'name': 'Action'}, {'id': 18, 'nam...  \n",
       "Satan Triumphant                                                            []  \n",
       "Queerama                                                                    []  \n",
       "\n",
       "[44508 rows x 4 columns]"
      ],
      "text/html": "<div>\n<style scoped>\n    .dataframe tbody tr th:only-of-type {\n        vertical-align: middle;\n    }\n\n    .dataframe tbody tr th {\n        vertical-align: top;\n    }\n\n    .dataframe thead th {\n        text-align: right;\n    }\n</style>\n<table border=\"1\" class=\"dataframe\">\n  <thead>\n    <tr style=\"text-align: right;\">\n      <th></th>\n      <th>tagline</th>\n      <th>original_title</th>\n      <th>overview</th>\n      <th>genres</th>\n    </tr>\n    <tr>\n      <th>title</th>\n      <th></th>\n      <th></th>\n      <th></th>\n      <th></th>\n    </tr>\n  </thead>\n  <tbody>\n    <tr>\n      <th>Toy Story</th>\n      <td>NaN</td>\n      <td>Toy Story</td>\n      <td>Led by Woody, Andy's toys live happily in his ...</td>\n      <td>[{'id': 16, 'name': 'Animation'}, {'id': 35, '...</td>\n    </tr>\n    <tr>\n      <th>Jumanji</th>\n      <td>Roll the dice and unleash the excitement!</td>\n      <td>Jumanji</td>\n      <td>When siblings Judy and Peter discover an encha...</td>\n      <td>[{'id': 12, 'name': 'Adventure'}, {'id': 14, '...</td>\n    </tr>\n    <tr>\n      <th>Grumpier Old Men</th>\n      <td>Still Yelling. Still Fighting. Still Ready for...</td>\n      <td>Grumpier Old Men</td>\n      <td>A family wedding reignites the ancient feud be...</td>\n      <td>[{'id': 10749, 'name': 'Romance'}, {'id': 35, ...</td>\n    </tr>\n    <tr>\n      <th>Waiting to Exhale</th>\n      <td>Friends are the people who let you be yourself...</td>\n      <td>Waiting to Exhale</td>\n      <td>Cheated on, mistreated and stepped on, the wom...</td>\n      <td>[{'id': 35, 'name': 'Comedy'}, {'id': 18, 'nam...</td>\n    </tr>\n    <tr>\n      <th>Father of the Bride Part II</th>\n      <td>Just When His World Is Back To Normal... He's ...</td>\n      <td>Father of the Bride Part II</td>\n      <td>Just when George Banks has recovered from his ...</td>\n      <td>[{'id': 35, 'name': 'Comedy'}]</td>\n    </tr>\n    <tr>\n      <th>...</th>\n      <td>...</td>\n      <td>...</td>\n      <td>...</td>\n      <td>...</td>\n    </tr>\n    <tr>\n      <th>Subdue</th>\n      <td>Rising and falling between a man and woman</td>\n      <td>رگ خواب</td>\n      <td>Rising and falling between a man and woman.</td>\n      <td>[{'id': 18, 'name': 'Drama'}, {'id': 10751, 'n...</td>\n    </tr>\n    <tr>\n      <th>Century of Birthing</th>\n      <td>NaN</td>\n      <td>Siglo ng Pagluluwal</td>\n      <td>An artist struggles to finish his work while a...</td>\n      <td>[{'id': 18, 'name': 'Drama'}]</td>\n    </tr>\n    <tr>\n      <th>Betrayal</th>\n      <td>A deadly game of wits.</td>\n      <td>Betrayal</td>\n      <td>When one of her hits goes wrong, a professiona...</td>\n      <td>[{'id': 28, 'name': 'Action'}, {'id': 18, 'nam...</td>\n    </tr>\n    <tr>\n      <th>Satan Triumphant</th>\n      <td>NaN</td>\n      <td>Satana likuyushchiy</td>\n      <td>In a small town live two brothers, one a minis...</td>\n      <td>[]</td>\n    </tr>\n    <tr>\n      <th>Queerama</th>\n      <td>NaN</td>\n      <td>Queerama</td>\n      <td>50 years after decriminalisation of homosexual...</td>\n      <td>[]</td>\n    </tr>\n  </tbody>\n</table>\n<p>44508 rows × 4 columns</p>\n</div>"
     },
     "metadata": {},
     "execution_count": 80
    }
   ],
   "source": [
    "#drop all entries that have no overview \n",
    "#as we will use them to predict genre\n",
    "modified_data.dropna(subset = ['overview'], inplace=True)\n",
    "modified_data"
   ]
  },
  {
   "cell_type": "code",
   "execution_count": 82,
   "metadata": {
    "scrolled": false
   },
   "outputs": [
    {
     "output_type": "execute_result",
     "data": {
      "text/plain": [
       "0         [Animation, Comedy, Family]\n",
       "1        [Adventure, Fantasy, Family]\n",
       "2                   [Romance, Comedy]\n",
       "3            [Comedy, Drama, Romance]\n",
       "4                            [Comedy]\n",
       "                     ...             \n",
       "45457                 [Drama, Family]\n",
       "45458                         [Drama]\n",
       "45459       [Action, Drama, Thriller]\n",
       "45460                              []\n",
       "45461                              []\n",
       "Name: genres, Length: 44508, dtype: object"
      ]
     },
     "metadata": {},
     "execution_count": 82
    }
   ],
   "source": [
    "df['genres']"
   ]
  },
  {
   "cell_type": "code",
   "execution_count": 84,
   "metadata": {},
   "outputs": [
    {
     "output_type": "execute_result",
     "data": {
      "text/plain": [
       "                             title  \\\n",
       "0                        Toy Story   \n",
       "1                          Jumanji   \n",
       "2                 Grumpier Old Men   \n",
       "3                Waiting to Exhale   \n",
       "4      Father of the Bride Part II   \n",
       "...                            ...   \n",
       "45457                       Subdue   \n",
       "45458          Century of Birthing   \n",
       "45459                     Betrayal   \n",
       "45460             Satan Triumphant   \n",
       "45461                     Queerama   \n",
       "\n",
       "                                                overview  \\\n",
       "0      Led by Woody, Andy's toys live happily in his ...   \n",
       "1      When siblings Judy and Peter discover an encha...   \n",
       "2      A family wedding reignites the ancient feud be...   \n",
       "3      Cheated on, mistreated and stepped on, the wom...   \n",
       "4      Just when George Banks has recovered from his ...   \n",
       "...                                                  ...   \n",
       "45457        Rising and falling between a man and woman.   \n",
       "45458  An artist struggles to finish his work while a...   \n",
       "45459  When one of her hits goes wrong, a professiona...   \n",
       "45460  In a small town live two brothers, one a minis...   \n",
       "45461  50 years after decriminalisation of homosexual...   \n",
       "\n",
       "                             genres  \n",
       "0       [Animation, Comedy, Family]  \n",
       "1      [Adventure, Fantasy, Family]  \n",
       "2                 [Romance, Comedy]  \n",
       "3          [Comedy, Drama, Romance]  \n",
       "4                          [Comedy]  \n",
       "...                             ...  \n",
       "45457               [Drama, Family]  \n",
       "45458                       [Drama]  \n",
       "45459     [Action, Drama, Thriller]  \n",
       "45460                            []  \n",
       "45461                            []  \n",
       "\n",
       "[44508 rows x 3 columns]"
      ],
      "text/html": "<div>\n<style scoped>\n    .dataframe tbody tr th:only-of-type {\n        vertical-align: middle;\n    }\n\n    .dataframe tbody tr th {\n        vertical-align: top;\n    }\n\n    .dataframe thead th {\n        text-align: right;\n    }\n</style>\n<table border=\"1\" class=\"dataframe\">\n  <thead>\n    <tr style=\"text-align: right;\">\n      <th></th>\n      <th>title</th>\n      <th>overview</th>\n      <th>genres</th>\n    </tr>\n  </thead>\n  <tbody>\n    <tr>\n      <th>0</th>\n      <td>Toy Story</td>\n      <td>Led by Woody, Andy's toys live happily in his ...</td>\n      <td>[Animation, Comedy, Family]</td>\n    </tr>\n    <tr>\n      <th>1</th>\n      <td>Jumanji</td>\n      <td>When siblings Judy and Peter discover an encha...</td>\n      <td>[Adventure, Fantasy, Family]</td>\n    </tr>\n    <tr>\n      <th>2</th>\n      <td>Grumpier Old Men</td>\n      <td>A family wedding reignites the ancient feud be...</td>\n      <td>[Romance, Comedy]</td>\n    </tr>\n    <tr>\n      <th>3</th>\n      <td>Waiting to Exhale</td>\n      <td>Cheated on, mistreated and stepped on, the wom...</td>\n      <td>[Comedy, Drama, Romance]</td>\n    </tr>\n    <tr>\n      <th>4</th>\n      <td>Father of the Bride Part II</td>\n      <td>Just when George Banks has recovered from his ...</td>\n      <td>[Comedy]</td>\n    </tr>\n    <tr>\n      <th>...</th>\n      <td>...</td>\n      <td>...</td>\n      <td>...</td>\n    </tr>\n    <tr>\n      <th>45457</th>\n      <td>Subdue</td>\n      <td>Rising and falling between a man and woman.</td>\n      <td>[Drama, Family]</td>\n    </tr>\n    <tr>\n      <th>45458</th>\n      <td>Century of Birthing</td>\n      <td>An artist struggles to finish his work while a...</td>\n      <td>[Drama]</td>\n    </tr>\n    <tr>\n      <th>45459</th>\n      <td>Betrayal</td>\n      <td>When one of her hits goes wrong, a professiona...</td>\n      <td>[Action, Drama, Thriller]</td>\n    </tr>\n    <tr>\n      <th>45460</th>\n      <td>Satan Triumphant</td>\n      <td>In a small town live two brothers, one a minis...</td>\n      <td>[]</td>\n    </tr>\n    <tr>\n      <th>45461</th>\n      <td>Queerama</td>\n      <td>50 years after decriminalisation of homosexual...</td>\n      <td>[]</td>\n    </tr>\n  </tbody>\n</table>\n<p>44508 rows × 3 columns</p>\n</div>"
     },
     "metadata": {},
     "execution_count": 84
    }
   ],
   "source": [
    "df[['title','overview','genres',]]"
   ]
  },
  {
   "cell_type": "code",
   "execution_count": 86,
   "metadata": {},
   "outputs": [],
   "source": [
    "df.set_index('title', inplace=True)"
   ]
  },
  {
   "cell_type": "code",
   "execution_count": 88,
   "metadata": {},
   "outputs": [],
   "source": [
    "#removing entries without overviews\n",
    "df.dropna(subset = ['overview'], inplace = True)"
   ]
  },
  {
   "cell_type": "markdown",
   "metadata": {},
   "source": [
    "# Breaking down the genres data"
   ]
  },
  {
   "cell_type": "code",
   "execution_count": 90,
   "metadata": {},
   "outputs": [
    {
     "output_type": "error",
     "ename": "ValueError",
     "evalue": "malformed node or string: ['Animation', 'Comedy', 'Family']",
     "traceback": [
      "\u001b[1;31m---------------------------------------------------------------------------\u001b[0m",
      "\u001b[1;31mValueError\u001b[0m                                Traceback (most recent call last)",
      "\u001b[1;32m<ipython-input-90-6dc91d70ad3e>\u001b[0m in \u001b[0;36m<module>\u001b[1;34m\u001b[0m\n\u001b[0;32m      2\u001b[0m \u001b[1;33m\u001b[0m\u001b[0m\n\u001b[0;32m      3\u001b[0m \u001b[1;31m#converst genres into a list\u001b[0m\u001b[1;33m\u001b[0m\u001b[1;33m\u001b[0m\u001b[1;33m\u001b[0m\u001b[0m\n\u001b[1;32m----> 4\u001b[1;33m \u001b[0mdf\u001b[0m\u001b[1;33m[\u001b[0m\u001b[1;34m'genres'\u001b[0m\u001b[1;33m]\u001b[0m \u001b[1;33m=\u001b[0m \u001b[0mdf\u001b[0m\u001b[1;33m[\u001b[0m\u001b[1;34m'genres'\u001b[0m\u001b[1;33m]\u001b[0m\u001b[1;33m.\u001b[0m\u001b[0mapply\u001b[0m\u001b[1;33m(\u001b[0m\u001b[0mliteral_eval\u001b[0m\u001b[1;33m)\u001b[0m\u001b[1;33m.\u001b[0m\u001b[0mapply\u001b[0m\u001b[1;33m(\u001b[0m\u001b[1;32mlambda\u001b[0m \u001b[0mx\u001b[0m\u001b[1;33m:\u001b[0m \u001b[1;33m[\u001b[0m\u001b[0mi\u001b[0m\u001b[1;33m[\u001b[0m\u001b[1;34m'name'\u001b[0m\u001b[1;33m]\u001b[0m \u001b[1;32mfor\u001b[0m \u001b[0mi\u001b[0m \u001b[1;32min\u001b[0m \u001b[0mx\u001b[0m\u001b[1;33m]\u001b[0m \u001b[1;32mif\u001b[0m \u001b[0misinstance\u001b[0m\u001b[1;33m(\u001b[0m\u001b[0mx\u001b[0m\u001b[1;33m,\u001b[0m \u001b[0mlist\u001b[0m\u001b[1;33m)\u001b[0m \u001b[1;32melse\u001b[0m \u001b[1;33m[\u001b[0m\u001b[1;33m]\u001b[0m\u001b[1;33m)\u001b[0m\u001b[1;33m\u001b[0m\u001b[1;33m\u001b[0m\u001b[0m\n\u001b[0m\u001b[0;32m      5\u001b[0m \u001b[1;33m\u001b[0m\u001b[0m\n\u001b[0;32m      6\u001b[0m \u001b[1;31m#remove entries that have no genres listed\u001b[0m\u001b[1;33m\u001b[0m\u001b[1;33m\u001b[0m\u001b[1;33m\u001b[0m\u001b[0m\n",
      "\u001b[1;32m~\\anaconda3\\lib\\site-packages\\pandas\\core\\series.py\u001b[0m in \u001b[0;36mapply\u001b[1;34m(self, func, convert_dtype, args, **kwds)\u001b[0m\n\u001b[0;32m   4198\u001b[0m             \u001b[1;32melse\u001b[0m\u001b[1;33m:\u001b[0m\u001b[1;33m\u001b[0m\u001b[1;33m\u001b[0m\u001b[0m\n\u001b[0;32m   4199\u001b[0m                 \u001b[0mvalues\u001b[0m \u001b[1;33m=\u001b[0m \u001b[0mself\u001b[0m\u001b[1;33m.\u001b[0m\u001b[0mastype\u001b[0m\u001b[1;33m(\u001b[0m\u001b[0mobject\u001b[0m\u001b[1;33m)\u001b[0m\u001b[1;33m.\u001b[0m\u001b[0m_values\u001b[0m\u001b[1;33m\u001b[0m\u001b[1;33m\u001b[0m\u001b[0m\n\u001b[1;32m-> 4200\u001b[1;33m                 \u001b[0mmapped\u001b[0m \u001b[1;33m=\u001b[0m \u001b[0mlib\u001b[0m\u001b[1;33m.\u001b[0m\u001b[0mmap_infer\u001b[0m\u001b[1;33m(\u001b[0m\u001b[0mvalues\u001b[0m\u001b[1;33m,\u001b[0m \u001b[0mf\u001b[0m\u001b[1;33m,\u001b[0m \u001b[0mconvert\u001b[0m\u001b[1;33m=\u001b[0m\u001b[0mconvert_dtype\u001b[0m\u001b[1;33m)\u001b[0m\u001b[1;33m\u001b[0m\u001b[1;33m\u001b[0m\u001b[0m\n\u001b[0m\u001b[0;32m   4201\u001b[0m \u001b[1;33m\u001b[0m\u001b[0m\n\u001b[0;32m   4202\u001b[0m         \u001b[1;32mif\u001b[0m \u001b[0mlen\u001b[0m\u001b[1;33m(\u001b[0m\u001b[0mmapped\u001b[0m\u001b[1;33m)\u001b[0m \u001b[1;32mand\u001b[0m \u001b[0misinstance\u001b[0m\u001b[1;33m(\u001b[0m\u001b[0mmapped\u001b[0m\u001b[1;33m[\u001b[0m\u001b[1;36m0\u001b[0m\u001b[1;33m]\u001b[0m\u001b[1;33m,\u001b[0m \u001b[0mSeries\u001b[0m\u001b[1;33m)\u001b[0m\u001b[1;33m:\u001b[0m\u001b[1;33m\u001b[0m\u001b[1;33m\u001b[0m\u001b[0m\n",
      "\u001b[1;32mpandas\\_libs\\lib.pyx\u001b[0m in \u001b[0;36mpandas._libs.lib.map_infer\u001b[1;34m()\u001b[0m\n",
      "\u001b[1;32m~\\anaconda3\\lib\\ast.py\u001b[0m in \u001b[0;36mliteral_eval\u001b[1;34m(node_or_string)\u001b[0m\n\u001b[0;32m     97\u001b[0m                     \u001b[1;32mreturn\u001b[0m \u001b[0mleft\u001b[0m \u001b[1;33m-\u001b[0m \u001b[0mright\u001b[0m\u001b[1;33m\u001b[0m\u001b[1;33m\u001b[0m\u001b[0m\n\u001b[0;32m     98\u001b[0m         \u001b[1;32mreturn\u001b[0m \u001b[0m_convert_signed_num\u001b[0m\u001b[1;33m(\u001b[0m\u001b[0mnode\u001b[0m\u001b[1;33m)\u001b[0m\u001b[1;33m\u001b[0m\u001b[1;33m\u001b[0m\u001b[0m\n\u001b[1;32m---> 99\u001b[1;33m     \u001b[1;32mreturn\u001b[0m \u001b[0m_convert\u001b[0m\u001b[1;33m(\u001b[0m\u001b[0mnode_or_string\u001b[0m\u001b[1;33m)\u001b[0m\u001b[1;33m\u001b[0m\u001b[1;33m\u001b[0m\u001b[0m\n\u001b[0m\u001b[0;32m    100\u001b[0m \u001b[1;33m\u001b[0m\u001b[0m\n\u001b[0;32m    101\u001b[0m \u001b[1;33m\u001b[0m\u001b[0m\n",
      "\u001b[1;32m~\\anaconda3\\lib\\ast.py\u001b[0m in \u001b[0;36m_convert\u001b[1;34m(node)\u001b[0m\n\u001b[0;32m     96\u001b[0m                 \u001b[1;32melse\u001b[0m\u001b[1;33m:\u001b[0m\u001b[1;33m\u001b[0m\u001b[1;33m\u001b[0m\u001b[0m\n\u001b[0;32m     97\u001b[0m                     \u001b[1;32mreturn\u001b[0m \u001b[0mleft\u001b[0m \u001b[1;33m-\u001b[0m \u001b[0mright\u001b[0m\u001b[1;33m\u001b[0m\u001b[1;33m\u001b[0m\u001b[0m\n\u001b[1;32m---> 98\u001b[1;33m         \u001b[1;32mreturn\u001b[0m \u001b[0m_convert_signed_num\u001b[0m\u001b[1;33m(\u001b[0m\u001b[0mnode\u001b[0m\u001b[1;33m)\u001b[0m\u001b[1;33m\u001b[0m\u001b[1;33m\u001b[0m\u001b[0m\n\u001b[0m\u001b[0;32m     99\u001b[0m     \u001b[1;32mreturn\u001b[0m \u001b[0m_convert\u001b[0m\u001b[1;33m(\u001b[0m\u001b[0mnode_or_string\u001b[0m\u001b[1;33m)\u001b[0m\u001b[1;33m\u001b[0m\u001b[1;33m\u001b[0m\u001b[0m\n\u001b[0;32m    100\u001b[0m \u001b[1;33m\u001b[0m\u001b[0m\n",
      "\u001b[1;32m~\\anaconda3\\lib\\ast.py\u001b[0m in \u001b[0;36m_convert_signed_num\u001b[1;34m(node)\u001b[0m\n\u001b[0;32m     73\u001b[0m             \u001b[1;32melse\u001b[0m\u001b[1;33m:\u001b[0m\u001b[1;33m\u001b[0m\u001b[1;33m\u001b[0m\u001b[0m\n\u001b[0;32m     74\u001b[0m                 \u001b[1;32mreturn\u001b[0m \u001b[1;33m-\u001b[0m \u001b[0moperand\u001b[0m\u001b[1;33m\u001b[0m\u001b[1;33m\u001b[0m\u001b[0m\n\u001b[1;32m---> 75\u001b[1;33m         \u001b[1;32mreturn\u001b[0m \u001b[0m_convert_num\u001b[0m\u001b[1;33m(\u001b[0m\u001b[0mnode\u001b[0m\u001b[1;33m)\u001b[0m\u001b[1;33m\u001b[0m\u001b[1;33m\u001b[0m\u001b[0m\n\u001b[0m\u001b[0;32m     76\u001b[0m     \u001b[1;32mdef\u001b[0m \u001b[0m_convert\u001b[0m\u001b[1;33m(\u001b[0m\u001b[0mnode\u001b[0m\u001b[1;33m)\u001b[0m\u001b[1;33m:\u001b[0m\u001b[1;33m\u001b[0m\u001b[1;33m\u001b[0m\u001b[0m\n\u001b[0;32m     77\u001b[0m         \u001b[1;32mif\u001b[0m \u001b[0misinstance\u001b[0m\u001b[1;33m(\u001b[0m\u001b[0mnode\u001b[0m\u001b[1;33m,\u001b[0m \u001b[0mConstant\u001b[0m\u001b[1;33m)\u001b[0m\u001b[1;33m:\u001b[0m\u001b[1;33m\u001b[0m\u001b[1;33m\u001b[0m\u001b[0m\n",
      "\u001b[1;32m~\\anaconda3\\lib\\ast.py\u001b[0m in \u001b[0;36m_convert_num\u001b[1;34m(node)\u001b[0m\n\u001b[0;32m     64\u001b[0m     \u001b[1;32mdef\u001b[0m \u001b[0m_convert_num\u001b[0m\u001b[1;33m(\u001b[0m\u001b[0mnode\u001b[0m\u001b[1;33m)\u001b[0m\u001b[1;33m:\u001b[0m\u001b[1;33m\u001b[0m\u001b[1;33m\u001b[0m\u001b[0m\n\u001b[0;32m     65\u001b[0m         \u001b[1;32mif\u001b[0m \u001b[1;32mnot\u001b[0m \u001b[0misinstance\u001b[0m\u001b[1;33m(\u001b[0m\u001b[0mnode\u001b[0m\u001b[1;33m,\u001b[0m \u001b[0mConstant\u001b[0m\u001b[1;33m)\u001b[0m \u001b[1;32mor\u001b[0m \u001b[0mtype\u001b[0m\u001b[1;33m(\u001b[0m\u001b[0mnode\u001b[0m\u001b[1;33m.\u001b[0m\u001b[0mvalue\u001b[0m\u001b[1;33m)\u001b[0m \u001b[1;32mnot\u001b[0m \u001b[1;32min\u001b[0m \u001b[1;33m(\u001b[0m\u001b[0mint\u001b[0m\u001b[1;33m,\u001b[0m \u001b[0mfloat\u001b[0m\u001b[1;33m,\u001b[0m \u001b[0mcomplex\u001b[0m\u001b[1;33m)\u001b[0m\u001b[1;33m:\u001b[0m\u001b[1;33m\u001b[0m\u001b[1;33m\u001b[0m\u001b[0m\n\u001b[1;32m---> 66\u001b[1;33m             \u001b[0m_raise_malformed_node\u001b[0m\u001b[1;33m(\u001b[0m\u001b[0mnode\u001b[0m\u001b[1;33m)\u001b[0m\u001b[1;33m\u001b[0m\u001b[1;33m\u001b[0m\u001b[0m\n\u001b[0m\u001b[0;32m     67\u001b[0m         \u001b[1;32mreturn\u001b[0m \u001b[0mnode\u001b[0m\u001b[1;33m.\u001b[0m\u001b[0mvalue\u001b[0m\u001b[1;33m\u001b[0m\u001b[1;33m\u001b[0m\u001b[0m\n\u001b[0;32m     68\u001b[0m     \u001b[1;32mdef\u001b[0m \u001b[0m_convert_signed_num\u001b[0m\u001b[1;33m(\u001b[0m\u001b[0mnode\u001b[0m\u001b[1;33m)\u001b[0m\u001b[1;33m:\u001b[0m\u001b[1;33m\u001b[0m\u001b[1;33m\u001b[0m\u001b[0m\n",
      "\u001b[1;32m~\\anaconda3\\lib\\ast.py\u001b[0m in \u001b[0;36m_raise_malformed_node\u001b[1;34m(node)\u001b[0m\n\u001b[0;32m     61\u001b[0m         \u001b[0mnode_or_string\u001b[0m \u001b[1;33m=\u001b[0m \u001b[0mnode_or_string\u001b[0m\u001b[1;33m.\u001b[0m\u001b[0mbody\u001b[0m\u001b[1;33m\u001b[0m\u001b[1;33m\u001b[0m\u001b[0m\n\u001b[0;32m     62\u001b[0m     \u001b[1;32mdef\u001b[0m \u001b[0m_raise_malformed_node\u001b[0m\u001b[1;33m(\u001b[0m\u001b[0mnode\u001b[0m\u001b[1;33m)\u001b[0m\u001b[1;33m:\u001b[0m\u001b[1;33m\u001b[0m\u001b[1;33m\u001b[0m\u001b[0m\n\u001b[1;32m---> 63\u001b[1;33m         \u001b[1;32mraise\u001b[0m \u001b[0mValueError\u001b[0m\u001b[1;33m(\u001b[0m\u001b[1;34mf'malformed node or string: {node!r}'\u001b[0m\u001b[1;33m)\u001b[0m\u001b[1;33m\u001b[0m\u001b[1;33m\u001b[0m\u001b[0m\n\u001b[0m\u001b[0;32m     64\u001b[0m     \u001b[1;32mdef\u001b[0m \u001b[0m_convert_num\u001b[0m\u001b[1;33m(\u001b[0m\u001b[0mnode\u001b[0m\u001b[1;33m)\u001b[0m\u001b[1;33m:\u001b[0m\u001b[1;33m\u001b[0m\u001b[1;33m\u001b[0m\u001b[0m\n\u001b[0;32m     65\u001b[0m         \u001b[1;32mif\u001b[0m \u001b[1;32mnot\u001b[0m \u001b[0misinstance\u001b[0m\u001b[1;33m(\u001b[0m\u001b[0mnode\u001b[0m\u001b[1;33m,\u001b[0m \u001b[0mConstant\u001b[0m\u001b[1;33m)\u001b[0m \u001b[1;32mor\u001b[0m \u001b[0mtype\u001b[0m\u001b[1;33m(\u001b[0m\u001b[0mnode\u001b[0m\u001b[1;33m.\u001b[0m\u001b[0mvalue\u001b[0m\u001b[1;33m)\u001b[0m \u001b[1;32mnot\u001b[0m \u001b[1;32min\u001b[0m \u001b[1;33m(\u001b[0m\u001b[0mint\u001b[0m\u001b[1;33m,\u001b[0m \u001b[0mfloat\u001b[0m\u001b[1;33m,\u001b[0m \u001b[0mcomplex\u001b[0m\u001b[1;33m)\u001b[0m\u001b[1;33m:\u001b[0m\u001b[1;33m\u001b[0m\u001b[1;33m\u001b[0m\u001b[0m\n",
      "\u001b[1;31mValueError\u001b[0m: malformed node or string: ['Animation', 'Comedy', 'Family']"
     ]
    }
   ],
   "source": [
    "from ast import literal_eval\n",
    "\n",
    "#converst genres into a list\n",
    "df['genres'] = df['genres'].apply(literal_eval).apply(lambda x: [i['name'] for i in x] if isinstance(x, list) else [])\n",
    "\n",
    "#remove entries that have no genres listed\n",
    "filtered_dataframe = df[df['genres'].map(lambda d: len(d)) > 0]"
   ]
  },
  {
   "cell_type": "code",
   "execution_count": 79,
   "metadata": {
    "scrolled": true
   },
   "outputs": [
    {
     "output_type": "execute_result",
     "data": {
      "text/plain": [
       "       adult                              belongs_to_collection    budget  \\\n",
       "0      False  {'id': 10194, 'name': 'Toy Story Collection', ...  30000000   \n",
       "1      False                                                NaN  65000000   \n",
       "2      False  {'id': 119050, 'name': 'Grumpy Old Men Collect...         0   \n",
       "3      False                                                NaN  16000000   \n",
       "4      False  {'id': 96871, 'name': 'Father of the Bride Col...         0   \n",
       "...      ...                                                ...       ...   \n",
       "45455  False                                                NaN         0   \n",
       "45456  False                                                NaN         0   \n",
       "45457  False                                                NaN         0   \n",
       "45458  False                                                NaN         0   \n",
       "45459  False                                                NaN         0   \n",
       "\n",
       "                             genres                              homepage  \\\n",
       "0       [Animation, Comedy, Family]  http://toystory.disney.com/toy-story   \n",
       "1      [Adventure, Fantasy, Family]                                   NaN   \n",
       "2                 [Romance, Comedy]                                   NaN   \n",
       "3          [Comedy, Drama, Romance]                                   NaN   \n",
       "4                          [Comedy]                                   NaN   \n",
       "...                             ...                                   ...   \n",
       "45455             [Science Fiction]                                   NaN   \n",
       "45456      [Drama, Action, Romance]                                   NaN   \n",
       "45457               [Drama, Family]  http://www.imdb.com/title/tt6209470/   \n",
       "45458                       [Drama]                                   NaN   \n",
       "45459     [Action, Drama, Thriller]                                   NaN   \n",
       "\n",
       "           id    imdb_id original_language               original_title  \\\n",
       "0         862  tt0114709                en                    Toy Story   \n",
       "1        8844  tt0113497                en                      Jumanji   \n",
       "2       15602  tt0113228                en             Grumpier Old Men   \n",
       "3       31357  tt0114885                en            Waiting to Exhale   \n",
       "4       11862  tt0113041                en  Father of the Bride Part II   \n",
       "...       ...        ...               ...                          ...   \n",
       "45455  222848  tt0112613                en              Caged Heat 3000   \n",
       "45456   30840  tt0102797                en                   Robin Hood   \n",
       "45457  439050  tt6209470                fa                      رگ خواب   \n",
       "45458  111109  tt2028550                tl          Siglo ng Pagluluwal   \n",
       "45459   67758  tt0303758                en                     Betrayal   \n",
       "\n",
       "                                                overview  ...    status  \\\n",
       "0      Led by Woody, Andy's toys live happily in his ...  ...  Released   \n",
       "1      When siblings Judy and Peter discover an encha...  ...  Released   \n",
       "2      A family wedding reignites the ancient feud be...  ...  Released   \n",
       "3      Cheated on, mistreated and stepped on, the wom...  ...  Released   \n",
       "4      Just when George Banks has recovered from his ...  ...  Released   \n",
       "...                                                  ...  ...       ...   \n",
       "45455  It's the year 3000 AD. The world's most danger...  ...  Released   \n",
       "45456  Yet another version of the classic epic, with ...  ...  Released   \n",
       "45457        Rising and falling between a man and woman.  ...  Released   \n",
       "45458  An artist struggles to finish his work while a...  ...  Released   \n",
       "45459  When one of her hits goes wrong, a professiona...  ...  Released   \n",
       "\n",
       "                                                 tagline  \\\n",
       "0                                                    NaN   \n",
       "1              Roll the dice and unleash the excitement!   \n",
       "2      Still Yelling. Still Fighting. Still Ready for...   \n",
       "3      Friends are the people who let you be yourself...   \n",
       "4      Just When His World Is Back To Normal... He's ...   \n",
       "...                                                  ...   \n",
       "45455                                                NaN   \n",
       "45456                                                NaN   \n",
       "45457         Rising and falling between a man and woman   \n",
       "45458                                                NaN   \n",
       "45459                             A deadly game of wits.   \n",
       "\n",
       "                             title  video vote_average vote_count Unnamed: 24  \\\n",
       "0                        Toy Story  False          7.7       5415         NaN   \n",
       "1                          Jumanji  False          6.9       2413         NaN   \n",
       "2                 Grumpier Old Men  False          6.5         92         NaN   \n",
       "3                Waiting to Exhale  False          6.1         34         NaN   \n",
       "4      Father of the Bride Part II  False          5.7        173         NaN   \n",
       "...                            ...    ...          ...        ...         ...   \n",
       "45455              Caged Heat 3000  False          3.5          1         NaN   \n",
       "45456                   Robin Hood  False          5.7         26         NaN   \n",
       "45457                       Subdue  False            4          1         NaN   \n",
       "45458          Century of Birthing  False            9          3         NaN   \n",
       "45459                     Betrayal  False          3.8          6         NaN   \n",
       "\n",
       "      Unnamed: 25 Unnamed: 26 Unnamed: 27  \n",
       "0             NaN         NaN         NaN  \n",
       "1             NaN         NaN         NaN  \n",
       "2             NaN         NaN         NaN  \n",
       "3             NaN         NaN         NaN  \n",
       "4             NaN         NaN         NaN  \n",
       "...           ...         ...         ...  \n",
       "45455         NaN         NaN         NaN  \n",
       "45456         NaN         NaN         NaN  \n",
       "45457         NaN         NaN         NaN  \n",
       "45458         NaN         NaN         NaN  \n",
       "45459         NaN         NaN         NaN  \n",
       "\n",
       "[42323 rows x 28 columns]"
      ],
      "text/html": "<div>\n<style scoped>\n    .dataframe tbody tr th:only-of-type {\n        vertical-align: middle;\n    }\n\n    .dataframe tbody tr th {\n        vertical-align: top;\n    }\n\n    .dataframe thead th {\n        text-align: right;\n    }\n</style>\n<table border=\"1\" class=\"dataframe\">\n  <thead>\n    <tr style=\"text-align: right;\">\n      <th></th>\n      <th>adult</th>\n      <th>belongs_to_collection</th>\n      <th>budget</th>\n      <th>genres</th>\n      <th>homepage</th>\n      <th>id</th>\n      <th>imdb_id</th>\n      <th>original_language</th>\n      <th>original_title</th>\n      <th>overview</th>\n      <th>...</th>\n      <th>status</th>\n      <th>tagline</th>\n      <th>title</th>\n      <th>video</th>\n      <th>vote_average</th>\n      <th>vote_count</th>\n      <th>Unnamed: 24</th>\n      <th>Unnamed: 25</th>\n      <th>Unnamed: 26</th>\n      <th>Unnamed: 27</th>\n    </tr>\n  </thead>\n  <tbody>\n    <tr>\n      <th>0</th>\n      <td>False</td>\n      <td>{'id': 10194, 'name': 'Toy Story Collection', ...</td>\n      <td>30000000</td>\n      <td>[Animation, Comedy, Family]</td>\n      <td>http://toystory.disney.com/toy-story</td>\n      <td>862</td>\n      <td>tt0114709</td>\n      <td>en</td>\n      <td>Toy Story</td>\n      <td>Led by Woody, Andy's toys live happily in his ...</td>\n      <td>...</td>\n      <td>Released</td>\n      <td>NaN</td>\n      <td>Toy Story</td>\n      <td>False</td>\n      <td>7.7</td>\n      <td>5415</td>\n      <td>NaN</td>\n      <td>NaN</td>\n      <td>NaN</td>\n      <td>NaN</td>\n    </tr>\n    <tr>\n      <th>1</th>\n      <td>False</td>\n      <td>NaN</td>\n      <td>65000000</td>\n      <td>[Adventure, Fantasy, Family]</td>\n      <td>NaN</td>\n      <td>8844</td>\n      <td>tt0113497</td>\n      <td>en</td>\n      <td>Jumanji</td>\n      <td>When siblings Judy and Peter discover an encha...</td>\n      <td>...</td>\n      <td>Released</td>\n      <td>Roll the dice and unleash the excitement!</td>\n      <td>Jumanji</td>\n      <td>False</td>\n      <td>6.9</td>\n      <td>2413</td>\n      <td>NaN</td>\n      <td>NaN</td>\n      <td>NaN</td>\n      <td>NaN</td>\n    </tr>\n    <tr>\n      <th>2</th>\n      <td>False</td>\n      <td>{'id': 119050, 'name': 'Grumpy Old Men Collect...</td>\n      <td>0</td>\n      <td>[Romance, Comedy]</td>\n      <td>NaN</td>\n      <td>15602</td>\n      <td>tt0113228</td>\n      <td>en</td>\n      <td>Grumpier Old Men</td>\n      <td>A family wedding reignites the ancient feud be...</td>\n      <td>...</td>\n      <td>Released</td>\n      <td>Still Yelling. Still Fighting. Still Ready for...</td>\n      <td>Grumpier Old Men</td>\n      <td>False</td>\n      <td>6.5</td>\n      <td>92</td>\n      <td>NaN</td>\n      <td>NaN</td>\n      <td>NaN</td>\n      <td>NaN</td>\n    </tr>\n    <tr>\n      <th>3</th>\n      <td>False</td>\n      <td>NaN</td>\n      <td>16000000</td>\n      <td>[Comedy, Drama, Romance]</td>\n      <td>NaN</td>\n      <td>31357</td>\n      <td>tt0114885</td>\n      <td>en</td>\n      <td>Waiting to Exhale</td>\n      <td>Cheated on, mistreated and stepped on, the wom...</td>\n      <td>...</td>\n      <td>Released</td>\n      <td>Friends are the people who let you be yourself...</td>\n      <td>Waiting to Exhale</td>\n      <td>False</td>\n      <td>6.1</td>\n      <td>34</td>\n      <td>NaN</td>\n      <td>NaN</td>\n      <td>NaN</td>\n      <td>NaN</td>\n    </tr>\n    <tr>\n      <th>4</th>\n      <td>False</td>\n      <td>{'id': 96871, 'name': 'Father of the Bride Col...</td>\n      <td>0</td>\n      <td>[Comedy]</td>\n      <td>NaN</td>\n      <td>11862</td>\n      <td>tt0113041</td>\n      <td>en</td>\n      <td>Father of the Bride Part II</td>\n      <td>Just when George Banks has recovered from his ...</td>\n      <td>...</td>\n      <td>Released</td>\n      <td>Just When His World Is Back To Normal... He's ...</td>\n      <td>Father of the Bride Part II</td>\n      <td>False</td>\n      <td>5.7</td>\n      <td>173</td>\n      <td>NaN</td>\n      <td>NaN</td>\n      <td>NaN</td>\n      <td>NaN</td>\n    </tr>\n    <tr>\n      <th>...</th>\n      <td>...</td>\n      <td>...</td>\n      <td>...</td>\n      <td>...</td>\n      <td>...</td>\n      <td>...</td>\n      <td>...</td>\n      <td>...</td>\n      <td>...</td>\n      <td>...</td>\n      <td>...</td>\n      <td>...</td>\n      <td>...</td>\n      <td>...</td>\n      <td>...</td>\n      <td>...</td>\n      <td>...</td>\n      <td>...</td>\n      <td>...</td>\n      <td>...</td>\n      <td>...</td>\n    </tr>\n    <tr>\n      <th>45455</th>\n      <td>False</td>\n      <td>NaN</td>\n      <td>0</td>\n      <td>[Science Fiction]</td>\n      <td>NaN</td>\n      <td>222848</td>\n      <td>tt0112613</td>\n      <td>en</td>\n      <td>Caged Heat 3000</td>\n      <td>It's the year 3000 AD. The world's most danger...</td>\n      <td>...</td>\n      <td>Released</td>\n      <td>NaN</td>\n      <td>Caged Heat 3000</td>\n      <td>False</td>\n      <td>3.5</td>\n      <td>1</td>\n      <td>NaN</td>\n      <td>NaN</td>\n      <td>NaN</td>\n      <td>NaN</td>\n    </tr>\n    <tr>\n      <th>45456</th>\n      <td>False</td>\n      <td>NaN</td>\n      <td>0</td>\n      <td>[Drama, Action, Romance]</td>\n      <td>NaN</td>\n      <td>30840</td>\n      <td>tt0102797</td>\n      <td>en</td>\n      <td>Robin Hood</td>\n      <td>Yet another version of the classic epic, with ...</td>\n      <td>...</td>\n      <td>Released</td>\n      <td>NaN</td>\n      <td>Robin Hood</td>\n      <td>False</td>\n      <td>5.7</td>\n      <td>26</td>\n      <td>NaN</td>\n      <td>NaN</td>\n      <td>NaN</td>\n      <td>NaN</td>\n    </tr>\n    <tr>\n      <th>45457</th>\n      <td>False</td>\n      <td>NaN</td>\n      <td>0</td>\n      <td>[Drama, Family]</td>\n      <td>http://www.imdb.com/title/tt6209470/</td>\n      <td>439050</td>\n      <td>tt6209470</td>\n      <td>fa</td>\n      <td>رگ خواب</td>\n      <td>Rising and falling between a man and woman.</td>\n      <td>...</td>\n      <td>Released</td>\n      <td>Rising and falling between a man and woman</td>\n      <td>Subdue</td>\n      <td>False</td>\n      <td>4</td>\n      <td>1</td>\n      <td>NaN</td>\n      <td>NaN</td>\n      <td>NaN</td>\n      <td>NaN</td>\n    </tr>\n    <tr>\n      <th>45458</th>\n      <td>False</td>\n      <td>NaN</td>\n      <td>0</td>\n      <td>[Drama]</td>\n      <td>NaN</td>\n      <td>111109</td>\n      <td>tt2028550</td>\n      <td>tl</td>\n      <td>Siglo ng Pagluluwal</td>\n      <td>An artist struggles to finish his work while a...</td>\n      <td>...</td>\n      <td>Released</td>\n      <td>NaN</td>\n      <td>Century of Birthing</td>\n      <td>False</td>\n      <td>9</td>\n      <td>3</td>\n      <td>NaN</td>\n      <td>NaN</td>\n      <td>NaN</td>\n      <td>NaN</td>\n    </tr>\n    <tr>\n      <th>45459</th>\n      <td>False</td>\n      <td>NaN</td>\n      <td>0</td>\n      <td>[Action, Drama, Thriller]</td>\n      <td>NaN</td>\n      <td>67758</td>\n      <td>tt0303758</td>\n      <td>en</td>\n      <td>Betrayal</td>\n      <td>When one of her hits goes wrong, a professiona...</td>\n      <td>...</td>\n      <td>Released</td>\n      <td>A deadly game of wits.</td>\n      <td>Betrayal</td>\n      <td>False</td>\n      <td>3.8</td>\n      <td>6</td>\n      <td>NaN</td>\n      <td>NaN</td>\n      <td>NaN</td>\n      <td>NaN</td>\n    </tr>\n  </tbody>\n</table>\n<p>42323 rows × 28 columns</p>\n</div>"
     },
     "metadata": {},
     "execution_count": 79
    }
   ],
   "source": [
    "filtered_dataframe"
   ]
  },
  {
   "cell_type": "markdown",
   "metadata": {},
   "source": [
    "### Data for further models\n",
    "\n",
    "filtered_dataframe  \n",
    "  \n",
    "contains the data from the dataset that has beeen filterd to remove empty cells and formatted data to appropriate lists"
   ]
  },
  {
   "cell_type": "markdown",
   "metadata": {},
   "source": [
    "# Seperating Genres"
   ]
  },
  {
   "cell_type": "code",
   "execution_count": 81,
   "metadata": {},
   "outputs": [
    {
     "output_type": "execute_result",
     "data": {
      "text/plain": [
       "                             genres\n",
       "0       [Animation, Comedy, Family]\n",
       "1      [Adventure, Fantasy, Family]\n",
       "2                 [Romance, Comedy]\n",
       "3          [Comedy, Drama, Romance]\n",
       "4                          [Comedy]\n",
       "...                             ...\n",
       "45455             [Science Fiction]\n",
       "45456      [Drama, Action, Romance]\n",
       "45457               [Drama, Family]\n",
       "45458                       [Drama]\n",
       "45459     [Action, Drama, Thriller]\n",
       "\n",
       "[42323 rows x 1 columns]"
      ],
      "text/html": "<div>\n<style scoped>\n    .dataframe tbody tr th:only-of-type {\n        vertical-align: middle;\n    }\n\n    .dataframe tbody tr th {\n        vertical-align: top;\n    }\n\n    .dataframe thead th {\n        text-align: right;\n    }\n</style>\n<table border=\"1\" class=\"dataframe\">\n  <thead>\n    <tr style=\"text-align: right;\">\n      <th></th>\n      <th>genres</th>\n    </tr>\n  </thead>\n  <tbody>\n    <tr>\n      <th>0</th>\n      <td>[Animation, Comedy, Family]</td>\n    </tr>\n    <tr>\n      <th>1</th>\n      <td>[Adventure, Fantasy, Family]</td>\n    </tr>\n    <tr>\n      <th>2</th>\n      <td>[Romance, Comedy]</td>\n    </tr>\n    <tr>\n      <th>3</th>\n      <td>[Comedy, Drama, Romance]</td>\n    </tr>\n    <tr>\n      <th>4</th>\n      <td>[Comedy]</td>\n    </tr>\n    <tr>\n      <th>...</th>\n      <td>...</td>\n    </tr>\n    <tr>\n      <th>45455</th>\n      <td>[Science Fiction]</td>\n    </tr>\n    <tr>\n      <th>45456</th>\n      <td>[Drama, Action, Romance]</td>\n    </tr>\n    <tr>\n      <th>45457</th>\n      <td>[Drama, Family]</td>\n    </tr>\n    <tr>\n      <th>45458</th>\n      <td>[Drama]</td>\n    </tr>\n    <tr>\n      <th>45459</th>\n      <td>[Action, Drama, Thriller]</td>\n    </tr>\n  </tbody>\n</table>\n<p>42323 rows × 1 columns</p>\n</div>"
     },
     "metadata": {},
     "execution_count": 81
    }
   ],
   "source": [
    "filtered_dataframe[['genres']]"
   ]
  },
  {
   "cell_type": "code",
   "execution_count": 83,
   "metadata": {},
   "outputs": [],
   "source": [
    "#convert the list of genres to a multilable element\n",
    "from sklearn.preprocessing import MultiLabelBinarizer\n",
    "mlb = MultiLabelBinarizer()\n",
    "\n",
    "labels = mlb.fit_transform(filtered_dataframe['genres'])\n",
    "label_classes = mlb.classes_\n"
   ]
  },
  {
   "cell_type": "code",
   "execution_count": 85,
   "metadata": {},
   "outputs": [
    {
     "output_type": "execute_result",
     "data": {
      "text/plain": [
       "array(['Action', 'Adventure', 'Animation', 'Comedy', 'Crime',\n",
       "       'Documentary', 'Drama', 'Family', 'Fantasy', 'Foreign', 'History',\n",
       "       'Horror', 'Music', 'Mystery', 'Romance', 'Science Fiction',\n",
       "       'TV Movie', 'Thriller', 'War', 'Western'], dtype=object)"
      ]
     },
     "metadata": {},
     "execution_count": 85
    }
   ],
   "source": [
    "label_classes"
   ]
  },
  {
   "cell_type": "code",
   "execution_count": 87,
   "metadata": {},
   "outputs": [],
   "source": [
    "# Performs what is essentially one hot encoding to the genres to create an array of 0,1 to denote genres it belongs to\n",
    "#place in a dataframe for readability\n",
    "label_data = pd.DataFrame(labels, columns=label_classes)"
   ]
  },
  {
   "cell_type": "code",
   "execution_count": 89,
   "metadata": {},
   "outputs": [
    {
     "output_type": "execute_result",
     "data": {
      "text/plain": [
       "       Action  Adventure  Animation  Comedy  Crime  Documentary  Drama  \\\n",
       "0           0          0          1       1      0            0      0   \n",
       "1           0          1          0       0      0            0      0   \n",
       "2           0          0          0       1      0            0      0   \n",
       "3           0          0          0       1      0            0      1   \n",
       "4           0          0          0       1      0            0      0   \n",
       "...       ...        ...        ...     ...    ...          ...    ...   \n",
       "42318       0          0          0       0      0            0      0   \n",
       "42319       1          0          0       0      0            0      1   \n",
       "42320       0          0          0       0      0            0      1   \n",
       "42321       0          0          0       0      0            0      1   \n",
       "42322       1          0          0       0      0            0      1   \n",
       "\n",
       "       Family  Fantasy  Foreign  History  Horror  Music  Mystery  Romance  \\\n",
       "0           1        0        0        0       0      0        0        0   \n",
       "1           1        1        0        0       0      0        0        0   \n",
       "2           0        0        0        0       0      0        0        1   \n",
       "3           0        0        0        0       0      0        0        1   \n",
       "4           0        0        0        0       0      0        0        0   \n",
       "...       ...      ...      ...      ...     ...    ...      ...      ...   \n",
       "42318       0        0        0        0       0      0        0        0   \n",
       "42319       0        0        0        0       0      0        0        1   \n",
       "42320       1        0        0        0       0      0        0        0   \n",
       "42321       0        0        0        0       0      0        0        0   \n",
       "42322       0        0        0        0       0      0        0        0   \n",
       "\n",
       "       Science Fiction  TV Movie  Thriller  War  Western  \n",
       "0                    0         0         0    0        0  \n",
       "1                    0         0         0    0        0  \n",
       "2                    0         0         0    0        0  \n",
       "3                    0         0         0    0        0  \n",
       "4                    0         0         0    0        0  \n",
       "...                ...       ...       ...  ...      ...  \n",
       "42318                1         0         0    0        0  \n",
       "42319                0         0         0    0        0  \n",
       "42320                0         0         0    0        0  \n",
       "42321                0         0         0    0        0  \n",
       "42322                0         0         1    0        0  \n",
       "\n",
       "[42323 rows x 20 columns]"
      ],
      "text/html": "<div>\n<style scoped>\n    .dataframe tbody tr th:only-of-type {\n        vertical-align: middle;\n    }\n\n    .dataframe tbody tr th {\n        vertical-align: top;\n    }\n\n    .dataframe thead th {\n        text-align: right;\n    }\n</style>\n<table border=\"1\" class=\"dataframe\">\n  <thead>\n    <tr style=\"text-align: right;\">\n      <th></th>\n      <th>Action</th>\n      <th>Adventure</th>\n      <th>Animation</th>\n      <th>Comedy</th>\n      <th>Crime</th>\n      <th>Documentary</th>\n      <th>Drama</th>\n      <th>Family</th>\n      <th>Fantasy</th>\n      <th>Foreign</th>\n      <th>History</th>\n      <th>Horror</th>\n      <th>Music</th>\n      <th>Mystery</th>\n      <th>Romance</th>\n      <th>Science Fiction</th>\n      <th>TV Movie</th>\n      <th>Thriller</th>\n      <th>War</th>\n      <th>Western</th>\n    </tr>\n  </thead>\n  <tbody>\n    <tr>\n      <th>0</th>\n      <td>0</td>\n      <td>0</td>\n      <td>1</td>\n      <td>1</td>\n      <td>0</td>\n      <td>0</td>\n      <td>0</td>\n      <td>1</td>\n      <td>0</td>\n      <td>0</td>\n      <td>0</td>\n      <td>0</td>\n      <td>0</td>\n      <td>0</td>\n      <td>0</td>\n      <td>0</td>\n      <td>0</td>\n      <td>0</td>\n      <td>0</td>\n      <td>0</td>\n    </tr>\n    <tr>\n      <th>1</th>\n      <td>0</td>\n      <td>1</td>\n      <td>0</td>\n      <td>0</td>\n      <td>0</td>\n      <td>0</td>\n      <td>0</td>\n      <td>1</td>\n      <td>1</td>\n      <td>0</td>\n      <td>0</td>\n      <td>0</td>\n      <td>0</td>\n      <td>0</td>\n      <td>0</td>\n      <td>0</td>\n      <td>0</td>\n      <td>0</td>\n      <td>0</td>\n      <td>0</td>\n    </tr>\n    <tr>\n      <th>2</th>\n      <td>0</td>\n      <td>0</td>\n      <td>0</td>\n      <td>1</td>\n      <td>0</td>\n      <td>0</td>\n      <td>0</td>\n      <td>0</td>\n      <td>0</td>\n      <td>0</td>\n      <td>0</td>\n      <td>0</td>\n      <td>0</td>\n      <td>0</td>\n      <td>1</td>\n      <td>0</td>\n      <td>0</td>\n      <td>0</td>\n      <td>0</td>\n      <td>0</td>\n    </tr>\n    <tr>\n      <th>3</th>\n      <td>0</td>\n      <td>0</td>\n      <td>0</td>\n      <td>1</td>\n      <td>0</td>\n      <td>0</td>\n      <td>1</td>\n      <td>0</td>\n      <td>0</td>\n      <td>0</td>\n      <td>0</td>\n      <td>0</td>\n      <td>0</td>\n      <td>0</td>\n      <td>1</td>\n      <td>0</td>\n      <td>0</td>\n      <td>0</td>\n      <td>0</td>\n      <td>0</td>\n    </tr>\n    <tr>\n      <th>4</th>\n      <td>0</td>\n      <td>0</td>\n      <td>0</td>\n      <td>1</td>\n      <td>0</td>\n      <td>0</td>\n      <td>0</td>\n      <td>0</td>\n      <td>0</td>\n      <td>0</td>\n      <td>0</td>\n      <td>0</td>\n      <td>0</td>\n      <td>0</td>\n      <td>0</td>\n      <td>0</td>\n      <td>0</td>\n      <td>0</td>\n      <td>0</td>\n      <td>0</td>\n    </tr>\n    <tr>\n      <th>...</th>\n      <td>...</td>\n      <td>...</td>\n      <td>...</td>\n      <td>...</td>\n      <td>...</td>\n      <td>...</td>\n      <td>...</td>\n      <td>...</td>\n      <td>...</td>\n      <td>...</td>\n      <td>...</td>\n      <td>...</td>\n      <td>...</td>\n      <td>...</td>\n      <td>...</td>\n      <td>...</td>\n      <td>...</td>\n      <td>...</td>\n      <td>...</td>\n      <td>...</td>\n    </tr>\n    <tr>\n      <th>42318</th>\n      <td>0</td>\n      <td>0</td>\n      <td>0</td>\n      <td>0</td>\n      <td>0</td>\n      <td>0</td>\n      <td>0</td>\n      <td>0</td>\n      <td>0</td>\n      <td>0</td>\n      <td>0</td>\n      <td>0</td>\n      <td>0</td>\n      <td>0</td>\n      <td>0</td>\n      <td>1</td>\n      <td>0</td>\n      <td>0</td>\n      <td>0</td>\n      <td>0</td>\n    </tr>\n    <tr>\n      <th>42319</th>\n      <td>1</td>\n      <td>0</td>\n      <td>0</td>\n      <td>0</td>\n      <td>0</td>\n      <td>0</td>\n      <td>1</td>\n      <td>0</td>\n      <td>0</td>\n      <td>0</td>\n      <td>0</td>\n      <td>0</td>\n      <td>0</td>\n      <td>0</td>\n      <td>1</td>\n      <td>0</td>\n      <td>0</td>\n      <td>0</td>\n      <td>0</td>\n      <td>0</td>\n    </tr>\n    <tr>\n      <th>42320</th>\n      <td>0</td>\n      <td>0</td>\n      <td>0</td>\n      <td>0</td>\n      <td>0</td>\n      <td>0</td>\n      <td>1</td>\n      <td>1</td>\n      <td>0</td>\n      <td>0</td>\n      <td>0</td>\n      <td>0</td>\n      <td>0</td>\n      <td>0</td>\n      <td>0</td>\n      <td>0</td>\n      <td>0</td>\n      <td>0</td>\n      <td>0</td>\n      <td>0</td>\n    </tr>\n    <tr>\n      <th>42321</th>\n      <td>0</td>\n      <td>0</td>\n      <td>0</td>\n      <td>0</td>\n      <td>0</td>\n      <td>0</td>\n      <td>1</td>\n      <td>0</td>\n      <td>0</td>\n      <td>0</td>\n      <td>0</td>\n      <td>0</td>\n      <td>0</td>\n      <td>0</td>\n      <td>0</td>\n      <td>0</td>\n      <td>0</td>\n      <td>0</td>\n      <td>0</td>\n      <td>0</td>\n    </tr>\n    <tr>\n      <th>42322</th>\n      <td>1</td>\n      <td>0</td>\n      <td>0</td>\n      <td>0</td>\n      <td>0</td>\n      <td>0</td>\n      <td>1</td>\n      <td>0</td>\n      <td>0</td>\n      <td>0</td>\n      <td>0</td>\n      <td>0</td>\n      <td>0</td>\n      <td>0</td>\n      <td>0</td>\n      <td>0</td>\n      <td>0</td>\n      <td>1</td>\n      <td>0</td>\n      <td>0</td>\n    </tr>\n  </tbody>\n</table>\n<p>42323 rows × 20 columns</p>\n</div>"
     },
     "metadata": {},
     "execution_count": 89
    }
   ],
   "source": [
    "label_data"
   ]
  },
  {
   "cell_type": "markdown",
   "metadata": {},
   "source": [
    "## Seperating Features"
   ]
  },
  {
   "cell_type": "code",
   "execution_count": null,
   "metadata": {},
   "outputs": [],
   "source": [
    "features = filtered_dataframe['overview']"
   ]
  },
  {
   "cell_type": "code",
   "execution_count": 59,
   "metadata": {},
   "outputs": [
    {
     "output_type": "execute_result",
     "data": {
      "text/plain": [
       "title\n",
       "Toy Story                      Led by Woody, Andy's toys live happily in his ...\n",
       "Jumanji                        When siblings Judy and Peter discover an encha...\n",
       "Grumpier Old Men               A family wedding reignites the ancient feud be...\n",
       "Waiting to Exhale              Cheated on, mistreated and stepped on, the wom...\n",
       "Father of the Bride Part II    Just when George Banks has recovered from his ...\n",
       "                                                     ...                        \n",
       "Caged Heat 3000                It's the year 3000 AD. The world's most danger...\n",
       "Robin Hood                     Yet another version of the classic epic, with ...\n",
       "Subdue                               Rising and falling between a man and woman.\n",
       "Century of Birthing            An artist struggles to finish his work while a...\n",
       "Betrayal                       When one of her hits goes wrong, a professiona...\n",
       "Name: overview, Length: 42323, dtype: object"
      ]
     },
     "metadata": {},
     "execution_count": 59
    }
   ],
   "source": [
    "features"
   ]
  },
  {
   "cell_type": "markdown",
   "metadata": {},
   "source": [
    "# Creating testing and training data sets"
   ]
  },
  {
   "cell_type": "code",
   "execution_count": 60,
   "metadata": {},
   "outputs": [],
   "source": [
    "from sklearn.model_selection import train_test_split\n",
    "\n",
    "X_train, X_test, y_train, y_test = train_test_split(features, labels, test_size=0.2, random_state=2)"
   ]
  },
  {
   "cell_type": "code",
   "execution_count": 61,
   "metadata": {},
   "outputs": [
    {
     "output_type": "execute_result",
     "data": {
      "text/plain": [
       "((33858,), (33858, 20))"
      ]
     },
     "metadata": {},
     "execution_count": 61
    }
   ],
   "source": [
    "X_train.shape, y_train.shape"
   ]
  },
  {
   "cell_type": "code",
   "execution_count": 62,
   "metadata": {},
   "outputs": [],
   "source": [
    "# breaking down overview for natural language processing\n",
    "\n",
    "#vectorizing the feature\n",
    "\n",
    "from sklearn.feature_extraction.text import TfidfVectorizer\n",
    "\n",
    "vectorizer = TfidfVectorizer(max_features = 1000, stop_words = 'english', lowercase = True)\n",
    "\n",
    "X_train_vec = vectorizer.fit_transform(X_train)\n",
    "X_test_vec = vectorizer.transform(X_test)"
   ]
  },
  {
   "cell_type": "code",
   "execution_count": 63,
   "metadata": {},
   "outputs": [
    {
     "output_type": "execute_result",
     "data": {
      "text/plain": [
       "<33858x1000 sparse matrix of type '<class 'numpy.float64'>'\n",
       "\twith 430325 stored elements in Compressed Sparse Row format>"
      ]
     },
     "metadata": {},
     "execution_count": 63
    }
   ],
   "source": [
    "X_train_vec"
   ]
  },
  {
   "cell_type": "markdown",
   "metadata": {},
   "source": [
    "# Using Machine Lerning models on Data\n",
    "\n",
    "#### For models using training and testing data\n",
    "X_train_vec, X_test_vec, y_train, y_test  \n",
    "\n",
    "#### For models using the whole dataset\n",
    "features, labels"
   ]
  },
  {
   "cell_type": "markdown",
   "metadata": {},
   "source": [
    "## Using a decision Tree"
   ]
  },
  {
   "cell_type": "code",
   "execution_count": 64,
   "metadata": {},
   "outputs": [
    {
     "output_type": "execute_result",
     "data": {
      "text/plain": [
       "array([[1, 0, 0, ..., 0, 0, 0],\n",
       "       [0, 0, 0, ..., 0, 0, 0],\n",
       "       [0, 0, 0, ..., 0, 0, 0],\n",
       "       ...,\n",
       "       [0, 0, 0, ..., 0, 0, 0],\n",
       "       [0, 0, 0, ..., 1, 0, 0],\n",
       "       [0, 0, 0, ..., 0, 0, 0]])"
      ]
     },
     "metadata": {},
     "execution_count": 64
    }
   ],
   "source": [
    "from sklearn.tree import DecisionTreeClassifier\n",
    "\n",
    "tree_classifier = DecisionTreeClassifier()\n",
    "\n",
    "tree_classifier.fit(X_train_vec, y_train)\n",
    "prediction = tree_classifier.predict(X_test_vec)\n",
    "\n",
    "prediction"
   ]
  },
  {
   "cell_type": "code",
   "execution_count": 65,
   "metadata": {},
   "outputs": [
    {
     "output_type": "stream",
     "name": "stdout",
     "text": [
      "Accuracy: 0.10242173656231542\n"
     ]
    }
   ],
   "source": [
    "from sklearn.metrics import accuracy_score\n",
    "\n",
    "tree_acc_score = accuracy_score(y_test, prediction)\n",
    "print(f\"Accuracy: {tree_acc_score}\")"
   ]
  },
  {
   "source": [
    "## Random Forest"
   ],
   "cell_type": "markdown",
   "metadata": {}
  },
  {
   "cell_type": "code",
   "execution_count": 66,
   "metadata": {},
   "outputs": [
    {
     "output_type": "stream",
     "name": "stdout",
     "text": [
      "Random Forest Tree Accuracy using 10 estimators: 0.12722976963969285\n"
     ]
    }
   ],
   "source": [
    "from sklearn.ensemble import RandomForestClassifier\n",
    "\n",
    "# You can adjust parameters:\n",
    "my_RandomForest = RandomForestClassifier(n_estimators = 10, bootstrap = True, random_state=2)\n",
    "\n",
    "my_RandomForest.fit(X_train_vec, y_train)\n",
    "y_predict_rf=my_RandomForest.predict(X_test_vec)\n",
    "score_rf= accuracy_score(y_test,y_predict_rf)\n",
    "\n",
    "print(\"Random Forest Tree Accuracy using 10 estimators: \" + str(score_rf))"
   ]
  },
  {
   "cell_type": "code",
   "execution_count": null,
   "metadata": {},
   "outputs": [],
   "source": []
  }
 ],
 "metadata": {
  "kernelspec": {
   "name": "python385jvsc74a57bd0247e2044f4c49c9d914ae755d95f59c52d7c3d488cb85bbe2434f1ff03419f6d",
   "display_name": "Python 3.8.5 64-bit (conda)"
  },
  "language_info": {
   "codemirror_mode": {
    "name": "ipython",
    "version": 3
   },
   "file_extension": ".py",
   "mimetype": "text/x-python",
   "name": "python",
   "nbconvert_exporter": "python",
   "pygments_lexer": "ipython3",
   "version": "3.8.5"
  }
 },
 "nbformat": 4,
 "nbformat_minor": 4
}